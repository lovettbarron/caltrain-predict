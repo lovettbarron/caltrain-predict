{
 "cells": [
  {
   "cell_type": "code",
   "execution_count": 1,
   "metadata": {
    "collapsed": false
   },
   "outputs": [
    {
     "name": "stderr",
     "output_type": "stream",
     "text": [
      "/Users/albarron/anaconda/lib/python2.7/site-packages/matplotlib/font_manager.py:273: UserWarning: Matplotlib is building the font cache using fc-list. This may take a moment.\n",
      "  warnings.warn('Matplotlib is building the font cache using fc-list. This may take a moment.')\n"
     ]
    }
   ],
   "source": [
    "import sys\n",
    "import re\n",
    "import time\n",
    "import datetime\n",
    "import pandas as pd\n",
    "import func\n",
    "# inline plot\n",
    "%matplotlib inline"
   ]
  },
  {
   "cell_type": "code",
   "execution_count": 2,
   "metadata": {
    "collapsed": false
   },
   "outputs": [],
   "source": [
    "all_trains = pd.read_csv(\"data/weather-trains_2015-06-08 16:57:272016-01-25 23:42:14.csv\",sep='\\t',error_bad_lines=False)\n",
    "delayed = pd.read_csv(\"data/merged_delay_2016-03-27-02:02:47.csv\",sep='\\t',error_bad_lines=False)\n",
    "del delayed['Unnamed: 0']\n",
    "del all_trains['Unnamed: 0']"
   ]
  },
  {
   "cell_type": "code",
   "execution_count": 3,
   "metadata": {
    "collapsed": false
   },
   "outputs": [
    {
     "name": "stdout",
     "output_type": "stream",
     "text": [
      "(21021, 12)\n"
     ]
    }
   ],
   "source": [
    "print all_trains.shape\n",
    "print delayed.shape"
   ]
  },
  {
   "cell_type": "code",
   "execution_count": 4,
   "metadata": {
    "collapsed": false
   },
   "outputs": [
    {
     "data": {
      "text/html": [
       "<div>\n",
       "<table border=\"1\" class=\"dataframe\">\n",
       "  <thead>\n",
       "    <tr style=\"text-align: right;\">\n",
       "      <th></th>\n",
       "      <th>train_id</th>\n",
       "      <th>stop_pa</th>\n",
       "      <th>t_northbound</th>\n",
       "      <th>timestamp</th>\n",
       "      <th>temp</th>\n",
       "      <th>precipiation</th>\n",
       "      <th>visability</th>\n",
       "      <th>windspeed</th>\n",
       "      <th>humidity</th>\n",
       "      <th>cloudcover</th>\n",
       "    </tr>\n",
       "  </thead>\n",
       "  <tbody>\n",
       "    <tr>\n",
       "      <th>0</th>\n",
       "      <td>102</td>\n",
       "      <td>1</td>\n",
       "      <td>0</td>\n",
       "      <td>2015-06-08 05:53:00</td>\n",
       "      <td>72.97875</td>\n",
       "      <td>0</td>\n",
       "      <td>10</td>\n",
       "      <td>6.68125</td>\n",
       "      <td>0.62875</td>\n",
       "      <td>0.09875</td>\n",
       "    </tr>\n",
       "    <tr>\n",
       "      <th>1</th>\n",
       "      <td>104</td>\n",
       "      <td>1</td>\n",
       "      <td>0</td>\n",
       "      <td>2015-06-08 06:23:00</td>\n",
       "      <td>72.97875</td>\n",
       "      <td>0</td>\n",
       "      <td>10</td>\n",
       "      <td>6.68125</td>\n",
       "      <td>0.62875</td>\n",
       "      <td>0.09875</td>\n",
       "    </tr>\n",
       "    <tr>\n",
       "      <th>2</th>\n",
       "      <td>206</td>\n",
       "      <td>1</td>\n",
       "      <td>0</td>\n",
       "      <td>2015-06-08 06:59:00</td>\n",
       "      <td>72.97875</td>\n",
       "      <td>0</td>\n",
       "      <td>10</td>\n",
       "      <td>6.68125</td>\n",
       "      <td>0.62875</td>\n",
       "      <td>0.09875</td>\n",
       "    </tr>\n",
       "    <tr>\n",
       "      <th>3</th>\n",
       "      <td>208</td>\n",
       "      <td>1</td>\n",
       "      <td>0</td>\n",
       "      <td>2015-06-08 07:20:00</td>\n",
       "      <td>72.97875</td>\n",
       "      <td>0</td>\n",
       "      <td>10</td>\n",
       "      <td>6.68125</td>\n",
       "      <td>0.62875</td>\n",
       "      <td>0.09875</td>\n",
       "    </tr>\n",
       "    <tr>\n",
       "      <th>4</th>\n",
       "      <td>210</td>\n",
       "      <td>1</td>\n",
       "      <td>0</td>\n",
       "      <td>2015-06-08 07:28:00</td>\n",
       "      <td>72.97875</td>\n",
       "      <td>0</td>\n",
       "      <td>10</td>\n",
       "      <td>6.68125</td>\n",
       "      <td>0.62875</td>\n",
       "      <td>0.09875</td>\n",
       "    </tr>\n",
       "  </tbody>\n",
       "</table>\n",
       "</div>"
      ],
      "text/plain": [
       "   train_id  stop_pa  t_northbound            timestamp      temp  \\\n",
       "0       102        1             0  2015-06-08 05:53:00  72.97875   \n",
       "1       104        1             0  2015-06-08 06:23:00  72.97875   \n",
       "2       206        1             0  2015-06-08 06:59:00  72.97875   \n",
       "3       208        1             0  2015-06-08 07:20:00  72.97875   \n",
       "4       210        1             0  2015-06-08 07:28:00  72.97875   \n",
       "\n",
       "   precipiation  visability  windspeed  humidity  cloudcover  \n",
       "0             0          10    6.68125   0.62875     0.09875  \n",
       "1             0          10    6.68125   0.62875     0.09875  \n",
       "2             0          10    6.68125   0.62875     0.09875  \n",
       "3             0          10    6.68125   0.62875     0.09875  \n",
       "4             0          10    6.68125   0.62875     0.09875  "
      ]
     },
     "execution_count": 4,
     "metadata": {},
     "output_type": "execute_result"
    }
   ],
   "source": [
    "del all_trains['time_pa']\n",
    "all_trains.head()"
   ]
  },
  {
   "cell_type": "code",
   "execution_count": 6,
   "metadata": {
    "collapsed": false
   },
   "outputs": [
    {
     "data": {
      "text/html": [
       "<div>\n",
       "<table border=\"1\" class=\"dataframe\">\n",
       "  <thead>\n",
       "    <tr style=\"text-align: right;\">\n",
       "      <th></th>\n",
       "      <th>day_of_week</th>\n",
       "      <th>day_of_month</th>\n",
       "      <th>month</th>\n",
       "      <th>time_of_day</th>\n",
       "      <th>topic_train</th>\n",
       "      <th>t_bullet</th>\n",
       "      <th>t_limited</th>\n",
       "      <th>t_northbound</th>\n",
       "      <th>timestamp</th>\n",
       "      <th>train_id_x</th>\n",
       "      <th>...</th>\n",
       "      <th>is_mechanical</th>\n",
       "      <th>is_customer</th>\n",
       "      <th>is_event</th>\n",
       "      <th>id</th>\n",
       "      <th>temp</th>\n",
       "      <th>precipiation</th>\n",
       "      <th>visability</th>\n",
       "      <th>windspeed</th>\n",
       "      <th>humidity</th>\n",
       "      <th>cloudcover</th>\n",
       "    </tr>\n",
       "  </thead>\n",
       "  <tbody>\n",
       "    <tr>\n",
       "      <th>0</th>\n",
       "      <td>0</td>\n",
       "      <td>25</td>\n",
       "      <td>1</td>\n",
       "      <td>error</td>\n",
       "      <td>'155'</td>\n",
       "      <td>0</td>\n",
       "      <td>0</td>\n",
       "      <td>1</td>\n",
       "      <td>2016-01-25 23:42:14</td>\n",
       "      <td>155</td>\n",
       "      <td>...</td>\n",
       "      <td>0</td>\n",
       "      <td>0</td>\n",
       "      <td>0</td>\n",
       "      <td>691768068385718275</td>\n",
       "      <td>52.890417</td>\n",
       "      <td>0.000000</td>\n",
       "      <td>10.000000</td>\n",
       "      <td>3.979583</td>\n",
       "      <td>0.811667</td>\n",
       "      <td>0.1555</td>\n",
       "    </tr>\n",
       "    <tr>\n",
       "      <th>1</th>\n",
       "      <td>4</td>\n",
       "      <td>22</td>\n",
       "      <td>1</td>\n",
       "      <td>error</td>\n",
       "      <td>'151'</td>\n",
       "      <td>0</td>\n",
       "      <td>0</td>\n",
       "      <td>1</td>\n",
       "      <td>2016-01-22 22:48:57</td>\n",
       "      <td>151</td>\n",
       "      <td>...</td>\n",
       "      <td>0</td>\n",
       "      <td>0</td>\n",
       "      <td>0</td>\n",
       "      <td>690667494906814464</td>\n",
       "      <td>59.498750</td>\n",
       "      <td>0.003975</td>\n",
       "      <td>8.580000</td>\n",
       "      <td>9.688750</td>\n",
       "      <td>0.820833</td>\n",
       "      <td>0.2325</td>\n",
       "    </tr>\n",
       "    <tr>\n",
       "      <th>2</th>\n",
       "      <td>2</td>\n",
       "      <td>20</td>\n",
       "      <td>1</td>\n",
       "      <td>error</td>\n",
       "      <td>'151'</td>\n",
       "      <td>0</td>\n",
       "      <td>0</td>\n",
       "      <td>1</td>\n",
       "      <td>2016-01-20 22:22:55</td>\n",
       "      <td>151</td>\n",
       "      <td>...</td>\n",
       "      <td>0</td>\n",
       "      <td>0</td>\n",
       "      <td>0</td>\n",
       "      <td>689936168893329408</td>\n",
       "      <td>53.795000</td>\n",
       "      <td>0.000000</td>\n",
       "      <td>8.801667</td>\n",
       "      <td>3.730833</td>\n",
       "      <td>0.877917</td>\n",
       "      <td>0.1080</td>\n",
       "    </tr>\n",
       "    <tr>\n",
       "      <th>3</th>\n",
       "      <td>1</td>\n",
       "      <td>19</td>\n",
       "      <td>1</td>\n",
       "      <td>rush_evening</td>\n",
       "      <td>'138'</td>\n",
       "      <td>0</td>\n",
       "      <td>0</td>\n",
       "      <td>0</td>\n",
       "      <td>2016-01-19 18:08:25</td>\n",
       "      <td>138</td>\n",
       "      <td>...</td>\n",
       "      <td>0</td>\n",
       "      <td>0</td>\n",
       "      <td>0</td>\n",
       "      <td>689509733640732672</td>\n",
       "      <td>57.295833</td>\n",
       "      <td>0.016792</td>\n",
       "      <td>7.550417</td>\n",
       "      <td>7.709583</td>\n",
       "      <td>0.869167</td>\n",
       "      <td>0.2200</td>\n",
       "    </tr>\n",
       "    <tr>\n",
       "      <th>4</th>\n",
       "      <td>1</td>\n",
       "      <td>19</td>\n",
       "      <td>1</td>\n",
       "      <td>rush_evening</td>\n",
       "      <td>'216', '225', '329'</td>\n",
       "      <td>0</td>\n",
       "      <td>1</td>\n",
       "      <td>0</td>\n",
       "      <td>2016-01-19 16:32:04</td>\n",
       "      <td>216</td>\n",
       "      <td>...</td>\n",
       "      <td>0</td>\n",
       "      <td>0</td>\n",
       "      <td>0</td>\n",
       "      <td>689485484838416388</td>\n",
       "      <td>57.295833</td>\n",
       "      <td>0.016792</td>\n",
       "      <td>7.550417</td>\n",
       "      <td>7.709583</td>\n",
       "      <td>0.869167</td>\n",
       "      <td>0.2200</td>\n",
       "    </tr>\n",
       "  </tbody>\n",
       "</table>\n",
       "<p>5 rows × 32 columns</p>\n",
       "</div>"
      ],
      "text/plain": [
       "   day_of_week  day_of_month  month   time_of_day          topic_train  \\\n",
       "0            0            25      1         error                '155'   \n",
       "1            4            22      1         error                '151'   \n",
       "2            2            20      1         error                '151'   \n",
       "3            1            19      1  rush_evening                '138'   \n",
       "4            1            19      1  rush_evening  '216', '225', '329'   \n",
       "\n",
       "   t_bullet  t_limited  t_northbound            timestamp  train_id_x  \\\n",
       "0         0          0             1  2016-01-25 23:42:14         155   \n",
       "1         0          0             1  2016-01-22 22:48:57         151   \n",
       "2         0          0             1  2016-01-20 22:22:55         151   \n",
       "3         0          0             0  2016-01-19 18:08:25         138   \n",
       "4         0          1             0  2016-01-19 16:32:04         216   \n",
       "\n",
       "      ...      is_mechanical is_customer is_event                  id  \\\n",
       "0     ...                  0           0        0  691768068385718275   \n",
       "1     ...                  0           0        0  690667494906814464   \n",
       "2     ...                  0           0        0  689936168893329408   \n",
       "3     ...                  0           0        0  689509733640732672   \n",
       "4     ...                  0           0        0  689485484838416388   \n",
       "\n",
       "        temp  precipiation  visability  windspeed  humidity  cloudcover  \n",
       "0  52.890417      0.000000   10.000000   3.979583  0.811667      0.1555  \n",
       "1  59.498750      0.003975    8.580000   9.688750  0.820833      0.2325  \n",
       "2  53.795000      0.000000    8.801667   3.730833  0.877917      0.1080  \n",
       "3  57.295833      0.016792    7.550417   7.709583  0.869167      0.2200  \n",
       "4  57.295833      0.016792    7.550417   7.709583  0.869167      0.2200  \n",
       "\n",
       "[5 rows x 32 columns]"
      ]
     },
     "execution_count": 6,
     "metadata": {},
     "output_type": "execute_result"
    }
   ],
   "source": [
    "delayed.head()"
   ]
  },
  {
   "cell_type": "code",
   "execution_count": 58,
   "metadata": {
    "collapsed": false
   },
   "outputs": [
    {
     "data": {
      "text/plain": [
       "array(['day_of_week', 'day_of_month', 'month', 'time_of_day',\n",
       "       'topic_train', 't_bullet', 't_limited', 't_northbound', 'timestamp',\n",
       "       'train_id_x', 'tweet_id', 'uid', 'is_delay', 'delay_minor',\n",
       "       'delay_med', 'delay_major', 'delay_catastrophic', 'is_backlog',\n",
       "       'is_canceled', 'is_passing', 'is_accident', 'is_medical',\n",
       "       'is_mechanical', 'is_customer', 'is_event', 'id', 'temp',\n",
       "       'precipiation', 'visability', 'windspeed', 'humidity', 'cloudcover'], dtype=object)"
      ]
     },
     "execution_count": 58,
     "metadata": {},
     "output_type": "execute_result"
    }
   ],
   "source": [
    "delayed.columns.values"
   ]
  },
  {
   "cell_type": "code",
   "execution_count": null,
   "metadata": {
    "collapsed": true
   },
   "outputs": [],
   "source": [
    "merged = all_trains.merge(atw,left_on='time_pa',right_on='timestamp',how='outer')\n",
    "print merged.shape\n",
    "merged.head(5)"
   ]
  },
  {
   "cell_type": "code",
   "execution_count": null,
   "metadata": {
    "collapsed": true
   },
   "outputs": [],
   "source": [
    "# all_trains.merge(delayed,left_on=['train_id'])"
   ]
  },
  {
   "cell_type": "code",
   "execution_count": 7,
   "metadata": {
    "collapsed": true
   },
   "outputs": [],
   "source": [
    "all_trains['timestamp'] = pd.to_datetime(all_trains['timestamp'],format=\"%Y-%m-%d %H:%M\")"
   ]
  },
  {
   "cell_type": "code",
   "execution_count": 38,
   "metadata": {
    "collapsed": true
   },
   "outputs": [],
   "source": [
    "delayed['timestamp'] = pd.to_datetime(all_trains['timestamp'],format=\"%Y-%m-%d %H:%M\")"
   ]
  },
  {
   "cell_type": "code",
   "execution_count": 40,
   "metadata": {
    "collapsed": false
   },
   "outputs": [
    {
     "name": "stdout",
     "output_type": "stream",
     "text": [
      "2016-01-24 23:38:00\n",
      "2015-06-08 05:01:00\n"
     ]
    }
   ],
   "source": [
    "max_date = all_trains['timestamp'].max()\n",
    "min_date = all_trains['timestamp'].min()\n",
    "print max_date\n",
    "print min_date"
   ]
  },
  {
   "cell_type": "code",
   "execution_count": 64,
   "metadata": {
    "collapsed": false
   },
   "outputs": [],
   "source": [
    "def populate_all_trains(t_row):\n",
    "    t=t_row['timestamp']\n",
    "    d = delayed[(delayed['timestamp'] > datetime.datetime(t.year,t.month,t.day)) \n",
    "           & (delayed['timestamp'] < datetime.datetime(t.year,t.month,t.day+1))]\n",
    "\n",
    "    return d.shape\n",
    "#     return pd.Series([\n",
    "#         d.t_bullet,\n",
    "#         d.t_limited,\n",
    "#         d.tweet_id,\n",
    "#         d.is_delay,\n",
    "#         d.delay_minor,\n",
    "#         d.delay_med,\n",
    "#         d.delay_major,\n",
    "#         d.delay_catastropic,\n",
    "#         d.is_backlog,\n",
    "#         d.is_canceled,\n",
    "#         d.is_passing,\n",
    "#         d.is_accident,\n",
    "#         d.is_medical,\n",
    "#         d.is_mechanical,\n",
    "#         d.is_customer,\n",
    "#         d.is_event\n",
    "#     ])"
   ]
  },
  {
   "cell_type": "code",
   "execution_count": 65,
   "metadata": {
    "collapsed": false
   },
   "outputs": [
    {
     "ename": "ValueError",
     "evalue": "('day is out of range for month', u'occurred at index 2002')",
     "output_type": "error",
     "traceback": [
      "\u001b[0;31m---------------------------------------------------------------------------\u001b[0m",
      "\u001b[0;31mValueError\u001b[0m                                Traceback (most recent call last)",
      "\u001b[0;32m<ipython-input-65-b9d8b4ebbf3f>\u001b[0m in \u001b[0;36m<module>\u001b[0;34m()\u001b[0m\n\u001b[0;32m----> 1\u001b[0;31m \u001b[0mall_trains\u001b[0m\u001b[0;34m.\u001b[0m\u001b[0mapply\u001b[0m\u001b[0;34m(\u001b[0m\u001b[0;32mlambda\u001b[0m \u001b[0mx\u001b[0m\u001b[0;34m:\u001b[0m\u001b[0mpopulate_all_trains\u001b[0m\u001b[0;34m(\u001b[0m\u001b[0mx\u001b[0m\u001b[0;34m)\u001b[0m\u001b[0;34m,\u001b[0m\u001b[0maxis\u001b[0m\u001b[0;34m=\u001b[0m\u001b[0;36m1\u001b[0m\u001b[0;34m)\u001b[0m\u001b[0;34m\u001b[0m\u001b[0m\n\u001b[0m",
      "\u001b[0;32m/Users/albarron/anaconda/lib/python2.7/site-packages/pandas/core/frame.pyc\u001b[0m in \u001b[0;36mapply\u001b[0;34m(self, func, axis, broadcast, raw, reduce, args, **kwds)\u001b[0m\n\u001b[1;32m   3970\u001b[0m                     \u001b[0;32mif\u001b[0m \u001b[0mreduce\u001b[0m \u001b[0;32mis\u001b[0m \u001b[0mNone\u001b[0m\u001b[0;34m:\u001b[0m\u001b[0;34m\u001b[0m\u001b[0m\n\u001b[1;32m   3971\u001b[0m                         \u001b[0mreduce\u001b[0m \u001b[0;34m=\u001b[0m \u001b[0mTrue\u001b[0m\u001b[0;34m\u001b[0m\u001b[0m\n\u001b[0;32m-> 3972\u001b[0;31m                     \u001b[0;32mreturn\u001b[0m \u001b[0mself\u001b[0m\u001b[0;34m.\u001b[0m\u001b[0m_apply_standard\u001b[0m\u001b[0;34m(\u001b[0m\u001b[0mf\u001b[0m\u001b[0;34m,\u001b[0m \u001b[0maxis\u001b[0m\u001b[0;34m,\u001b[0m \u001b[0mreduce\u001b[0m\u001b[0;34m=\u001b[0m\u001b[0mreduce\u001b[0m\u001b[0;34m)\u001b[0m\u001b[0;34m\u001b[0m\u001b[0m\n\u001b[0m\u001b[1;32m   3973\u001b[0m             \u001b[0;32melse\u001b[0m\u001b[0;34m:\u001b[0m\u001b[0;34m\u001b[0m\u001b[0m\n\u001b[1;32m   3974\u001b[0m                 \u001b[0;32mreturn\u001b[0m \u001b[0mself\u001b[0m\u001b[0;34m.\u001b[0m\u001b[0m_apply_broadcast\u001b[0m\u001b[0;34m(\u001b[0m\u001b[0mf\u001b[0m\u001b[0;34m,\u001b[0m \u001b[0maxis\u001b[0m\u001b[0;34m)\u001b[0m\u001b[0;34m\u001b[0m\u001b[0m\n",
      "\u001b[0;32m/Users/albarron/anaconda/lib/python2.7/site-packages/pandas/core/frame.pyc\u001b[0m in \u001b[0;36m_apply_standard\u001b[0;34m(self, func, axis, ignore_failures, reduce)\u001b[0m\n\u001b[1;32m   4062\u001b[0m             \u001b[0;32mtry\u001b[0m\u001b[0;34m:\u001b[0m\u001b[0;34m\u001b[0m\u001b[0m\n\u001b[1;32m   4063\u001b[0m                 \u001b[0;32mfor\u001b[0m \u001b[0mi\u001b[0m\u001b[0;34m,\u001b[0m \u001b[0mv\u001b[0m \u001b[0;32min\u001b[0m \u001b[0menumerate\u001b[0m\u001b[0;34m(\u001b[0m\u001b[0mseries_gen\u001b[0m\u001b[0;34m)\u001b[0m\u001b[0;34m:\u001b[0m\u001b[0;34m\u001b[0m\u001b[0m\n\u001b[0;32m-> 4064\u001b[0;31m                     \u001b[0mresults\u001b[0m\u001b[0;34m[\u001b[0m\u001b[0mi\u001b[0m\u001b[0;34m]\u001b[0m \u001b[0;34m=\u001b[0m \u001b[0mfunc\u001b[0m\u001b[0;34m(\u001b[0m\u001b[0mv\u001b[0m\u001b[0;34m)\u001b[0m\u001b[0;34m\u001b[0m\u001b[0m\n\u001b[0m\u001b[1;32m   4065\u001b[0m                     \u001b[0mkeys\u001b[0m\u001b[0;34m.\u001b[0m\u001b[0mappend\u001b[0m\u001b[0;34m(\u001b[0m\u001b[0mv\u001b[0m\u001b[0;34m.\u001b[0m\u001b[0mname\u001b[0m\u001b[0;34m)\u001b[0m\u001b[0;34m\u001b[0m\u001b[0m\n\u001b[1;32m   4066\u001b[0m             \u001b[0;32mexcept\u001b[0m \u001b[0mException\u001b[0m \u001b[0;32mas\u001b[0m \u001b[0me\u001b[0m\u001b[0;34m:\u001b[0m\u001b[0;34m\u001b[0m\u001b[0m\n",
      "\u001b[0;32m<ipython-input-65-b9d8b4ebbf3f>\u001b[0m in \u001b[0;36m<lambda>\u001b[0;34m(x)\u001b[0m\n\u001b[0;32m----> 1\u001b[0;31m \u001b[0mall_trains\u001b[0m\u001b[0;34m.\u001b[0m\u001b[0mapply\u001b[0m\u001b[0;34m(\u001b[0m\u001b[0;32mlambda\u001b[0m \u001b[0mx\u001b[0m\u001b[0;34m:\u001b[0m\u001b[0mpopulate_all_trains\u001b[0m\u001b[0;34m(\u001b[0m\u001b[0mx\u001b[0m\u001b[0;34m)\u001b[0m\u001b[0;34m,\u001b[0m\u001b[0maxis\u001b[0m\u001b[0;34m=\u001b[0m\u001b[0;36m1\u001b[0m\u001b[0;34m)\u001b[0m\u001b[0;34m\u001b[0m\u001b[0m\n\u001b[0m",
      "\u001b[0;32m<ipython-input-64-b018ecf6ca89>\u001b[0m in \u001b[0;36mpopulate_all_trains\u001b[0;34m(t_row)\u001b[0m\n\u001b[1;32m      2\u001b[0m     \u001b[0mt\u001b[0m\u001b[0;34m=\u001b[0m\u001b[0mt_row\u001b[0m\u001b[0;34m[\u001b[0m\u001b[0;34m'timestamp'\u001b[0m\u001b[0;34m]\u001b[0m\u001b[0;34m\u001b[0m\u001b[0m\n\u001b[1;32m      3\u001b[0m     d = delayed[(delayed['timestamp'] > datetime.datetime(t.year,t.month,t.day)) \n\u001b[0;32m----> 4\u001b[0;31m            & (delayed['timestamp'] < datetime.datetime(t.year,t.month,t.day+1))]\n\u001b[0m\u001b[1;32m      5\u001b[0m \u001b[0;34m\u001b[0m\u001b[0m\n\u001b[1;32m      6\u001b[0m     \u001b[0;32mreturn\u001b[0m \u001b[0md\u001b[0m\u001b[0;34m.\u001b[0m\u001b[0mshape\u001b[0m\u001b[0;34m\u001b[0m\u001b[0m\n",
      "\u001b[0;31mValueError\u001b[0m: ('day is out of range for month', u'occurred at index 2002')"
     ]
    }
   ],
   "source": [
    "all_trains.apply(lambda x:populate_all_trains(x),axis=1)"
   ]
  },
  {
   "cell_type": "code",
   "execution_count": 57,
   "metadata": {
    "collapsed": false
   },
   "outputs": [
    {
     "name": "stdout",
     "output_type": "stream",
     "text": [
      "train_id\n",
      "stop_pa\n",
      "t_northbound\n",
      "timestamp\n",
      "temp\n",
      "precipiation\n",
      "visability\n",
      "windspeed\n",
      "humidity\n",
      "cloudcover\n",
      "train_id\n",
      "stop_pa\n",
      "t_northbound\n",
      "timestamp\n",
      "temp\n",
      "precipiation\n",
      "visability\n",
      "windspeed\n",
      "humidity\n",
      "cloudcover\n",
      "train_id\n",
      "stop_pa\n",
      "t_northbound\n",
      "timestamp\n",
      "temp\n",
      "precipiation\n",
      "visability\n",
      "windspeed\n",
      "humidity\n",
      "cloudcover\n",
      "train_id\n",
      "stop_pa\n",
      "t_northbound\n",
      "timestamp\n",
      "temp\n",
      "precipiation\n",
      "visability\n",
      "windspeed\n",
      "humidity\n",
      "cloudcover\n",
      "train_id\n",
      "stop_pa\n",
      "t_northbound\n",
      "timestamp\n",
      "temp\n",
      "precipiation\n",
      "visability\n",
      "windspeed\n",
      "humidity\n",
      "cloudcover\n"
     ]
    }
   ],
   "source": [
    "# # Stolen here: http://stackoverflow.com/questions/1060279/iterating-through-a-range-of-dates-in-python\n",
    "# def daterange(start_date, end_date):\n",
    "#     for n in range(int ((end_date - start_date).days)):\n",
    "#         yield start_date + datetime.timedelta(n)\n",
    "\n",
    "# for cursor_day in daterange(min_date, min_date+datetime.timedelta(days=5) ): #max_date\n",
    "#     for train in all_trains[(all_trains['timestamp'] > cursor_day) \n",
    "#            & (all_trains['timestamp'] < cursor_day+datetime.timedelta(days=1))]:\n",
    "#         print train\n",
    "# #         print delayed[(delayed['timestamp'] > cursor_day) \n",
    "# #             & (delayed['timestamp'] < cursor_day+datetime.timedelta(days=1))\n",
    "# #             & (delayed['train_id_x'] == train['train_id'])]"
   ]
  },
  {
   "cell_type": "code",
   "execution_count": 37,
   "metadata": {
    "collapsed": false
   },
   "outputs": [
    {
     "data": {
      "text/plain": [
       "(182, 10)"
      ]
     },
     "execution_count": 37,
     "metadata": {},
     "output_type": "execute_result"
    }
   ],
   "source": [
    "all_trains[(all_trains['timestamp'] > datetime.datetime(2015,6,8)) \n",
    "           & (all_trains['timestamp'] < datetime.datetime(2015,6,10))].shape"
   ]
  },
  {
   "cell_type": "code",
   "execution_count": 25,
   "metadata": {
    "collapsed": false
   },
   "outputs": [
    {
     "ename": "TypeError",
     "evalue": "cannot compare a dtyped [datetime64[ns]] array with a scalar of type [bool]",
     "output_type": "error",
     "traceback": [
      "\u001b[0;31m---------------------------------------------------------------------------\u001b[0m",
      "\u001b[0;31mTypeError\u001b[0m                                 Traceback (most recent call last)",
      "\u001b[0;32m<ipython-input-25-a656d69652cd>\u001b[0m in \u001b[0;36m<module>\u001b[0;34m()\u001b[0m\n\u001b[1;32m      1\u001b[0m all_trains[all_trains['timestamp'] > datetime.date(year=2016,month=6,day=8) &\n\u001b[0;32m----> 2\u001b[0;31m            all_trains['timestamp'] < datetime.date(year=2016,month=6,day=9)]\n\u001b[0m",
      "\u001b[0;32m/Users/albarron/anaconda/lib/python2.7/site-packages/pandas/core/ops.pyc\u001b[0m in \u001b[0;36mwrapper\u001b[0;34m(self, other)\u001b[0m\n\u001b[1;32m    794\u001b[0m             \u001b[0;31m# scalars, list, tuple, np.array\u001b[0m\u001b[0;34m\u001b[0m\u001b[0;34m\u001b[0m\u001b[0m\n\u001b[1;32m    795\u001b[0m             \u001b[0mfiller\u001b[0m \u001b[0;34m=\u001b[0m \u001b[0mfill_int\u001b[0m \u001b[0;32mif\u001b[0m \u001b[0mis_self_int_dtype\u001b[0m \u001b[0;32mand\u001b[0m \u001b[0mis_integer_dtype\u001b[0m\u001b[0;34m(\u001b[0m\u001b[0mnp\u001b[0m\u001b[0;34m.\u001b[0m\u001b[0masarray\u001b[0m\u001b[0;34m(\u001b[0m\u001b[0mother\u001b[0m\u001b[0;34m)\u001b[0m\u001b[0;34m)\u001b[0m \u001b[0;32melse\u001b[0m \u001b[0mfill_bool\u001b[0m\u001b[0;34m\u001b[0m\u001b[0m\n\u001b[0;32m--> 796\u001b[0;31m             return filler(self._constructor(na_op(self.values, other),\n\u001b[0m\u001b[1;32m    797\u001b[0m                                     index=self.index)).__finalize__(self)\n\u001b[1;32m    798\u001b[0m \u001b[0;34m\u001b[0m\u001b[0m\n",
      "\u001b[0;32m/Users/albarron/anaconda/lib/python2.7/site-packages/pandas/core/ops.pyc\u001b[0m in \u001b[0;36mna_op\u001b[0;34m(x, y)\u001b[0m\n\u001b[1;32m    767\u001b[0m                     raise TypeError(\"cannot compare a dtyped [{0}] array with \"\n\u001b[1;32m    768\u001b[0m                                     \"a scalar of type [{1}]\".format(\n\u001b[0;32m--> 769\u001b[0;31m                                         x.dtype, type(y).__name__))\n\u001b[0m\u001b[1;32m    770\u001b[0m \u001b[0;34m\u001b[0m\u001b[0m\n\u001b[1;32m    771\u001b[0m         \u001b[0;32mreturn\u001b[0m \u001b[0mresult\u001b[0m\u001b[0;34m\u001b[0m\u001b[0m\n",
      "\u001b[0;31mTypeError\u001b[0m: cannot compare a dtyped [datetime64[ns]] array with a scalar of type [bool]"
     ]
    }
   ],
   "source": [
    "all_trains[all_trains['timestamp'] > datetime.date(year=2016,month=6,day=8) &\n",
    "           all_trains['timestamp'] < datetime.date(year=2016,month=6,day=9)]\n"
   ]
  },
  {
   "cell_type": "code",
   "execution_count": null,
   "metadata": {
    "collapsed": true
   },
   "outputs": [],
   "source": []
  }
 ],
 "metadata": {
  "kernelspec": {
   "display_name": "Python 2",
   "language": "python",
   "name": "python2"
  },
  "language_info": {
   "codemirror_mode": {
    "name": "ipython",
    "version": 2
   },
   "file_extension": ".py",
   "mimetype": "text/x-python",
   "name": "python",
   "nbconvert_exporter": "python",
   "pygments_lexer": "ipython2",
   "version": "2.7.11"
  }
 },
 "nbformat": 4,
 "nbformat_minor": 0
}
