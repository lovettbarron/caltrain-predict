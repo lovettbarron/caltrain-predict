{
 "cells": [
  {
   "cell_type": "code",
   "execution_count": 126,
   "metadata": {
    "collapsed": false
   },
   "outputs": [],
   "source": [
    "import sys\n",
    "import re\n",
    "import time\n",
    "import datetime\n",
    "import pandas as pd\n",
    "import numpy as np\n",
    "import func\n",
    "# inline plot\n",
    "%matplotlib inline"
   ]
  },
  {
   "cell_type": "code",
   "execution_count": 2,
   "metadata": {
    "collapsed": false
   },
   "outputs": [],
   "source": [
    "all_trains = pd.read_csv(\"data/weather-trains_2015-06-08 16:57:272016-01-25 23:42:14.csv\",sep='\\t',error_bad_lines=False)\n",
    "delayed = pd.read_csv(\"data/merged_delay_2016-03-27-02:02:47.csv\",sep='\\t',error_bad_lines=False)\n",
    "del delayed['Unnamed: 0']\n",
    "del all_trains['Unnamed: 0']"
   ]
  },
  {
   "cell_type": "code",
   "execution_count": 3,
   "metadata": {
    "collapsed": false
   },
   "outputs": [
    {
     "name": "stdout",
     "output_type": "stream",
     "text": [
      "(21021, 12)\n"
     ]
    }
   ],
   "source": [
    "print all_trains.shape\n",
    "print delayed.shape"
   ]
  },
  {
   "cell_type": "code",
   "execution_count": 4,
   "metadata": {
    "collapsed": false
   },
   "outputs": [
    {
     "data": {
      "text/html": [
       "<div>\n",
       "<table border=\"1\" class=\"dataframe\">\n",
       "  <thead>\n",
       "    <tr style=\"text-align: right;\">\n",
       "      <th></th>\n",
       "      <th>train_id</th>\n",
       "      <th>stop_pa</th>\n",
       "      <th>t_northbound</th>\n",
       "      <th>timestamp</th>\n",
       "      <th>temp</th>\n",
       "      <th>precipiation</th>\n",
       "      <th>visability</th>\n",
       "      <th>windspeed</th>\n",
       "      <th>humidity</th>\n",
       "      <th>cloudcover</th>\n",
       "    </tr>\n",
       "  </thead>\n",
       "  <tbody>\n",
       "    <tr>\n",
       "      <th>0</th>\n",
       "      <td>102</td>\n",
       "      <td>1</td>\n",
       "      <td>0</td>\n",
       "      <td>2015-06-08 05:53:00</td>\n",
       "      <td>72.97875</td>\n",
       "      <td>0</td>\n",
       "      <td>10</td>\n",
       "      <td>6.68125</td>\n",
       "      <td>0.62875</td>\n",
       "      <td>0.09875</td>\n",
       "    </tr>\n",
       "    <tr>\n",
       "      <th>1</th>\n",
       "      <td>104</td>\n",
       "      <td>1</td>\n",
       "      <td>0</td>\n",
       "      <td>2015-06-08 06:23:00</td>\n",
       "      <td>72.97875</td>\n",
       "      <td>0</td>\n",
       "      <td>10</td>\n",
       "      <td>6.68125</td>\n",
       "      <td>0.62875</td>\n",
       "      <td>0.09875</td>\n",
       "    </tr>\n",
       "    <tr>\n",
       "      <th>2</th>\n",
       "      <td>206</td>\n",
       "      <td>1</td>\n",
       "      <td>0</td>\n",
       "      <td>2015-06-08 06:59:00</td>\n",
       "      <td>72.97875</td>\n",
       "      <td>0</td>\n",
       "      <td>10</td>\n",
       "      <td>6.68125</td>\n",
       "      <td>0.62875</td>\n",
       "      <td>0.09875</td>\n",
       "    </tr>\n",
       "    <tr>\n",
       "      <th>3</th>\n",
       "      <td>208</td>\n",
       "      <td>1</td>\n",
       "      <td>0</td>\n",
       "      <td>2015-06-08 07:20:00</td>\n",
       "      <td>72.97875</td>\n",
       "      <td>0</td>\n",
       "      <td>10</td>\n",
       "      <td>6.68125</td>\n",
       "      <td>0.62875</td>\n",
       "      <td>0.09875</td>\n",
       "    </tr>\n",
       "    <tr>\n",
       "      <th>4</th>\n",
       "      <td>210</td>\n",
       "      <td>1</td>\n",
       "      <td>0</td>\n",
       "      <td>2015-06-08 07:28:00</td>\n",
       "      <td>72.97875</td>\n",
       "      <td>0</td>\n",
       "      <td>10</td>\n",
       "      <td>6.68125</td>\n",
       "      <td>0.62875</td>\n",
       "      <td>0.09875</td>\n",
       "    </tr>\n",
       "  </tbody>\n",
       "</table>\n",
       "</div>"
      ],
      "text/plain": [
       "   train_id  stop_pa  t_northbound            timestamp      temp  \\\n",
       "0       102        1             0  2015-06-08 05:53:00  72.97875   \n",
       "1       104        1             0  2015-06-08 06:23:00  72.97875   \n",
       "2       206        1             0  2015-06-08 06:59:00  72.97875   \n",
       "3       208        1             0  2015-06-08 07:20:00  72.97875   \n",
       "4       210        1             0  2015-06-08 07:28:00  72.97875   \n",
       "\n",
       "   precipiation  visability  windspeed  humidity  cloudcover  \n",
       "0             0          10    6.68125   0.62875     0.09875  \n",
       "1             0          10    6.68125   0.62875     0.09875  \n",
       "2             0          10    6.68125   0.62875     0.09875  \n",
       "3             0          10    6.68125   0.62875     0.09875  \n",
       "4             0          10    6.68125   0.62875     0.09875  "
      ]
     },
     "execution_count": 4,
     "metadata": {},
     "output_type": "execute_result"
    }
   ],
   "source": [
    "del all_trains['time_pa']\n",
    "all_trains.head()"
   ]
  },
  {
   "cell_type": "code",
   "execution_count": 108,
   "metadata": {
    "collapsed": false
   },
   "outputs": [
    {
     "data": {
      "text/plain": [
       "array(['day_of_week', 'day_of_month', 'month', 'time_of_day',\n",
       "       'topic_train', 't_bullet', 't_limited', 't_northbound', 'timestamp',\n",
       "       'train_id_x', 'tweet_id', 'uid', 'is_delay', 'delay_minor',\n",
       "       'delay_med', 'delay_major', 'delay_catastrophic', 'is_backlog',\n",
       "       'is_canceled', 'is_passing', 'is_accident', 'is_medical',\n",
       "       'is_mechanical', 'is_customer', 'is_event', 'id', 'temp',\n",
       "       'precipiation', 'visability', 'windspeed', 'humidity', 'cloudcover'], dtype=object)"
      ]
     },
     "execution_count": 108,
     "metadata": {},
     "output_type": "execute_result"
    }
   ],
   "source": [
    "delayed.columns.values"
   ]
  },
  {
   "cell_type": "code",
   "execution_count": 114,
   "metadata": {
    "collapsed": false
   },
   "outputs": [
    {
     "data": {
      "text/html": [
       "<div>\n",
       "<table border=\"1\" class=\"dataframe\">\n",
       "  <thead>\n",
       "    <tr style=\"text-align: right;\">\n",
       "      <th></th>\n",
       "      <th>day_of_week</th>\n",
       "      <th>day_of_month</th>\n",
       "      <th>month</th>\n",
       "      <th>time_of_day</th>\n",
       "      <th>topic_train</th>\n",
       "      <th>t_bullet</th>\n",
       "      <th>t_limited</th>\n",
       "      <th>t_northbound</th>\n",
       "      <th>timestamp</th>\n",
       "      <th>train_id_x</th>\n",
       "      <th>...</th>\n",
       "      <th>is_mechanical</th>\n",
       "      <th>is_customer</th>\n",
       "      <th>is_event</th>\n",
       "      <th>id</th>\n",
       "      <th>temp</th>\n",
       "      <th>precipiation</th>\n",
       "      <th>visability</th>\n",
       "      <th>windspeed</th>\n",
       "      <th>humidity</th>\n",
       "      <th>cloudcover</th>\n",
       "    </tr>\n",
       "  </thead>\n",
       "  <tbody>\n",
       "    <tr>\n",
       "      <th>0</th>\n",
       "      <td>0</td>\n",
       "      <td>25</td>\n",
       "      <td>1</td>\n",
       "      <td>error</td>\n",
       "      <td>'155'</td>\n",
       "      <td>0</td>\n",
       "      <td>0</td>\n",
       "      <td>1</td>\n",
       "      <td>2015-06-08 05:53:00</td>\n",
       "      <td>155</td>\n",
       "      <td>...</td>\n",
       "      <td>0</td>\n",
       "      <td>0</td>\n",
       "      <td>0</td>\n",
       "      <td>691768068385718275</td>\n",
       "      <td>52.890417</td>\n",
       "      <td>0.000000</td>\n",
       "      <td>10.000000</td>\n",
       "      <td>3.979583</td>\n",
       "      <td>0.811667</td>\n",
       "      <td>0.1555</td>\n",
       "    </tr>\n",
       "    <tr>\n",
       "      <th>1</th>\n",
       "      <td>4</td>\n",
       "      <td>22</td>\n",
       "      <td>1</td>\n",
       "      <td>error</td>\n",
       "      <td>'151'</td>\n",
       "      <td>0</td>\n",
       "      <td>0</td>\n",
       "      <td>1</td>\n",
       "      <td>2015-06-08 06:23:00</td>\n",
       "      <td>151</td>\n",
       "      <td>...</td>\n",
       "      <td>0</td>\n",
       "      <td>0</td>\n",
       "      <td>0</td>\n",
       "      <td>690667494906814464</td>\n",
       "      <td>59.498750</td>\n",
       "      <td>0.003975</td>\n",
       "      <td>8.580000</td>\n",
       "      <td>9.688750</td>\n",
       "      <td>0.820833</td>\n",
       "      <td>0.2325</td>\n",
       "    </tr>\n",
       "    <tr>\n",
       "      <th>2</th>\n",
       "      <td>2</td>\n",
       "      <td>20</td>\n",
       "      <td>1</td>\n",
       "      <td>error</td>\n",
       "      <td>'151'</td>\n",
       "      <td>0</td>\n",
       "      <td>0</td>\n",
       "      <td>1</td>\n",
       "      <td>2015-06-08 06:59:00</td>\n",
       "      <td>151</td>\n",
       "      <td>...</td>\n",
       "      <td>0</td>\n",
       "      <td>0</td>\n",
       "      <td>0</td>\n",
       "      <td>689936168893329408</td>\n",
       "      <td>53.795000</td>\n",
       "      <td>0.000000</td>\n",
       "      <td>8.801667</td>\n",
       "      <td>3.730833</td>\n",
       "      <td>0.877917</td>\n",
       "      <td>0.1080</td>\n",
       "    </tr>\n",
       "  </tbody>\n",
       "</table>\n",
       "<p>3 rows × 32 columns</p>\n",
       "</div>"
      ],
      "text/plain": [
       "   day_of_week  day_of_month  month time_of_day topic_train  t_bullet  \\\n",
       "0            0            25      1       error       '155'         0   \n",
       "1            4            22      1       error       '151'         0   \n",
       "2            2            20      1       error       '151'         0   \n",
       "\n",
       "   t_limited  t_northbound           timestamp  train_id_x     ...      \\\n",
       "0          0             1 2015-06-08 05:53:00         155     ...       \n",
       "1          0             1 2015-06-08 06:23:00         151     ...       \n",
       "2          0             1 2015-06-08 06:59:00         151     ...       \n",
       "\n",
       "   is_mechanical is_customer is_event                  id       temp  \\\n",
       "0              0           0        0  691768068385718275  52.890417   \n",
       "1              0           0        0  690667494906814464  59.498750   \n",
       "2              0           0        0  689936168893329408  53.795000   \n",
       "\n",
       "   precipiation  visability  windspeed  humidity  cloudcover  \n",
       "0      0.000000   10.000000   3.979583  0.811667      0.1555  \n",
       "1      0.003975    8.580000   9.688750  0.820833      0.2325  \n",
       "2      0.000000    8.801667   3.730833  0.877917      0.1080  \n",
       "\n",
       "[3 rows x 32 columns]"
      ]
     },
     "execution_count": 114,
     "metadata": {},
     "output_type": "execute_result"
    }
   ],
   "source": [
    "delayed.head(3)"
   ]
  },
  {
   "cell_type": "code",
   "execution_count": 117,
   "metadata": {
    "collapsed": false
   },
   "outputs": [
    {
     "data": {
      "text/html": [
       "<div>\n",
       "<table border=\"1\" class=\"dataframe\">\n",
       "  <thead>\n",
       "    <tr style=\"text-align: right;\">\n",
       "      <th></th>\n",
       "      <th>train_id</th>\n",
       "      <th>stop_pa</th>\n",
       "      <th>t_northbound</th>\n",
       "      <th>timestamp</th>\n",
       "      <th>temp</th>\n",
       "      <th>precipiation</th>\n",
       "      <th>visability</th>\n",
       "      <th>windspeed</th>\n",
       "      <th>humidity</th>\n",
       "      <th>cloudcover</th>\n",
       "    </tr>\n",
       "  </thead>\n",
       "  <tbody>\n",
       "    <tr>\n",
       "      <th>0</th>\n",
       "      <td>102</td>\n",
       "      <td>1</td>\n",
       "      <td>0</td>\n",
       "      <td>2015-06-08 05:53:00</td>\n",
       "      <td>72.97875</td>\n",
       "      <td>0</td>\n",
       "      <td>10</td>\n",
       "      <td>6.68125</td>\n",
       "      <td>0.62875</td>\n",
       "      <td>0.09875</td>\n",
       "    </tr>\n",
       "    <tr>\n",
       "      <th>1</th>\n",
       "      <td>104</td>\n",
       "      <td>1</td>\n",
       "      <td>0</td>\n",
       "      <td>2015-06-08 06:23:00</td>\n",
       "      <td>72.97875</td>\n",
       "      <td>0</td>\n",
       "      <td>10</td>\n",
       "      <td>6.68125</td>\n",
       "      <td>0.62875</td>\n",
       "      <td>0.09875</td>\n",
       "    </tr>\n",
       "    <tr>\n",
       "      <th>2</th>\n",
       "      <td>206</td>\n",
       "      <td>1</td>\n",
       "      <td>0</td>\n",
       "      <td>2015-06-08 06:59:00</td>\n",
       "      <td>72.97875</td>\n",
       "      <td>0</td>\n",
       "      <td>10</td>\n",
       "      <td>6.68125</td>\n",
       "      <td>0.62875</td>\n",
       "      <td>0.09875</td>\n",
       "    </tr>\n",
       "  </tbody>\n",
       "</table>\n",
       "</div>"
      ],
      "text/plain": [
       "   train_id  stop_pa  t_northbound           timestamp      temp  \\\n",
       "0       102        1             0 2015-06-08 05:53:00  72.97875   \n",
       "1       104        1             0 2015-06-08 06:23:00  72.97875   \n",
       "2       206        1             0 2015-06-08 06:59:00  72.97875   \n",
       "\n",
       "   precipiation  visability  windspeed  humidity  cloudcover  \n",
       "0             0          10    6.68125   0.62875     0.09875  \n",
       "1             0          10    6.68125   0.62875     0.09875  \n",
       "2             0          10    6.68125   0.62875     0.09875  "
      ]
     },
     "execution_count": 117,
     "metadata": {},
     "output_type": "execute_result"
    }
   ],
   "source": [
    "all_trains.head(3)"
   ]
  },
  {
   "cell_type": "code",
   "execution_count": null,
   "metadata": {
    "collapsed": true
   },
   "outputs": [],
   "source": [
    "# merged = all_trains.merge(atw,left_on='time_pa',right_on='timestamp',how='outer')\n",
    "# print merged.shape\n",
    "# merged.head(5)"
   ]
  },
  {
   "cell_type": "code",
   "execution_count": null,
   "metadata": {
    "collapsed": true
   },
   "outputs": [],
   "source": [
    "# all_trains.merge(delayed,left_on=['train_id'])"
   ]
  },
  {
   "cell_type": "code",
   "execution_count": 7,
   "metadata": {
    "collapsed": true
   },
   "outputs": [],
   "source": [
    "all_trains['timestamp'] = pd.to_datetime(all_trains['timestamp'],format=\"%Y-%m-%d %H:%M\")"
   ]
  },
  {
   "cell_type": "code",
   "execution_count": 38,
   "metadata": {
    "collapsed": true
   },
   "outputs": [],
   "source": [
    "delayed['timestamp'] = pd.to_datetime(all_trains['timestamp'],format=\"%Y-%m-%d %H:%M\")"
   ]
  },
  {
   "cell_type": "code",
   "execution_count": 40,
   "metadata": {
    "collapsed": false
   },
   "outputs": [
    {
     "name": "stdout",
     "output_type": "stream",
     "text": [
      "2016-01-24 23:38:00\n",
      "2015-06-08 05:01:00\n"
     ]
    }
   ],
   "source": [
    "max_date = all_trains['timestamp'].max()\n",
    "min_date = all_trains['timestamp'].min()\n",
    "print max_date\n",
    "print min_date"
   ]
  },
  {
   "cell_type": "code",
   "execution_count": 101,
   "metadata": {
    "collapsed": false
   },
   "outputs": [
    {
     "data": {
      "text/plain": [
       "(21021, 10)"
      ]
     },
     "execution_count": 101,
     "metadata": {},
     "output_type": "execute_result"
    }
   ],
   "source": [
    "all_trains.shape"
   ]
  },
  {
   "cell_type": "code",
   "execution_count": 173,
   "metadata": {
    "collapsed": false
   },
   "outputs": [],
   "source": [
    "import calendar\n",
    "def populate_all_trains(t_row):\n",
    "    t=t_row['timestamp']\n",
    "    next_mo = True if t.day >= calendar.monthrange(t.year,t.month)[1] else False\n",
    "    year2 = t.year if next_mo is False & t.month != 12 else t.year+1\n",
    "    month2 = t.month if next_mo is False else (t.month + 1 if (t.month+1)<=12 else 1)\n",
    "    day2 = t.day+1 if next_mo is False else 1\n",
    "    \n",
    "    d = delayed[(delayed['timestamp'] > datetime.datetime(t.year,t.month,t.day)) \n",
    "           & (delayed['timestamp'] <= datetime.datetime(year2,month2,day2))\n",
    "            & (delayed['train_id_x'] == t_row['train_id'])]\n",
    "\n",
    "    if d.empty is False:\n",
    "        return pd.Series([\n",
    "            d.t_bullet.max(),\n",
    "            d.t_limited.max(),\n",
    "            d.uid.max(),\n",
    "            d.is_delay.max(),\n",
    "            d.delay_minor.max(),\n",
    "            d.delay_med.max(),\n",
    "            d.delay_major.max(),\n",
    "            d.delay_catastrophic.max(),\n",
    "            d.is_backlog.max(),\n",
    "            d.is_canceled.max(),\n",
    "            d.is_passing.max(),\n",
    "            d.is_accident.max(),\n",
    "            d.is_medical.max(),\n",
    "            d.is_mechanical.max(),\n",
    "            d.is_customer.max(),\n",
    "            d.is_event.max()])\n",
    "    else:\n",
    "        return pd.Series([\n",
    "            1 if str(t_row.train_id)[0] == 3 else 0,\n",
    "            1 if str(t_row.train_id)[0] == 2 else 0,\n",
    "            0,\n",
    "            0,\n",
    "            0,\n",
    "            0,\n",
    "            0,\n",
    "            0,\n",
    "            0,\n",
    "            0,\n",
    "            0,\n",
    "            0,\n",
    "            0,\n",
    "            0,\n",
    "            0,\n",
    "            0])"
   ]
  },
  {
   "cell_type": "code",
   "execution_count": 174,
   "metadata": {
    "collapsed": false
   },
   "outputs": [],
   "source": [
    "test = all_trains.apply(lambda x:populate_all_trains(x),axis=1)"
   ]
  },
  {
   "cell_type": "code",
   "execution_count": 175,
   "metadata": {
    "collapsed": false
   },
   "outputs": [
    {
     "data": {
      "text/html": [
       "<div>\n",
       "<table border=\"1\" class=\"dataframe\">\n",
       "  <thead>\n",
       "    <tr style=\"text-align: right;\">\n",
       "      <th></th>\n",
       "      <th>0</th>\n",
       "      <th>1</th>\n",
       "      <th>2</th>\n",
       "      <th>3</th>\n",
       "      <th>4</th>\n",
       "      <th>5</th>\n",
       "      <th>6</th>\n",
       "      <th>7</th>\n",
       "      <th>8</th>\n",
       "      <th>9</th>\n",
       "      <th>10</th>\n",
       "      <th>11</th>\n",
       "      <th>12</th>\n",
       "      <th>13</th>\n",
       "      <th>14</th>\n",
       "      <th>15</th>\n",
       "    </tr>\n",
       "  </thead>\n",
       "  <tbody>\n",
       "    <tr>\n",
       "      <th>0</th>\n",
       "      <td>0</td>\n",
       "      <td>0</td>\n",
       "      <td>0</td>\n",
       "      <td>0</td>\n",
       "      <td>0</td>\n",
       "      <td>0</td>\n",
       "      <td>0</td>\n",
       "      <td>0</td>\n",
       "      <td>0</td>\n",
       "      <td>0</td>\n",
       "      <td>0</td>\n",
       "      <td>0</td>\n",
       "      <td>0</td>\n",
       "      <td>0</td>\n",
       "      <td>0</td>\n",
       "      <td>0</td>\n",
       "    </tr>\n",
       "    <tr>\n",
       "      <th>1</th>\n",
       "      <td>0</td>\n",
       "      <td>0</td>\n",
       "      <td>258611670061820981248</td>\n",
       "      <td>1</td>\n",
       "      <td>0</td>\n",
       "      <td>1</td>\n",
       "      <td>0</td>\n",
       "      <td>0</td>\n",
       "      <td>0</td>\n",
       "      <td>0</td>\n",
       "      <td>0</td>\n",
       "      <td>0</td>\n",
       "      <td>0</td>\n",
       "      <td>0</td>\n",
       "      <td>0</td>\n",
       "      <td>0</td>\n",
       "    </tr>\n",
       "    <tr>\n",
       "      <th>2</th>\n",
       "      <td>0</td>\n",
       "      <td>0</td>\n",
       "      <td>0</td>\n",
       "      <td>0</td>\n",
       "      <td>0</td>\n",
       "      <td>0</td>\n",
       "      <td>0</td>\n",
       "      <td>0</td>\n",
       "      <td>0</td>\n",
       "      <td>0</td>\n",
       "      <td>0</td>\n",
       "      <td>0</td>\n",
       "      <td>0</td>\n",
       "      <td>0</td>\n",
       "      <td>0</td>\n",
       "      <td>0</td>\n",
       "    </tr>\n",
       "    <tr>\n",
       "      <th>3</th>\n",
       "      <td>0</td>\n",
       "      <td>0</td>\n",
       "      <td>0</td>\n",
       "      <td>0</td>\n",
       "      <td>0</td>\n",
       "      <td>0</td>\n",
       "      <td>0</td>\n",
       "      <td>0</td>\n",
       "      <td>0</td>\n",
       "      <td>0</td>\n",
       "      <td>0</td>\n",
       "      <td>0</td>\n",
       "      <td>0</td>\n",
       "      <td>0</td>\n",
       "      <td>0</td>\n",
       "      <td>0</td>\n",
       "    </tr>\n",
       "    <tr>\n",
       "      <th>4</th>\n",
       "      <td>0</td>\n",
       "      <td>1</td>\n",
       "      <td>231646719505939324929</td>\n",
       "      <td>1</td>\n",
       "      <td>0</td>\n",
       "      <td>0</td>\n",
       "      <td>0</td>\n",
       "      <td>0</td>\n",
       "      <td>1</td>\n",
       "      <td>0</td>\n",
       "      <td>1</td>\n",
       "      <td>0</td>\n",
       "      <td>0</td>\n",
       "      <td>0</td>\n",
       "      <td>0</td>\n",
       "      <td>0</td>\n",
       "    </tr>\n",
       "  </tbody>\n",
       "</table>\n",
       "</div>"
      ],
      "text/plain": [
       "   0   1                      2  3   4   5   6   7   8   9   10  11  12  13  \\\n",
       "0   0   0                      0  0   0   0   0   0   0   0   0   0   0   0   \n",
       "1   0   0  258611670061820981248  1   0   1   0   0   0   0   0   0   0   0   \n",
       "2   0   0                      0  0   0   0   0   0   0   0   0   0   0   0   \n",
       "3   0   0                      0  0   0   0   0   0   0   0   0   0   0   0   \n",
       "4   0   1  231646719505939324929  1   0   0   0   0   1   0   1   0   0   0   \n",
       "\n",
       "   14  15  \n",
       "0   0   0  \n",
       "1   0   0  \n",
       "2   0   0  \n",
       "3   0   0  \n",
       "4   0   0  "
      ]
     },
     "execution_count": 175,
     "metadata": {},
     "output_type": "execute_result"
    }
   ],
   "source": [
    "test.head()"
   ]
  },
  {
   "cell_type": "code",
   "execution_count": 176,
   "metadata": {
    "collapsed": false
   },
   "outputs": [
    {
     "data": {
      "text/html": [
       "<div>\n",
       "<table border=\"1\" class=\"dataframe\">\n",
       "  <thead>\n",
       "    <tr style=\"text-align: right;\">\n",
       "      <th></th>\n",
       "      <th>0</th>\n",
       "      <th>1</th>\n",
       "      <th>4</th>\n",
       "      <th>5</th>\n",
       "      <th>6</th>\n",
       "      <th>7</th>\n",
       "      <th>8</th>\n",
       "      <th>9</th>\n",
       "      <th>10</th>\n",
       "      <th>11</th>\n",
       "      <th>12</th>\n",
       "      <th>13</th>\n",
       "      <th>14</th>\n",
       "      <th>15</th>\n",
       "    </tr>\n",
       "  </thead>\n",
       "  <tbody>\n",
       "    <tr>\n",
       "      <th>count</th>\n",
       "      <td>21021.000000</td>\n",
       "      <td>21021.000000</td>\n",
       "      <td>21021.000000</td>\n",
       "      <td>21021.000000</td>\n",
       "      <td>21021.000000</td>\n",
       "      <td>21021.000000</td>\n",
       "      <td>21021.000000</td>\n",
       "      <td>21021.000000</td>\n",
       "      <td>21021.000000</td>\n",
       "      <td>21021.000000</td>\n",
       "      <td>21021.000000</td>\n",
       "      <td>21021.000000</td>\n",
       "      <td>21021.000000</td>\n",
       "      <td>21021.000000</td>\n",
       "    </tr>\n",
       "    <tr>\n",
       "      <th>mean</th>\n",
       "      <td>0.008277</td>\n",
       "      <td>0.014890</td>\n",
       "      <td>0.015318</td>\n",
       "      <td>0.020931</td>\n",
       "      <td>0.006422</td>\n",
       "      <td>0.002949</td>\n",
       "      <td>0.009562</td>\n",
       "      <td>0.004805</td>\n",
       "      <td>0.003282</td>\n",
       "      <td>0.008040</td>\n",
       "      <td>0.002997</td>\n",
       "      <td>0.014937</td>\n",
       "      <td>0.007469</td>\n",
       "      <td>0.003568</td>\n",
       "    </tr>\n",
       "    <tr>\n",
       "      <th>std</th>\n",
       "      <td>0.090605</td>\n",
       "      <td>0.121115</td>\n",
       "      <td>0.122817</td>\n",
       "      <td>0.143158</td>\n",
       "      <td>0.079882</td>\n",
       "      <td>0.054230</td>\n",
       "      <td>0.097318</td>\n",
       "      <td>0.069151</td>\n",
       "      <td>0.057200</td>\n",
       "      <td>0.089305</td>\n",
       "      <td>0.054664</td>\n",
       "      <td>0.121305</td>\n",
       "      <td>0.086100</td>\n",
       "      <td>0.059626</td>\n",
       "    </tr>\n",
       "    <tr>\n",
       "      <th>min</th>\n",
       "      <td>0.000000</td>\n",
       "      <td>0.000000</td>\n",
       "      <td>0.000000</td>\n",
       "      <td>0.000000</td>\n",
       "      <td>0.000000</td>\n",
       "      <td>0.000000</td>\n",
       "      <td>0.000000</td>\n",
       "      <td>0.000000</td>\n",
       "      <td>0.000000</td>\n",
       "      <td>0.000000</td>\n",
       "      <td>0.000000</td>\n",
       "      <td>0.000000</td>\n",
       "      <td>0.000000</td>\n",
       "      <td>0.000000</td>\n",
       "    </tr>\n",
       "    <tr>\n",
       "      <th>25%</th>\n",
       "      <td>0.000000</td>\n",
       "      <td>0.000000</td>\n",
       "      <td>0.000000</td>\n",
       "      <td>0.000000</td>\n",
       "      <td>0.000000</td>\n",
       "      <td>0.000000</td>\n",
       "      <td>0.000000</td>\n",
       "      <td>0.000000</td>\n",
       "      <td>0.000000</td>\n",
       "      <td>0.000000</td>\n",
       "      <td>0.000000</td>\n",
       "      <td>0.000000</td>\n",
       "      <td>0.000000</td>\n",
       "      <td>0.000000</td>\n",
       "    </tr>\n",
       "    <tr>\n",
       "      <th>50%</th>\n",
       "      <td>0.000000</td>\n",
       "      <td>0.000000</td>\n",
       "      <td>0.000000</td>\n",
       "      <td>0.000000</td>\n",
       "      <td>0.000000</td>\n",
       "      <td>0.000000</td>\n",
       "      <td>0.000000</td>\n",
       "      <td>0.000000</td>\n",
       "      <td>0.000000</td>\n",
       "      <td>0.000000</td>\n",
       "      <td>0.000000</td>\n",
       "      <td>0.000000</td>\n",
       "      <td>0.000000</td>\n",
       "      <td>0.000000</td>\n",
       "    </tr>\n",
       "    <tr>\n",
       "      <th>75%</th>\n",
       "      <td>0.000000</td>\n",
       "      <td>0.000000</td>\n",
       "      <td>0.000000</td>\n",
       "      <td>0.000000</td>\n",
       "      <td>0.000000</td>\n",
       "      <td>0.000000</td>\n",
       "      <td>0.000000</td>\n",
       "      <td>0.000000</td>\n",
       "      <td>0.000000</td>\n",
       "      <td>0.000000</td>\n",
       "      <td>0.000000</td>\n",
       "      <td>0.000000</td>\n",
       "      <td>0.000000</td>\n",
       "      <td>0.000000</td>\n",
       "    </tr>\n",
       "    <tr>\n",
       "      <th>max</th>\n",
       "      <td>1.000000</td>\n",
       "      <td>1.000000</td>\n",
       "      <td>1.000000</td>\n",
       "      <td>1.000000</td>\n",
       "      <td>1.000000</td>\n",
       "      <td>1.000000</td>\n",
       "      <td>1.000000</td>\n",
       "      <td>1.000000</td>\n",
       "      <td>1.000000</td>\n",
       "      <td>1.000000</td>\n",
       "      <td>1.000000</td>\n",
       "      <td>1.000000</td>\n",
       "      <td>1.000000</td>\n",
       "      <td>1.000000</td>\n",
       "    </tr>\n",
       "  </tbody>\n",
       "</table>\n",
       "</div>"
      ],
      "text/plain": [
       "                 0             1             4             5             6   \\\n",
       "count  21021.000000  21021.000000  21021.000000  21021.000000  21021.000000   \n",
       "mean       0.008277      0.014890      0.015318      0.020931      0.006422   \n",
       "std        0.090605      0.121115      0.122817      0.143158      0.079882   \n",
       "min        0.000000      0.000000      0.000000      0.000000      0.000000   \n",
       "25%        0.000000      0.000000      0.000000      0.000000      0.000000   \n",
       "50%        0.000000      0.000000      0.000000      0.000000      0.000000   \n",
       "75%        0.000000      0.000000      0.000000      0.000000      0.000000   \n",
       "max        1.000000      1.000000      1.000000      1.000000      1.000000   \n",
       "\n",
       "                 7             8             9             10            11  \\\n",
       "count  21021.000000  21021.000000  21021.000000  21021.000000  21021.000000   \n",
       "mean       0.002949      0.009562      0.004805      0.003282      0.008040   \n",
       "std        0.054230      0.097318      0.069151      0.057200      0.089305   \n",
       "min        0.000000      0.000000      0.000000      0.000000      0.000000   \n",
       "25%        0.000000      0.000000      0.000000      0.000000      0.000000   \n",
       "50%        0.000000      0.000000      0.000000      0.000000      0.000000   \n",
       "75%        0.000000      0.000000      0.000000      0.000000      0.000000   \n",
       "max        1.000000      1.000000      1.000000      1.000000      1.000000   \n",
       "\n",
       "                 12            13            14            15  \n",
       "count  21021.000000  21021.000000  21021.000000  21021.000000  \n",
       "mean       0.002997      0.014937      0.007469      0.003568  \n",
       "std        0.054664      0.121305      0.086100      0.059626  \n",
       "min        0.000000      0.000000      0.000000      0.000000  \n",
       "25%        0.000000      0.000000      0.000000      0.000000  \n",
       "50%        0.000000      0.000000      0.000000      0.000000  \n",
       "75%        0.000000      0.000000      0.000000      0.000000  \n",
       "max        1.000000      1.000000      1.000000      1.000000  "
      ]
     },
     "execution_count": 176,
     "metadata": {},
     "output_type": "execute_result"
    }
   ],
   "source": [
    "test.describe()"
   ]
  },
  {
   "cell_type": "code",
   "execution_count": 180,
   "metadata": {
    "collapsed": true
   },
   "outputs": [],
   "source": [
    "test.columns = ['is_bullet','is_limited','tweet_id','is_delay','del_min','del_med','del_maj',\n",
    "                'del_cat','is_backlog','is_canceled','is_passing','is_accident','is_medical',\n",
    "                'is_mechanical','is_customer','is_event']"
   ]
  },
  {
   "cell_type": "code",
   "execution_count": 181,
   "metadata": {
    "collapsed": false
   },
   "outputs": [
    {
     "data": {
      "text/html": [
       "<div>\n",
       "<table border=\"1\" class=\"dataframe\">\n",
       "  <thead>\n",
       "    <tr style=\"text-align: right;\">\n",
       "      <th></th>\n",
       "      <th>is_bullet</th>\n",
       "      <th>is_limited</th>\n",
       "      <th>tweet_id</th>\n",
       "      <th>is_delay</th>\n",
       "      <th>del_min</th>\n",
       "      <th>del_med</th>\n",
       "      <th>del_maj</th>\n",
       "      <th>del_cat</th>\n",
       "      <th>is_backlog</th>\n",
       "      <th>is_canceled</th>\n",
       "      <th>is_passing</th>\n",
       "      <th>is_accident</th>\n",
       "      <th>is_medical</th>\n",
       "      <th>is_mechanical</th>\n",
       "      <th>is_customer</th>\n",
       "      <th>is_event</th>\n",
       "    </tr>\n",
       "  </thead>\n",
       "  <tbody>\n",
       "    <tr>\n",
       "      <th>0</th>\n",
       "      <td>0</td>\n",
       "      <td>0</td>\n",
       "      <td>0</td>\n",
       "      <td>0</td>\n",
       "      <td>0</td>\n",
       "      <td>0</td>\n",
       "      <td>0</td>\n",
       "      <td>0</td>\n",
       "      <td>0</td>\n",
       "      <td>0</td>\n",
       "      <td>0</td>\n",
       "      <td>0</td>\n",
       "      <td>0</td>\n",
       "      <td>0</td>\n",
       "      <td>0</td>\n",
       "      <td>0</td>\n",
       "    </tr>\n",
       "    <tr>\n",
       "      <th>1</th>\n",
       "      <td>0</td>\n",
       "      <td>0</td>\n",
       "      <td>258611670061820981248</td>\n",
       "      <td>1</td>\n",
       "      <td>0</td>\n",
       "      <td>1</td>\n",
       "      <td>0</td>\n",
       "      <td>0</td>\n",
       "      <td>0</td>\n",
       "      <td>0</td>\n",
       "      <td>0</td>\n",
       "      <td>0</td>\n",
       "      <td>0</td>\n",
       "      <td>0</td>\n",
       "      <td>0</td>\n",
       "      <td>0</td>\n",
       "    </tr>\n",
       "    <tr>\n",
       "      <th>2</th>\n",
       "      <td>0</td>\n",
       "      <td>0</td>\n",
       "      <td>0</td>\n",
       "      <td>0</td>\n",
       "      <td>0</td>\n",
       "      <td>0</td>\n",
       "      <td>0</td>\n",
       "      <td>0</td>\n",
       "      <td>0</td>\n",
       "      <td>0</td>\n",
       "      <td>0</td>\n",
       "      <td>0</td>\n",
       "      <td>0</td>\n",
       "      <td>0</td>\n",
       "      <td>0</td>\n",
       "      <td>0</td>\n",
       "    </tr>\n",
       "    <tr>\n",
       "      <th>3</th>\n",
       "      <td>0</td>\n",
       "      <td>0</td>\n",
       "      <td>0</td>\n",
       "      <td>0</td>\n",
       "      <td>0</td>\n",
       "      <td>0</td>\n",
       "      <td>0</td>\n",
       "      <td>0</td>\n",
       "      <td>0</td>\n",
       "      <td>0</td>\n",
       "      <td>0</td>\n",
       "      <td>0</td>\n",
       "      <td>0</td>\n",
       "      <td>0</td>\n",
       "      <td>0</td>\n",
       "      <td>0</td>\n",
       "    </tr>\n",
       "    <tr>\n",
       "      <th>4</th>\n",
       "      <td>0</td>\n",
       "      <td>1</td>\n",
       "      <td>231646719505939324929</td>\n",
       "      <td>1</td>\n",
       "      <td>0</td>\n",
       "      <td>0</td>\n",
       "      <td>0</td>\n",
       "      <td>0</td>\n",
       "      <td>1</td>\n",
       "      <td>0</td>\n",
       "      <td>1</td>\n",
       "      <td>0</td>\n",
       "      <td>0</td>\n",
       "      <td>0</td>\n",
       "      <td>0</td>\n",
       "      <td>0</td>\n",
       "    </tr>\n",
       "  </tbody>\n",
       "</table>\n",
       "</div>"
      ],
      "text/plain": [
       "   is_bullet  is_limited               tweet_id is_delay  del_min  del_med  \\\n",
       "0          0           0                      0        0        0        0   \n",
       "1          0           0  258611670061820981248        1        0        1   \n",
       "2          0           0                      0        0        0        0   \n",
       "3          0           0                      0        0        0        0   \n",
       "4          0           1  231646719505939324929        1        0        0   \n",
       "\n",
       "   del_maj  del_cat  is_backlog  is_canceled  is_passing  is_accident  \\\n",
       "0        0        0           0            0           0            0   \n",
       "1        0        0           0            0           0            0   \n",
       "2        0        0           0            0           0            0   \n",
       "3        0        0           0            0           0            0   \n",
       "4        0        0           1            0           1            0   \n",
       "\n",
       "   is_medical  is_mechanical  is_customer  is_event  \n",
       "0           0              0            0         0  \n",
       "1           0              0            0         0  \n",
       "2           0              0            0         0  \n",
       "3           0              0            0         0  \n",
       "4           0              0            0         0  "
      ]
     },
     "execution_count": 181,
     "metadata": {},
     "output_type": "execute_result"
    }
   ],
   "source": [
    "test.head()"
   ]
  },
  {
   "cell_type": "code",
   "execution_count": 182,
   "metadata": {
    "collapsed": false
   },
   "outputs": [],
   "source": [
    "merged = pd.concat([all_trains, test], axis=1)"
   ]
  },
  {
   "cell_type": "code",
   "execution_count": 188,
   "metadata": {
    "collapsed": false
   },
   "outputs": [
    {
     "data": {
      "text/plain": [
       "1"
      ]
     },
     "execution_count": 188,
     "metadata": {},
     "output_type": "execute_result"
    }
   ],
   "source": [
    "merged.timestamp[100].weekday()"
   ]
  },
  {
   "cell_type": "code",
   "execution_count": 191,
   "metadata": {
    "collapsed": true
   },
   "outputs": [],
   "source": [
    "def get_days(r):\n",
    "    #Monday is 0 and Sunday is 6.\n",
    "        return pd.Series([\n",
    "            1 if r['timestamp'].weekday() == 0 else 0, #monday\n",
    "            1 if r['timestamp'].weekday() == 1 else 0, \n",
    "            1 if r['timestamp'].weekday() == 2 else 0,\n",
    "            1 if r['timestamp'].weekday() == 3 else 0,\n",
    "            1 if r['timestamp'].weekday() == 4 else 0,\n",
    "            1 if r['timestamp'].weekday() == 5 else 0,\n",
    "            1 if r['timestamp'].weekday() == 6 else 0 #sunday\n",
    "    ])"
   ]
  },
  {
   "cell_type": "code",
   "execution_count": 192,
   "metadata": {
    "collapsed": false
   },
   "outputs": [],
   "source": [
    "days = all_trains.apply(lambda x:get_days(x),axis=1)\n",
    "days.columns = ['d_monday','d_tuesday','d_wednesday','d_thursday','d_friday','d_saturday','d_sunday',]"
   ]
  },
  {
   "cell_type": "code",
   "execution_count": 199,
   "metadata": {
    "collapsed": false
   },
   "outputs": [],
   "source": [
    "merged = pd.concat([merged, days], axis=1)"
   ]
  },
  {
   "cell_type": "code",
   "execution_count": 200,
   "metadata": {
    "collapsed": false
   },
   "outputs": [
    {
     "name": "stdout",
     "output_type": "stream",
     "text": [
      "./data/merged_concat_final.csv\n"
     ]
    }
   ],
   "source": [
    "filename = \"./data/merged_concat_final.csv\"\n",
    "merged.to_csv(filename, sep='\\t', encoding='utf-8')\n",
    "print filename"
   ]
  },
  {
   "cell_type": "code",
   "execution_count": null,
   "metadata": {
    "collapsed": true
   },
   "outputs": [],
   "source": []
  }
 ],
 "metadata": {
  "kernelspec": {
   "display_name": "Python 2",
   "language": "python",
   "name": "python2"
  },
  "language_info": {
   "codemirror_mode": {
    "name": "ipython",
    "version": 2
   },
   "file_extension": ".py",
   "mimetype": "text/x-python",
   "name": "python",
   "nbconvert_exporter": "python",
   "pygments_lexer": "ipython2",
   "version": "2.7.11"
  }
 },
 "nbformat": 4,
 "nbformat_minor": 0
}
