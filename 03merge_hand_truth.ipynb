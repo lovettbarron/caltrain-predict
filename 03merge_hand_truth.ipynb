{
 "cells": [
  {
   "cell_type": "code",
   "execution_count": 1,
   "metadata": {
    "collapsed": false
   },
   "outputs": [
    {
     "name": "stderr",
     "output_type": "stream",
     "text": [
      "/Users/albarron/anaconda/lib/python2.7/site-packages/matplotlib/font_manager.py:273: UserWarning: Matplotlib is building the font cache using fc-list. This may take a moment.\n",
      "  warnings.warn('Matplotlib is building the font cache using fc-list. This may take a moment.')\n"
     ]
    }
   ],
   "source": [
    "import sys\n",
    "import re\n",
    "import time\n",
    "import datetime\n",
    "# Requires for ipython to pick up on twitter?\n",
    "sys.path.append('/Library/Python/2.7/site-packages/')\n",
    "import twitter\n",
    "import pandas as pd\n",
    "import func\n",
    "# import pyowm # Historical API is paid\n",
    "\n",
    "# inline plot\n",
    "%matplotlib inline"
   ]
  },
  {
   "cell_type": "code",
   "execution_count": 2,
   "metadata": {
    "collapsed": false
   },
   "outputs": [],
   "source": [
    "#%load 'data/raw-twt2016-01-26-14/21/09.csv'\n",
    "truth = pd.read_csv(\"data/truth_tweets.csv\",sep=',',error_bad_lines=False)\n",
    "twts = pd.read_csv(\"data/formated_twts.csv\",sep=',',error_bad_lines=False)\n",
    "weather = pd.read_csv(\"data/weather-add-twt2016-03-06-21:26:39.csv\",sep='\\t',error_bad_lines=False)"
   ]
  },
  {
   "cell_type": "code",
   "execution_count": 3,
   "metadata": {
    "collapsed": false
   },
   "outputs": [
    {
     "data": {
      "text/html": [
       "<div>\n",
       "<table border=\"1\" class=\"dataframe\">\n",
       "  <thead>\n",
       "    <tr style=\"text-align: right;\">\n",
       "      <th></th>\n",
       "      <th>id</th>\n",
       "      <th>text</th>\n",
       "      <th>train_id</th>\n",
       "      <th>is_delay</th>\n",
       "      <th>delay_minor</th>\n",
       "      <th>delay_med</th>\n",
       "      <th>delay_major</th>\n",
       "      <th>delay_catastrophic</th>\n",
       "      <th>is_backlog</th>\n",
       "      <th>is_canceled</th>\n",
       "      <th>is_passing</th>\n",
       "      <th>is_accident</th>\n",
       "      <th>is_medical</th>\n",
       "      <th>is_mechanical</th>\n",
       "      <th>is_customer</th>\n",
       "      <th>is_event</th>\n",
       "    </tr>\n",
       "  </thead>\n",
       "  <tbody>\n",
       "    <tr>\n",
       "      <th>0</th>\n",
       "      <td>691768068385718275</td>\n",
       "      <td>#NB155 is 22 mins late. #Caltrain</td>\n",
       "      <td>155</td>\n",
       "      <td>1</td>\n",
       "      <td>0</td>\n",
       "      <td>0</td>\n",
       "      <td>1</td>\n",
       "      <td>0</td>\n",
       "      <td>0</td>\n",
       "      <td>0</td>\n",
       "      <td>0</td>\n",
       "      <td>0</td>\n",
       "      <td>0</td>\n",
       "      <td>0</td>\n",
       "      <td>0</td>\n",
       "      <td>0</td>\n",
       "    </tr>\n",
       "    <tr>\n",
       "      <th>1</th>\n",
       "      <td>690667494906814464</td>\n",
       "      <td>#NB 151 is running 10 mins behind #Caltrain</td>\n",
       "      <td>151</td>\n",
       "      <td>1</td>\n",
       "      <td>1</td>\n",
       "      <td>0</td>\n",
       "      <td>0</td>\n",
       "      <td>0</td>\n",
       "      <td>0</td>\n",
       "      <td>0</td>\n",
       "      <td>0</td>\n",
       "      <td>0</td>\n",
       "      <td>0</td>\n",
       "      <td>0</td>\n",
       "      <td>0</td>\n",
       "      <td>0</td>\n",
       "    </tr>\n",
       "    <tr>\n",
       "      <th>2</th>\n",
       "      <td>689936168893329408</td>\n",
       "      <td>#NB151 is 10 mins down at San Mateo. #Caltrain</td>\n",
       "      <td>151</td>\n",
       "      <td>1</td>\n",
       "      <td>1</td>\n",
       "      <td>0</td>\n",
       "      <td>0</td>\n",
       "      <td>0</td>\n",
       "      <td>0</td>\n",
       "      <td>0</td>\n",
       "      <td>0</td>\n",
       "      <td>0</td>\n",
       "      <td>0</td>\n",
       "      <td>0</td>\n",
       "      <td>0</td>\n",
       "      <td>0</td>\n",
       "    </tr>\n",
       "    <tr>\n",
       "      <th>3</th>\n",
       "      <td>689509733640732672</td>\n",
       "      <td>#SB138 will board on the northbound platform a...</td>\n",
       "      <td>138</td>\n",
       "      <td>0</td>\n",
       "      <td>0</td>\n",
       "      <td>0</td>\n",
       "      <td>0</td>\n",
       "      <td>0</td>\n",
       "      <td>0</td>\n",
       "      <td>0</td>\n",
       "      <td>0</td>\n",
       "      <td>0</td>\n",
       "      <td>0</td>\n",
       "      <td>0</td>\n",
       "      <td>0</td>\n",
       "      <td>0</td>\n",
       "    </tr>\n",
       "    <tr>\n",
       "      <th>4</th>\n",
       "      <td>689485484838416388</td>\n",
       "      <td>#SB216 delayed 13 minutes at SAT\\n#NB225 delay...</td>\n",
       "      <td>216</td>\n",
       "      <td>1</td>\n",
       "      <td>0</td>\n",
       "      <td>1</td>\n",
       "      <td>0</td>\n",
       "      <td>0</td>\n",
       "      <td>0</td>\n",
       "      <td>0</td>\n",
       "      <td>0</td>\n",
       "      <td>0</td>\n",
       "      <td>0</td>\n",
       "      <td>0</td>\n",
       "      <td>0</td>\n",
       "      <td>0</td>\n",
       "    </tr>\n",
       "  </tbody>\n",
       "</table>\n",
       "</div>"
      ],
      "text/plain": [
       "                   id                                               text  \\\n",
       "0  691768068385718275                  #NB155 is 22 mins late. #Caltrain   \n",
       "1  690667494906814464        #NB 151 is running 10 mins behind #Caltrain   \n",
       "2  689936168893329408     #NB151 is 10 mins down at San Mateo. #Caltrain   \n",
       "3  689509733640732672  #SB138 will board on the northbound platform a...   \n",
       "4  689485484838416388  #SB216 delayed 13 minutes at SAT\\n#NB225 delay...   \n",
       "\n",
       "   train_id is_delay  delay_minor  delay_med  delay_major  delay_catastrophic  \\\n",
       "0       155        1            0          0            1                   0   \n",
       "1       151        1            1          0            0                   0   \n",
       "2       151        1            1          0            0                   0   \n",
       "3       138        0            0          0            0                   0   \n",
       "4       216        1            0          1            0                   0   \n",
       "\n",
       "   is_backlog  is_canceled  is_passing  is_accident  is_medical  \\\n",
       "0           0            0           0            0           0   \n",
       "1           0            0           0            0           0   \n",
       "2           0            0           0            0           0   \n",
       "3           0            0           0            0           0   \n",
       "4           0            0           0            0           0   \n",
       "\n",
       "   is_mechanical  is_customer  is_event  \n",
       "0              0            0         0  \n",
       "1              0            0         0  \n",
       "2              0            0         0  \n",
       "3              0            0         0  \n",
       "4              0            0         0  "
      ]
     },
     "execution_count": 3,
     "metadata": {},
     "output_type": "execute_result"
    }
   ],
   "source": [
    "del truth['Unnamed: 0']\n",
    "truth.head()"
   ]
  },
  {
   "cell_type": "code",
   "execution_count": 4,
   "metadata": {
    "collapsed": false
   },
   "outputs": [
    {
     "data": {
      "text/html": [
       "<div>\n",
       "<table border=\"1\" class=\"dataframe\">\n",
       "  <thead>\n",
       "    <tr style=\"text-align: right;\">\n",
       "      <th></th>\n",
       "      <th>created_at</th>\n",
       "      <th>favorite_count</th>\n",
       "      <th>hashtags</th>\n",
       "      <th>id</th>\n",
       "      <th>in_reply_to_screen_name</th>\n",
       "      <th>retweet_count</th>\n",
       "      <th>text</th>\n",
       "      <th>day_of_week</th>\n",
       "      <th>day_of_month</th>\n",
       "      <th>month</th>\n",
       "      <th>time_of_day</th>\n",
       "      <th>topic_train</th>\n",
       "      <th>t_bullet</th>\n",
       "      <th>t_limited</th>\n",
       "      <th>t_northbound</th>\n",
       "      <th>timestamp</th>\n",
       "      <th>train_id</th>\n",
       "      <th>tweet_id</th>\n",
       "    </tr>\n",
       "  </thead>\n",
       "  <tbody>\n",
       "    <tr>\n",
       "      <th>0</th>\n",
       "      <td>2016-01-25 23:42:14</td>\n",
       "      <td>1</td>\n",
       "      <td>NB155, Caltrain</td>\n",
       "      <td>691768068385718275</td>\n",
       "      <td>NaN</td>\n",
       "      <td>2</td>\n",
       "      <td>#NB155 is 22 mins late. #Caltrain</td>\n",
       "      <td>0</td>\n",
       "      <td>25</td>\n",
       "      <td>1</td>\n",
       "      <td>error</td>\n",
       "      <td>'155'</td>\n",
       "      <td>0</td>\n",
       "      <td>0</td>\n",
       "      <td>1</td>\n",
       "      <td>2016-01-25 23:42:14</td>\n",
       "      <td>155</td>\n",
       "      <td>691768068385718275</td>\n",
       "    </tr>\n",
       "    <tr>\n",
       "      <th>1</th>\n",
       "      <td>2016-01-22 22:48:57</td>\n",
       "      <td>NaN</td>\n",
       "      <td>NB, Caltrain</td>\n",
       "      <td>690667494906814464</td>\n",
       "      <td>NaN</td>\n",
       "      <td>2</td>\n",
       "      <td>#NB 151 is running 10 mins behind #Caltrain</td>\n",
       "      <td>4</td>\n",
       "      <td>22</td>\n",
       "      <td>1</td>\n",
       "      <td>error</td>\n",
       "      <td>'151'</td>\n",
       "      <td>0</td>\n",
       "      <td>0</td>\n",
       "      <td>1</td>\n",
       "      <td>2016-01-22 22:48:57</td>\n",
       "      <td>151</td>\n",
       "      <td>690667494906814464</td>\n",
       "    </tr>\n",
       "    <tr>\n",
       "      <th>2</th>\n",
       "      <td>2016-01-20 22:22:55</td>\n",
       "      <td>1</td>\n",
       "      <td>NB151, Caltrain</td>\n",
       "      <td>689936168893329408</td>\n",
       "      <td>NaN</td>\n",
       "      <td>2</td>\n",
       "      <td>#NB151 is 10 mins down at San Mateo. #Caltrain</td>\n",
       "      <td>2</td>\n",
       "      <td>20</td>\n",
       "      <td>1</td>\n",
       "      <td>error</td>\n",
       "      <td>'151'</td>\n",
       "      <td>0</td>\n",
       "      <td>0</td>\n",
       "      <td>1</td>\n",
       "      <td>2016-01-20 22:22:55</td>\n",
       "      <td>151</td>\n",
       "      <td>689936168893329408</td>\n",
       "    </tr>\n",
       "  </tbody>\n",
       "</table>\n",
       "</div>"
      ],
      "text/plain": [
       "            created_at  favorite_count         hashtags                  id  \\\n",
       "0  2016-01-25 23:42:14               1  NB155, Caltrain  691768068385718275   \n",
       "1  2016-01-22 22:48:57             NaN     NB, Caltrain  690667494906814464   \n",
       "2  2016-01-20 22:22:55               1  NB151, Caltrain  689936168893329408   \n",
       "\n",
       "   in_reply_to_screen_name  retweet_count  \\\n",
       "0                      NaN              2   \n",
       "1                      NaN              2   \n",
       "2                      NaN              2   \n",
       "\n",
       "                                             text  day_of_week  day_of_month  \\\n",
       "0               #NB155 is 22 mins late. #Caltrain            0            25   \n",
       "1     #NB 151 is running 10 mins behind #Caltrain            4            22   \n",
       "2  #NB151 is 10 mins down at San Mateo. #Caltrain            2            20   \n",
       "\n",
       "   month time_of_day topic_train  t_bullet  t_limited  t_northbound  \\\n",
       "0      1       error       '155'         0          0             1   \n",
       "1      1       error       '151'         0          0             1   \n",
       "2      1       error       '151'         0          0             1   \n",
       "\n",
       "             timestamp  train_id            tweet_id  \n",
       "0  2016-01-25 23:42:14       155  691768068385718275  \n",
       "1  2016-01-22 22:48:57       151  690667494906814464  \n",
       "2  2016-01-20 22:22:55       151  689936168893329408  "
      ]
     },
     "execution_count": 4,
     "metadata": {},
     "output_type": "execute_result"
    }
   ],
   "source": [
    "del twts['Unnamed: 0']\n",
    "twts.head(3)"
   ]
  },
  {
   "cell_type": "code",
   "execution_count": 5,
   "metadata": {
    "collapsed": false
   },
   "outputs": [],
   "source": [
    "wt = weather[['id','temp','precipiation','visability','windspeed','humidity','cloudcover']]"
   ]
  },
  {
   "cell_type": "code",
   "execution_count": 6,
   "metadata": {
    "collapsed": false
   },
   "outputs": [
    {
     "data": {
      "text/plain": [
       "(583, 32)"
      ]
     },
     "execution_count": 6,
     "metadata": {},
     "output_type": "execute_result"
    }
   ],
   "source": [
    "df = twts.merge(truth,on=['id','train_id'],how='inner')\n",
    "df.shape"
   ]
  },
  {
   "cell_type": "code",
   "execution_count": 14,
   "metadata": {
    "collapsed": false
   },
   "outputs": [
    {
     "data": {
      "text/plain": [
       "475"
      ]
     },
     "execution_count": 14,
     "metadata": {},
     "output_type": "execute_result"
    }
   ],
   "source": [
    "df.head(2)\n",
    "len(df['id'].unique())"
   ]
  },
  {
   "cell_type": "code",
   "execution_count": 9,
   "metadata": {
    "collapsed": false
   },
   "outputs": [
    {
     "data": {
      "text/plain": [
       "(1048, 38)"
      ]
     },
     "execution_count": 9,
     "metadata": {},
     "output_type": "execute_result"
    }
   ],
   "source": [
    "df = df.merge(wt,on='id',how='left')\n",
    "df.shape"
   ]
  },
  {
   "cell_type": "code",
   "execution_count": null,
   "metadata": {
    "collapsed": false
   },
   "outputs": [],
   "source": [
    "df.tail(4)"
   ]
  },
  {
   "cell_type": "code",
   "execution_count": null,
   "metadata": {
    "collapsed": false
   },
   "outputs": [],
   "source": []
  },
  {
   "cell_type": "code",
   "execution_count": null,
   "metadata": {
    "collapsed": false
   },
   "outputs": [],
   "source": []
  },
  {
   "cell_type": "code",
   "execution_count": null,
   "metadata": {
    "collapsed": false
   },
   "outputs": [],
   "source": []
  },
  {
   "cell_type": "code",
   "execution_count": null,
   "metadata": {
    "collapsed": false
   },
   "outputs": [],
   "source": []
  },
  {
   "cell_type": "code",
   "execution_count": null,
   "metadata": {
    "collapsed": false
   },
   "outputs": [],
   "source": []
  },
  {
   "cell_type": "code",
   "execution_count": null,
   "metadata": {
    "collapsed": false
   },
   "outputs": [],
   "source": []
  },
  {
   "cell_type": "code",
   "execution_count": null,
   "metadata": {
    "collapsed": false
   },
   "outputs": [],
   "source": []
  },
  {
   "cell_type": "code",
   "execution_count": null,
   "metadata": {
    "collapsed": false
   },
   "outputs": [],
   "source": []
  },
  {
   "cell_type": "code",
   "execution_count": null,
   "metadata": {
    "collapsed": false
   },
   "outputs": [],
   "source": []
  },
  {
   "cell_type": "code",
   "execution_count": null,
   "metadata": {
    "collapsed": false
   },
   "outputs": [],
   "source": []
  },
  {
   "cell_type": "code",
   "execution_count": null,
   "metadata": {
    "collapsed": true
   },
   "outputs": [],
   "source": [
    "filename = \"./data/weather-add-twt{date}.csv\".format(date=datetime.datetime.now().strftime(\"%Y-%m-%d-%H:%M:%S\"))\n",
    "# merged.to_csv(filename, sep='\\t', encoding='utf-8')"
   ]
  },
  {
   "cell_type": "code",
   "execution_count": null,
   "metadata": {
    "collapsed": true
   },
   "outputs": [],
   "source": []
  }
 ],
 "metadata": {
  "kernelspec": {
   "display_name": "Python 2",
   "language": "python",
   "name": "python2"
  },
  "language_info": {
   "codemirror_mode": {
    "name": "ipython",
    "version": 2
   },
   "file_extension": ".py",
   "mimetype": "text/x-python",
   "name": "python",
   "nbconvert_exporter": "python",
   "pygments_lexer": "ipython2",
   "version": "2.7.11"
  }
 },
 "nbformat": 4,
 "nbformat_minor": 0
}
