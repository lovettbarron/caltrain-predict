{
 "cells": [
  {
   "cell_type": "markdown",
   "metadata": {},
   "source": [
    "### Dictionary\n",
    "\n",
    "train_direction = 0 south, 1 north\n",
    "train_type = 0 Local, 1 Limited, 2 Bullet\n",
    "train_"
   ]
  },
  {
   "cell_type": "code",
   "execution_count": 1,
   "metadata": {
    "collapsed": false
   },
   "outputs": [
    {
     "name": "stderr",
     "output_type": "stream",
     "text": [
      "/Users/albarron/anaconda/lib/python2.7/site-packages/matplotlib/font_manager.py:273: UserWarning: Matplotlib is building the font cache using fc-list. This may take a moment.\n",
      "  warnings.warn('Matplotlib is building the font cache using fc-list. This may take a moment.')\n"
     ]
    }
   ],
   "source": [
    "# Import necessary libraries\n",
    "import matplotlib.pyplot as plt\n",
    "import numpy as np\n",
    "import pandas as pd\n",
    "import sys\n",
    "import re\n",
    "import random\n",
    "import operator\n",
    "\n",
    "from func import *\n",
    "\n",
    "# inline plot\n",
    "%matplotlib inline\n",
    "#%%javascript\n",
    "#IPython.OutputArea.auto_scroll_threshold = 9999;"
   ]
  },
  {
   "cell_type": "code",
   "execution_count": 2,
   "metadata": {
    "collapsed": false,
    "scrolled": true
   },
   "outputs": [
    {
     "name": "stdout",
     "output_type": "stream",
     "text": [
      "3199\n"
     ]
    },
    {
     "data": {
      "text/plain": [
       "['Unnamed: 0',\n",
       " 'created_at',\n",
       " 'favorite_count',\n",
       " 'favorited',\n",
       " 'hashtags',\n",
       " 'id',\n",
       " 'in_reply_to_screen_name',\n",
       " 'in_reply_to_status_id',\n",
       " 'in_reply_to_user_id',\n",
       " 'lang',\n",
       " 'media',\n",
       " 'place',\n",
       " 'retweet_count',\n",
       " 'retweeted',\n",
       " 'retweeted_status',\n",
       " 'source',\n",
       " 'text',\n",
       " 'truncated',\n",
       " 'urls',\n",
       " 'user',\n",
       " 'user_mentions']"
      ]
     },
     "execution_count": 2,
     "metadata": {},
     "output_type": "execute_result"
    }
   ],
   "source": [
    "#%load 'data/raw-twt2016-01-26-14/21/09.csv'\n",
    "df = pd.read_csv(\"data/raw-twt2016-01-26-14-21-09.csv\",sep='\\t',error_bad_lines=False)\n",
    "# df.head(5)\n",
    "print len(df.index)\n",
    "list(df.columns.values)"
   ]
  },
  {
   "cell_type": "markdown",
   "metadata": {
    "collapsed": true
   },
   "source": [
    "Cleanin' the data"
   ]
  },
  {
   "cell_type": "code",
   "execution_count": 3,
   "metadata": {
    "collapsed": false,
    "scrolled": true
   },
   "outputs": [
    {
     "name": "stdout",
     "output_type": "stream",
     "text": [
      "   error  rush_evening  rush_morning  workday\n",
      "0      1             0             0        0\n",
      "1      0             1             0        0\n",
      "2      0             1             0        0\n",
      "3      0             1             0        0\n",
      "4      0             1             0        0\n",
      "error           3199\n",
      "rush_evening    3199\n",
      "rush_morning    3199\n",
      "workday         3199\n",
      "dtype: int64\n"
     ]
    }
   ],
   "source": [
    "# Fill in blank hashtags\n",
    "df = df.where((pd.notnull(df)), np.nan)\n",
    "df[\"hashtags\"].fillna('')\n",
    "\n",
    "# Add some date/time things\n",
    "df[\"created_at\"] = pd.to_datetime(df[\"created_at\"], errors='coerce')\n",
    "\n",
    "df[\"day_of_week\"] = df[\"created_at\"].apply(lambda x: x.weekday())\n",
    "df[\"day_of_month\"] = df[\"created_at\"].apply(lambda x: x.day)\n",
    "df[\"month\"] = df[\"created_at\"].apply(lambda x: x.month)\n",
    "df[\"isRushHour\"] = df[\"created_at\"].apply(lambda x: get_time_of_day(x))\n",
    "\n",
    "# del tod_Dummy['shutdown']\n",
    "\n",
    "# df['in_reply_to_screen_name'].fillna(-1)\n",
    "# df['in_reply_to_status_id'].fillna(-1)\n",
    "# df['in_reply_to_user_id'].fillna(-1)\n",
    "# df['retweeted_status'].fillna(-1)\n",
    "# df['retweeted'].fillna(-1)\n",
    "df['retweet_count'].fillna(np.nan)\n",
    "df['favorite_count'].fillna(np.nan)\n",
    "df[\"hashtags\"].fillna(np.nan)\n",
    "df[\"hashtags\"] = df[\"hashtags\"].apply(lambda x: str(x)[1:-1])\n",
    "df.loc[df[\"hashtags\"]=='a',\"hashtags\"] = ''\n",
    "#list(df.columns.values)"
   ]
  },
  {
   "cell_type": "code",
   "execution_count": 4,
   "metadata": {
    "collapsed": false
   },
   "outputs": [
    {
     "data": {
      "text/plain": [
       "3199"
      ]
     },
     "execution_count": 4,
     "metadata": {},
     "output_type": "execute_result"
    }
   ],
   "source": [
    "#Potentially remove, just cleaning for analysis sake\n",
    "del df['Unnamed: 0']\n",
    "del df['truncated']\n",
    "del df['user_mentions']\n",
    "del df['urls']\n",
    "del df['source']\n",
    "del df['lang']\n",
    "del df['place']\n",
    "del df['favorited']\n",
    "del df['media']\n",
    "del df['user']\n",
    "\n",
    "# More likely to remove\n",
    "del df['in_reply_to_status_id']\n",
    "del df['in_reply_to_user_id']\n",
    "del df['retweeted']\n",
    "del df['retweeted_status']\n",
    "len(df)"
   ]
  },
  {
   "cell_type": "markdown",
   "metadata": {},
   "source": [
    "Let's start getting some more detailed data from the trips as well"
   ]
  },
  {
   "cell_type": "code",
   "execution_count": 5,
   "metadata": {
    "collapsed": false
   },
   "outputs": [
    {
     "name": "stderr",
     "output_type": "stream",
     "text": [
      "/Users/albarron/anaconda/lib/python2.7/site-packages/ipykernel/__main__.py:10: FutureWarning: convert_objects is deprecated.  Use the data-type specific converters pd.to_datetime, pd.to_timedelta and pd.to_numeric.\n"
     ]
    },
    {
     "data": {
      "text/plain": [
       "3199"
      ]
     },
     "execution_count": 5,
     "metadata": {},
     "output_type": "execute_result"
    }
   ],
   "source": [
    "# df['favorite_count'] = df['favorite_count'].astype(np.int64)\n",
    "# df['retweet_count'] = df['retweet_count'].astype(np.int64)\n",
    "# df['text'] = df['text'].astype(str)\n",
    "# df['id'] = df['id'].astype(np.int64)\n",
    "# df['day_of_week'] = df['day_of_week'].astype(np.int64)\n",
    "# df['day_of_month'] = df['day_of_month'].astype(np.int64)\n",
    "# df['month'] = df['month'].astype(np.int64)\n",
    "# df['time_of_day'] = df['time_of_day'].astype(np.int64)\n",
    "df.loc[df[\"hashtags\"]=='on',\"hashtags\"] = np.nan\n",
    "df.convert_objects(convert_numeric=True)\n",
    "df.dtypes\n",
    "len(df)"
   ]
  },
  {
   "cell_type": "code",
   "execution_count": 6,
   "metadata": {
    "collapsed": false
   },
   "outputs": [
    {
     "data": {
      "text/html": [
       "<div>\n",
       "<table border=\"1\" class=\"dataframe\">\n",
       "  <thead>\n",
       "    <tr style=\"text-align: right;\">\n",
       "      <th></th>\n",
       "      <th>created_at</th>\n",
       "      <th>favorite_count</th>\n",
       "      <th>hashtags</th>\n",
       "      <th>id</th>\n",
       "      <th>in_reply_to_screen_name</th>\n",
       "      <th>retweet_count</th>\n",
       "      <th>text</th>\n",
       "      <th>day_of_week</th>\n",
       "      <th>day_of_month</th>\n",
       "      <th>month</th>\n",
       "      <th>time_of_day</th>\n",
       "      <th>topic_train</th>\n",
       "    </tr>\n",
       "  </thead>\n",
       "  <tbody>\n",
       "    <tr>\n",
       "      <th>0</th>\n",
       "      <td>2016-01-26 20:32:15</td>\n",
       "      <td>6</td>\n",
       "      <td>SanFrancisco</td>\n",
       "      <td>692082643022680064</td>\n",
       "      <td>NaN</td>\n",
       "      <td>7</td>\n",
       "      <td>NOTICE: Ped &amp;amp; Bike detours in place for Ma...</td>\n",
       "      <td>1</td>\n",
       "      <td>26</td>\n",
       "      <td>1</td>\n",
       "      <td>error</td>\n",
       "      <td></td>\n",
       "    </tr>\n",
       "    <tr>\n",
       "      <th>1</th>\n",
       "      <td>2016-01-26 19:41:32</td>\n",
       "      <td>NaN</td>\n",
       "      <td></td>\n",
       "      <td>692069881559134208</td>\n",
       "      <td>therealwall</td>\n",
       "      <td>NaN</td>\n",
       "      <td>@therealwall After the end of the concert we w...</td>\n",
       "      <td>1</td>\n",
       "      <td>26</td>\n",
       "      <td>1</td>\n",
       "      <td>rush_evening</td>\n",
       "      <td></td>\n",
       "    </tr>\n",
       "  </tbody>\n",
       "</table>\n",
       "</div>"
      ],
      "text/plain": [
       "           created_at  favorite_count      hashtags                  id  \\\n",
       "0 2016-01-26 20:32:15               6  SanFrancisco  692082643022680064   \n",
       "1 2016-01-26 19:41:32             NaN                692069881559134208   \n",
       "\n",
       "  in_reply_to_screen_name  retweet_count  \\\n",
       "0                     NaN              7   \n",
       "1             therealwall            NaN   \n",
       "\n",
       "                                                text  day_of_week  \\\n",
       "0  NOTICE: Ped &amp; Bike detours in place for Ma...            1   \n",
       "1  @therealwall After the end of the concert we w...            1   \n",
       "\n",
       "   day_of_month  month   time_of_day topic_train  \n",
       "0            26      1         error              \n",
       "1            26      1  rush_evening              "
      ]
     },
     "execution_count": 6,
     "metadata": {},
     "output_type": "execute_result"
    }
   ],
   "source": [
    "# Pull out potential trains from both hashtags and text\n",
    "df[\"topic_train\"] = df[\"text\"].apply(lambda x: check_train_id(x))\n",
    "df[\"topic_train\"] = df[\"topic_train\"].apply(lambda x: str(x)[1:-1])\n",
    "df[\"topic_train\"].fillna(np.nan)\n",
    "df.head(2)"
   ]
  },
  {
   "cell_type": "markdown",
   "metadata": {},
   "source": [
    "First, a word about the below code.\n",
    "In the accompanying `func.py` there is a function called parse_train that returns a `pandas.Series` object. For some reason, when it's returned from a map or apply, it seems to get cast as a string. When applied to a list or a dataframe, this string gets turned into a single field in the row, OR divided into several rows, throwing the count off.\n",
    "\n",
    "To get around this, I return the results of the parse_train function and then CAST it back to a series. This adds a weird 0 index, which I delete. I then fill in the plethora of NaNs and recombine it with the primary dataframe.\n",
    "\n",
    "For context, previous iterations included\n",
    "`df['topic_train'].apply(lambda x:parse_train(x))`\n",
    "which would return a pd.Series object with `str` versions of the returned pd.Series from `parse_train`"
   ]
  },
  {
   "cell_type": "code",
   "execution_count": 7,
   "metadata": {
    "collapsed": false
   },
   "outputs": [],
   "source": [
    "ret = []\n",
    "\n",
    "def parse_train(t):\n",
    "# Revised this function to work with categorical variables\n",
    "# x should be a list with train codes eg 123\n",
    "# {\"id\": \"123\", \"type:\" \"bullet\", direction: \"south\"}\n",
    "\n",
    "    try:\n",
    "        s = t['topic_train'].split(',')\n",
    "    except:\n",
    "        return t['topic_train']\n",
    "    if s[0] == '':\n",
    "        return np.nan\n",
    "    for x in s:\n",
    "        q = {}\n",
    "        x = str(x)\n",
    "        x = re.sub('[^0-9]','', x)\n",
    "        if len(x)<3: continue\n",
    "\n",
    "        # 1 = north, 0 = south\n",
    "        q[\"t_northbound\"] = 1 if int(x[2]) in [1,3,5,7,9] else 0\n",
    "        q['t_limited'] = 0\n",
    "        q['t_bullet'] = 0\n",
    "        \n",
    "        if x[0] == '1':\n",
    "            q['t_limited'] = 0\n",
    "        elif x[0] == '2':\n",
    "            q[\"t_limited\"] = 1 # limited\n",
    "        elif x[0] == '3':\n",
    "            q[\"t_bullet\"] = 1 # bullet\n",
    "        else:\n",
    "            q['t_limited'] = 0\n",
    "\n",
    "        ret.append({'tweet_id': t['id'],\n",
    "                    'timestamp': t['created_at'], \n",
    "                    'train_id': int(x),\n",
    "                    't_northbound':q[\"t_northbound\"], \n",
    "                    't_limited': q[\"t_limited\"],\n",
    "                    't_bullet': q['t_bullet']})\n",
    "    return s"
   ]
  },
  {
   "cell_type": "code",
   "execution_count": 8,
   "metadata": {
    "collapsed": false
   },
   "outputs": [
    {
     "name": "stdout",
     "output_type": "stream",
     "text": [
      "red return: 3199\n",
      "ret return, 528\n"
     ]
    },
    {
     "data": {
      "text/html": [
       "<div>\n",
       "<table border=\"1\" class=\"dataframe\">\n",
       "  <thead>\n",
       "    <tr style=\"text-align: right;\">\n",
       "      <th></th>\n",
       "      <th>t_bullet</th>\n",
       "      <th>t_limited</th>\n",
       "      <th>t_northbound</th>\n",
       "      <th>timestamp</th>\n",
       "      <th>train_id</th>\n",
       "      <th>tweet_id</th>\n",
       "    </tr>\n",
       "  </thead>\n",
       "  <tbody>\n",
       "    <tr>\n",
       "      <th>0</th>\n",
       "      <td>0</td>\n",
       "      <td>0</td>\n",
       "      <td>1</td>\n",
       "      <td>2016-01-25 23:42:14</td>\n",
       "      <td>155</td>\n",
       "      <td>691768068385718275</td>\n",
       "    </tr>\n",
       "    <tr>\n",
       "      <th>1</th>\n",
       "      <td>0</td>\n",
       "      <td>0</td>\n",
       "      <td>1</td>\n",
       "      <td>2016-01-22 22:48:57</td>\n",
       "      <td>151</td>\n",
       "      <td>690667494906814464</td>\n",
       "    </tr>\n",
       "    <tr>\n",
       "      <th>2</th>\n",
       "      <td>0</td>\n",
       "      <td>0</td>\n",
       "      <td>1</td>\n",
       "      <td>2016-01-20 22:22:55</td>\n",
       "      <td>151</td>\n",
       "      <td>689936168893329408</td>\n",
       "    </tr>\n",
       "    <tr>\n",
       "      <th>3</th>\n",
       "      <td>0</td>\n",
       "      <td>0</td>\n",
       "      <td>0</td>\n",
       "      <td>2016-01-19 18:08:25</td>\n",
       "      <td>138</td>\n",
       "      <td>689509733640732672</td>\n",
       "    </tr>\n",
       "    <tr>\n",
       "      <th>4</th>\n",
       "      <td>0</td>\n",
       "      <td>1</td>\n",
       "      <td>0</td>\n",
       "      <td>2016-01-19 16:32:04</td>\n",
       "      <td>216</td>\n",
       "      <td>689485484838416388</td>\n",
       "    </tr>\n",
       "  </tbody>\n",
       "</table>\n",
       "</div>"
      ],
      "text/plain": [
       "   t_bullet  t_limited  t_northbound           timestamp  train_id  \\\n",
       "0         0          0             1 2016-01-25 23:42:14       155   \n",
       "1         0          0             1 2016-01-22 22:48:57       151   \n",
       "2         0          0             1 2016-01-20 22:22:55       151   \n",
       "3         0          0             0 2016-01-19 18:08:25       138   \n",
       "4         0          1             0 2016-01-19 16:32:04       216   \n",
       "\n",
       "             tweet_id  \n",
       "0  691768068385718275  \n",
       "1  690667494906814464  \n",
       "2  689936168893329408  \n",
       "3  689509733640732672  \n",
       "4  689485484838416388  "
      ]
     },
     "execution_count": 8,
     "metadata": {},
     "output_type": "execute_result"
    }
   ],
   "source": [
    "# Let's then filter those train topics into details\n",
    "# Btw this is jank as fuck.\n",
    "\n",
    "# red = df[['id','created_at','topic_train']]\n",
    "red = df.apply(lambda x:parse_train(x),axis=1)\n",
    "print \"red return:\",len(red)\n",
    "print \"ret return,\",len(ret)\n",
    "#red\n",
    "tf = pd.DataFrame(ret)\n",
    "tf.head(5)\n",
    "\n",
    "#events = pd.DataFrame([pd.Series(x) for x in red.apply(parse_train)])\n",
    "#events\n",
    "#del new.iloc[0]\n",
    "#new.fillna('')\n",
    "#df.combine_first(new)"
   ]
  },
  {
   "cell_type": "code",
   "execution_count": 9,
   "metadata": {
    "collapsed": false
   },
   "outputs": [
    {
     "name": "stdout",
     "output_type": "stream",
     "text": [
      "              topic_train                                               text\n",
      "2                    '50'  @AemalTheAFGHAN @BKDenverSports We're glad to ...\n",
      "8                    '50'  @iamsridhar we are adding extra trains &amp; c...\n",
      "16                  '155'                  #NB155 is 22 mins late. #Caltrain\n",
      "21                   '50'  RT @smctd: #Caltrain Devs: NEW Super Bowl sche...\n",
      "22               '50', ''  Headed to #SantaClara for #SB50? Visit our SB ...\n",
      "29                   '50'  RT @Broncos: We #BeatThePatriots!\\n\\nSee you i...\n",
      "30                   '50'  We look forward to getting #CAR @Panthers, #DE...\n",
      "32                  '151'        #NB 151 is running 10 mins behind #Caltrain\n",
      "33                     ''  Trains 236-254 will board on the NB platform t...\n",
      "44                  '151'     #NB151 is 10 mins down at San Mateo. #Caltrain\n",
      "51                  '138'  #SB138 will board on the northbound platform a...\n",
      "55    '216', '225', '329'  #SB216 delayed 13 minutes at SAT\\n#NB225 delay...\n",
      "58                  '323'  #NB323 reported car on tracks at Charleston Av...\n",
      "61                   '50'  RT @chMtnViewPD: Stuff to know if you plan on ...\n",
      "72                  '371'  #NB371 is currently 11 mins late at Cal Ave. #...\n",
      "74                  '371'  #NB371 will pass &amp; be ahead of 269 at Redw...\n",
      "75                     ''                     @bassemabdouni the train is NB\n",
      "77                  '371'  #NB371 will depart San Jose on track 2. #Caltrain\n",
      "78                  '269'         #NB269 will depart ahead of 371. #Caltrain\n",
      "93           '217', '319'  #NB217 is 12 mi s late. #NB319 departed SJ ahe...\n",
      "94                  '156'       #SB156 is 10 mins late out of TAM. #Caltrain\n",
      "96                  '150'  #SB150 10 mins late @ SUN due to fare evader. ...\n",
      "102                  '50'  RT @scsb50: We are excited to be working with ...\n",
      "107             '323', ''  #NB323 – 10min late @ SBR. #DoorProblems. #Cal...\n",
      "122                 '366'  375/277 @ PA\\n279 @ MV 86 mins late\\nNB366 alm...\n",
      "127                 '366'                  NB366 currently at MIL. #Caltrain\n",
      "136          '273', '366'  SB273 turned southbound @ SUN.\\n375 &amp; 277 ...\n",
      "143                '', ''  @Awkward_Caiti Some, but problem is the SB tra...\n",
      "156                    ''  273 is turning southbound from Sunnyvale to SJ...\n",
      "157          '375', '277'  #NB375 7 #NB277 coupling at LAW due to crew sh...\n",
      "...                   ...                                                ...\n",
      "3008                '268'  #SB268 held at SJ for #370 PAX transfer due to...\n",
      "3009                '272'  #SB272 – 17 min late @ HIL Due to signal issue...\n",
      "3011                '370'                #SB370 – 11 min late HIL. #Caltrain\n",
      "3014                '151'        #NB151 was 10min late out of BEL. #Caltrain\n",
      "3016                '142'            #SB142 is 12 mins late at PA. #Caltrain\n",
      "3025                '376'  #SB376 - 21mins late @ PA. 376 ran around 274 ...\n",
      "3026                '376'  #SB376 will depart SF approx. 10-15min late du...\n",
      "3028                '156'  #SB156 will be about 15min late into CAP. #Cal...\n",
      "3029                '258'                   #SB258 - 12 mins late. #Caltrain\n",
      "3030                '258'         #SB258 departed SF 12 mins late. #Caltrain\n",
      "3031                '254'               #SB254-14 mins late @ RWC. #Caltrain\n",
      "3032                '155'   #NB155 – 10 min late out of San Mateo. #Caltrain\n",
      "3035                '152'  #SB152-10min late @ RWC. Mechanical delay. #Ca...\n",
      "3039                '146'       #SB146 – 13” mins late out of SMT. #Caltrain\n",
      "3054                '104'                  #SB104 is 23 mins late. #Caltrain\n",
      "3066                '221'    #NB221 is running about 15 mins late. #Caltrain\n",
      "3067                '221'  RT @chenmor3: @Caltrain_News NB221 just arrive...\n",
      "3068                '221'  #NB221 departed Gilroy 11 late. Still rolling ...\n",
      "3070                   ''  Congratulations #DubNation @warriors #BayArea ...\n",
      "3072                '380'  #SB380 reported a near miss with a trespasser ...\n",
      "3077                '269'  #NB269 departed PA 10 LATE. 269 is at bike cap...\n",
      "3082                '142'  #SB142 is 18 mins late out of Millbrae. #Caltrain\n",
      "3107         '440', '442'  Mechanical problem with SB 440. It will return...\n",
      "3108                '371'  RT @BikesOnCaltrain: #NB371 will run with a 5-...\n",
      "3109                '152'                  #SB152 is 11 mins late. #Caltrain\n",
      "3146                '135'  #NB135 is delayed 10 mins out of Redwood City....\n",
      "3149                '323'  RT @BikesOnCaltrain: #NB323 departed San Jose ...\n",
      "3164                '267'          #NB267 stopped at MPK with engine issues.\n",
      "3176                '233'   #NB233 is 10 mins delayed at Millbrae. #Caltrain\n",
      "3188                   ''  Final Twitter Update:\\n274-13 mins late @ LAW\\...\n",
      "\n",
      "[620 rows x 2 columns]\n"
     ]
    }
   ],
   "source": [
    "print df.loc[df['topic_train'] != '',['topic_train','text']]"
   ]
  },
  {
   "cell_type": "code",
   "execution_count": 10,
   "metadata": {
    "collapsed": false
   },
   "outputs": [
    {
     "data": {
      "text/plain": [
       "528"
      ]
     },
     "execution_count": 10,
     "metadata": {},
     "output_type": "execute_result"
    }
   ],
   "source": [
    "len(tf)"
   ]
  },
  {
   "cell_type": "code",
   "execution_count": 11,
   "metadata": {
    "collapsed": false
   },
   "outputs": [],
   "source": [
    "# Merge on tweet ID,\n",
    "df = df.merge(tf, left_on='id',right_on='tweet_id',how='right')"
   ]
  },
  {
   "cell_type": "code",
   "execution_count": null,
   "metadata": {
    "collapsed": true
   },
   "outputs": [],
   "source": [
    "# Okay, let's try and get a yae or nae to delay and see our hit rate."
   ]
  },
  {
   "cell_type": "code",
   "execution_count": 12,
   "metadata": {
    "collapsed": false
   },
   "outputs": [],
   "source": [
    "# Only events that have train mentioned\n",
    "trains = df[df['train_id'] > 0]"
   ]
  },
  {
   "cell_type": "code",
   "execution_count": 16,
   "metadata": {
    "collapsed": false
   },
   "outputs": [],
   "source": [
    "# d\n",
    "filename = \"./data/formated_twts.csv\"\n",
    "df.to_csv(filename, sep=',', encoding='utf-8')"
   ]
  },
  {
   "cell_type": "code",
   "execution_count": null,
   "metadata": {
    "collapsed": true
   },
   "outputs": [],
   "source": []
  }
 ],
 "metadata": {
  "kernelspec": {
   "display_name": "Python 2",
   "language": "python",
   "name": "python2"
  },
  "language_info": {
   "codemirror_mode": {
    "name": "ipython",
    "version": 2
   },
   "file_extension": ".py",
   "mimetype": "text/x-python",
   "name": "python",
   "nbconvert_exporter": "python",
   "pygments_lexer": "ipython2",
   "version": "2.7.11"
  }
 },
 "nbformat": 4,
 "nbformat_minor": 0
}
