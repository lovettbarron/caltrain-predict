{
 "cells": [
  {
   "cell_type": "markdown",
   "metadata": {},
   "source": [
    "Grab as many tweets as we can from the @caltrain_news twitter feed, export to a _raw_ CSV, and to a formatted _csv_ for import into another notebook"
   ]
  },
  {
   "cell_type": "code",
   "execution_count": 16,
   "metadata": {
    "collapsed": false
   },
   "outputs": [],
   "source": [
    "import sys\n",
    "import re\n",
    "import time\n",
    "import datetime\n",
    "# Requires for ipython to pick up on twitter?\n",
    "sys.path.append('/Library/Python/2.7/site-packages/')\n",
    "import twitter\n",
    "import pandas as pd\n",
    "\n",
    "\n",
    "# inline plot\n",
    "%matplotlib inline"
   ]
  },
  {
   "cell_type": "code",
   "execution_count": 2,
   "metadata": {
    "collapsed": false
   },
   "outputs": [],
   "source": [
    "keys = pd.read_csv('keys.csv') # hidden from github\n",
    "\n",
    "api = twitter.Api(consumer_key=keys.iloc[0].string,\n",
    "                 consumer_secret=keys.iloc[1].string,\n",
    "                 access_token_key=keys.iloc[2].string,\n",
    "                 access_token_secret=keys.iloc[3].string)"
   ]
  },
  {
   "cell_type": "code",
   "execution_count": 3,
   "metadata": {
    "collapsed": false,
    "scrolled": true
   },
   "outputs": [
    {
     "data": {
      "text/plain": [
       "<twitter.user.User at 0x103e60210>"
      ]
     },
     "execution_count": 3,
     "metadata": {},
     "output_type": "execute_result"
    }
   ],
   "source": [
    "api.VerifyCredentials()"
   ]
  },
  {
   "cell_type": "code",
   "execution_count": 23,
   "metadata": {
    "collapsed": true
   },
   "outputs": [],
   "source": [
    "api.GetUserTimeline?"
   ]
  },
  {
   "cell_type": "code",
   "execution_count": 48,
   "metadata": {
    "collapsed": false
   },
   "outputs": [],
   "source": [
    "twt = []\n",
    "for i in range(3200/200): # defined by api\n",
    "    if i is 0:\n",
    "        # If the first call, just start from most recent\n",
    "        twt.append(api.GetUserTimeline(screen_name='caltrain_news', count=200))\n",
    "    else:\n",
    "        # If not the first in the lot, grab the last tweet id and continue\n",
    "        next_id = re.search('\\\"id\\\":\\s([0-9]{18})',str(twt[-1][-1]))\n",
    "        twt.append(api.GetUserTimeline(screen_name='caltrain_news', count=200, max_id=next_id.group(1)))\n",
    "    time.sleep(.5)"
   ]
  },
  {
   "cell_type": "code",
   "execution_count": 11,
   "metadata": {
    "collapsed": false
   },
   "outputs": [
    {
     "data": {
      "text/plain": [
       "200"
      ]
     },
     "execution_count": 11,
     "metadata": {},
     "output_type": "execute_result"
    }
   ],
   "source": []
  },
  {
   "cell_type": "code",
   "execution_count": 49,
   "metadata": {
    "collapsed": false
   },
   "outputs": [],
   "source": [
    "# This is a bit clumsy. I'm grabbing batches of up to 200 tweets,\n",
    "# and then need to resort into a flat list, and convert to dicts\n",
    "# on the fly\n",
    "df = pd.DataFrame([t.AsDict() for call in twt for t in call])"
   ]
  },
  {
   "cell_type": "code",
   "execution_count": 50,
   "metadata": {
    "collapsed": false
   },
   "outputs": [
    {
     "data": {
      "text/html": [
       "<div>\n",
       "<table border=\"1\" class=\"dataframe\">\n",
       "  <thead>\n",
       "    <tr style=\"text-align: right;\">\n",
       "      <th></th>\n",
       "      <th>created_at</th>\n",
       "      <th>favorite_count</th>\n",
       "      <th>favorited</th>\n",
       "      <th>hashtags</th>\n",
       "      <th>id</th>\n",
       "      <th>in_reply_to_screen_name</th>\n",
       "      <th>in_reply_to_status_id</th>\n",
       "      <th>in_reply_to_user_id</th>\n",
       "      <th>lang</th>\n",
       "      <th>media</th>\n",
       "      <th>place</th>\n",
       "      <th>retweet_count</th>\n",
       "      <th>retweeted</th>\n",
       "      <th>retweeted_status</th>\n",
       "      <th>source</th>\n",
       "      <th>text</th>\n",
       "      <th>truncated</th>\n",
       "      <th>urls</th>\n",
       "      <th>user</th>\n",
       "      <th>user_mentions</th>\n",
       "    </tr>\n",
       "  </thead>\n",
       "  <tbody>\n",
       "    <tr>\n",
       "      <th>0</th>\n",
       "      <td>Tue Jan 26 20:32:15 +0000 2016</td>\n",
       "      <td>6</td>\n",
       "      <td>False</td>\n",
       "      <td>[SanFrancisco]</td>\n",
       "      <td>692082643022680064</td>\n",
       "      <td>NaN</td>\n",
       "      <td>NaN</td>\n",
       "      <td>NaN</td>\n",
       "      <td>en</td>\n",
       "      <td>[{u'expanded_url': u'http://twitter.com/Caltra...</td>\n",
       "      <td>NaN</td>\n",
       "      <td>7</td>\n",
       "      <td>False</td>\n",
       "      <td>NaN</td>\n",
       "      <td>&lt;a href=\"https://about.twitter.com/products/tw...</td>\n",
       "      <td>NOTICE: Ped &amp;amp; Bike detours in place for Ma...</td>\n",
       "      <td>False</td>\n",
       "      <td>{u'https://t.co/hcYGYF5L5S': u'https://www.sfm...</td>\n",
       "      <td>{u'id': 456808166, u'verified': True, u'profil...</td>\n",
       "      <td>NaN</td>\n",
       "    </tr>\n",
       "    <tr>\n",
       "      <th>1</th>\n",
       "      <td>Tue Jan 26 19:41:32 +0000 2016</td>\n",
       "      <td>NaN</td>\n",
       "      <td>False</td>\n",
       "      <td>NaN</td>\n",
       "      <td>692069881559134208</td>\n",
       "      <td>therealwall</td>\n",
       "      <td>6.920673e+17</td>\n",
       "      <td>46136761</td>\n",
       "      <td>en</td>\n",
       "      <td>NaN</td>\n",
       "      <td>NaN</td>\n",
       "      <td>NaN</td>\n",
       "      <td>False</td>\n",
       "      <td>NaN</td>\n",
       "      <td>&lt;a href=\"https://about.twitter.com/products/tw...</td>\n",
       "      <td>@therealwall After the end of the concert we w...</td>\n",
       "      <td>False</td>\n",
       "      <td>{u'https://t.co/3f9VEAaGTY': u'http://www.calt...</td>\n",
       "      <td>{u'id': 456808166, u'verified': True, u'profil...</td>\n",
       "      <td>[{u'screen_name': u'therealwall', u'id': 46136...</td>\n",
       "    </tr>\n",
       "    <tr>\n",
       "      <th>2</th>\n",
       "      <td>Tue Jan 26 19:28:52 +0000 2016</td>\n",
       "      <td>NaN</td>\n",
       "      <td>False</td>\n",
       "      <td>[SB50]</td>\n",
       "      <td>692066695838498816</td>\n",
       "      <td>AemalTheAFGHAN</td>\n",
       "      <td>6.920578e+17</td>\n",
       "      <td>291505788</td>\n",
       "      <td>en</td>\n",
       "      <td>NaN</td>\n",
       "      <td>NaN</td>\n",
       "      <td>NaN</td>\n",
       "      <td>False</td>\n",
       "      <td>NaN</td>\n",
       "      <td>&lt;a href=\"https://about.twitter.com/products/tw...</td>\n",
       "      <td>@AemalTheAFGHAN @BKDenverSports We're glad to ...</td>\n",
       "      <td>False</td>\n",
       "      <td>{u'https://t.co/fgMOSXplzZ': u'http://www.calt...</td>\n",
       "      <td>{u'id': 456808166, u'verified': True, u'profil...</td>\n",
       "      <td>[{u'screen_name': u'AemalTheAFGHAN', u'id': 29...</td>\n",
       "    </tr>\n",
       "  </tbody>\n",
       "</table>\n",
       "</div>"
      ],
      "text/plain": [
       "                       created_at  favorite_count favorited        hashtags  \\\n",
       "0  Tue Jan 26 20:32:15 +0000 2016               6     False  [SanFrancisco]   \n",
       "1  Tue Jan 26 19:41:32 +0000 2016             NaN     False             NaN   \n",
       "2  Tue Jan 26 19:28:52 +0000 2016             NaN     False          [SB50]   \n",
       "\n",
       "                   id in_reply_to_screen_name  in_reply_to_status_id  \\\n",
       "0  692082643022680064                     NaN                    NaN   \n",
       "1  692069881559134208             therealwall           6.920673e+17   \n",
       "2  692066695838498816          AemalTheAFGHAN           6.920578e+17   \n",
       "\n",
       "   in_reply_to_user_id lang  \\\n",
       "0                  NaN   en   \n",
       "1             46136761   en   \n",
       "2            291505788   en   \n",
       "\n",
       "                                               media place  retweet_count  \\\n",
       "0  [{u'expanded_url': u'http://twitter.com/Caltra...   NaN              7   \n",
       "1                                                NaN   NaN            NaN   \n",
       "2                                                NaN   NaN            NaN   \n",
       "\n",
       "  retweeted retweeted_status  \\\n",
       "0     False              NaN   \n",
       "1     False              NaN   \n",
       "2     False              NaN   \n",
       "\n",
       "                                              source  \\\n",
       "0  <a href=\"https://about.twitter.com/products/tw...   \n",
       "1  <a href=\"https://about.twitter.com/products/tw...   \n",
       "2  <a href=\"https://about.twitter.com/products/tw...   \n",
       "\n",
       "                                                text truncated  \\\n",
       "0  NOTICE: Ped &amp; Bike detours in place for Ma...     False   \n",
       "1  @therealwall After the end of the concert we w...     False   \n",
       "2  @AemalTheAFGHAN @BKDenverSports We're glad to ...     False   \n",
       "\n",
       "                                                urls  \\\n",
       "0  {u'https://t.co/hcYGYF5L5S': u'https://www.sfm...   \n",
       "1  {u'https://t.co/3f9VEAaGTY': u'http://www.calt...   \n",
       "2  {u'https://t.co/fgMOSXplzZ': u'http://www.calt...   \n",
       "\n",
       "                                                user  \\\n",
       "0  {u'id': 456808166, u'verified': True, u'profil...   \n",
       "1  {u'id': 456808166, u'verified': True, u'profil...   \n",
       "2  {u'id': 456808166, u'verified': True, u'profil...   \n",
       "\n",
       "                                       user_mentions  \n",
       "0                                                NaN  \n",
       "1  [{u'screen_name': u'therealwall', u'id': 46136...  \n",
       "2  [{u'screen_name': u'AemalTheAFGHAN', u'id': 29...  "
      ]
     },
     "execution_count": 50,
     "metadata": {},
     "output_type": "execute_result"
    }
   ],
   "source": [
    "df.head(3)"
   ]
  },
  {
   "cell_type": "code",
   "execution_count": 51,
   "metadata": {
    "collapsed": false
   },
   "outputs": [
    {
     "data": {
      "text/html": [
       "<div>\n",
       "<table border=\"1\" class=\"dataframe\">\n",
       "  <thead>\n",
       "    <tr style=\"text-align: right;\">\n",
       "      <th></th>\n",
       "      <th>favorite_count</th>\n",
       "      <th>favorited</th>\n",
       "      <th>id</th>\n",
       "      <th>in_reply_to_status_id</th>\n",
       "      <th>in_reply_to_user_id</th>\n",
       "      <th>retweet_count</th>\n",
       "      <th>retweeted</th>\n",
       "      <th>truncated</th>\n",
       "    </tr>\n",
       "  </thead>\n",
       "  <tbody>\n",
       "    <tr>\n",
       "      <th>count</th>\n",
       "      <td>1509.000000</td>\n",
       "      <td>3199</td>\n",
       "      <td>3.199000e+03</td>\n",
       "      <td>1.270000e+03</td>\n",
       "      <td>1.300000e+03</td>\n",
       "      <td>1946.000000</td>\n",
       "      <td>3199</td>\n",
       "      <td>3199</td>\n",
       "    </tr>\n",
       "    <tr>\n",
       "      <th>mean</th>\n",
       "      <td>3.513585</td>\n",
       "      <td>0</td>\n",
       "      <td>6.484877e+17</td>\n",
       "      <td>6.474381e+17</td>\n",
       "      <td>6.174353e+08</td>\n",
       "      <td>18.703494</td>\n",
       "      <td>0</td>\n",
       "      <td>0</td>\n",
       "    </tr>\n",
       "    <tr>\n",
       "      <th>std</th>\n",
       "      <td>6.693903</td>\n",
       "      <td>0</td>\n",
       "      <td>2.243800e+16</td>\n",
       "      <td>2.323574e+16</td>\n",
       "      <td>1.026750e+09</td>\n",
       "      <td>467.130516</td>\n",
       "      <td>0</td>\n",
       "      <td>0</td>\n",
       "    </tr>\n",
       "    <tr>\n",
       "      <th>min</th>\n",
       "      <td>1.000000</td>\n",
       "      <td>False</td>\n",
       "      <td>6.069953e+17</td>\n",
       "      <td>6.069949e+17</td>\n",
       "      <td>3.632000e+03</td>\n",
       "      <td>1.000000</td>\n",
       "      <td>False</td>\n",
       "      <td>False</td>\n",
       "    </tr>\n",
       "    <tr>\n",
       "      <th>25%</th>\n",
       "      <td>1.000000</td>\n",
       "      <td>0</td>\n",
       "      <td>6.308106e+17</td>\n",
       "      <td>6.265296e+17</td>\n",
       "      <td>2.001160e+07</td>\n",
       "      <td>1.000000</td>\n",
       "      <td>0</td>\n",
       "      <td>0</td>\n",
       "    </tr>\n",
       "    <tr>\n",
       "      <th>50%</th>\n",
       "      <td>2.000000</td>\n",
       "      <td>0</td>\n",
       "      <td>6.497296e+17</td>\n",
       "      <td>6.494642e+17</td>\n",
       "      <td>1.069600e+08</td>\n",
       "      <td>3.000000</td>\n",
       "      <td>0</td>\n",
       "      <td>0</td>\n",
       "    </tr>\n",
       "    <tr>\n",
       "      <th>75%</th>\n",
       "      <td>3.000000</td>\n",
       "      <td>0</td>\n",
       "      <td>6.664330e+17</td>\n",
       "      <td>6.626031e+17</td>\n",
       "      <td>5.472453e+08</td>\n",
       "      <td>4.000000</td>\n",
       "      <td>0</td>\n",
       "      <td>0</td>\n",
       "    </tr>\n",
       "    <tr>\n",
       "      <th>max</th>\n",
       "      <td>116.000000</td>\n",
       "      <td>False</td>\n",
       "      <td>6.920826e+17</td>\n",
       "      <td>6.920673e+17</td>\n",
       "      <td>4.265436e+09</td>\n",
       "      <td>18479.000000</td>\n",
       "      <td>False</td>\n",
       "      <td>False</td>\n",
       "    </tr>\n",
       "  </tbody>\n",
       "</table>\n",
       "</div>"
      ],
      "text/plain": [
       "       favorite_count favorited            id  in_reply_to_status_id  \\\n",
       "count     1509.000000      3199  3.199000e+03           1.270000e+03   \n",
       "mean         3.513585         0  6.484877e+17           6.474381e+17   \n",
       "std          6.693903         0  2.243800e+16           2.323574e+16   \n",
       "min          1.000000     False  6.069953e+17           6.069949e+17   \n",
       "25%          1.000000         0  6.308106e+17           6.265296e+17   \n",
       "50%          2.000000         0  6.497296e+17           6.494642e+17   \n",
       "75%          3.000000         0  6.664330e+17           6.626031e+17   \n",
       "max        116.000000     False  6.920826e+17           6.920673e+17   \n",
       "\n",
       "       in_reply_to_user_id  retweet_count retweeted truncated  \n",
       "count         1.300000e+03    1946.000000      3199      3199  \n",
       "mean          6.174353e+08      18.703494         0         0  \n",
       "std           1.026750e+09     467.130516         0         0  \n",
       "min           3.632000e+03       1.000000     False     False  \n",
       "25%           2.001160e+07       1.000000         0         0  \n",
       "50%           1.069600e+08       3.000000         0         0  \n",
       "75%           5.472453e+08       4.000000         0         0  \n",
       "max           4.265436e+09   18479.000000     False     False  "
      ]
     },
     "execution_count": 51,
     "metadata": {},
     "output_type": "execute_result"
    }
   ],
   "source": [
    "df.describe()"
   ]
  },
  {
   "cell_type": "code",
   "execution_count": 52,
   "metadata": {
    "collapsed": false
   },
   "outputs": [],
   "source": [
    "filename = \"./data/raw-twt{date}.csv\".format(date=datetime.datetime.now().strftime(\"%Y-%m-%d-%H:%M:%S\"))\n",
    "df.to_csv(filename, sep='\\t', encoding='utf-8')"
   ]
  },
  {
   "cell_type": "code",
   "execution_count": 42,
   "metadata": {
    "collapsed": false,
    "scrolled": false
   },
   "outputs": [
    {
     "name": "stdout",
     "output_type": "stream",
     "text": [
      "685529293447802884\n"
     ]
    }
   ],
   "source": [
    "fdf = "
   ]
  },
  {
   "cell_type": "code",
   "execution_count": null,
   "metadata": {
    "collapsed": true
   },
   "outputs": [],
   "source": []
  }
 ],
 "metadata": {
  "kernelspec": {
   "display_name": "Python 2",
   "language": "python",
   "name": "python2"
  },
  "language_info": {
   "codemirror_mode": {
    "name": "ipython",
    "version": 2
   },
   "file_extension": ".py",
   "mimetype": "text/x-python",
   "name": "python",
   "nbconvert_exporter": "python",
   "pygments_lexer": "ipython2",
   "version": "2.7.10"
  }
 },
 "nbformat": 4,
 "nbformat_minor": 0
}
