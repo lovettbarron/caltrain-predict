{
 "cells": [
  {
   "cell_type": "code",
   "execution_count": 1,
   "metadata": {
    "collapsed": false
   },
   "outputs": [
    {
     "name": "stderr",
     "output_type": "stream",
     "text": [
      "/Users/albarron/anaconda/lib/python2.7/site-packages/matplotlib/font_manager.py:273: UserWarning: Matplotlib is building the font cache using fc-list. This may take a moment.\n",
      "  warnings.warn('Matplotlib is building the font cache using fc-list. This may take a moment.')\n"
     ]
    }
   ],
   "source": [
    "import sys\n",
    "import re\n",
    "import time\n",
    "import datetime\n",
    "import pandas as pd\n",
    "import numpy as np\n",
    "import func\n",
    "# inline plot\n",
    "import matplotlib.pyplot as plt\n",
    "%matplotlib inline"
   ]
  },
  {
   "cell_type": "code",
   "execution_count": 2,
   "metadata": {
    "collapsed": false
   },
   "outputs": [
    {
     "name": "stderr",
     "output_type": "stream",
     "text": [
      "/Users/albarron/anaconda/lib/python2.7/site-packages/IPython/core/interactiveshell.py:2902: DtypeWarning: Columns (13) have mixed types. Specify dtype option on import or set low_memory=False.\n",
      "  interactivity=interactivity, compiler=compiler, result=result)\n"
     ]
    }
   ],
   "source": [
    "df = pd.read_csv(\"data/merged_concat_final.csv\",sep='\\t',error_bad_lines=False)"
   ]
  },
  {
   "cell_type": "code",
   "execution_count": 3,
   "metadata": {
    "collapsed": false
   },
   "outputs": [
    {
     "data": {
      "text/html": [
       "<div>\n",
       "<table border=\"1\" class=\"dataframe\">\n",
       "  <thead>\n",
       "    <tr style=\"text-align: right;\">\n",
       "      <th></th>\n",
       "      <th>Unnamed: 0</th>\n",
       "      <th>train_id</th>\n",
       "      <th>stop_pa</th>\n",
       "      <th>t_northbound</th>\n",
       "      <th>temp</th>\n",
       "      <th>precipiation</th>\n",
       "      <th>visability</th>\n",
       "      <th>windspeed</th>\n",
       "      <th>humidity</th>\n",
       "      <th>cloudcover</th>\n",
       "      <th>...</th>\n",
       "      <th>is_mechanical</th>\n",
       "      <th>is_customer</th>\n",
       "      <th>is_event</th>\n",
       "      <th>d_monday</th>\n",
       "      <th>d_tuesday</th>\n",
       "      <th>d_wednesday</th>\n",
       "      <th>d_thursday</th>\n",
       "      <th>d_friday</th>\n",
       "      <th>d_saturday</th>\n",
       "      <th>d_sunday</th>\n",
       "    </tr>\n",
       "  </thead>\n",
       "  <tbody>\n",
       "    <tr>\n",
       "      <th>count</th>\n",
       "      <td>21021.00000</td>\n",
       "      <td>21021.000000</td>\n",
       "      <td>21021.000000</td>\n",
       "      <td>21021.000000</td>\n",
       "      <td>21021.000000</td>\n",
       "      <td>21021.000000</td>\n",
       "      <td>21021.000000</td>\n",
       "      <td>21021.000000</td>\n",
       "      <td>21021.000000</td>\n",
       "      <td>20930.000000</td>\n",
       "      <td>...</td>\n",
       "      <td>21021.000000</td>\n",
       "      <td>21021.000000</td>\n",
       "      <td>21021.000000</td>\n",
       "      <td>21021.000000</td>\n",
       "      <td>21021.000000</td>\n",
       "      <td>21021.000000</td>\n",
       "      <td>21021.000000</td>\n",
       "      <td>21021.000000</td>\n",
       "      <td>21021.000000</td>\n",
       "      <td>21021.000000</td>\n",
       "    </tr>\n",
       "    <tr>\n",
       "      <th>mean</th>\n",
       "      <td>10510.00000</td>\n",
       "      <td>244.307692</td>\n",
       "      <td>0.934066</td>\n",
       "      <td>0.505495</td>\n",
       "      <td>61.473913</td>\n",
       "      <td>0.001153</td>\n",
       "      <td>9.694420</td>\n",
       "      <td>6.252455</td>\n",
       "      <td>0.706762</td>\n",
       "      <td>0.116889</td>\n",
       "      <td>...</td>\n",
       "      <td>0.014937</td>\n",
       "      <td>0.007469</td>\n",
       "      <td>0.003568</td>\n",
       "      <td>0.142857</td>\n",
       "      <td>0.142857</td>\n",
       "      <td>0.142857</td>\n",
       "      <td>0.142857</td>\n",
       "      <td>0.142857</td>\n",
       "      <td>0.142857</td>\n",
       "      <td>0.142857</td>\n",
       "    </tr>\n",
       "    <tr>\n",
       "      <th>std</th>\n",
       "      <td>6068.38434</td>\n",
       "      <td>75.444909</td>\n",
       "      <td>0.248173</td>\n",
       "      <td>0.499982</td>\n",
       "      <td>8.536195</td>\n",
       "      <td>0.004429</td>\n",
       "      <td>0.614016</td>\n",
       "      <td>1.836916</td>\n",
       "      <td>0.093340</td>\n",
       "      <td>0.070111</td>\n",
       "      <td>...</td>\n",
       "      <td>0.121305</td>\n",
       "      <td>0.086100</td>\n",
       "      <td>0.059626</td>\n",
       "      <td>0.349935</td>\n",
       "      <td>0.349935</td>\n",
       "      <td>0.349935</td>\n",
       "      <td>0.349935</td>\n",
       "      <td>0.349935</td>\n",
       "      <td>0.349935</td>\n",
       "      <td>0.349935</td>\n",
       "    </tr>\n",
       "    <tr>\n",
       "      <th>min</th>\n",
       "      <td>0.00000</td>\n",
       "      <td>101.000000</td>\n",
       "      <td>0.000000</td>\n",
       "      <td>0.000000</td>\n",
       "      <td>39.062917</td>\n",
       "      <td>0.000000</td>\n",
       "      <td>7.027083</td>\n",
       "      <td>2.636250</td>\n",
       "      <td>0.351250</td>\n",
       "      <td>0.000000</td>\n",
       "      <td>...</td>\n",
       "      <td>0.000000</td>\n",
       "      <td>0.000000</td>\n",
       "      <td>0.000000</td>\n",
       "      <td>0.000000</td>\n",
       "      <td>0.000000</td>\n",
       "      <td>0.000000</td>\n",
       "      <td>0.000000</td>\n",
       "      <td>0.000000</td>\n",
       "      <td>0.000000</td>\n",
       "      <td>0.000000</td>\n",
       "    </tr>\n",
       "    <tr>\n",
       "      <th>25%</th>\n",
       "      <td>5255.00000</td>\n",
       "      <td>194.000000</td>\n",
       "      <td>1.000000</td>\n",
       "      <td>0.000000</td>\n",
       "      <td>54.358750</td>\n",
       "      <td>0.000000</td>\n",
       "      <td>9.734167</td>\n",
       "      <td>4.836800</td>\n",
       "      <td>0.653333</td>\n",
       "      <td>0.060000</td>\n",
       "      <td>...</td>\n",
       "      <td>0.000000</td>\n",
       "      <td>0.000000</td>\n",
       "      <td>0.000000</td>\n",
       "      <td>0.000000</td>\n",
       "      <td>0.000000</td>\n",
       "      <td>0.000000</td>\n",
       "      <td>0.000000</td>\n",
       "      <td>0.000000</td>\n",
       "      <td>0.000000</td>\n",
       "      <td>0.000000</td>\n",
       "    </tr>\n",
       "    <tr>\n",
       "      <th>50%</th>\n",
       "      <td>10510.00000</td>\n",
       "      <td>236.000000</td>\n",
       "      <td>1.000000</td>\n",
       "      <td>1.000000</td>\n",
       "      <td>64.510833</td>\n",
       "      <td>0.000000</td>\n",
       "      <td>9.992083</td>\n",
       "      <td>6.349167</td>\n",
       "      <td>0.713750</td>\n",
       "      <td>0.114067</td>\n",
       "      <td>...</td>\n",
       "      <td>0.000000</td>\n",
       "      <td>0.000000</td>\n",
       "      <td>0.000000</td>\n",
       "      <td>0.000000</td>\n",
       "      <td>0.000000</td>\n",
       "      <td>0.000000</td>\n",
       "      <td>0.000000</td>\n",
       "      <td>0.000000</td>\n",
       "      <td>0.000000</td>\n",
       "      <td>0.000000</td>\n",
       "    </tr>\n",
       "    <tr>\n",
       "      <th>75%</th>\n",
       "      <td>15765.00000</td>\n",
       "      <td>289.000000</td>\n",
       "      <td>1.000000</td>\n",
       "      <td>1.000000</td>\n",
       "      <td>67.650833</td>\n",
       "      <td>0.000000</td>\n",
       "      <td>10.000000</td>\n",
       "      <td>7.472500</td>\n",
       "      <td>0.765417</td>\n",
       "      <td>0.166250</td>\n",
       "      <td>...</td>\n",
       "      <td>0.000000</td>\n",
       "      <td>0.000000</td>\n",
       "      <td>0.000000</td>\n",
       "      <td>0.000000</td>\n",
       "      <td>0.000000</td>\n",
       "      <td>0.000000</td>\n",
       "      <td>0.000000</td>\n",
       "      <td>0.000000</td>\n",
       "      <td>0.000000</td>\n",
       "      <td>0.000000</td>\n",
       "    </tr>\n",
       "    <tr>\n",
       "      <th>max</th>\n",
       "      <td>21020.00000</td>\n",
       "      <td>386.000000</td>\n",
       "      <td>1.000000</td>\n",
       "      <td>1.000000</td>\n",
       "      <td>77.026250</td>\n",
       "      <td>0.046133</td>\n",
       "      <td>10.000000</td>\n",
       "      <td>12.565417</td>\n",
       "      <td>0.924583</td>\n",
       "      <td>0.310000</td>\n",
       "      <td>...</td>\n",
       "      <td>1.000000</td>\n",
       "      <td>1.000000</td>\n",
       "      <td>1.000000</td>\n",
       "      <td>1.000000</td>\n",
       "      <td>1.000000</td>\n",
       "      <td>1.000000</td>\n",
       "      <td>1.000000</td>\n",
       "      <td>1.000000</td>\n",
       "      <td>1.000000</td>\n",
       "      <td>1.000000</td>\n",
       "    </tr>\n",
       "  </tbody>\n",
       "</table>\n",
       "<p>8 rows × 32 columns</p>\n",
       "</div>"
      ],
      "text/plain": [
       "        Unnamed: 0      train_id       stop_pa  t_northbound          temp  \\\n",
       "count  21021.00000  21021.000000  21021.000000  21021.000000  21021.000000   \n",
       "mean   10510.00000    244.307692      0.934066      0.505495     61.473913   \n",
       "std     6068.38434     75.444909      0.248173      0.499982      8.536195   \n",
       "min        0.00000    101.000000      0.000000      0.000000     39.062917   \n",
       "25%     5255.00000    194.000000      1.000000      0.000000     54.358750   \n",
       "50%    10510.00000    236.000000      1.000000      1.000000     64.510833   \n",
       "75%    15765.00000    289.000000      1.000000      1.000000     67.650833   \n",
       "max    21020.00000    386.000000      1.000000      1.000000     77.026250   \n",
       "\n",
       "       precipiation    visability     windspeed      humidity    cloudcover  \\\n",
       "count  21021.000000  21021.000000  21021.000000  21021.000000  20930.000000   \n",
       "mean       0.001153      9.694420      6.252455      0.706762      0.116889   \n",
       "std        0.004429      0.614016      1.836916      0.093340      0.070111   \n",
       "min        0.000000      7.027083      2.636250      0.351250      0.000000   \n",
       "25%        0.000000      9.734167      4.836800      0.653333      0.060000   \n",
       "50%        0.000000      9.992083      6.349167      0.713750      0.114067   \n",
       "75%        0.000000     10.000000      7.472500      0.765417      0.166250   \n",
       "max        0.046133     10.000000     12.565417      0.924583      0.310000   \n",
       "\n",
       "           ...       is_mechanical   is_customer      is_event      d_monday  \\\n",
       "count      ...        21021.000000  21021.000000  21021.000000  21021.000000   \n",
       "mean       ...            0.014937      0.007469      0.003568      0.142857   \n",
       "std        ...            0.121305      0.086100      0.059626      0.349935   \n",
       "min        ...            0.000000      0.000000      0.000000      0.000000   \n",
       "25%        ...            0.000000      0.000000      0.000000      0.000000   \n",
       "50%        ...            0.000000      0.000000      0.000000      0.000000   \n",
       "75%        ...            0.000000      0.000000      0.000000      0.000000   \n",
       "max        ...            1.000000      1.000000      1.000000      1.000000   \n",
       "\n",
       "          d_tuesday   d_wednesday    d_thursday      d_friday    d_saturday  \\\n",
       "count  21021.000000  21021.000000  21021.000000  21021.000000  21021.000000   \n",
       "mean       0.142857      0.142857      0.142857      0.142857      0.142857   \n",
       "std        0.349935      0.349935      0.349935      0.349935      0.349935   \n",
       "min        0.000000      0.000000      0.000000      0.000000      0.000000   \n",
       "25%        0.000000      0.000000      0.000000      0.000000      0.000000   \n",
       "50%        0.000000      0.000000      0.000000      0.000000      0.000000   \n",
       "75%        0.000000      0.000000      0.000000      0.000000      0.000000   \n",
       "max        1.000000      1.000000      1.000000      1.000000      1.000000   \n",
       "\n",
       "           d_sunday  \n",
       "count  21021.000000  \n",
       "mean       0.142857  \n",
       "std        0.349935  \n",
       "min        0.000000  \n",
       "25%        0.000000  \n",
       "50%        0.000000  \n",
       "75%        0.000000  \n",
       "max        1.000000  \n",
       "\n",
       "[8 rows x 32 columns]"
      ]
     },
     "execution_count": 3,
     "metadata": {},
     "output_type": "execute_result"
    }
   ],
   "source": [
    "df.describe()"
   ]
  },
  {
   "cell_type": "code",
   "execution_count": null,
   "metadata": {
    "collapsed": true
   },
   "outputs": [],
   "source": [
    "df[['del_min','del_med','del_maj','del_cat']].sum()"
   ]
  },
  {
   "cell_type": "code",
   "execution_count": 4,
   "metadata": {
    "collapsed": false
   },
   "outputs": [],
   "source": [
    "del df['Unnamed: 0']"
   ]
  },
  {
   "cell_type": "code",
   "execution_count": 5,
   "metadata": {
    "collapsed": false
   },
   "outputs": [
    {
     "data": {
      "text/plain": [
       "(21021, 33)"
      ]
     },
     "execution_count": 5,
     "metadata": {},
     "output_type": "execute_result"
    }
   ],
   "source": [
    "df.shape"
   ]
  },
  {
   "cell_type": "code",
   "execution_count": 6,
   "metadata": {
    "collapsed": false
   },
   "outputs": [],
   "source": [
    "df.set_index('timestamp')\n",
    "df['timestamp'] = pd.to_datetime(df['timestamp'],format=\"%Y-%m-%d %H:%M:%S\")"
   ]
  },
  {
   "cell_type": "code",
   "execution_count": 7,
   "metadata": {
    "collapsed": true
   },
   "outputs": [],
   "source": [
    "def delay_to_ordinal(r):\n",
    "    v = 0\n",
    "    v = 1 if r['del_min'] == 1 else 0\n",
    "    v = 2 if r['del_med'] == 1 else 0\n",
    "    v = 3 if r['del_maj'] == 1 else 0\n",
    "    v = 4 if r['del_cat'] == 1 else 0\n",
    "    return v\n",
    "\n",
    "df['ord_del'] = df.apply(lambda x:delay_to_ordinal(x),axis=1)"
   ]
  },
  {
   "cell_type": "code",
   "execution_count": 8,
   "metadata": {
    "collapsed": false
   },
   "outputs": [],
   "source": [
    "only_delay = df[(df['is_delay']==1)]"
   ]
  },
  {
   "cell_type": "code",
   "execution_count": 9,
   "metadata": {
    "collapsed": false
   },
   "outputs": [
    {
     "data": {
      "text/plain": [
       "array([0, 4])"
      ]
     },
     "execution_count": 9,
     "metadata": {},
     "output_type": "execute_result"
    }
   ],
   "source": [
    "only_delay['ord_del'].unique()"
   ]
  },
  {
   "cell_type": "code",
   "execution_count": 10,
   "metadata": {
    "collapsed": false
   },
   "outputs": [
    {
     "data": {
      "text/plain": [
       "<matplotlib.axes._subplots.AxesSubplot at 0x10b31ad10>"
      ]
     },
     "execution_count": 10,
     "metadata": {},
     "output_type": "execute_result"
    },
    {
     "data": {
      "image/png": "[encoded data removed]",
      "text/plain": [
       "<matplotlib.figure.Figure at 0x10b2fbad0>"
      ]
     },
     "metadata": {},
     "output_type": "display_data"
    }
   ],
   "source": [
    "only_delay.plot(x=['timestamp'],y='ord_del')"
   ]
  },
  {
   "cell_type": "code",
   "execution_count": 11,
   "metadata": {
    "collapsed": false
   },
   "outputs": [
    {
     "data": {
      "text/plain": [
       "train_id                float64\n",
       "stop_pa                 float64\n",
       "t_northbound            float64\n",
       "timestamp        datetime64[ns]\n",
       "temp                    float64\n",
       "precipiation            float64\n",
       "visability              float64\n",
       "windspeed               float64\n",
       "humidity                float64\n",
       "cloudcover              float64\n",
       "is_bullet                 int64\n",
       "is_limited                int64\n",
       "tweet_id                 object\n",
       "is_delay                  int64\n",
       "del_min                   int64\n",
       "del_med                   int64\n",
       "del_maj                   int64\n",
       "del_cat                   int64\n",
       "is_backlog                int64\n",
       "is_canceled               int64\n",
       "is_passing                int64\n",
       "is_accident               int64\n",
       "is_medical                int64\n",
       "is_mechanical             int64\n",
       "is_customer               int64\n",
       "is_event                  int64\n",
       "d_monday                  int64\n",
       "d_tuesday                 int64\n",
       "d_wednesday               int64\n",
       "d_thursday                int64\n",
       "d_friday                  int64\n",
       "d_saturday                int64\n",
       "d_sunday                  int64\n",
       "ord_del                   int64\n",
       "dtype: object"
      ]
     },
     "execution_count": 11,
     "metadata": {},
     "output_type": "execute_result"
    }
   ],
   "source": [
    "df.dtypes"
   ]
  },
  {
   "cell_type": "code",
   "execution_count": 12,
   "metadata": {
    "collapsed": false
   },
   "outputs": [
    {
     "name": "stdout",
     "output_type": "stream",
     "text": [
      "9.53846153846 %\n"
     ]
    }
   ],
   "source": [
    "print (df['del_cat'].sum()/float(df['is_delay'].sum()))*100 , '%'"
   ]
  },
  {
   "cell_type": "code",
   "execution_count": 13,
   "metadata": {
    "collapsed": false
   },
   "outputs": [
    {
     "data": {
      "text/plain": [
       "dtype('<M8[ns]')"
      ]
     },
     "execution_count": 13,
     "metadata": {},
     "output_type": "execute_result"
    }
   ],
   "source": [
    "df['timestamp'].dtype"
   ]
  },
  {
   "cell_type": "code",
   "execution_count": 14,
   "metadata": {
    "collapsed": true
   },
   "outputs": [],
   "source": [
    "# Non Delay Specific\n",
    "features = df.columns.values\n",
    "X = df[['temp','precipiation',\n",
    "        'visability','windspeed','humidity','cloudcover',\n",
    "        'is_bullet','is_limited','t_northbound',\n",
    "       'd_monday','d_tuesday','d_wednesday','d_thursday','d_friday','d_saturday']]\n",
    "# del X['is_delay']\n",
    "# del X['tweet_id']\n",
    "# X['timestamp'] = X['timestamp'].apply(lambda x: (np.datetime64(x).astype('uint64') / 1e6).astype('uint32'))\n",
    "y = df['is_delay']"
   ]
  },
  {
   "cell_type": "code",
   "execution_count": 15,
   "metadata": {
    "collapsed": false
   },
   "outputs": [],
   "source": [
    "# Non Delay Specific\n",
    "features = df.columns.values\n",
    "X = df[['temp','precipiation',\n",
    "        'visability','windspeed','humidity','cloudcover',\n",
    "        'is_bullet','is_limited','t_northbound',\n",
    "       'd_monday','d_tuesday','d_wednesday','d_thursday','d_friday','d_saturday']]\n",
    "# del X['is_delay']\n",
    "# del X['tweet_id']\n",
    "# X['timestamp'] = X['timestamp'].apply(lambda x: (np.datetime64(x).astype('uint64') / 1e6).astype('uint32'))\n",
    "y = df['is_delay']"
   ]
  },
  {
   "cell_type": "code",
   "execution_count": 16,
   "metadata": {
    "collapsed": false
   },
   "outputs": [],
   "source": [
    "# X.fillna(0)\n",
    "# X.set_index('timestamp')"
   ]
  },
  {
   "cell_type": "code",
   "execution_count": 17,
   "metadata": {
    "collapsed": false
   },
   "outputs": [
    {
     "name": "stderr",
     "output_type": "stream",
     "text": [
      "/Users/albarron/anaconda/lib/python2.7/site-packages/ipykernel/__main__.py:4: SettingWithCopyWarning: \n",
      "A value is trying to be set on a copy of a slice from a DataFrame.\n",
      "Try using .loc[row_indexer,col_indexer] = value instead\n",
      "\n",
      "See the caveats in the documentation: http://pandas.pydata.org/pandas-docs/stable/indexing.html#indexing-view-versus-copy\n"
     ]
    },
    {
     "data": {
      "text/plain": [
       "temp            float64\n",
       "precipiation    float64\n",
       "visability      float64\n",
       "windspeed       float64\n",
       "humidity        float64\n",
       "cloudcover      float64\n",
       "is_bullet         int64\n",
       "is_limited        int64\n",
       "t_northbound      int64\n",
       "d_monday          int64\n",
       "d_tuesday         int64\n",
       "d_wednesday       int64\n",
       "d_thursday        int64\n",
       "d_friday          int64\n",
       "d_saturday        int64\n",
       "dtype: object"
      ]
     },
     "execution_count": 17,
     "metadata": {},
     "output_type": "execute_result"
    }
   ],
   "source": [
    "# X['timestamp'] = X['timestamp'].apply(lambda x:int(x))\n",
    "# X['stop_pa'] = X['stop_pa'].apply(lambda x:int(x))\n",
    "# X['train_id'] = X['train_id'].apply(lambda x:int(x))\n",
    "X['t_northbound'] = X['t_northbound'].apply(lambda x:int(x))\n",
    "X.dtypes"
   ]
  },
  {
   "cell_type": "code",
   "execution_count": 18,
   "metadata": {
    "collapsed": false
   },
   "outputs": [],
   "source": [
    "# del X['timestamp']\n"
   ]
  },
  {
   "cell_type": "code",
   "execution_count": 19,
   "metadata": {
    "collapsed": false
   },
   "outputs": [
    {
     "data": {
      "text/plain": [
       "0.11688896815685519"
      ]
     },
     "execution_count": 19,
     "metadata": {},
     "output_type": "execute_result"
    }
   ],
   "source": [
    "X['cloudcover'].mean()"
   ]
  },
  {
   "cell_type": "code",
   "execution_count": 20,
   "metadata": {
    "collapsed": false
   },
   "outputs": [
    {
     "name": "stderr",
     "output_type": "stream",
     "text": [
      "/Users/albarron/anaconda/lib/python2.7/site-packages/ipykernel/__main__.py:1: SettingWithCopyWarning: \n",
      "A value is trying to be set on a copy of a slice from a DataFrame.\n",
      "Try using .loc[row_indexer,col_indexer] = value instead\n",
      "\n",
      "See the caveats in the documentation: http://pandas.pydata.org/pandas-docs/stable/indexing.html#indexing-view-versus-copy\n",
      "  if __name__ == '__main__':\n"
     ]
    }
   ],
   "source": [
    "X['cloudcover'] = X['cloudcover'].fillna(X['cloudcover'].mean())"
   ]
  },
  {
   "cell_type": "code",
   "execution_count": 21,
   "metadata": {
    "collapsed": false
   },
   "outputs": [
    {
     "data": {
      "text/plain": [
       "temp            0\n",
       "precipiation    0\n",
       "visability      0\n",
       "windspeed       0\n",
       "humidity        0\n",
       "cloudcover      0\n",
       "is_bullet       0\n",
       "is_limited      0\n",
       "t_northbound    0\n",
       "d_monday        0\n",
       "d_tuesday       0\n",
       "d_wednesday     0\n",
       "d_thursday      0\n",
       "d_friday        0\n",
       "d_saturday      0\n",
       "dtype: int64"
      ]
     },
     "execution_count": 21,
     "metadata": {},
     "output_type": "execute_result"
    }
   ],
   "source": [
    "X.isnull().sum()"
   ]
  },
  {
   "cell_type": "code",
   "execution_count": 22,
   "metadata": {
    "collapsed": false
   },
   "outputs": [
    {
     "data": {
      "text/html": [
       "<div>\n",
       "<table border=\"1\" class=\"dataframe\">\n",
       "  <thead>\n",
       "    <tr style=\"text-align: right;\">\n",
       "      <th></th>\n",
       "      <th>is_delay</th>\n",
       "      <th>temp</th>\n",
       "      <th>precipiation</th>\n",
       "      <th>visability</th>\n",
       "      <th>windspeed</th>\n",
       "      <th>humidity</th>\n",
       "      <th>cloudcover</th>\n",
       "      <th>is_bullet</th>\n",
       "      <th>is_limited</th>\n",
       "      <th>t_northbound</th>\n",
       "      <th>d_monday</th>\n",
       "      <th>d_tuesday</th>\n",
       "      <th>d_wednesday</th>\n",
       "      <th>d_thursday</th>\n",
       "      <th>d_friday</th>\n",
       "      <th>d_saturday</th>\n",
       "    </tr>\n",
       "  </thead>\n",
       "  <tbody>\n",
       "    <tr>\n",
       "      <th>is_delay</th>\n",
       "      <td>1.0000</td>\n",
       "      <td>0.0992</td>\n",
       "      <td>-0.0253</td>\n",
       "      <td>-0.1089</td>\n",
       "      <td>0.0995</td>\n",
       "      <td>0.0548</td>\n",
       "      <td>0.0112</td>\n",
       "      <td>0.4993</td>\n",
       "      <td>0.6565</td>\n",
       "      <td>-0.0042</td>\n",
       "      <td>0.0378</td>\n",
       "      <td>0.0284</td>\n",
       "      <td>0.0111</td>\n",
       "      <td>-0.0172</td>\n",
       "      <td>-0.0187</td>\n",
       "      <td>-0.0187</td>\n",
       "    </tr>\n",
       "    <tr>\n",
       "      <th>temp</th>\n",
       "      <td>0.0992</td>\n",
       "      <td>1.0000</td>\n",
       "      <td>-0.2092</td>\n",
       "      <td>0.1197</td>\n",
       "      <td>0.3330</td>\n",
       "      <td>-0.3455</td>\n",
       "      <td>-0.1587</td>\n",
       "      <td>0.0502</td>\n",
       "      <td>0.0667</td>\n",
       "      <td>0.0000</td>\n",
       "      <td>0.0291</td>\n",
       "      <td>0.0153</td>\n",
       "      <td>-0.0073</td>\n",
       "      <td>-0.0066</td>\n",
       "      <td>-0.0055</td>\n",
       "      <td>-0.0195</td>\n",
       "    </tr>\n",
       "    <tr>\n",
       "      <th>precipiation</th>\n",
       "      <td>-0.0253</td>\n",
       "      <td>-0.2092</td>\n",
       "      <td>1.0000</td>\n",
       "      <td>-0.4591</td>\n",
       "      <td>0.2003</td>\n",
       "      <td>0.3036</td>\n",
       "      <td>0.3655</td>\n",
       "      <td>-0.0137</td>\n",
       "      <td>-0.0182</td>\n",
       "      <td>0.0000</td>\n",
       "      <td>0.1495</td>\n",
       "      <td>0.0403</td>\n",
       "      <td>-0.0305</td>\n",
       "      <td>-0.0394</td>\n",
       "      <td>-0.0507</td>\n",
       "      <td>-0.0682</td>\n",
       "    </tr>\n",
       "    <tr>\n",
       "      <th>visability</th>\n",
       "      <td>-0.1089</td>\n",
       "      <td>0.1197</td>\n",
       "      <td>-0.4591</td>\n",
       "      <td>1.0000</td>\n",
       "      <td>-0.1198</td>\n",
       "      <td>-0.4278</td>\n",
       "      <td>-0.3435</td>\n",
       "      <td>-0.0568</td>\n",
       "      <td>-0.0797</td>\n",
       "      <td>-0.0000</td>\n",
       "      <td>-0.1926</td>\n",
       "      <td>-0.0426</td>\n",
       "      <td>0.0834</td>\n",
       "      <td>0.0288</td>\n",
       "      <td>0.1302</td>\n",
       "      <td>-0.0170</td>\n",
       "    </tr>\n",
       "    <tr>\n",
       "      <th>windspeed</th>\n",
       "      <td>0.0995</td>\n",
       "      <td>0.3330</td>\n",
       "      <td>0.2003</td>\n",
       "      <td>-0.1198</td>\n",
       "      <td>1.0000</td>\n",
       "      <td>-0.0040</td>\n",
       "      <td>0.2527</td>\n",
       "      <td>0.0521</td>\n",
       "      <td>0.0706</td>\n",
       "      <td>0.0000</td>\n",
       "      <td>0.0803</td>\n",
       "      <td>0.0459</td>\n",
       "      <td>-0.0104</td>\n",
       "      <td>-0.0430</td>\n",
       "      <td>-0.0406</td>\n",
       "      <td>-0.0745</td>\n",
       "    </tr>\n",
       "    <tr>\n",
       "      <th>humidity</th>\n",
       "      <td>0.0548</td>\n",
       "      <td>-0.3455</td>\n",
       "      <td>0.3036</td>\n",
       "      <td>-0.4278</td>\n",
       "      <td>-0.0040</td>\n",
       "      <td>1.0000</td>\n",
       "      <td>0.4875</td>\n",
       "      <td>0.0273</td>\n",
       "      <td>0.0388</td>\n",
       "      <td>-0.0000</td>\n",
       "      <td>0.0289</td>\n",
       "      <td>-0.0012</td>\n",
       "      <td>-0.0128</td>\n",
       "      <td>0.0151</td>\n",
       "      <td>-0.0482</td>\n",
       "      <td>0.0166</td>\n",
       "    </tr>\n",
       "    <tr>\n",
       "      <th>cloudcover</th>\n",
       "      <td>0.0112</td>\n",
       "      <td>-0.1587</td>\n",
       "      <td>0.3655</td>\n",
       "      <td>-0.3435</td>\n",
       "      <td>0.2527</td>\n",
       "      <td>0.4875</td>\n",
       "      <td>1.0000</td>\n",
       "      <td>0.0048</td>\n",
       "      <td>0.0072</td>\n",
       "      <td>0.0000</td>\n",
       "      <td>0.0756</td>\n",
       "      <td>-0.0111</td>\n",
       "      <td>-0.0138</td>\n",
       "      <td>-0.0483</td>\n",
       "      <td>-0.0215</td>\n",
       "      <td>-0.0150</td>\n",
       "    </tr>\n",
       "    <tr>\n",
       "      <th>is_bullet</th>\n",
       "      <td>0.4993</td>\n",
       "      <td>0.0502</td>\n",
       "      <td>-0.0137</td>\n",
       "      <td>-0.0568</td>\n",
       "      <td>0.0521</td>\n",
       "      <td>0.0273</td>\n",
       "      <td>0.0048</td>\n",
       "      <td>1.0000</td>\n",
       "      <td>-0.0112</td>\n",
       "      <td>-0.0063</td>\n",
       "      <td>0.0197</td>\n",
       "      <td>0.0137</td>\n",
       "      <td>0.0047</td>\n",
       "      <td>-0.0088</td>\n",
       "      <td>-0.0088</td>\n",
       "      <td>-0.0088</td>\n",
       "    </tr>\n",
       "    <tr>\n",
       "      <th>is_limited</th>\n",
       "      <td>0.6565</td>\n",
       "      <td>0.0667</td>\n",
       "      <td>-0.0182</td>\n",
       "      <td>-0.0797</td>\n",
       "      <td>0.0706</td>\n",
       "      <td>0.0388</td>\n",
       "      <td>0.0072</td>\n",
       "      <td>-0.0112</td>\n",
       "      <td>1.0000</td>\n",
       "      <td>-0.0010</td>\n",
       "      <td>0.0228</td>\n",
       "      <td>0.0160</td>\n",
       "      <td>0.0071</td>\n",
       "      <td>-0.0109</td>\n",
       "      <td>-0.0109</td>\n",
       "      <td>-0.0109</td>\n",
       "    </tr>\n",
       "    <tr>\n",
       "      <th>t_northbound</th>\n",
       "      <td>-0.0042</td>\n",
       "      <td>0.0000</td>\n",
       "      <td>0.0000</td>\n",
       "      <td>-0.0000</td>\n",
       "      <td>0.0000</td>\n",
       "      <td>-0.0000</td>\n",
       "      <td>0.0000</td>\n",
       "      <td>-0.0063</td>\n",
       "      <td>-0.0010</td>\n",
       "      <td>1.0000</td>\n",
       "      <td>-0.0000</td>\n",
       "      <td>-0.0000</td>\n",
       "      <td>-0.0000</td>\n",
       "      <td>-0.0000</td>\n",
       "      <td>-0.0000</td>\n",
       "      <td>-0.0000</td>\n",
       "    </tr>\n",
       "    <tr>\n",
       "      <th>d_monday</th>\n",
       "      <td>0.0378</td>\n",
       "      <td>0.0291</td>\n",
       "      <td>0.1495</td>\n",
       "      <td>-0.1926</td>\n",
       "      <td>0.0803</td>\n",
       "      <td>0.0289</td>\n",
       "      <td>0.0756</td>\n",
       "      <td>0.0197</td>\n",
       "      <td>0.0228</td>\n",
       "      <td>-0.0000</td>\n",
       "      <td>1.0000</td>\n",
       "      <td>-0.1667</td>\n",
       "      <td>-0.1667</td>\n",
       "      <td>-0.1667</td>\n",
       "      <td>-0.1667</td>\n",
       "      <td>-0.1667</td>\n",
       "    </tr>\n",
       "    <tr>\n",
       "      <th>d_tuesday</th>\n",
       "      <td>0.0284</td>\n",
       "      <td>0.0153</td>\n",
       "      <td>0.0403</td>\n",
       "      <td>-0.0426</td>\n",
       "      <td>0.0459</td>\n",
       "      <td>-0.0012</td>\n",
       "      <td>-0.0111</td>\n",
       "      <td>0.0137</td>\n",
       "      <td>0.0160</td>\n",
       "      <td>-0.0000</td>\n",
       "      <td>-0.1667</td>\n",
       "      <td>1.0000</td>\n",
       "      <td>-0.1667</td>\n",
       "      <td>-0.1667</td>\n",
       "      <td>-0.1667</td>\n",
       "      <td>-0.1667</td>\n",
       "    </tr>\n",
       "    <tr>\n",
       "      <th>d_wednesday</th>\n",
       "      <td>0.0111</td>\n",
       "      <td>-0.0073</td>\n",
       "      <td>-0.0305</td>\n",
       "      <td>0.0834</td>\n",
       "      <td>-0.0104</td>\n",
       "      <td>-0.0128</td>\n",
       "      <td>-0.0138</td>\n",
       "      <td>0.0047</td>\n",
       "      <td>0.0071</td>\n",
       "      <td>-0.0000</td>\n",
       "      <td>-0.1667</td>\n",
       "      <td>-0.1667</td>\n",
       "      <td>1.0000</td>\n",
       "      <td>-0.1667</td>\n",
       "      <td>-0.1667</td>\n",
       "      <td>-0.1667</td>\n",
       "    </tr>\n",
       "    <tr>\n",
       "      <th>d_thursday</th>\n",
       "      <td>-0.0172</td>\n",
       "      <td>-0.0066</td>\n",
       "      <td>-0.0394</td>\n",
       "      <td>0.0288</td>\n",
       "      <td>-0.0430</td>\n",
       "      <td>0.0151</td>\n",
       "      <td>-0.0483</td>\n",
       "      <td>-0.0088</td>\n",
       "      <td>-0.0109</td>\n",
       "      <td>-0.0000</td>\n",
       "      <td>-0.1667</td>\n",
       "      <td>-0.1667</td>\n",
       "      <td>-0.1667</td>\n",
       "      <td>1.0000</td>\n",
       "      <td>-0.1667</td>\n",
       "      <td>-0.1667</td>\n",
       "    </tr>\n",
       "    <tr>\n",
       "      <th>d_friday</th>\n",
       "      <td>-0.0187</td>\n",
       "      <td>-0.0055</td>\n",
       "      <td>-0.0507</td>\n",
       "      <td>0.1302</td>\n",
       "      <td>-0.0406</td>\n",
       "      <td>-0.0482</td>\n",
       "      <td>-0.0215</td>\n",
       "      <td>-0.0088</td>\n",
       "      <td>-0.0109</td>\n",
       "      <td>-0.0000</td>\n",
       "      <td>-0.1667</td>\n",
       "      <td>-0.1667</td>\n",
       "      <td>-0.1667</td>\n",
       "      <td>-0.1667</td>\n",
       "      <td>1.0000</td>\n",
       "      <td>-0.1667</td>\n",
       "    </tr>\n",
       "    <tr>\n",
       "      <th>d_saturday</th>\n",
       "      <td>-0.0187</td>\n",
       "      <td>-0.0195</td>\n",
       "      <td>-0.0682</td>\n",
       "      <td>-0.0170</td>\n",
       "      <td>-0.0745</td>\n",
       "      <td>0.0166</td>\n",
       "      <td>-0.0150</td>\n",
       "      <td>-0.0088</td>\n",
       "      <td>-0.0109</td>\n",
       "      <td>-0.0000</td>\n",
       "      <td>-0.1667</td>\n",
       "      <td>-0.1667</td>\n",
       "      <td>-0.1667</td>\n",
       "      <td>-0.1667</td>\n",
       "      <td>-0.1667</td>\n",
       "      <td>1.0000</td>\n",
       "    </tr>\n",
       "  </tbody>\n",
       "</table>\n",
       "</div>"
      ],
      "text/plain": [
       "              is_delay    temp  precipiation  visability  windspeed  humidity  \\\n",
       "is_delay        1.0000  0.0992       -0.0253     -0.1089     0.0995    0.0548   \n",
       "temp            0.0992  1.0000       -0.2092      0.1197     0.3330   -0.3455   \n",
       "precipiation   -0.0253 -0.2092        1.0000     -0.4591     0.2003    0.3036   \n",
       "visability     -0.1089  0.1197       -0.4591      1.0000    -0.1198   -0.4278   \n",
       "windspeed       0.0995  0.3330        0.2003     -0.1198     1.0000   -0.0040   \n",
       "humidity        0.0548 -0.3455        0.3036     -0.4278    -0.0040    1.0000   \n",
       "cloudcover      0.0112 -0.1587        0.3655     -0.3435     0.2527    0.4875   \n",
       "is_bullet       0.4993  0.0502       -0.0137     -0.0568     0.0521    0.0273   \n",
       "is_limited      0.6565  0.0667       -0.0182     -0.0797     0.0706    0.0388   \n",
       "t_northbound   -0.0042  0.0000        0.0000     -0.0000     0.0000   -0.0000   \n",
       "d_monday        0.0378  0.0291        0.1495     -0.1926     0.0803    0.0289   \n",
       "d_tuesday       0.0284  0.0153        0.0403     -0.0426     0.0459   -0.0012   \n",
       "d_wednesday     0.0111 -0.0073       -0.0305      0.0834    -0.0104   -0.0128   \n",
       "d_thursday     -0.0172 -0.0066       -0.0394      0.0288    -0.0430    0.0151   \n",
       "d_friday       -0.0187 -0.0055       -0.0507      0.1302    -0.0406   -0.0482   \n",
       "d_saturday     -0.0187 -0.0195       -0.0682     -0.0170    -0.0745    0.0166   \n",
       "\n",
       "              cloudcover  is_bullet  is_limited  t_northbound  d_monday  \\\n",
       "is_delay          0.0112     0.4993      0.6565       -0.0042    0.0378   \n",
       "temp             -0.1587     0.0502      0.0667        0.0000    0.0291   \n",
       "precipiation      0.3655    -0.0137     -0.0182        0.0000    0.1495   \n",
       "visability       -0.3435    -0.0568     -0.0797       -0.0000   -0.1926   \n",
       "windspeed         0.2527     0.0521      0.0706        0.0000    0.0803   \n",
       "humidity          0.4875     0.0273      0.0388       -0.0000    0.0289   \n",
       "cloudcover        1.0000     0.0048      0.0072        0.0000    0.0756   \n",
       "is_bullet         0.0048     1.0000     -0.0112       -0.0063    0.0197   \n",
       "is_limited        0.0072    -0.0112      1.0000       -0.0010    0.0228   \n",
       "t_northbound      0.0000    -0.0063     -0.0010        1.0000   -0.0000   \n",
       "d_monday          0.0756     0.0197      0.0228       -0.0000    1.0000   \n",
       "d_tuesday        -0.0111     0.0137      0.0160       -0.0000   -0.1667   \n",
       "d_wednesday      -0.0138     0.0047      0.0071       -0.0000   -0.1667   \n",
       "d_thursday       -0.0483    -0.0088     -0.0109       -0.0000   -0.1667   \n",
       "d_friday         -0.0215    -0.0088     -0.0109       -0.0000   -0.1667   \n",
       "d_saturday       -0.0150    -0.0088     -0.0109       -0.0000   -0.1667   \n",
       "\n",
       "              d_tuesday  d_wednesday  d_thursday  d_friday  d_saturday  \n",
       "is_delay         0.0284       0.0111     -0.0172   -0.0187     -0.0187  \n",
       "temp             0.0153      -0.0073     -0.0066   -0.0055     -0.0195  \n",
       "precipiation     0.0403      -0.0305     -0.0394   -0.0507     -0.0682  \n",
       "visability      -0.0426       0.0834      0.0288    0.1302     -0.0170  \n",
       "windspeed        0.0459      -0.0104     -0.0430   -0.0406     -0.0745  \n",
       "humidity        -0.0012      -0.0128      0.0151   -0.0482      0.0166  \n",
       "cloudcover      -0.0111      -0.0138     -0.0483   -0.0215     -0.0150  \n",
       "is_bullet        0.0137       0.0047     -0.0088   -0.0088     -0.0088  \n",
       "is_limited       0.0160       0.0071     -0.0109   -0.0109     -0.0109  \n",
       "t_northbound    -0.0000      -0.0000     -0.0000   -0.0000     -0.0000  \n",
       "d_monday        -0.1667      -0.1667     -0.1667   -0.1667     -0.1667  \n",
       "d_tuesday        1.0000      -0.1667     -0.1667   -0.1667     -0.1667  \n",
       "d_wednesday     -0.1667       1.0000     -0.1667   -0.1667     -0.1667  \n",
       "d_thursday      -0.1667      -0.1667      1.0000   -0.1667     -0.1667  \n",
       "d_friday        -0.1667      -0.1667     -0.1667    1.0000     -0.1667  \n",
       "d_saturday      -0.1667      -0.1667     -0.1667   -0.1667      1.0000  "
      ]
     },
     "execution_count": 22,
     "metadata": {},
     "output_type": "execute_result"
    }
   ],
   "source": [
    "X_y = df[['is_delay','temp','precipiation',\n",
    "        'visability','windspeed','humidity','cloudcover',\n",
    "        'is_bullet','is_limited','t_northbound',\n",
    "       'd_monday','d_tuesday','d_wednesday','d_thursday','d_friday','d_saturday']]\n",
    "cr = X_y.corr()\n",
    "np.round(cr, 4)\n",
    "# "
   ]
  },
  {
   "cell_type": "code",
   "execution_count": 23,
   "metadata": {
    "collapsed": false
   },
   "outputs": [
    {
     "data": {
      "text/plain": [
       "is_delay            650.000000\n",
       "temp            1292243.119800\n",
       "precipiation         24.229129\n",
       "visability       203786.407984\n",
       "windspeed        131432.855200\n",
       "humidity          14856.840657\n",
       "cloudcover         2446.486104\n",
       "is_bullet           174.000000\n",
       "is_limited          313.000000\n",
       "t_northbound      10626.000000\n",
       "d_monday           3003.000000\n",
       "d_tuesday          3003.000000\n",
       "d_wednesday        3003.000000\n",
       "d_thursday         3003.000000\n",
       "d_friday           3003.000000\n",
       "d_saturday         3003.000000\n",
       "dtype: float64"
      ]
     },
     "execution_count": 23,
     "metadata": {},
     "output_type": "execute_result"
    }
   ],
   "source": [
    "X_y.sum()"
   ]
  },
  {
   "cell_type": "code",
   "execution_count": 24,
   "metadata": {
    "collapsed": false
   },
   "outputs": [
    {
     "data": {
      "text/plain": [
       "(21021, 4)"
      ]
     },
     "execution_count": 24,
     "metadata": {},
     "output_type": "execute_result"
    }
   ],
   "source": [
    "from sklearn.decomposition import PCA\n",
    "clf = PCA(.99)\n",
    "X_trans = clf.fit_transform(X)\n",
    "X_trans.shape"
   ]
  },
  {
   "cell_type": "code",
   "execution_count": null,
   "metadata": {
    "collapsed": true
   },
   "outputs": [],
   "source": []
  },
  {
   "cell_type": "code",
   "execution_count": 25,
   "metadata": {
    "collapsed": false
   },
   "outputs": [
    {
     "data": {
      "image/png": "[encoded data removed]",
      "text/plain": [
       "<matplotlib.figure.Figure at 0x10dfc8650>"
      ]
     },
     "metadata": {},
     "output_type": "display_data"
    }
   ],
   "source": [
    "\n",
    "plt.scatter(X_trans[:, 0], X_trans[:, 1],c=y, alpha=0.2)\n",
    "plt.colorbar();"
   ]
  },
  {
   "cell_type": "code",
   "execution_count": 26,
   "metadata": {
    "collapsed": false
   },
   "outputs": [
    {
     "data": {
      "text/plain": [
       "LogisticRegression(C=1.0, class_weight=None, dual=False, fit_intercept=True,\n",
       "          intercept_scaling=1, max_iter=100, multi_class='ovr',\n",
       "          penalty='l2', random_state=None, solver='liblinear', tol=0.0001,\n",
       "          verbose=0)"
      ]
     },
     "execution_count": 26,
     "metadata": {},
     "output_type": "execute_result"
    }
   ],
   "source": [
    "from sklearn.linear_model import LogisticRegression\n",
    "lm = LogisticRegression()\n",
    "lm.fit(X_trans,y)"
   ]
  },
  {
   "cell_type": "code",
   "execution_count": null,
   "metadata": {
    "collapsed": false
   },
   "outputs": [
    {
     "name": "stdout",
     "output_type": "stream",
     "text": [
      "0.962608511333\n",
      "0.0373914886667\n"
     ]
    }
   ],
   "source": [
    "from sklearn.cross_validation import cross_val_score\n",
    "print(cross_val_score(lm,X_trans,y,cv=10).mean()) \n",
    "MisClassificationError = 1 - (cross_val_score(lm,X_trans,y,cv=10).mean())\n",
    "print(MisClassificationError)  #our misclassification Error is 27 percent!"
   ]
  },
  {
   "cell_type": "code",
   "execution_count": null,
   "metadata": {
    "collapsed": false
   },
   "outputs": [],
   "source": [
    "from sklearn.ensemble import RandomForestClassifier\n",
    "from sklearn.cross_validation import cross_val_score\n",
    "RFClass = RandomForestClassifier(n_estimators = 10000, \n",
    "                                 max_features = 4, # You can set it to a number or 'sqrt', 'log2', etc\n",
    "                                 min_samples_leaf = 5,\n",
    "                                 oob_score = True)\n",
    "RFClass.fit(X,y)\n",
    "print(RFClass.oob_score_)\n",
    "scores = cross_val_score(RFClass, X, y, cv=10)\n",
    "print(scores.mean())\n",
    "#out of bag error = 25% , CV_error is 35%"
   ]
  },
  {
   "cell_type": "code",
   "execution_count": null,
   "metadata": {
    "collapsed": false
   },
   "outputs": [],
   "source": [
    "RFClass.fit(X,y)\n",
    "ImportanceDataFrame = pd.DataFrame({'feature':X.columns.values, 'importance':RFClass.feature_importances_})\n",
    "ImportanceDataFrame.sort_values(by = ['importance'],ascending = 0)"
   ]
  },
  {
   "cell_type": "code",
   "execution_count": null,
   "metadata": {
    "collapsed": true
   },
   "outputs": [],
   "source": [
    "Depth_Choice_df = pd.DataFrame({'cv_scores': score,'Number of Features': Features})\n",
    "Depth_Choice_df.plot(x ='Number of Features',y = 'cv_scores')"
   ]
  }
 ],
 "metadata": {
  "kernelspec": {
   "display_name": "Python 2",
   "language": "python",
   "name": "python2"
  },
  "language_info": {
   "codemirror_mode": {
    "name": "ipython",
    "version": 2
   },
   "file_extension": ".py",
   "mimetype": "text/x-python",
   "name": "python",
   "nbconvert_exporter": "python",
   "pygments_lexer": "ipython2",
   "version": "2.7.11"
  }
 },
 "nbformat": 4,
 "nbformat_minor": 0
}
