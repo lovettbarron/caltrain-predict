{
 "cells": [
  {
   "cell_type": "code",
   "execution_count": 3,
   "metadata": {
    "collapsed": false
   },
   "outputs": [
    {
     "name": "stderr",
     "output_type": "stream",
     "text": [
      "/Users/albarron/anaconda/lib/python2.7/site-packages/matplotlib/font_manager.py:273: UserWarning: Matplotlib is building the font cache using fc-list. This may take a moment.\n",
      "  warnings.warn('Matplotlib is building the font cache using fc-list. This may take a moment.')\n"
     ]
    }
   ],
   "source": [
    "import sys\n",
    "import re\n",
    "import time\n",
    "import datetime\n",
    "import pandas as pd\n",
    "import numpy as np\n",
    "import func\n",
    "# inline plot\n",
    "import matplotlib.pyplot as plt\n",
    "%matplotlib inline"
   ]
  },
  {
   "cell_type": "code",
   "execution_count": 4,
   "metadata": {
    "collapsed": false
   },
   "outputs": [
    {
     "name": "stdout",
     "output_type": "stream",
     "text": [
      "(21021, 33)\n"
     ]
    }
   ],
   "source": [
    "df = pd.read_csv(\"data/merged_concat_final.csv\",sep='\\t',error_bad_lines=False)\n",
    "del df['Unnamed: 0']\n",
    "print df.shape"
   ]
  },
  {
   "cell_type": "code",
   "execution_count": 5,
   "metadata": {
    "collapsed": false
   },
   "outputs": [
    {
     "data": {
      "text/plain": [
       "array(['train_id', 'stop_pa', 't_northbound', 'timestamp', 'temp',\n",
       "       'precipiation', 'visability', 'windspeed', 'humidity', 'cloudcover',\n",
       "       'is_bullet', 'is_limited', 'tweet_id', 'is_delay', 'del_min',\n",
       "       'del_med', 'del_maj', 'del_cat', 'is_backlog', 'is_canceled',\n",
       "       'is_passing', 'is_accident', 'is_medical', 'is_mechanical',\n",
       "       'is_customer', 'is_event', 'd_monday', 'd_tuesday', 'd_wednesday',\n",
       "       'd_thursday', 'd_friday', 'd_saturday', 'd_sunday'], dtype=object)"
      ]
     },
     "execution_count": 5,
     "metadata": {},
     "output_type": "execute_result"
    }
   ],
   "source": [
    "df.columns.values"
   ]
  },
  {
   "cell_type": "code",
   "execution_count": 6,
   "metadata": {
    "collapsed": false
   },
   "outputs": [
    {
     "data": {
      "text/plain": [
       "del_min     91\n",
       "del_med    142\n",
       "del_maj     28\n",
       "del_cat     16\n",
       "dtype: int64"
      ]
     },
     "execution_count": 6,
     "metadata": {},
     "output_type": "execute_result"
    }
   ],
   "source": [
    "df[['del_min','del_med','del_maj','del_cat']].sum()"
   ]
  },
  {
   "cell_type": "code",
   "execution_count": 7,
   "metadata": {
    "collapsed": false
   },
   "outputs": [],
   "source": [
    "df.set_index('timestamp')\n",
    "df['timestamp'] = pd.to_datetime(df['timestamp'],format=\"%Y-%m-%d %H:%M:%S\")"
   ]
  },
  {
   "cell_type": "code",
   "execution_count": 8,
   "metadata": {
    "collapsed": true
   },
   "outputs": [],
   "source": [
    "def delay_to_ordinal(r):\n",
    "    v = 0 #no delay\n",
    "    v = 1 if r['del_min'] == 1 else v\n",
    "    v = 2 if r['del_med'] == 1 else v\n",
    "    v = 3 if r['del_maj'] == 1 else v\n",
    "    v = 4 if r['del_cat'] == 1 else v\n",
    "    return v\n",
    "\n",
    "df['ord_del'] = df.apply(lambda x:delay_to_ordinal(x),axis=1)"
   ]
  },
  {
   "cell_type": "code",
   "execution_count": 9,
   "metadata": {
    "collapsed": true
   },
   "outputs": [],
   "source": [
    "def days_to_ordinal(r):\n",
    "    v = 0 # Sunday\n",
    "    v = 1 if r['d_monday'] == 1 else v\n",
    "    v = 2 if r['d_tuesday'] == 1 else v\n",
    "    v = 3 if r['d_wednesday'] == 1 else v\n",
    "    v = 4 if r['d_thursday'] == 1 else v\n",
    "    v = 5 if r['d_friday'] == 1 else v\n",
    "    v = 5 if r['d_saturday'] == 1 else v\n",
    "    return v\n",
    "\n",
    "df['ord_weekdays'] = df.apply(lambda x:days_to_ordinal(x),axis=1)"
   ]
  },
  {
   "cell_type": "code",
   "execution_count": 10,
   "metadata": {
    "collapsed": false
   },
   "outputs": [],
   "source": [
    "only_delay = df[(df['is_delay']==1)]"
   ]
  },
  {
   "cell_type": "code",
   "execution_count": null,
   "metadata": {
    "collapsed": false
   },
   "outputs": [],
   "source": [
    "# df.plot.scatter(x=df['timestamp'],y=df['ord_del'],figsize=[15,6], alpha='0.2')"
   ]
  },
  {
   "cell_type": "code",
   "execution_count": null,
   "metadata": {
    "collapsed": false
   },
   "outputs": [],
   "source": [
    "# only_delay[['del_min','del_med','del_maj','del_cat','is_bullet','is_limited']].plot.hist(color='k',alpha=0.5,stacked=True,bins=4,figsize=[12,6])"
   ]
  },
  {
   "cell_type": "code",
   "execution_count": 11,
   "metadata": {
    "collapsed": false
   },
   "outputs": [
    {
     "name": "stdout",
     "output_type": "stream",
     "text": [
      "relative to delay\n",
      "is_delay    100.000000\n",
      "del_min      27.828746\n",
      "del_med      43.425076\n",
      "del_maj       8.562691\n",
      "del_cat       4.892966\n",
      "dtype: float64 %\n",
      "Relative to total\n",
      "is_delay    1.555587\n",
      "del_min     0.432900\n",
      "del_med     0.675515\n",
      "del_maj     0.133200\n",
      "del_cat     0.076114\n",
      "dtype: float64 %\n"
     ]
    }
   ],
   "source": [
    "print \"relative to delay\"\n",
    "print (df[['is_delay','del_min','del_med','del_maj','del_cat']].sum()/float(df['is_delay'].sum()))*100 , '%'\n",
    "print \"Relative to total\"\n",
    "print (df[['is_delay','del_min','del_med','del_maj','del_cat']].sum()/float(len(df)))*100 , '%'"
   ]
  },
  {
   "cell_type": "code",
   "execution_count": 48,
   "metadata": {
    "collapsed": false
   },
   "outputs": [],
   "source": [
    "# Train IDs swapped into cat variables and concat into main dataset\n",
    "train_id_dummies = pd.get_dummies(df['train_id'],prefix='tid')\n",
    "train_id_dummies.shape\n",
    "train_id_dummies.columns.values\n",
    "del train_id_dummies['tid_101.0'] # Delete as base var\n",
    "tid_col = train_id_dummies.columns.values\n",
    "df = pd.concat([df, train_id_dummies], axis=1)"
   ]
  },
  {
   "cell_type": "markdown",
   "metadata": {},
   "source": [
    "### Pick one of these to explore re: below models"
   ]
  },
  {
   "cell_type": "code",
   "execution_count": null,
   "metadata": {
    "collapsed": false
   },
   "outputs": [],
   "source": [
    "# Look only at train IDs\n",
    "features = df.columns.values\n",
    "X = train_id_dummies\n",
    "y = df['ord_del']"
   ]
  },
  {
   "cell_type": "code",
   "execution_count": 55,
   "metadata": {
    "collapsed": false
   },
   "outputs": [],
   "source": [
    "# Non Delay Specific\n",
    "features = df.columns.values\n",
    "target_cols = ['temp','precipiation',\n",
    "        'visability','windspeed','humidity','cloudcover',\n",
    "        'is_bullet','is_limited','t_northbound',\n",
    "       'd_monday','d_tuesday','d_wednesday','d_thursday','d_friday','d_saturday']\n",
    "X = df[target_cols]\n",
    "# del X['is_delay']\n",
    "# del X['tweet_id']\n",
    "# X['timestamp'] = X['timestamp'].apply(lambda x: (np.datetime64(x).astype('uint64') / 1e6).astype('uint32'))\n",
    "# y = df['ord_del']\n",
    "y = df['is_delay']"
   ]
  },
  {
   "cell_type": "code",
   "execution_count": null,
   "metadata": {
    "collapsed": true
   },
   "outputs": [],
   "source": [
    "# Including train IDs\n",
    "features = df.columns.values\n",
    "target_cols = ['temp','precipiation',\n",
    "        'visability','windspeed','humidity','cloudcover',\n",
    "        'is_bullet','is_limited','t_northbound',\n",
    "       'd_monday','d_tuesday','d_wednesday','d_thursday','d_friday','d_saturday'] + list(tid_col)\n",
    "X = df[target_cols]\n",
    "# del X['is_delay']\n",
    "# del X['tweet_id']\n",
    "# X['timestamp'] = X['timestamp'].apply(lambda x: (np.datetime64(x).astype('uint64') / 1e6).astype('uint32'))\n",
    "# y = df['ord_del']\n",
    "y = df['is_delay']"
   ]
  },
  {
   "cell_type": "code",
   "execution_count": null,
   "metadata": {
    "collapsed": false
   },
   "outputs": [],
   "source": [
    "# If there IS a delay...\n",
    "features = df.columns.values\n",
    "X = only_delay[['is_backlog', 'is_canceled',\n",
    "       'is_passing', 'is_accident', 'is_medical', 'is_mechanical',\n",
    "       'is_customer', 'is_event']]\n",
    "# del X['is_delay']\n",
    "# del X['tweet_id']\n",
    "# X['timestamp'] = X['timestamp'].apply(lambda x: (np.datetime64(x).astype('uint64') / 1e6).astype('uint32'))\n",
    "y = df['ord_del']"
   ]
  },
  {
   "cell_type": "code",
   "execution_count": 58,
   "metadata": {
    "collapsed": false
   },
   "outputs": [
    {
     "name": "stderr",
     "output_type": "stream",
     "text": [
      "/Users/albarron/anaconda/lib/python2.7/site-packages/ipykernel/__main__.py:4: SettingWithCopyWarning: \n",
      "A value is trying to be set on a copy of a slice from a DataFrame.\n",
      "Try using .loc[row_indexer,col_indexer] = value instead\n",
      "\n",
      "See the caveats in the documentation: http://pandas.pydata.org/pandas-docs/stable/indexing.html#indexing-view-versus-copy\n"
     ]
    }
   ],
   "source": [
    "# X['timestamp'] = X['timestamp'].apply(lambda x:int(x))\n",
    "# X['stop_pa'] = X['stop_pa'].apply(lambda x:int(x))\n",
    "# X['train_id'] = X['train_id'].apply(lambda x:int(x))\n",
    "X['t_northbound'] = X['t_northbound'].apply(lambda x:int(x))"
   ]
  },
  {
   "cell_type": "code",
   "execution_count": 59,
   "metadata": {
    "collapsed": false
   },
   "outputs": [
    {
     "name": "stderr",
     "output_type": "stream",
     "text": [
      "/Users/albarron/anaconda/lib/python2.7/site-packages/ipykernel/__main__.py:1: SettingWithCopyWarning: \n",
      "A value is trying to be set on a copy of a slice from a DataFrame.\n",
      "Try using .loc[row_indexer,col_indexer] = value instead\n",
      "\n",
      "See the caveats in the documentation: http://pandas.pydata.org/pandas-docs/stable/indexing.html#indexing-view-versus-copy\n",
      "  if __name__ == '__main__':\n"
     ]
    }
   ],
   "source": [
    "X['cloudcover'] = X['cloudcover'].fillna(X['cloudcover'].mean())"
   ]
  },
  {
   "cell_type": "code",
   "execution_count": 68,
   "metadata": {
    "collapsed": false
   },
   "outputs": [],
   "source": [
    "# X.isnull().sum()"
   ]
  },
  {
   "cell_type": "code",
   "execution_count": null,
   "metadata": {
    "collapsed": true
   },
   "outputs": [],
   "source": [
    "# df.plot.scatter(x='timestamp',y='del_ord',figsize=[15,5])"
   ]
  },
  {
   "cell_type": "code",
   "execution_count": null,
   "metadata": {
    "collapsed": false
   },
   "outputs": [],
   "source": [
    "X_y = only_delay[['is_delay','ord_del','temp','precipiation',\n",
    "        'visability','windspeed','humidity','cloudcover',\n",
    "        'is_bullet','is_limited','t_northbound',\n",
    "       'd_monday','d_tuesday','d_wednesday','d_thursday','d_friday','d_saturday']]\n",
    "cr = X_y.corr()\n",
    "np.round(cr, 4)\n",
    "# "
   ]
  },
  {
   "cell_type": "code",
   "execution_count": null,
   "metadata": {
    "collapsed": false
   },
   "outputs": [],
   "source": [
    "X_y.sum()"
   ]
  },
  {
   "cell_type": "markdown",
   "metadata": {},
   "source": [
    "### Run Decision Trees, Prune, and consider False Positives"
   ]
  },
  {
   "cell_type": "code",
   "execution_count": 61,
   "metadata": {
    "collapsed": false
   },
   "outputs": [
    {
     "data": {
      "text/plain": [
       "DecisionTreeClassifier(class_weight=None, criterion='gini', max_depth=2,\n",
       "            max_features=None, max_leaf_nodes=None, min_samples_leaf=5,\n",
       "            min_samples_split=2, min_weight_fraction_leaf=0.0,\n",
       "            random_state=None, splitter='best')"
      ]
     },
     "execution_count": 61,
     "metadata": {},
     "output_type": "execute_result"
    }
   ],
   "source": [
    "from sklearn.tree import DecisionTreeClassifier\n",
    "TreeClass = DecisionTreeClassifier(\n",
    "                max_depth = 2,\n",
    "                min_samples_leaf = 5)\n",
    "TreeClass.fit(X,y)"
   ]
  },
  {
   "cell_type": "code",
   "execution_count": 62,
   "metadata": {
    "collapsed": false
   },
   "outputs": [
    {
     "name": "stdout",
     "output_type": "stream",
     "text": [
      "0.992055614405\n"
     ]
    }
   ],
   "source": [
    "from sklearn.cross_validation import cross_val_score\n",
    "scores = cross_val_score(TreeClass, X, y, cv=10)\n",
    "print(scores.mean()) # Score = More is better, error is 1-score"
   ]
  },
  {
   "cell_type": "code",
   "execution_count": 67,
   "metadata": {
    "collapsed": true
   },
   "outputs": [],
   "source": []
  },
  {
   "cell_type": "code",
   "execution_count": 70,
   "metadata": {
    "collapsed": false
   },
   "outputs": [
    {
     "name": "stdout",
     "output_type": "stream",
     "text": [
      "[[20648    46]\n",
      " [  121   206]]\n"
     ]
    }
   ],
   "source": [
    "from sklearn.metrics import confusion_matrix\n",
    "y_hat = TreeClass.predict(X)\n",
    "cmat = confusion_matrix(y, y_hat)\n",
    "print cmat"
   ]
  },
  {
   "cell_type": "code",
   "execution_count": 64,
   "metadata": {
    "collapsed": false
   },
   "outputs": [
    {
     "name": "stdout",
     "output_type": "stream",
     "text": [
      "[ 0.00582599  0.00582599  0.00582599 ...,  0.00582599  0.00582599\n",
      "  0.00582599]\n",
      "0.813990833077\n"
     ]
    }
   ],
   "source": [
    "from sklearn.metrics import roc_curve, auc,roc_auc_score\n",
    "y_hat_probability = TreeClass.predict_proba(X).T[1] \n",
    "print(y_hat_probability)\n",
    "print(roc_auc_score(y, y_hat_probability))\n",
    "vals = roc_curve(y, y_hat_probability)  "
   ]
  },
  {
   "cell_type": "code",
   "execution_count": 65,
   "metadata": {
    "collapsed": false
   },
   "outputs": [
    {
     "data": {
      "text/plain": [
       "<matplotlib.axes._subplots.AxesSubplot at 0x10fff6310>"
      ]
     },
     "execution_count": 65,
     "metadata": {},
     "output_type": "execute_result"
    },
    {
     "data": {
      "image/png": "[encoded data removed]",
      "text/plain": [
       "<matplotlib.figure.Figure at 0x115f78e10>"
      ]
     },
     "metadata": {},
     "output_type": "display_data"
    }
   ],
   "source": [
    "Roc_DataFrame = pd.DataFrame({'False_Positive_Rate':vals[0],'True_Positive_Rate':vals[1]})\n",
    "Roc_DataFrame.plot(x = 'False_Positive_Rate' , y = 'True_Positive_Rate' ) "
   ]
  },
  {
   "cell_type": "markdown",
   "metadata": {},
   "source": [
    "### As a check, consider Feature selection"
   ]
  },
  {
   "cell_type": "code",
   "execution_count": 19,
   "metadata": {
    "collapsed": false
   },
   "outputs": [
    {
     "data": {
      "text/plain": [
       "[('d_friday', 0.36280000000000001),\n",
       " ('windspeed', 0.34889999999999999),\n",
       " ('t_northbound', 0.15679999999999999),\n",
       " ('precipiation', 0.1358),\n",
       " ('humidity', 0.048800000000000003),\n",
       " ('cloudcover', 0.0465),\n",
       " ('d_saturday', 0.0047999999999999996),\n",
       " ('visability', 0.0016000000000000001),\n",
       " ('d_monday', 0.001),\n",
       " ('d_tuesday', 0.0001),\n",
       " ('temp', 0.0),\n",
       " ('is_bullet', 0.0),\n",
       " ('is_limited', 0.0),\n",
       " ('d_wednesday', 0.0),\n",
       " ('d_thursday', 0.0)]"
      ]
     },
     "execution_count": 19,
     "metadata": {},
     "output_type": "execute_result"
    }
   ],
   "source": [
    "from sklearn import feature_selection\n",
    "pvals = feature_selection.f_regression(X,y)[1] \n",
    "sorted(zip(X.columns.values,np.round(pvals,4)),key=lambda x:x[1],reverse=True)"
   ]
  },
  {
   "cell_type": "code",
   "execution_count": 45,
   "metadata": {
    "collapsed": false
   },
   "outputs": [
    {
     "data": {
      "text/plain": [
       "<matplotlib.axes._subplots.AxesSubplot at 0x110010290>"
      ]
     },
     "execution_count": 45,
     "metadata": {},
     "output_type": "execute_result"
    },
    {
     "data": {
      "image/png": "[encoded data removed]",
      "text/plain": [
       "<matplotlib.figure.Figure at 0x10ff9c710>"
      ]
     },
     "metadata": {},
     "output_type": "display_data"
    }
   ],
   "source": [
    "X_lr=df[['windspeed','t_northbound','precipiation','d_friday']]\n",
    "# localize your search around the maximum value you found\n",
    "c_list = np.logspace(-1,1,21) \n",
    "c_index = np.linspace(-1,1,21)\n",
    "#C is just the inverse of Lambda - the smaller the C - the stronger the\n",
    "#regulatization. The smaller C's choose less variables\n",
    "cv_scores = []\n",
    "for c_score in c_list:\n",
    "    lm = LogisticRegression(C = c_score, penalty = \"l1\")\n",
    "    cv_scores.append(cross_val_score(lm,X,y,cv=10).mean())\n",
    "\n",
    "\n",
    "C_Choice_df = pd.DataFrame({'cv_scores': cv_scores ,'Log_C': c_index })\n",
    "C_Choice_df.plot(x ='Log_C',y = 'cv_scores' )\n",
    "# it sounds like our best choice is C = -0.1  (we chose the most restrictive option)"
   ]
  },
  {
   "cell_type": "markdown",
   "metadata": {},
   "source": [
    "### Find the Principal Components"
   ]
  },
  {
   "cell_type": "code",
   "execution_count": null,
   "metadata": {
    "collapsed": true
   },
   "outputs": [],
   "source": [
    "X = only_delay[['temp','precipiation',\n",
    "        'visability','windspeed','humidity','cloudcover',\n",
    "        'is_bullet','is_limited','t_northbound',\n",
    "       'd_monday','d_tuesday','d_wednesday','d_thursday','d_friday','d_saturday']]"
   ]
  },
  {
   "cell_type": "code",
   "execution_count": 20,
   "metadata": {
    "collapsed": false
   },
   "outputs": [
    {
     "data": {
      "text/plain": [
       "(21021, 4)"
      ]
     },
     "execution_count": 20,
     "metadata": {},
     "output_type": "execute_result"
    }
   ],
   "source": [
    "from sklearn.decomposition import PCA\n",
    "clf = PCA(.99)\n",
    "X_trans = clf.fit_transform(X)\n",
    "X_trans.shape"
   ]
  },
  {
   "cell_type": "code",
   "execution_count": 27,
   "metadata": {
    "collapsed": false
   },
   "outputs": [
    {
     "name": "stdout",
     "output_type": "stream",
     "text": [
      "Exp Var ratio: [ 0.94377417  0.03863902  0.00479571  0.00322025]\n",
      "PCA Score: -7.97024397141\n"
     ]
    }
   ],
   "source": [
    "print \"Exp Var ratio:\",clf.explained_variance_ratio_\n",
    "print \"PCA Score:\",clf.score(X,y)"
   ]
  },
  {
   "cell_type": "code",
   "execution_count": 21,
   "metadata": {
    "collapsed": false
   },
   "outputs": [
    {
     "data": {
      "image/png": "[encoded data removed]",
      "text/plain": [
       "<matplotlib.figure.Figure at 0x10de2a8d0>"
      ]
     },
     "metadata": {},
     "output_type": "display_data"
    }
   ],
   "source": [
    "\n",
    "plt.scatter(X_trans[:, 0], X_trans[:, 1],c=y, alpha=0.2)\n",
    "plt.colorbar();"
   ]
  },
  {
   "cell_type": "code",
   "execution_count": 28,
   "metadata": {
    "collapsed": false
   },
   "outputs": [
    {
     "data": {
      "text/plain": [
       "LogisticRegression(C=1.0, class_weight=None, dual=False, fit_intercept=True,\n",
       "          intercept_scaling=1, max_iter=100, multi_class='ovr',\n",
       "          penalty='l2', random_state=None, solver='liblinear', tol=0.0001,\n",
       "          verbose=0)"
      ]
     },
     "execution_count": 28,
     "metadata": {},
     "output_type": "execute_result"
    }
   ],
   "source": [
    "from sklearn.linear_model import LogisticRegression\n",
    "lm = LogisticRegression()\n",
    "lm.fit(X_trans,y)"
   ]
  },
  {
   "cell_type": "code",
   "execution_count": 29,
   "metadata": {
    "collapsed": false
   },
   "outputs": [
    {
     "name": "stdout",
     "output_type": "stream",
     "text": [
      "[-4.22049215]\n",
      "[[-0.04419672 -0.04835333  0.31824815 -0.15575732]]\n"
     ]
    }
   ],
   "source": [
    "print(lm.intercept_)\n",
    "print(lm.coef_)"
   ]
  },
  {
   "cell_type": "code",
   "execution_count": 30,
   "metadata": {
    "collapsed": false
   },
   "outputs": [
    {
     "name": "stdout",
     "output_type": "stream",
     "text": [
      "0.984444199569\n",
      "0.0155558004307\n"
     ]
    }
   ],
   "source": [
    "from sklearn.cross_validation import cross_val_score\n",
    "print(cross_val_score(lm,X_trans,y,cv=10).mean()) \n",
    "MisClassificationError = 1 - (cross_val_score(lm,X_trans,y,cv=10).mean())\n",
    "print(MisClassificationError)"
   ]
  },
  {
   "cell_type": "code",
   "execution_count": null,
   "metadata": {
    "collapsed": true
   },
   "outputs": [],
   "source": []
  },
  {
   "cell_type": "markdown",
   "metadata": {},
   "source": [
    "### Seeing if I can get anything interesting out of KNN given above"
   ]
  },
  {
   "cell_type": "markdown",
   "metadata": {},
   "source": [
    "# Lecture 10, look at Confusion matrix and ROC curve. Fiddle with the thresholds and AUC"
   ]
  },
  {
   "cell_type": "code",
   "execution_count": 31,
   "metadata": {
    "collapsed": false
   },
   "outputs": [
    {
     "name": "stdout",
     "output_type": "stream",
     "text": [
      "12.5654166667\n",
      "2.63625\n"
     ]
    }
   ],
   "source": [
    "print df['windspeed'].max()\n",
    "print df['windspeed'].min()"
   ]
  },
  {
   "cell_type": "code",
   "execution_count": 32,
   "metadata": {
    "collapsed": true
   },
   "outputs": [],
   "source": [
    "df['windspeed_st'] = df['windspeed'].apply(lambda x:x/15.0) # Ballparking "
   ]
  },
  {
   "cell_type": "code",
   "execution_count": 33,
   "metadata": {
    "collapsed": false
   },
   "outputs": [],
   "source": [
    "\n",
    "X_reg = df[['precipiation','d_friday','t_northbound','windspeed_st']]\n",
    "y_reg = df['is_delay']"
   ]
  },
  {
   "cell_type": "code",
   "execution_count": 34,
   "metadata": {
    "collapsed": false
   },
   "outputs": [
    {
     "data": {
      "text/plain": [
       "<matplotlib.axes._subplots.AxesSubplot at 0x10fc06990>"
      ]
     },
     "execution_count": 34,
     "metadata": {},
     "output_type": "execute_result"
    },
    {
     "data": {
      "image/png": "[encoded data removed]",
      "text/plain": [
       "<matplotlib.figure.Figure at 0x116899ed0>"
      ]
     },
     "metadata": {},
     "output_type": "display_data"
    }
   ],
   "source": [
    "from sklearn import cross_validation\n",
    "from sklearn import neighbors, metrics\n",
    "kf = cross_validation.KFold(len(X_reg), n_folds = 10, shuffle = True) #10 fold CV\n",
    "Score_KNN_CV = []\n",
    "RangeOfK = range(1,20) \n",
    "scores = []\n",
    "for k in RangeOfK:\n",
    "    knn = neighbors.KNeighborsClassifier(n_neighbors=k, weights='uniform')\n",
    "    scores = []\n",
    "    for train_index, test_index in kf:        \n",
    "        knn.fit(X_reg.iloc[train_index], y_reg.iloc[train_index])\n",
    "        scores.append(knn.score(X_reg.iloc[test_index],y_reg.iloc[test_index]))\n",
    "    Score_KNN_CV.append(np.mean(scores))\n",
    "\n",
    "Score_KNN_CV_df = pd.DataFrame({'Score_KNN_CV': Score_KNN_CV ,'K': RangeOfK })\n",
    "Score_KNN_CV_df.plot(x = 'K',y = 'Score_KNN_CV',figsize=[15,5])"
   ]
  },
  {
   "cell_type": "markdown",
   "metadata": {},
   "source": [
    "### Cross Validation and Random Forest"
   ]
  },
  {
   "cell_type": "code",
   "execution_count": null,
   "metadata": {
    "collapsed": false
   },
   "outputs": [],
   "source": [
    "from sklearn.ensemble import RandomForestClassifier\n",
    "from sklearn.cross_validation import cross_val_score\n",
    "RFClass = RandomForestClassifier(n_estimators = 10000, \n",
    "                                 max_features = 4, # You can set it to a number or 'sqrt', 'log2', etc\n",
    "                                 min_samples_leaf = 5,\n",
    "                                 oob_score = True)\n",
    "RFClass.fit(X,y)\n",
    "print(RFClass.oob_score_)\n",
    "scores = cross_val_score(RFClass, X, y, cv=10)\n",
    "print(scores.mean())\n",
    "#out of bag error = 25% , CV_error is 35%"
   ]
  },
  {
   "cell_type": "code",
   "execution_count": null,
   "metadata": {
    "collapsed": false
   },
   "outputs": [],
   "source": [
    "RFClass.fit(X,y)\n",
    "ImportanceDataFrame = pd.DataFrame({'feature':X.columns.values, 'importance':RFClass.feature_importances_})\n",
    "ImportanceDataFrame.sort_values(by = ['importance'],ascending = 0)"
   ]
  },
  {
   "cell_type": "code",
   "execution_count": null,
   "metadata": {
    "collapsed": false
   },
   "outputs": [],
   "source": [
    "Depth_Choice_df = pd.DataFrame({'cv_scores': score,'Number of Features': Features})\n",
    "Depth_Choice_df.plot(x ='Number of Features',y = 'cv_scores')"
   ]
  },
  {
   "cell_type": "code",
   "execution_count": null,
   "metadata": {
    "collapsed": true
   },
   "outputs": [],
   "source": []
  }
 ],
 "metadata": {
  "kernelspec": {
   "display_name": "Python 2",
   "language": "python",
   "name": "python2"
  }
 },
 "nbformat": 4,
 "nbformat_minor": 0
}
