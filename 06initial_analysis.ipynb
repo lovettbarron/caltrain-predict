{
 "cells": [
  {
   "cell_type": "code",
   "execution_count": null,
   "metadata": {
    "collapsed": false
   },
   "outputs": [],
   "source": [
    "import sys\n",
    "import re\n",
    "import time\n",
    "import datetime\n",
    "import pandas as pd\n",
    "import numpy as np\n",
    "import func\n",
    "# inline plot\n",
    "import matplotlib.pyplot as plt\n",
    "%matplotlib inline"
   ]
  },
  {
   "cell_type": "code",
   "execution_count": null,
   "metadata": {
    "collapsed": false
   },
   "outputs": [],
   "source": [
    "df = pd.read_csv(\"data/merged_concat_final.csv\",sep='\\t',error_bad_lines=False)\n",
    "del df['Unnamed: 0']\n",
    "print df.shape"
   ]
  },
  {
   "cell_type": "code",
   "execution_count": null,
   "metadata": {
    "collapsed": false
   },
   "outputs": [],
   "source": [
    "df[['del_min','del_med','del_maj','del_cat']].sum()"
   ]
  },
  {
   "cell_type": "code",
   "execution_count": null,
   "metadata": {
    "collapsed": false
   },
   "outputs": [],
   "source": []
  },
  {
   "cell_type": "code",
   "execution_count": null,
   "metadata": {
    "collapsed": false
   },
   "outputs": [],
   "source": [
    "df.set_index('timestamp')\n",
    "df['timestamp'] = pd.to_datetime(df['timestamp'],format=\"%Y-%m-%d %H:%M:%S\")"
   ]
  },
  {
   "cell_type": "code",
   "execution_count": null,
   "metadata": {
    "collapsed": true
   },
   "outputs": [],
   "source": [
    "def delay_to_ordinal(r):\n",
    "    v = 0 #no delay\n",
    "    v = 1 if r['del_min'] == 1 else v\n",
    "    v = 2 if r['del_med'] == 1 else v\n",
    "    v = 3 if r['del_maj'] == 1 else v\n",
    "    v = 4 if r['del_cat'] == 1 else v\n",
    "    return v\n",
    "\n",
    "df['ord_del'] = df.apply(lambda x:delay_to_ordinal(x),axis=1)"
   ]
  },
  {
   "cell_type": "code",
   "execution_count": null,
   "metadata": {
    "collapsed": true
   },
   "outputs": [],
   "source": [
    "def days_to_ordinal(r):\n",
    "    v = 0 # Sunday\n",
    "    v = 1 if r['d_monday'] == 1 else v\n",
    "    v = 2 if r['d_tuesday'] == 1 else v\n",
    "    v = 3 if r['d_wednesday'] == 1 else v\n",
    "    v = 4 if r['d_thursday'] == 1 else v\n",
    "    v = 5 if r['d_friday'] == 1 else v\n",
    "    v = 5 if r['d_saturday'] == 1 else v\n",
    "    return v\n",
    "\n",
    "df['ord_weekdays'] = df.apply(lambda x:days_to_ordinal(x),axis=1)"
   ]
  },
  {
   "cell_type": "code",
   "execution_count": null,
   "metadata": {
    "collapsed": false
   },
   "outputs": [],
   "source": [
    "only_delay = df[(df['is_delay']==1)]"
   ]
  },
  {
   "cell_type": "code",
   "execution_count": null,
   "metadata": {
    "collapsed": false
   },
   "outputs": [],
   "source": [
    "df.plot.scatter(x=df['timestamp'],y=df['ord_del'],figsize=[15,6], alpha='0.2')"
   ]
  },
  {
   "cell_type": "code",
   "execution_count": null,
   "metadata": {
    "collapsed": false
   },
   "outputs": [],
   "source": [
    "# only_delay[['del_min','del_med','del_maj','del_cat','is_bullet','is_limited']].plot.hist(color='k',alpha=0.5,stacked=True,bins=4,figsize=[12,6])"
   ]
  },
  {
   "cell_type": "code",
   "execution_count": null,
   "metadata": {
    "collapsed": false
   },
   "outputs": [],
   "source": [
    "df.dtypes"
   ]
  },
  {
   "cell_type": "code",
   "execution_count": null,
   "metadata": {
    "collapsed": false
   },
   "outputs": [],
   "source": [
    "print (df['del_cat'].sum()/float(df['is_delay'].sum()))*100 , '%'"
   ]
  },
  {
   "cell_type": "code",
   "execution_count": null,
   "metadata": {
    "collapsed": false
   },
   "outputs": [],
   "source": [
    "df['timestamp'].dtype"
   ]
  },
  {
   "cell_type": "code",
   "execution_count": null,
   "metadata": {
    "collapsed": true
   },
   "outputs": [],
   "source": [
    "# Non Delay Specific\n",
    "features = df.columns.values\n",
    "X = df[['temp','precipiation',\n",
    "        'visability','windspeed','humidity','cloudcover',\n",
    "        'is_bullet','is_limited','t_northbound',\n",
    "       'd_monday','d_tuesday','d_wednesday','d_thursday','d_friday','d_saturday']]\n",
    "# del X['is_delay']\n",
    "# del X['tweet_id']\n",
    "# X['timestamp'] = X['timestamp'].apply(lambda x: (np.datetime64(x).astype('uint64') / 1e6).astype('uint32'))\n",
    "y = df['del_ord']"
   ]
  },
  {
   "cell_type": "code",
   "execution_count": null,
   "metadata": {
    "collapsed": false
   },
   "outputs": [],
   "source": []
  },
  {
   "cell_type": "code",
   "execution_count": null,
   "metadata": {
    "collapsed": false
   },
   "outputs": [],
   "source": []
  },
  {
   "cell_type": "code",
   "execution_count": null,
   "metadata": {
    "collapsed": false
   },
   "outputs": [],
   "source": [
    "# X['timestamp'] = X['timestamp'].apply(lambda x:int(x))\n",
    "# X['stop_pa'] = X['stop_pa'].apply(lambda x:int(x))\n",
    "# X['train_id'] = X['train_id'].apply(lambda x:int(x))\n",
    "X['t_northbound'] = X['t_northbound'].apply(lambda x:int(x))"
   ]
  },
  {
   "cell_type": "code",
   "execution_count": null,
   "metadata": {
    "collapsed": false
   },
   "outputs": [],
   "source": [
    "X['cloudcover'] = X['cloudcover'].fillna(X['cloudcover'].mean())"
   ]
  },
  {
   "cell_type": "code",
   "execution_count": null,
   "metadata": {
    "collapsed": false
   },
   "outputs": [],
   "source": [
    "X.isnull().sum()"
   ]
  },
  {
   "cell_type": "code",
   "execution_count": null,
   "metadata": {
    "collapsed": true
   },
   "outputs": [],
   "source": [
    "df.plot.scatter(x='timestamp',y='del_ord',figsize=[15,5])"
   ]
  },
  {
   "cell_type": "code",
   "execution_count": null,
   "metadata": {
    "collapsed": false
   },
   "outputs": [],
   "source": [
    "X_y = only_delay[['is_delay','ord_del','temp','precipiation',\n",
    "        'visability','windspeed','humidity','cloudcover',\n",
    "        'is_bullet','is_limited','t_northbound',\n",
    "       'd_monday','d_tuesday','d_wednesday','d_thursday','d_friday','d_saturday']]\n",
    "cr = X_y.corr()\n",
    "np.round(cr, 4)\n",
    "# "
   ]
  },
  {
   "cell_type": "code",
   "execution_count": null,
   "metadata": {
    "collapsed": false
   },
   "outputs": [],
   "source": [
    "X_y.sum()"
   ]
  },
  {
   "cell_type": "markdown",
   "metadata": {},
   "source": [
    "### Find the Principal Components"
   ]
  },
  {
   "cell_type": "code",
   "execution_count": null,
   "metadata": {
    "collapsed": true
   },
   "outputs": [],
   "source": [
    "X = only_delay[['temp','precipiation',\n",
    "        'visability','windspeed','humidity','cloudcover',\n",
    "        'is_bullet','is_limited','t_northbound',\n",
    "       'd_monday','d_tuesday','d_wednesday','d_thursday','d_friday','d_saturday']]"
   ]
  },
  {
   "cell_type": "code",
   "execution_count": null,
   "metadata": {
    "collapsed": false
   },
   "outputs": [],
   "source": [
    "from sklearn.decomposition import PCA\n",
    "clf = PCA(.99)\n",
    "X_trans = clf.fit_transform(X)\n",
    "X_trans.shape"
   ]
  },
  {
   "cell_type": "code",
   "execution_count": null,
   "metadata": {
    "collapsed": true
   },
   "outputs": [],
   "source": []
  },
  {
   "cell_type": "code",
   "execution_count": null,
   "metadata": {
    "collapsed": false
   },
   "outputs": [],
   "source": [
    "\n",
    "plt.scatter(X_trans[:, 0], X_trans[:, 1],c=y, alpha=0.2)\n",
    "plt.colorbar();"
   ]
  },
  {
   "cell_type": "code",
   "execution_count": null,
   "metadata": {
    "collapsed": false
   },
   "outputs": [],
   "source": [
    "from sklearn.linear_model import LogisticRegression\n",
    "lm = LogisticRegression()\n",
    "lm.fit(X_trans,y)"
   ]
  },
  {
   "cell_type": "code",
   "execution_count": null,
   "metadata": {
    "collapsed": false
   },
   "outputs": [],
   "source": [
    "print(lm.intercept_)\n",
    "print(lm.coef_)"
   ]
  },
  {
   "cell_type": "code",
   "execution_count": null,
   "metadata": {
    "collapsed": false
   },
   "outputs": [],
   "source": [
    "from sklearn import feature_selection\n",
    "pvals = feature_selection.f_regression(X,y)[1] \n",
    "zip(X.columns.values,np.round(pvals,4))\n"
   ]
  },
  {
   "cell_type": "code",
   "execution_count": null,
   "metadata": {
    "collapsed": false
   },
   "outputs": [],
   "source": [
    "from sklearn.cross_validation import cross_val_score\n",
    "print(cross_val_score(lm,X_trans,y,cv=10).mean()) \n",
    "MisClassificationError = 1 - (cross_val_score(lm,X_trans,y,cv=10).mean())\n",
    "print(MisClassificationError)"
   ]
  },
  {
   "cell_type": "markdown",
   "metadata": {},
   "source": [
    "### Seeing if I can get anything interesting out of KNN given above"
   ]
  },
  {
   "cell_type": "code",
   "execution_count": null,
   "metadata": {
    "collapsed": false
   },
   "outputs": [],
   "source": [
    "print df['windspeed'].max()\n",
    "print df['windspeed'].min()"
   ]
  },
  {
   "cell_type": "code",
   "execution_count": null,
   "metadata": {
    "collapsed": true
   },
   "outputs": [],
   "source": [
    "df['windspeed_st'] = df['windspeed'].apply(lambda x:x/15.0) # Ballparking "
   ]
  },
  {
   "cell_type": "code",
   "execution_count": null,
   "metadata": {
    "collapsed": false
   },
   "outputs": [],
   "source": [
    "\n",
    "X_reg = df[['precipiation','d_friday','t_northbound','windspeed_st']]\n",
    "y_reg = df['ord_del']"
   ]
  },
  {
   "cell_type": "code",
   "execution_count": null,
   "metadata": {
    "collapsed": false
   },
   "outputs": [],
   "source": [
    "from sklearn import cross_validation\n",
    "from sklearn import neighbors, metrics\n",
    "kf = cross_validation.KFold(len(X_reg), n_folds = 10, shuffle = True) #10 fold CV\n",
    "Score_KNN_CV = []\n",
    "RangeOfK = range(1,20) \n",
    "scores = []\n",
    "for k in RangeOfK:\n",
    "    knn = neighbors.KNeighborsClassifier(n_neighbors=k, weights='uniform')\n",
    "    scores = []\n",
    "    for train_index, test_index in kf:        \n",
    "        knn.fit(X_reg.iloc[train_index], y_reg.iloc[train_index])\n",
    "        scores.append(knn.score(X_reg.iloc[test_index],y_reg.iloc[test_index]))\n",
    "    Score_KNN_CV.append(np.mean(scores))\n",
    "\n",
    "Score_KNN_CV_df = pd.DataFrame({'Score_KNN_CV': Score_KNN_CV ,'K': RangeOfK })\n",
    "Score_KNN_CV_df.plot(x = 'K',y = 'Score_KNN_CV',figsize=[15,5])"
   ]
  },
  {
   "cell_type": "markdown",
   "metadata": {},
   "source": [
    "### Cross Validation and Random Forest"
   ]
  },
  {
   "cell_type": "code",
   "execution_count": null,
   "metadata": {
    "collapsed": false
   },
   "outputs": [],
   "source": [
    "from sklearn.ensemble import RandomForestClassifier\n",
    "from sklearn.cross_validation import cross_val_score\n",
    "RFClass = RandomForestClassifier(n_estimators = 10000, \n",
    "                                 max_features = 4, # You can set it to a number or 'sqrt', 'log2', etc\n",
    "                                 min_samples_leaf = 5,\n",
    "                                 oob_score = True)\n",
    "RFClass.fit(X,y)\n",
    "print(RFClass.oob_score_)\n",
    "scores = cross_val_score(RFClass, X, y, cv=10)\n",
    "print(scores.mean())\n",
    "#out of bag error = 25% , CV_error is 35%"
   ]
  },
  {
   "cell_type": "code",
   "execution_count": null,
   "metadata": {
    "collapsed": false
   },
   "outputs": [],
   "source": [
    "RFClass.fit(X,y)\n",
    "ImportanceDataFrame = pd.DataFrame({'feature':X.columns.values, 'importance':RFClass.feature_importances_})\n",
    "ImportanceDataFrame.sort_values(by = ['importance'],ascending = 0)"
   ]
  },
  {
   "cell_type": "code",
   "execution_count": null,
   "metadata": {
    "collapsed": false
   },
   "outputs": [],
   "source": [
    "Depth_Choice_df = pd.DataFrame({'cv_scores': score,'Number of Features': Features})\n",
    "Depth_Choice_df.plot(x ='Number of Features',y = 'cv_scores')"
   ]
  },
  {
   "cell_type": "code",
   "execution_count": null,
   "metadata": {
    "collapsed": true
   },
   "outputs": [],
   "source": []
  }
 ],
 "metadata": {
  "kernelspec": {
   "display_name": "Python 2",
   "language": "python",
   "name": "python2"
  },
  "language_info": {
   "codemirror_mode": {
    "name": "ipython",
    "version": 2
   },
   "file_extension": ".py",
   "mimetype": "text/x-python",
   "name": "python",
   "nbconvert_exporter": "python",
   "pygments_lexer": "ipython2",
   "version": "2.7.11"
  }
 },
 "nbformat": 4,
 "nbformat_minor": 0
}
