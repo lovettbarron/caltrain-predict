{
 "cells": [
  {
   "cell_type": "code",
   "execution_count": 1,
   "metadata": {
    "collapsed": false
   },
   "outputs": [
    {
     "name": "stderr",
     "output_type": "stream",
     "text": [
      "/Users/albarron/anaconda/lib/python2.7/site-packages/matplotlib/font_manager.py:273: UserWarning: Matplotlib is building the font cache using fc-list. This may take a moment.\n",
      "  warnings.warn('Matplotlib is building the font cache using fc-list. This may take a moment.')\n"
     ]
    }
   ],
   "source": [
    "import sys\n",
    "import re\n",
    "import time\n",
    "import datetime\n",
    "import pandas as pd\n",
    "import numpy as np\n",
    "import func\n",
    "# inline plot\n",
    "import matplotlib.pyplot as plt\n",
    "%matplotlib inline"
   ]
  },
  {
   "cell_type": "code",
   "execution_count": 2,
   "metadata": {
    "collapsed": false
   },
   "outputs": [
    {
     "name": "stdout",
     "output_type": "stream",
     "text": [
      "(21021, 33)\n"
     ]
    }
   ],
   "source": [
    "df = pd.read_csv(\"data/merged_concat_final.csv\",sep='\\t',error_bad_lines=False)\n",
    "del df['Unnamed: 0']\n",
    "print df.shape"
   ]
  },
  {
   "cell_type": "code",
   "execution_count": 5,
   "metadata": {
    "collapsed": false
   },
   "outputs": [],
   "source": [
    "df.set_index('timestamp')\n",
    "df['timestamp'] = pd.to_datetime(df['timestamp'],format=\"%Y-%m-%d %H:%M:%S\")"
   ]
  },
  {
   "cell_type": "code",
   "execution_count": 6,
   "metadata": {
    "collapsed": false
   },
   "outputs": [],
   "source": [
    "only_delay = df[(df['is_delay']==1)]"
   ]
  },
  {
   "cell_type": "code",
   "execution_count": 7,
   "metadata": {
    "collapsed": false
   },
   "outputs": [
    {
     "name": "stdout",
     "output_type": "stream",
     "text": [
      "relative to delay\n",
      "is_delay    100.000000\n",
      "del_min      27.828746\n",
      "del_med      43.425076\n",
      "del_maj       8.562691\n",
      "del_cat       4.892966\n",
      "dtype: float64 %\n",
      "Relative to total\n",
      "is_delay    1.555587\n",
      "del_min     0.432900\n",
      "del_med     0.675515\n",
      "del_maj     0.133200\n",
      "del_cat     0.076114\n",
      "dtype: float64 %\n"
     ]
    }
   ],
   "source": [
    "print \"relative to delay\"\n",
    "print (df[['is_delay','del_min','del_med','del_maj','del_cat']].sum()/float(df['is_delay'].sum()))*100 , '%'\n",
    "print \"Relative to total\"\n",
    "print (df[['is_delay','del_min','del_med','del_maj','del_cat']].sum()/float(len(df)))*100 , '%'"
   ]
  },
  {
   "cell_type": "code",
   "execution_count": 8,
   "metadata": {
    "collapsed": false
   },
   "outputs": [],
   "source": [
    "# Train IDs swapped into cat variables and concat into main dataset\n",
    "train_id_dummies = pd.get_dummies(df['train_id'],prefix='tid')\n",
    "train_id_dummies.shape\n",
    "train_id_dummies.columns.values\n",
    "del train_id_dummies['tid_101.0'] # Delete as base var\n",
    "tid_col = train_id_dummies.columns.values\n",
    "df = pd.concat([df, train_id_dummies], axis=1)"
   ]
  },
  {
   "cell_type": "markdown",
   "metadata": {},
   "source": [
    "### Pick one of these to explore re: below models"
   ]
  },
  {
   "cell_type": "code",
   "execution_count": 73,
   "metadata": {
    "collapsed": true
   },
   "outputs": [],
   "source": [
    "# Including train IDs\n",
    "features = df.columns.values\n",
    "target_cols = ['temp','precipiation',\n",
    "        'visability','windspeed','humidity','cloudcover',\n",
    "        'is_bullet','is_limited','t_northbound',\n",
    "       'd_tuesday','d_wednesday','d_thursday','d_friday',] + list(tid_col)\n",
    "X = df[target_cols]\n",
    "# del X['is_delay']\n",
    "# del X['tweet_id']\n",
    "# X['timestamp'] = X['timestamp'].apply(lambda x: (np.datetime64(x).astype('uint64') / 1e6).astype('uint32'))\n",
    "# y = df['ord_del']\n",
    "y = df['is_delay']"
   ]
  },
  {
   "cell_type": "code",
   "execution_count": 74,
   "metadata": {
    "collapsed": false
   },
   "outputs": [
    {
     "name": "stderr",
     "output_type": "stream",
     "text": [
      "/Users/albarron/anaconda/lib/python2.7/site-packages/ipykernel/__main__.py:4: SettingWithCopyWarning: \n",
      "A value is trying to be set on a copy of a slice from a DataFrame.\n",
      "Try using .loc[row_indexer,col_indexer] = value instead\n",
      "\n",
      "See the caveats in the documentation: http://pandas.pydata.org/pandas-docs/stable/indexing.html#indexing-view-versus-copy\n",
      "/Users/albarron/anaconda/lib/python2.7/site-packages/ipykernel/__main__.py:5: SettingWithCopyWarning: \n",
      "A value is trying to be set on a copy of a slice from a DataFrame.\n",
      "Try using .loc[row_indexer,col_indexer] = value instead\n",
      "\n",
      "See the caveats in the documentation: http://pandas.pydata.org/pandas-docs/stable/indexing.html#indexing-view-versus-copy\n"
     ]
    }
   ],
   "source": [
    "# X['timestamp'] = X['timestamp'].apply(lambda x:int(x))\n",
    "# X['stop_pa'] = X['stop_pa'].apply(lambda x:int(x))\n",
    "# X['train_id'] = X['train_id'].apply(lambda x:int(x))\n",
    "X['t_northbound'] = X['t_northbound'].apply(lambda x:int(x))\n",
    "X['cloudcover'] = X['cloudcover'].fillna(X['cloudcover'].mean())"
   ]
  },
  {
   "cell_type": "markdown",
   "metadata": {},
   "source": [
    "### Train/Test split"
   ]
  },
  {
   "cell_type": "code",
   "execution_count": 75,
   "metadata": {
    "collapsed": false
   },
   "outputs": [],
   "source": [
    "from sklearn.cross_validation import train_test_split\n",
    "X_train, X_test, y_train, y_test = train_test_split(X, y,test_size=0.25)"
   ]
  },
  {
   "cell_type": "markdown",
   "metadata": {},
   "source": [
    "### Run Decision Trees, Prune, and consider False Positives"
   ]
  },
  {
   "cell_type": "code",
   "execution_count": 76,
   "metadata": {
    "collapsed": false
   },
   "outputs": [
    {
     "data": {
      "text/plain": [
       "DecisionTreeClassifier(class_weight=None, criterion='gini', max_depth=2,\n",
       "            max_features=None, max_leaf_nodes=None, min_samples_leaf=5,\n",
       "            min_samples_split=2, min_weight_fraction_leaf=0.0,\n",
       "            random_state=None, splitter='best')"
      ]
     },
     "execution_count": 76,
     "metadata": {},
     "output_type": "execute_result"
    }
   ],
   "source": [
    "from sklearn.tree import DecisionTreeClassifier\n",
    "TreeClass = DecisionTreeClassifier(\n",
    "                max_depth = 2,\n",
    "                min_samples_leaf = 5)\n",
    "TreeClass.fit(X_train,y_train)"
   ]
  },
  {
   "cell_type": "code",
   "execution_count": 77,
   "metadata": {
    "collapsed": false
   },
   "outputs": [
    {
     "name": "stdout",
     "output_type": "stream",
     "text": [
      "0.99295925436\n"
     ]
    }
   ],
   "source": [
    "from sklearn import metrics\n",
    "from sklearn.cross_validation import cross_val_score\n",
    "scores = cross_val_score(TreeClass, X_test, y_test, cv=10)\n",
    "print(scores.mean()) # Score = More is better, error is 1-score"
   ]
  },
  {
   "cell_type": "code",
   "execution_count": 78,
   "metadata": {
    "collapsed": false
   },
   "outputs": [
    {
     "data": {
      "text/plain": [
       "<matplotlib.axes._subplots.AxesSubplot at 0x10e61dbd0>"
      ]
     },
     "execution_count": 78,
     "metadata": {},
     "output_type": "execute_result"
    },
    {
     "data": {
      "image/png": "[encoded data removed]",
      "text/plain": [
       "<matplotlib.figure.Figure at 0x10ed8db90>"
      ]
     },
     "metadata": {},
     "output_type": "display_data"
    }
   ],
   "source": [
    "Depth = range(1,10)\n",
    "score = []\n",
    "for i in Depth:\n",
    "      TreeClass = DecisionTreeClassifier(\n",
    "                max_depth = i,\n",
    "                min_samples_leaf = 5)\n",
    "      scores = cross_val_score(TreeClass, X_test, y_test, cv=10)\n",
    "      score.append(np.mean(scores))\n",
    "\n",
    "Depth_Choice_df = pd.DataFrame({'cv_scores': score ,'Depth': Depth})\n",
    "Depth_Choice_df.plot(x ='Depth',y = 'cv_scores' )\n",
    "\n",
    "#It seems like at depth = 4 we achieved the best result"
   ]
  },
  {
   "cell_type": "code",
   "execution_count": 80,
   "metadata": {
    "collapsed": false
   },
   "outputs": [
    {
     "data": {
      "text/html": [
       "<div>\n",
       "<table border=\"1\" class=\"dataframe\">\n",
       "  <thead>\n",
       "    <tr style=\"text-align: right;\">\n",
       "      <th></th>\n",
       "      <th>Depth</th>\n",
       "      <th>cv_scores</th>\n",
       "    </tr>\n",
       "  </thead>\n",
       "  <tbody>\n",
       "    <tr>\n",
       "      <th>0</th>\n",
       "      <td>1</td>\n",
       "      <td>0.989345</td>\n",
       "    </tr>\n",
       "    <tr>\n",
       "      <th>1</th>\n",
       "      <td>2</td>\n",
       "      <td>0.992959</td>\n",
       "    </tr>\n",
       "    <tr>\n",
       "      <th>2</th>\n",
       "      <td>3</td>\n",
       "      <td>0.992389</td>\n",
       "    </tr>\n",
       "    <tr>\n",
       "      <th>3</th>\n",
       "      <td>4</td>\n",
       "      <td>0.992389</td>\n",
       "    </tr>\n",
       "    <tr>\n",
       "      <th>4</th>\n",
       "      <td>5</td>\n",
       "      <td>0.992769</td>\n",
       "    </tr>\n",
       "  </tbody>\n",
       "</table>\n",
       "</div>"
      ],
      "text/plain": [
       "   Depth  cv_scores\n",
       "0      1   0.989345\n",
       "1      2   0.992959\n",
       "2      3   0.992389\n",
       "3      4   0.992389\n",
       "4      5   0.992769"
      ]
     },
     "execution_count": 80,
     "metadata": {},
     "output_type": "execute_result"
    }
   ],
   "source": [
    "Depth_Choice_df.head()"
   ]
  },
  {
   "cell_type": "code",
   "execution_count": 97,
   "metadata": {
    "collapsed": false
   },
   "outputs": [
    {
     "data": {
      "text/html": [
       "<div>\n",
       "<table border=\"1\" class=\"dataframe\">\n",
       "  <thead>\n",
       "    <tr style=\"text-align: right;\">\n",
       "      <th></th>\n",
       "      <th>Gini_Import</th>\n",
       "      <th>feature</th>\n",
       "    </tr>\n",
       "  </thead>\n",
       "  <tbody>\n",
       "    <tr>\n",
       "      <th>7</th>\n",
       "      <td>0.686761</td>\n",
       "      <td>is_limited</td>\n",
       "    </tr>\n",
       "    <tr>\n",
       "      <th>6</th>\n",
       "      <td>0.305660</td>\n",
       "      <td>is_bullet</td>\n",
       "    </tr>\n",
       "    <tr>\n",
       "      <th>5</th>\n",
       "      <td>0.007579</td>\n",
       "      <td>cloudcover</td>\n",
       "    </tr>\n",
       "    <tr>\n",
       "      <th>0</th>\n",
       "      <td>0.000000</td>\n",
       "      <td>temp</td>\n",
       "    </tr>\n",
       "    <tr>\n",
       "      <th>66</th>\n",
       "      <td>0.000000</td>\n",
       "      <td>tid_267.0</td>\n",
       "    </tr>\n",
       "    <tr>\n",
       "      <th>76</th>\n",
       "      <td>0.000000</td>\n",
       "      <td>tid_283.0</td>\n",
       "    </tr>\n",
       "    <tr>\n",
       "      <th>75</th>\n",
       "      <td>0.000000</td>\n",
       "      <td>tid_282.0</td>\n",
       "    </tr>\n",
       "    <tr>\n",
       "      <th>74</th>\n",
       "      <td>0.000000</td>\n",
       "      <td>tid_279.0</td>\n",
       "    </tr>\n",
       "    <tr>\n",
       "      <th>73</th>\n",
       "      <td>0.000000</td>\n",
       "      <td>tid_278.0</td>\n",
       "    </tr>\n",
       "    <tr>\n",
       "      <th>72</th>\n",
       "      <td>0.000000</td>\n",
       "      <td>tid_277.0</td>\n",
       "    </tr>\n",
       "    <tr>\n",
       "      <th>71</th>\n",
       "      <td>0.000000</td>\n",
       "      <td>tid_274.0</td>\n",
       "    </tr>\n",
       "    <tr>\n",
       "      <th>70</th>\n",
       "      <td>0.000000</td>\n",
       "      <td>tid_273.0</td>\n",
       "    </tr>\n",
       "    <tr>\n",
       "      <th>69</th>\n",
       "      <td>0.000000</td>\n",
       "      <td>tid_272.0</td>\n",
       "    </tr>\n",
       "    <tr>\n",
       "      <th>68</th>\n",
       "      <td>0.000000</td>\n",
       "      <td>tid_269.0</td>\n",
       "    </tr>\n",
       "    <tr>\n",
       "      <th>67</th>\n",
       "      <td>0.000000</td>\n",
       "      <td>tid_268.0</td>\n",
       "    </tr>\n",
       "    <tr>\n",
       "      <th>64</th>\n",
       "      <td>0.000000</td>\n",
       "      <td>tid_263.0</td>\n",
       "    </tr>\n",
       "    <tr>\n",
       "      <th>65</th>\n",
       "      <td>0.000000</td>\n",
       "      <td>tid_264.0</td>\n",
       "    </tr>\n",
       "    <tr>\n",
       "      <th>78</th>\n",
       "      <td>0.000000</td>\n",
       "      <td>tid_287.0</td>\n",
       "    </tr>\n",
       "    <tr>\n",
       "      <th>63</th>\n",
       "      <td>0.000000</td>\n",
       "      <td>tid_262.0</td>\n",
       "    </tr>\n",
       "    <tr>\n",
       "      <th>62</th>\n",
       "      <td>0.000000</td>\n",
       "      <td>tid_261.0</td>\n",
       "    </tr>\n",
       "    <tr>\n",
       "      <th>61</th>\n",
       "      <td>0.000000</td>\n",
       "      <td>tid_258.0</td>\n",
       "    </tr>\n",
       "    <tr>\n",
       "      <th>60</th>\n",
       "      <td>0.000000</td>\n",
       "      <td>tid_257.0</td>\n",
       "    </tr>\n",
       "    <tr>\n",
       "      <th>59</th>\n",
       "      <td>0.000000</td>\n",
       "      <td>tid_254.0</td>\n",
       "    </tr>\n",
       "    <tr>\n",
       "      <th>58</th>\n",
       "      <td>0.000000</td>\n",
       "      <td>tid_237.0</td>\n",
       "    </tr>\n",
       "    <tr>\n",
       "      <th>57</th>\n",
       "      <td>0.000000</td>\n",
       "      <td>tid_236.0</td>\n",
       "    </tr>\n",
       "    <tr>\n",
       "      <th>56</th>\n",
       "      <td>0.000000</td>\n",
       "      <td>tid_233.0</td>\n",
       "    </tr>\n",
       "    <tr>\n",
       "      <th>55</th>\n",
       "      <td>0.000000</td>\n",
       "      <td>tid_231.0</td>\n",
       "    </tr>\n",
       "    <tr>\n",
       "      <th>77</th>\n",
       "      <td>0.000000</td>\n",
       "      <td>tid_284.0</td>\n",
       "    </tr>\n",
       "    <tr>\n",
       "      <th>80</th>\n",
       "      <td>0.000000</td>\n",
       "      <td>tid_289.0</td>\n",
       "    </tr>\n",
       "    <tr>\n",
       "      <th>79</th>\n",
       "      <td>0.000000</td>\n",
       "      <td>tid_288.0</td>\n",
       "    </tr>\n",
       "    <tr>\n",
       "      <th>...</th>\n",
       "      <td>...</td>\n",
       "      <td>...</td>\n",
       "    </tr>\n",
       "    <tr>\n",
       "      <th>8</th>\n",
       "      <td>0.000000</td>\n",
       "      <td>t_northbound</td>\n",
       "    </tr>\n",
       "    <tr>\n",
       "      <th>4</th>\n",
       "      <td>0.000000</td>\n",
       "      <td>humidity</td>\n",
       "    </tr>\n",
       "    <tr>\n",
       "      <th>3</th>\n",
       "      <td>0.000000</td>\n",
       "      <td>windspeed</td>\n",
       "    </tr>\n",
       "    <tr>\n",
       "      <th>2</th>\n",
       "      <td>0.000000</td>\n",
       "      <td>visability</td>\n",
       "    </tr>\n",
       "    <tr>\n",
       "      <th>26</th>\n",
       "      <td>0.000000</td>\n",
       "      <td>tid_152.0</td>\n",
       "    </tr>\n",
       "    <tr>\n",
       "      <th>28</th>\n",
       "      <td>0.000000</td>\n",
       "      <td>tid_156.0</td>\n",
       "    </tr>\n",
       "    <tr>\n",
       "      <th>1</th>\n",
       "      <td>0.000000</td>\n",
       "      <td>precipiation</td>\n",
       "    </tr>\n",
       "    <tr>\n",
       "      <th>29</th>\n",
       "      <td>0.000000</td>\n",
       "      <td>tid_159.0</td>\n",
       "    </tr>\n",
       "    <tr>\n",
       "      <th>50</th>\n",
       "      <td>0.000000</td>\n",
       "      <td>tid_225.0</td>\n",
       "    </tr>\n",
       "    <tr>\n",
       "      <th>49</th>\n",
       "      <td>0.000000</td>\n",
       "      <td>tid_221.0</td>\n",
       "    </tr>\n",
       "    <tr>\n",
       "      <th>48</th>\n",
       "      <td>0.000000</td>\n",
       "      <td>tid_220.0</td>\n",
       "    </tr>\n",
       "    <tr>\n",
       "      <th>47</th>\n",
       "      <td>0.000000</td>\n",
       "      <td>tid_218.0</td>\n",
       "    </tr>\n",
       "    <tr>\n",
       "      <th>46</th>\n",
       "      <td>0.000000</td>\n",
       "      <td>tid_217.0</td>\n",
       "    </tr>\n",
       "    <tr>\n",
       "      <th>45</th>\n",
       "      <td>0.000000</td>\n",
       "      <td>tid_216.0</td>\n",
       "    </tr>\n",
       "    <tr>\n",
       "      <th>44</th>\n",
       "      <td>0.000000</td>\n",
       "      <td>tid_215.0</td>\n",
       "    </tr>\n",
       "    <tr>\n",
       "      <th>43</th>\n",
       "      <td>0.000000</td>\n",
       "      <td>tid_211.0</td>\n",
       "    </tr>\n",
       "    <tr>\n",
       "      <th>42</th>\n",
       "      <td>0.000000</td>\n",
       "      <td>tid_210.0</td>\n",
       "    </tr>\n",
       "    <tr>\n",
       "      <th>41</th>\n",
       "      <td>0.000000</td>\n",
       "      <td>tid_208.0</td>\n",
       "    </tr>\n",
       "    <tr>\n",
       "      <th>40</th>\n",
       "      <td>0.000000</td>\n",
       "      <td>tid_207.0</td>\n",
       "    </tr>\n",
       "    <tr>\n",
       "      <th>39</th>\n",
       "      <td>0.000000</td>\n",
       "      <td>tid_206.0</td>\n",
       "    </tr>\n",
       "    <tr>\n",
       "      <th>38</th>\n",
       "      <td>0.000000</td>\n",
       "      <td>tid_199.0</td>\n",
       "    </tr>\n",
       "    <tr>\n",
       "      <th>37</th>\n",
       "      <td>0.000000</td>\n",
       "      <td>tid_197.0</td>\n",
       "    </tr>\n",
       "    <tr>\n",
       "      <th>36</th>\n",
       "      <td>0.000000</td>\n",
       "      <td>tid_196.0</td>\n",
       "    </tr>\n",
       "    <tr>\n",
       "      <th>35</th>\n",
       "      <td>0.000000</td>\n",
       "      <td>tid_195.0</td>\n",
       "    </tr>\n",
       "    <tr>\n",
       "      <th>34</th>\n",
       "      <td>0.000000</td>\n",
       "      <td>tid_194.0</td>\n",
       "    </tr>\n",
       "    <tr>\n",
       "      <th>33</th>\n",
       "      <td>0.000000</td>\n",
       "      <td>tid_193.0</td>\n",
       "    </tr>\n",
       "    <tr>\n",
       "      <th>32</th>\n",
       "      <td>0.000000</td>\n",
       "      <td>tid_192.0</td>\n",
       "    </tr>\n",
       "    <tr>\n",
       "      <th>31</th>\n",
       "      <td>0.000000</td>\n",
       "      <td>tid_191.0</td>\n",
       "    </tr>\n",
       "    <tr>\n",
       "      <th>30</th>\n",
       "      <td>0.000000</td>\n",
       "      <td>tid_190.0</td>\n",
       "    </tr>\n",
       "    <tr>\n",
       "      <th>102</th>\n",
       "      <td>0.000000</td>\n",
       "      <td>tid_386.0</td>\n",
       "    </tr>\n",
       "  </tbody>\n",
       "</table>\n",
       "<p>103 rows × 2 columns</p>\n",
       "</div>"
      ],
      "text/plain": [
       "     Gini_Import       feature\n",
       "7       0.686761    is_limited\n",
       "6       0.305660     is_bullet\n",
       "5       0.007579    cloudcover\n",
       "0       0.000000          temp\n",
       "66      0.000000     tid_267.0\n",
       "76      0.000000     tid_283.0\n",
       "75      0.000000     tid_282.0\n",
       "74      0.000000     tid_279.0\n",
       "73      0.000000     tid_278.0\n",
       "72      0.000000     tid_277.0\n",
       "71      0.000000     tid_274.0\n",
       "70      0.000000     tid_273.0\n",
       "69      0.000000     tid_272.0\n",
       "68      0.000000     tid_269.0\n",
       "67      0.000000     tid_268.0\n",
       "64      0.000000     tid_263.0\n",
       "65      0.000000     tid_264.0\n",
       "78      0.000000     tid_287.0\n",
       "63      0.000000     tid_262.0\n",
       "62      0.000000     tid_261.0\n",
       "61      0.000000     tid_258.0\n",
       "60      0.000000     tid_257.0\n",
       "59      0.000000     tid_254.0\n",
       "58      0.000000     tid_237.0\n",
       "57      0.000000     tid_236.0\n",
       "56      0.000000     tid_233.0\n",
       "55      0.000000     tid_231.0\n",
       "77      0.000000     tid_284.0\n",
       "80      0.000000     tid_289.0\n",
       "79      0.000000     tid_288.0\n",
       "..           ...           ...\n",
       "8       0.000000  t_northbound\n",
       "4       0.000000      humidity\n",
       "3       0.000000     windspeed\n",
       "2       0.000000    visability\n",
       "26      0.000000     tid_152.0\n",
       "28      0.000000     tid_156.0\n",
       "1       0.000000  precipiation\n",
       "29      0.000000     tid_159.0\n",
       "50      0.000000     tid_225.0\n",
       "49      0.000000     tid_221.0\n",
       "48      0.000000     tid_220.0\n",
       "47      0.000000     tid_218.0\n",
       "46      0.000000     tid_217.0\n",
       "45      0.000000     tid_216.0\n",
       "44      0.000000     tid_215.0\n",
       "43      0.000000     tid_211.0\n",
       "42      0.000000     tid_210.0\n",
       "41      0.000000     tid_208.0\n",
       "40      0.000000     tid_207.0\n",
       "39      0.000000     tid_206.0\n",
       "38      0.000000     tid_199.0\n",
       "37      0.000000     tid_197.0\n",
       "36      0.000000     tid_196.0\n",
       "35      0.000000     tid_195.0\n",
       "34      0.000000     tid_194.0\n",
       "33      0.000000     tid_193.0\n",
       "32      0.000000     tid_192.0\n",
       "31      0.000000     tid_191.0\n",
       "30      0.000000     tid_190.0\n",
       "102     0.000000     tid_386.0\n",
       "\n",
       "[103 rows x 2 columns]"
      ]
     },
     "execution_count": 97,
     "metadata": {},
     "output_type": "execute_result"
    }
   ],
   "source": [
    "TreeClass = DecisionTreeClassifier(\n",
    "                max_depth = 2,\n",
    "                min_samples_leaf = 5)\n",
    "TreeClass.fit(X_train,y_train)\n",
    "ImportanceDataFrame = pd.DataFrame({'feature':X.columns.values, 'Gini_Import':TreeClass.feature_importances_})\n",
    "ImportanceDataFrame.sort_values(by = ['Gini_Import'],ascending = 0)"
   ]
  },
  {
   "cell_type": "code",
   "execution_count": 94,
   "metadata": {
    "collapsed": false
   },
   "outputs": [
    {
     "data": {
      "text/html": [
       "<div>\n",
       "<table border=\"1\" class=\"dataframe\">\n",
       "  <thead>\n",
       "    <tr style=\"text-align: right;\">\n",
       "      <th></th>\n",
       "      <th>temp</th>\n",
       "      <th>precipiation</th>\n",
       "      <th>visability</th>\n",
       "      <th>windspeed</th>\n",
       "      <th>humidity</th>\n",
       "      <th>cloudcover</th>\n",
       "    </tr>\n",
       "  </thead>\n",
       "  <tbody>\n",
       "    <tr>\n",
       "      <th>temp</th>\n",
       "      <td>1.000000</td>\n",
       "      <td>-0.209248</td>\n",
       "      <td>0.119720</td>\n",
       "      <td>0.333041</td>\n",
       "      <td>-0.345526</td>\n",
       "      <td>-0.158742</td>\n",
       "    </tr>\n",
       "    <tr>\n",
       "      <th>precipiation</th>\n",
       "      <td>-0.209248</td>\n",
       "      <td>1.000000</td>\n",
       "      <td>-0.459115</td>\n",
       "      <td>0.200260</td>\n",
       "      <td>0.303568</td>\n",
       "      <td>0.365534</td>\n",
       "    </tr>\n",
       "    <tr>\n",
       "      <th>visability</th>\n",
       "      <td>0.119720</td>\n",
       "      <td>-0.459115</td>\n",
       "      <td>1.000000</td>\n",
       "      <td>-0.119827</td>\n",
       "      <td>-0.427823</td>\n",
       "      <td>-0.343510</td>\n",
       "    </tr>\n",
       "    <tr>\n",
       "      <th>windspeed</th>\n",
       "      <td>0.333041</td>\n",
       "      <td>0.200260</td>\n",
       "      <td>-0.119827</td>\n",
       "      <td>1.000000</td>\n",
       "      <td>-0.004015</td>\n",
       "      <td>0.252678</td>\n",
       "    </tr>\n",
       "    <tr>\n",
       "      <th>humidity</th>\n",
       "      <td>-0.345526</td>\n",
       "      <td>0.303568</td>\n",
       "      <td>-0.427823</td>\n",
       "      <td>-0.004015</td>\n",
       "      <td>1.000000</td>\n",
       "      <td>0.487529</td>\n",
       "    </tr>\n",
       "    <tr>\n",
       "      <th>cloudcover</th>\n",
       "      <td>-0.158742</td>\n",
       "      <td>0.365534</td>\n",
       "      <td>-0.343510</td>\n",
       "      <td>0.252678</td>\n",
       "      <td>0.487529</td>\n",
       "      <td>1.000000</td>\n",
       "    </tr>\n",
       "  </tbody>\n",
       "</table>\n",
       "</div>"
      ],
      "text/plain": [
       "                  temp  precipiation  visability  windspeed  humidity  \\\n",
       "temp          1.000000     -0.209248    0.119720   0.333041 -0.345526   \n",
       "precipiation -0.209248      1.000000   -0.459115   0.200260  0.303568   \n",
       "visability    0.119720     -0.459115    1.000000  -0.119827 -0.427823   \n",
       "windspeed     0.333041      0.200260   -0.119827   1.000000 -0.004015   \n",
       "humidity     -0.345526      0.303568   -0.427823  -0.004015  1.000000   \n",
       "cloudcover   -0.158742      0.365534   -0.343510   0.252678  0.487529   \n",
       "\n",
       "              cloudcover  \n",
       "temp           -0.158742  \n",
       "precipiation    0.365534  \n",
       "visability     -0.343510  \n",
       "windspeed       0.252678  \n",
       "humidity        0.487529  \n",
       "cloudcover      1.000000  "
      ]
     },
     "execution_count": 94,
     "metadata": {},
     "output_type": "execute_result"
    }
   ],
   "source": [
    "df[['temp','precipiation','visability','windspeed','humidity','cloudcover']].corr()"
   ]
  },
  {
   "cell_type": "code",
   "execution_count": 83,
   "metadata": {
    "collapsed": true
   },
   "outputs": [],
   "source": [
    "# http://scikit-learn.org/stable/auto_examples/model_selection/plot_confusion_matrix.html#example-model-selection-plot-confusion-matrix-py\n",
    "def plot_confusion_matrix(cm, title='Confusion matrix', cmap=plt.cm.Blues):\n",
    "    plt.imshow(cm, interpolation='nearest', cmap=cmap)\n",
    "    plt.title(title)\n",
    "    plt.colorbar()\n",
    "    tick_marks = np.arange(2)\n",
    "    plt.xticks(tick_marks, ['No Delay','Delay'], rotation=45)\n",
    "    plt.yticks(tick_marks, ['No Delay','Delay'])\n",
    "    plt.tight_layout()\n",
    "    plt.ylabel('True label')\n",
    "    plt.xlabel('Predicted label')"
   ]
  },
  {
   "cell_type": "code",
   "execution_count": 85,
   "metadata": {
    "collapsed": false
   },
   "outputs": [
    {
     "name": "stdout",
     "output_type": "stream",
     "text": [
      "Confusion matrix:\n",
      "[[20648    46]\n",
      " [  121   206]]\n",
      "Normalized\n",
      "[[ 0.9978  0.0022]\n",
      " [ 0.37    0.63  ]]\n"
     ]
    },
    {
     "data": {
      "image/png": "[encoded data removed]",
      "text/plain": [
       "<matplotlib.figure.Figure at 0x10e61d6d0>"
      ]
     },
     "metadata": {},
     "output_type": "display_data"
    }
   ],
   "source": [
    "from sklearn.metrics import confusion_matrix\n",
    "y_hat = TreeClass.predict(X)\n",
    "cmat = confusion_matrix(y, y_hat)\n",
    "c_norm = cmat.astype('float') / cmat.sum(axis=1)[:, np.newaxis]\n",
    "print \"Confusion matrix:\"\n",
    "print cmat\n",
    "print \"Normalized\"\n",
    "print np.round(c_norm,4)\n",
    "plot_confusion_matrix(c_norm) # Normalized"
   ]
  },
  {
   "cell_type": "code",
   "execution_count": 86,
   "metadata": {
    "collapsed": false
   },
   "outputs": [
    {
     "name": "stdout",
     "output_type": "stream",
     "text": [
      "Accuracy\n",
      "0.9921 %\n",
      "Misclass\n",
      "0.0079 %\n",
      "Sensitivity\n",
      "0.63 %\n",
      "Specificity\n",
      "0.9978 %\n"
     ]
    }
   ],
   "source": [
    "print \"Accuracy\"\n",
    "print np.round((cmat[1][1] + cmat[0][0]) / float(len(df)),4),'%'\n",
    "print \"Misclass\"\n",
    "print np.round((cmat[1][0] + cmat[0][1]) / float(len(df)),4),'%'\n",
    "print \"Sensitivity\"\n",
    "print np.round((cmat[1][1]) / float(cmat[1][1]+cmat[1][0]),4),'%'\n",
    "print \"Specificity\"\n",
    "print np.round((cmat[0][0]) / float(cmat[0][0]+cmat[0][1]),4),'%'"
   ]
  },
  {
   "cell_type": "code",
   "execution_count": 92,
   "metadata": {
    "collapsed": false
   },
   "outputs": [
    {
     "name": "stdout",
     "output_type": "stream",
     "text": [
      "[ 0.00582599  0.00582599  0.00582599 ...,  0.00582599  0.00582599\n",
      "  0.00582599]\n",
      "0.813990833077\n"
     ]
    },
    {
     "data": {
      "text/plain": [
       "<matplotlib.axes._subplots.AxesSubplot at 0x1175137d0>"
      ]
     },
     "execution_count": 92,
     "metadata": {},
     "output_type": "execute_result"
    },
    {
     "data": {
      "image/png": "[encoded data removed]",
      "text/plain": [
       "<matplotlib.figure.Figure at 0x115325850>"
      ]
     },
     "metadata": {},
     "output_type": "display_data"
    }
   ],
   "source": [
    "from sklearn.metrics import roc_curve, auc,roc_auc_score\n",
    "TreeClass.fit(X,y)\n",
    "y_hat_probability = TreeClass.predict_proba(X).T[1] \n",
    "print(y_hat_probability)\n",
    "print(roc_auc_score(y, y_hat_probability))\n",
    "vals = roc_curve(y, y_hat_probability)  \n",
    "Roc_DataFrame = pd.DataFrame({'False_Positive_Rate':vals[0],'True_Positive_Rate':vals[1]})\n",
    "Roc_DataFrame.plot(x = 'False_Positive_Rate' , y = 'True_Positive_Rate' ) "
   ]
  },
  {
   "cell_type": "markdown",
   "metadata": {},
   "source": [
    "### As a check, consider Feature selection"
   ]
  },
  {
   "cell_type": "code",
   "execution_count": 93,
   "metadata": {
    "collapsed": false
   },
   "outputs": [
    {
     "data": {
      "text/plain": [
       "[('tid_139.0', 0.82789999999999997),\n",
       " ('tid_221.0', 0.82789999999999997),\n",
       " ('tid_231.0', 0.82789999999999997),\n",
       " ('tid_257.0', 0.82789999999999997),\n",
       " ('tid_274.0', 0.82789999999999997),\n",
       " ('tid_370.0', 0.82789999999999997),\n",
       " ('tid_376.0', 0.82789999999999997),\n",
       " ('tid_147.0', 0.75109999999999999),\n",
       " ('tid_159.0', 0.75109999999999999),\n",
       " ('tid_197.0', 0.75109999999999999),\n",
       " ('tid_217.0', 0.75109999999999999),\n",
       " ('tid_220.0', 0.75109999999999999),\n",
       " ('tid_227.0', 0.75109999999999999),\n",
       " ('tid_264.0', 0.75109999999999999),\n",
       " ('tid_279.0', 0.75109999999999999),\n",
       " ('tid_284.0', 0.75109999999999999),\n",
       " ('tid_287.0', 0.75109999999999999),\n",
       " ('tid_366.0', 0.75109999999999999),\n",
       " ('tid_380.0', 0.75109999999999999),\n",
       " ('tid_385.0', 0.75109999999999999),\n",
       " ('tid_386.0', 0.75109999999999999),\n",
       " ('tid_138.0', 0.4521),\n",
       " ('tid_258.0', 0.4521),\n",
       " ('tid_267.0', 0.4521),\n",
       " ('tid_277.0', 0.4521),\n",
       " ('tid_278.0', 0.4521),\n",
       " ('tid_283.0', 0.4521),\n",
       " ('tid_323.0', 0.4521),\n",
       " ('tid_134.0', 0.39429999999999998),\n",
       " ('tid_193.0', 0.39429999999999998),\n",
       " ('tid_216.0', 0.39429999999999998),\n",
       " ('tid_218.0', 0.39429999999999998),\n",
       " ('tid_225.0', 0.39429999999999998),\n",
       " ('tid_261.0', 0.39429999999999998),\n",
       " ('tid_272.0', 0.39429999999999998),\n",
       " ('tid_313.0', 0.39429999999999998),\n",
       " ('tid_319.0', 0.39429999999999998),\n",
       " ('tid_322.0', 0.39429999999999998),\n",
       " ('tid_324.0', 0.39429999999999998),\n",
       " ('tid_381.0', 0.39429999999999998),\n",
       " ('d_friday', 0.36280000000000001),\n",
       " ('windspeed', 0.34889999999999999),\n",
       " ('tid_150.0', 0.19819999999999999),\n",
       " ('tid_262.0', 0.19819999999999999),\n",
       " ('tid_269.0', 0.19819999999999999),\n",
       " ('tid_273.0', 0.19819999999999999),\n",
       " ('tid_360.0', 0.19819999999999999),\n",
       " ('tid_104.0', 0.1656),\n",
       " ('tid_190.0', 0.1656),\n",
       " ('tid_191.0', 0.1656),\n",
       " ('tid_192.0', 0.1656),\n",
       " ('tid_194.0', 0.1656),\n",
       " ('tid_196.0', 0.1656),\n",
       " ('tid_199.0', 0.1656),\n",
       " ('tid_210.0', 0.1656),\n",
       " ('tid_226.0', 0.1656),\n",
       " ('tid_230.0', 0.1656),\n",
       " ('tid_237.0', 0.1656),\n",
       " ('tid_263.0', 0.1656),\n",
       " ('tid_282.0', 0.1656),\n",
       " ('tid_288.0', 0.1656),\n",
       " ('tid_289.0', 0.1656),\n",
       " ('tid_309.0', 0.1656),\n",
       " ('tid_312.0', 0.1656),\n",
       " ('tid_314.0', 0.1656),\n",
       " ('tid_329.0', 0.1656),\n",
       " ('tid_332.0', 0.1656),\n",
       " ('t_northbound', 0.15679999999999999),\n",
       " ('precipiation', 0.1358),\n",
       " ('tid_146.0', 0.068599999999999994),\n",
       " ('tid_365.0', 0.068599999999999994),\n",
       " ('tid_371.0', 0.068599999999999994),\n",
       " ('tid_102.0', 0.054699999999999999),\n",
       " ('tid_103.0', 0.054699999999999999),\n",
       " ('tid_195.0', 0.054699999999999999),\n",
       " ('tid_206.0', 0.054699999999999999),\n",
       " ('tid_207.0', 0.054699999999999999),\n",
       " ('tid_208.0', 0.054699999999999999),\n",
       " ('tid_211.0', 0.054699999999999999),\n",
       " ('tid_215.0', 0.054699999999999999),\n",
       " ('tid_228.0', 0.054699999999999999),\n",
       " ('tid_236.0', 0.054699999999999999),\n",
       " ('tid_305.0', 0.054699999999999999),\n",
       " ('humidity', 0.048800000000000003),\n",
       " ('cloudcover', 0.0465),\n",
       " ('tid_143.0', 0.018499999999999999),\n",
       " ('tid_152.0', 0.0038),\n",
       " ('tid_156.0', 0.0038),\n",
       " ('visability', 0.0016000000000000001),\n",
       " ('tid_155.0', 0.00059999999999999995),\n",
       " ('tid_375.0', 0.00059999999999999995),\n",
       " ('d_tuesday', 0.0001),\n",
       " ('tid_142.0', 0.0001),\n",
       " ('temp', 0.0),\n",
       " ('is_bullet', 0.0),\n",
       " ('is_limited', 0.0),\n",
       " ('d_wednesday', 0.0),\n",
       " ('d_thursday', 0.0),\n",
       " ('tid_135.0', 0.0),\n",
       " ('tid_151.0', 0.0),\n",
       " ('tid_233.0', 0.0),\n",
       " ('tid_254.0', 0.0),\n",
       " ('tid_268.0', 0.0)]"
      ]
     },
     "execution_count": 93,
     "metadata": {},
     "output_type": "execute_result"
    }
   ],
   "source": [
    "from sklearn import feature_selection\n",
    "pvals = feature_selection.f_regression(X,y)[1] \n",
    "sorted(zip(X.columns.values,np.round(pvals,4)),key=lambda x:x[1],reverse=True)"
   ]
  },
  {
   "cell_type": "code",
   "execution_count": 60,
   "metadata": {
    "collapsed": false
   },
   "outputs": [
    {
     "data": {
      "text/plain": [
       "<matplotlib.axes._subplots.AxesSubplot at 0x10e80f150>"
      ]
     },
     "execution_count": 60,
     "metadata": {},
     "output_type": "execute_result"
    },
    {
     "data": {
      "image/png": "[encoded data removed]",
      "text/plain": [
       "<matplotlib.figure.Figure at 0x1166afb10>"
      ]
     },
     "metadata": {},
     "output_type": "display_data"
    }
   ],
   "source": [
    "from sklearn.linear_model import LogisticRegression\n",
    "lm = LogisticRegression()\n",
    "lm.fit(X,y)\n",
    "X_lr=df[['windspeed','t_northbound','precipiation','d_friday']]\n",
    "# localize your search around the maximum value you found\n",
    "c_list = np.logspace(-1,1,21) \n",
    "c_index = np.linspace(-1,1,21)\n",
    "#C is just the inverse of Lambda - the smaller the C - the stronger the\n",
    "#regulatization. The smaller C's choose less variables\n",
    "cv_scores = []\n",
    "for c_score in c_list:\n",
    "    lm = LogisticRegression(C = c_score, penalty = \"l1\")\n",
    "    cv_scores.append(cross_val_score(lm,X,y,cv=10).mean())\n",
    "\n",
    "\n",
    "C_Choice_df = pd.DataFrame({'cv_scores': cv_scores ,'Log_C': c_index })\n",
    "C_Choice_df.plot(x ='Log_C',y = 'cv_scores' )\n",
    "# it sounds like our best choice is C = -0.1  (we chose the most restrictive option)"
   ]
  },
  {
   "cell_type": "code",
   "execution_count": 100,
   "metadata": {
    "collapsed": false
   },
   "outputs": [
    {
     "data": {
      "text/html": [
       "<div>\n",
       "<table border=\"1\" class=\"dataframe\">\n",
       "  <thead>\n",
       "    <tr style=\"text-align: right;\">\n",
       "      <th></th>\n",
       "      <th>temp</th>\n",
       "      <th>precipiation</th>\n",
       "      <th>visability</th>\n",
       "      <th>windspeed</th>\n",
       "      <th>humidity</th>\n",
       "      <th>cloudcover</th>\n",
       "      <th>is_bullet</th>\n",
       "      <th>is_limited</th>\n",
       "      <th>t_northbound</th>\n",
       "      <th>d_tuesday</th>\n",
       "      <th>...</th>\n",
       "      <th>tid_365.0</th>\n",
       "      <th>tid_366.0</th>\n",
       "      <th>tid_370.0</th>\n",
       "      <th>tid_371.0</th>\n",
       "      <th>tid_375.0</th>\n",
       "      <th>tid_376.0</th>\n",
       "      <th>tid_380.0</th>\n",
       "      <th>tid_381.0</th>\n",
       "      <th>tid_385.0</th>\n",
       "      <th>tid_386.0</th>\n",
       "    </tr>\n",
       "  </thead>\n",
       "  <tbody>\n",
       "    <tr>\n",
       "      <th>0</th>\n",
       "      <td>72.97875</td>\n",
       "      <td>0</td>\n",
       "      <td>10</td>\n",
       "      <td>6.68125</td>\n",
       "      <td>0.62875</td>\n",
       "      <td>0.09875</td>\n",
       "      <td>0</td>\n",
       "      <td>0</td>\n",
       "      <td>0</td>\n",
       "      <td>0</td>\n",
       "      <td>...</td>\n",
       "      <td>0</td>\n",
       "      <td>0</td>\n",
       "      <td>0</td>\n",
       "      <td>0</td>\n",
       "      <td>0</td>\n",
       "      <td>0</td>\n",
       "      <td>0</td>\n",
       "      <td>0</td>\n",
       "      <td>0</td>\n",
       "      <td>0</td>\n",
       "    </tr>\n",
       "    <tr>\n",
       "      <th>1</th>\n",
       "      <td>72.97875</td>\n",
       "      <td>0</td>\n",
       "      <td>10</td>\n",
       "      <td>6.68125</td>\n",
       "      <td>0.62875</td>\n",
       "      <td>0.09875</td>\n",
       "      <td>0</td>\n",
       "      <td>0</td>\n",
       "      <td>0</td>\n",
       "      <td>0</td>\n",
       "      <td>...</td>\n",
       "      <td>0</td>\n",
       "      <td>0</td>\n",
       "      <td>0</td>\n",
       "      <td>0</td>\n",
       "      <td>0</td>\n",
       "      <td>0</td>\n",
       "      <td>0</td>\n",
       "      <td>0</td>\n",
       "      <td>0</td>\n",
       "      <td>0</td>\n",
       "    </tr>\n",
       "    <tr>\n",
       "      <th>2</th>\n",
       "      <td>72.97875</td>\n",
       "      <td>0</td>\n",
       "      <td>10</td>\n",
       "      <td>6.68125</td>\n",
       "      <td>0.62875</td>\n",
       "      <td>0.09875</td>\n",
       "      <td>0</td>\n",
       "      <td>0</td>\n",
       "      <td>0</td>\n",
       "      <td>0</td>\n",
       "      <td>...</td>\n",
       "      <td>0</td>\n",
       "      <td>0</td>\n",
       "      <td>0</td>\n",
       "      <td>0</td>\n",
       "      <td>0</td>\n",
       "      <td>0</td>\n",
       "      <td>0</td>\n",
       "      <td>0</td>\n",
       "      <td>0</td>\n",
       "      <td>0</td>\n",
       "    </tr>\n",
       "    <tr>\n",
       "      <th>3</th>\n",
       "      <td>72.97875</td>\n",
       "      <td>0</td>\n",
       "      <td>10</td>\n",
       "      <td>6.68125</td>\n",
       "      <td>0.62875</td>\n",
       "      <td>0.09875</td>\n",
       "      <td>0</td>\n",
       "      <td>0</td>\n",
       "      <td>0</td>\n",
       "      <td>0</td>\n",
       "      <td>...</td>\n",
       "      <td>0</td>\n",
       "      <td>0</td>\n",
       "      <td>0</td>\n",
       "      <td>0</td>\n",
       "      <td>0</td>\n",
       "      <td>0</td>\n",
       "      <td>0</td>\n",
       "      <td>0</td>\n",
       "      <td>0</td>\n",
       "      <td>0</td>\n",
       "    </tr>\n",
       "    <tr>\n",
       "      <th>4</th>\n",
       "      <td>72.97875</td>\n",
       "      <td>0</td>\n",
       "      <td>10</td>\n",
       "      <td>6.68125</td>\n",
       "      <td>0.62875</td>\n",
       "      <td>0.09875</td>\n",
       "      <td>0</td>\n",
       "      <td>0</td>\n",
       "      <td>0</td>\n",
       "      <td>0</td>\n",
       "      <td>...</td>\n",
       "      <td>0</td>\n",
       "      <td>0</td>\n",
       "      <td>0</td>\n",
       "      <td>0</td>\n",
       "      <td>0</td>\n",
       "      <td>0</td>\n",
       "      <td>0</td>\n",
       "      <td>0</td>\n",
       "      <td>0</td>\n",
       "      <td>0</td>\n",
       "    </tr>\n",
       "  </tbody>\n",
       "</table>\n",
       "<p>5 rows × 103 columns</p>\n",
       "</div>"
      ],
      "text/plain": [
       "       temp  precipiation  visability  windspeed  humidity  cloudcover  \\\n",
       "0  72.97875             0          10    6.68125   0.62875     0.09875   \n",
       "1  72.97875             0          10    6.68125   0.62875     0.09875   \n",
       "2  72.97875             0          10    6.68125   0.62875     0.09875   \n",
       "3  72.97875             0          10    6.68125   0.62875     0.09875   \n",
       "4  72.97875             0          10    6.68125   0.62875     0.09875   \n",
       "\n",
       "   is_bullet  is_limited  t_northbound  d_tuesday    ...      tid_365.0  \\\n",
       "0          0           0             0          0    ...              0   \n",
       "1          0           0             0          0    ...              0   \n",
       "2          0           0             0          0    ...              0   \n",
       "3          0           0             0          0    ...              0   \n",
       "4          0           0             0          0    ...              0   \n",
       "\n",
       "   tid_366.0  tid_370.0  tid_371.0  tid_375.0  tid_376.0  tid_380.0  \\\n",
       "0          0          0          0          0          0          0   \n",
       "1          0          0          0          0          0          0   \n",
       "2          0          0          0          0          0          0   \n",
       "3          0          0          0          0          0          0   \n",
       "4          0          0          0          0          0          0   \n",
       "\n",
       "   tid_381.0  tid_385.0  tid_386.0  \n",
       "0          0          0          0  \n",
       "1          0          0          0  \n",
       "2          0          0          0  \n",
       "3          0          0          0  \n",
       "4          0          0          0  \n",
       "\n",
       "[5 rows x 103 columns]"
      ]
     },
     "execution_count": 100,
     "metadata": {},
     "output_type": "execute_result"
    }
   ],
   "source": [
    "X.head()"
   ]
  },
  {
   "cell_type": "markdown",
   "metadata": {},
   "source": [
    "### Run for Boosting"
   ]
  },
  {
   "cell_type": "code",
   "execution_count": 195,
   "metadata": {
    "collapsed": false
   },
   "outputs": [
    {
     "name": "stdout",
     "output_type": "stream",
     "text": [
      "0.991484888834\n"
     ]
    }
   ],
   "source": [
    "from sklearn.ensemble import GradientBoostingClassifier\n",
    "GBC_Tree = GradientBoostingClassifier(learning_rate = 0.01,\n",
    "                                      n_estimators = 10000,\n",
    "                                      max_depth = 2,\n",
    "                                      min_samples_leaf = 5)\n",
    " \n",
    "\n",
    "from sklearn import cross_validation\n",
    "kf = cross_validation.KFold(len(df), n_folds = 10, shuffle = True) #10 fold CV\n",
    "scores = []\n",
    "for train_index, test_index in kf:        \n",
    "        GBC_Tree.fit(X.iloc[train_index], y.iloc[train_index])\n",
    "        y_hat_test = GBC_Tree.predict(X.iloc[test_index]) \n",
    "        scores.append(float(sum(y_hat_test == y.iloc[test_index]))/len(y_hat_test))\n",
    "\n",
    "Score_GBC_CV = np.mean(scores)    \n",
    "\n",
    "print(Score_GBC_CV)"
   ]
  },
  {
   "cell_type": "code",
   "execution_count": 196,
   "metadata": {
    "collapsed": false
   },
   "outputs": [
    {
     "name": "stdout",
     "output_type": "stream",
     "text": [
      "Confusion matrix:\n",
      "[[20666    28]\n",
      " [  111   216]]\n",
      "Normalized\n",
      "[[ 0.9986  0.0014]\n",
      " [ 0.3394  0.6606]]\n"
     ]
    },
    {
     "data": {
      "image/png": "[encoded data removed]",
      "text/plain": [
       "<matplotlib.figure.Figure at 0x116b299d0>"
      ]
     },
     "metadata": {},
     "output_type": "display_data"
    }
   ],
   "source": [
    "from sklearn.metrics import confusion_matrix\n",
    "y_hat = GBC_Tree.predict(X)\n",
    "cmat = confusion_matrix(y, y_hat)\n",
    "c_norm = cmat.astype('float') / cmat.sum(axis=1)[:, np.newaxis]\n",
    "print \"Confusion matrix:\"\n",
    "print cmat\n",
    "print \"Normalized\"\n",
    "print np.round(c_norm,4)\n",
    "plot_confusion_matrix(c_norm) # Normalized"
   ]
  },
  {
   "cell_type": "code",
   "execution_count": 197,
   "metadata": {
    "collapsed": false
   },
   "outputs": [
    {
     "name": "stdout",
     "output_type": "stream",
     "text": [
      "Accuracy\n",
      "0.9934 %\n",
      "Misclass\n",
      "0.0066 %\n",
      "Sensitivity\n",
      "0.6606 %\n",
      "Specificity\n",
      "0.9986 %\n"
     ]
    }
   ],
   "source": [
    "print \"Accuracy\"\n",
    "print np.round((cmat[1][1] + cmat[0][0]) / float(len(df)),4),'%'\n",
    "print \"Misclass\"\n",
    "print np.round((cmat[1][0] + cmat[0][1]) / float(len(df)),4),'%'\n",
    "print \"Sensitivity\"\n",
    "print np.round((cmat[1][1]) / float(cmat[1][1]+cmat[1][0]),4),'%'\n",
    "print \"Specificity\"\n",
    "print np.round((cmat[0][0]) / float(cmat[0][0]+cmat[0][1]),4),'%'"
   ]
  },
  {
   "cell_type": "markdown",
   "metadata": {},
   "source": [
    "### Prediction Prototype"
   ]
  },
  {
   "cell_type": "code",
   "execution_count": 202,
   "metadata": {
    "collapsed": false
   },
   "outputs": [],
   "source": [
    "import forecastio\n",
    "keys = pd.read_csv('keys.csv') # hidden from github\n",
    "forecaseiokey=keys.iloc[5].string\n",
    "api_key = forecaseiokey\n",
    "lat = 37.441879\n",
    "lng = -122.143021\n",
    "time = datetime.datetime.now()\n",
    "forecast = forecastio.load_forecast(api_key, lat, lng,time=time)\n",
    "current = forecast.currently()"
   ]
  },
  {
   "cell_type": "code",
   "execution_count": 204,
   "metadata": {
    "collapsed": false
   },
   "outputs": [
    {
     "name": "stdout",
     "output_type": "stream",
     "text": [
      "{u'ozone': 364.43, u'temperature': 64.79, u'icon': u'clear-day', u'dewPoint': 49.88, u'humidity': 0.58, u'visibility': 9.92, u'summary': u'Clear', u'apparentTemperature': 64.79, u'pressure': 1015.48, u'windSpeed': 6.9, u'cloudCover': 0.12, u'time': 1459377043, u'windBearing': 321, u'precipIntensity': 0, u'precipProbability': 0}\n"
     ]
    }
   ],
   "source": [
    "print current.d"
   ]
  },
  {
   "cell_type": "code",
   "execution_count": 207,
   "metadata": {
    "collapsed": false
   },
   "outputs": [
    {
     "name": "stdout",
     "output_type": "stream",
     "text": [
      "Will be delayed: 1\n",
      "Probability: 0.11 %\n"
     ]
    }
   ],
   "source": [
    "The_train = '371'\n",
    "Predict_me = pd.DataFrame({\n",
    "        'temp': [current.d['apparentTemperature']],\n",
    "        'precipiation': [current.d['precipIntensity']],\n",
    "        'visability': [current.d['visibility']],\n",
    "        'windspeed': [current.d['windSpeed']],\n",
    "        'humidity': [current.d['humidity']],\n",
    "        'cloudcover': [current.d['cloudCover']],\n",
    "        'is_bullet':[1],\n",
    "        'is_limited':[0],\n",
    "        't_northbound':[1],\n",
    "        'd_tuesday': 1 if time.weekday == 1 else 0,\n",
    "        'd_wednesday':1 if time.weekday == 2 else 0,\n",
    "        'd_thursday':1 if time.weekday == 3 else 0,\n",
    "        'd_friday':1 if time.weekday == 4 else 0\n",
    "        })\n",
    "\n",
    "\n",
    "t = pd.DataFrame(columns=tid_col)\n",
    "t = t.append([0]).fillna(0)\n",
    "t['tid_'+The_train+'.0'] = 1\n",
    "t['tid_'+The_train+'.0']\n",
    "Predict_me = pd.concat([Predict_me, t],axis=1)\n",
    "del Predict_me[0]\n",
    "pred = GBC_Tree.predict(Predict_me)[0]\n",
    "pprob = GBC_Tree.predict_proba(Predict_me)\n",
    "print \"Will be delayed:\",pred\n",
    "print \"Probability:\",np.round(pprob[0][0],4)*100,'%'"
   ]
  },
  {
   "cell_type": "code",
   "execution_count": null,
   "metadata": {
    "collapsed": true
   },
   "outputs": [],
   "source": []
  },
  {
   "cell_type": "code",
   "execution_count": null,
   "metadata": {
    "collapsed": true
   },
   "outputs": [],
   "source": []
  },
  {
   "cell_type": "code",
   "execution_count": null,
   "metadata": {
    "collapsed": true
   },
   "outputs": [],
   "source": []
  }
 ],
 "metadata": {
  "kernelspec": {
   "display_name": "Python 2",
   "language": "python",
   "name": "python2"
  },
  "language_info": {
   "codemirror_mode": {
    "name": "ipython",
    "version": 2
   },
   "file_extension": ".py",
   "mimetype": "text/x-python",
   "name": "python",
   "nbconvert_exporter": "python",
   "pygments_lexer": "ipython2",
   "version": "2.7.11"
  }
 },
 "nbformat": 4,
 "nbformat_minor": 0
}
