{
 "cells": [
  {
   "cell_type": "code",
   "execution_count": 1,
   "metadata": {
    "collapsed": false
   },
   "outputs": [
    {
     "name": "stderr",
     "output_type": "stream",
     "text": [
      "/Users/albarron/anaconda/lib/python2.7/site-packages/matplotlib/font_manager.py:273: UserWarning: Matplotlib is building the font cache using fc-list. This may take a moment.\n",
      "  warnings.warn('Matplotlib is building the font cache using fc-list. This may take a moment.')\n"
     ]
    }
   ],
   "source": [
    "import sys\n",
    "import re\n",
    "import time\n",
    "import datetime\n",
    "import pandas as pd\n",
    "import numpy as np\n",
    "import func\n",
    "# inline plot\n",
    "import matplotlib.pyplot as plt\n",
    "%matplotlib inline"
   ]
  },
  {
   "cell_type": "code",
   "execution_count": 2,
   "metadata": {
    "collapsed": false
   },
   "outputs": [
    {
     "name": "stdout",
     "output_type": "stream",
     "text": [
      "(21021, 33)\n"
     ]
    }
   ],
   "source": [
    "df = pd.read_csv(\"data/merged_concat_final.csv\",sep='\\t',error_bad_lines=False)\n",
    "del df['Unnamed: 0']\n",
    "print df.shape"
   ]
  },
  {
   "cell_type": "code",
   "execution_count": 5,
   "metadata": {
    "collapsed": false
   },
   "outputs": [],
   "source": [
    "df.set_index('timestamp')\n",
    "df['timestamp'] = pd.to_datetime(df['timestamp'],format=\"%Y-%m-%d %H:%M:%S\")"
   ]
  },
  {
   "cell_type": "code",
   "execution_count": 6,
   "metadata": {
    "collapsed": false
   },
   "outputs": [],
   "source": [
    "only_delay = df[(df['is_delay']==1)]"
   ]
  },
  {
   "cell_type": "code",
   "execution_count": 326,
   "metadata": {
    "collapsed": false
   },
   "outputs": [
    {
     "data": {
      "text/plain": [
       "327"
      ]
     },
     "execution_count": 326,
     "metadata": {},
     "output_type": "execute_result"
    }
   ],
   "source": [
    "len(only_delay)"
   ]
  },
  {
   "cell_type": "code",
   "execution_count": 7,
   "metadata": {
    "collapsed": false
   },
   "outputs": [
    {
     "name": "stdout",
     "output_type": "stream",
     "text": [
      "relative to delay\n",
      "is_delay    100.000000\n",
      "del_min      27.828746\n",
      "del_med      43.425076\n",
      "del_maj       8.562691\n",
      "del_cat       4.892966\n",
      "dtype: float64 %\n",
      "Relative to total\n",
      "is_delay    1.555587\n",
      "del_min     0.432900\n",
      "del_med     0.675515\n",
      "del_maj     0.133200\n",
      "del_cat     0.076114\n",
      "dtype: float64 %\n"
     ]
    }
   ],
   "source": [
    "print \"relative to delay\"\n",
    "print (df[['is_delay','del_min','del_med','del_maj','del_cat']].sum()/float(df['is_delay'].sum()))*100 , '%'\n",
    "print \"Relative to total\"\n",
    "print (df[['is_delay','del_min','del_med','del_maj','del_cat']].sum()/float(len(df)))*100 , '%'"
   ]
  },
  {
   "cell_type": "code",
   "execution_count": 8,
   "metadata": {
    "collapsed": false
   },
   "outputs": [],
   "source": [
    "# Train IDs swapped into cat variables and concat into main dataset\n",
    "train_id_dummies = pd.get_dummies(df['train_id'],prefix='tid')\n",
    "train_id_dummies.shape\n",
    "train_id_dummies.columns.values\n",
    "del train_id_dummies['tid_101.0'] # Delete as base var\n",
    "tid_col = train_id_dummies.columns.values\n",
    "df = pd.concat([df, train_id_dummies], axis=1)"
   ]
  },
  {
   "cell_type": "markdown",
   "metadata": {},
   "source": [
    "### Pick one of these to explore re: below models"
   ]
  },
  {
   "cell_type": "code",
   "execution_count": 73,
   "metadata": {
    "collapsed": true
   },
   "outputs": [],
   "source": [
    "# Including train IDs\n",
    "features = df.columns.values\n",
    "target_cols = ['temp','precipiation',\n",
    "        'visability','windspeed','humidity','cloudcover',\n",
    "        'is_bullet','is_limited','t_northbound',\n",
    "       'd_tuesday','d_wednesday','d_thursday','d_friday',] + list(tid_col)\n",
    "X = df[target_cols]\n",
    "# del X['is_delay']\n",
    "# del X['tweet_id']\n",
    "# X['timestamp'] = X['timestamp'].apply(lambda x: (np.datetime64(x).astype('uint64') / 1e6).astype('uint32'))\n",
    "# y = df['ord_del']\n",
    "y = df['is_delay']"
   ]
  },
  {
   "cell_type": "code",
   "execution_count": null,
   "metadata": {
    "collapsed": true
   },
   "outputs": [],
   "source": [
    "# Including train IDs\n",
    "features = df.columns.values\n",
    "target_cols = ['temp','precipiation',\n",
    "        'visability','windspeed','humidity','cloudcover',\n",
    "        'is_bullet','is_limited','t_northbound',\n",
    "       'd_tuesday','d_wednesday','d_thursday','d_friday',] + list(tid_col)\n",
    "X = df[target_cols]\n",
    "# del X['is_delay']\n",
    "# del X['tweet_id']\n",
    "# X['timestamp'] = X['timestamp'].apply(lambda x: (np.datetime64(x).astype('uint64') / 1e6).astype('uint32'))\n",
    "# y = df['ord_del']\n",
    "y = df['is_delay']"
   ]
  },
  {
   "cell_type": "code",
   "execution_count": 74,
   "metadata": {
    "collapsed": false
   },
   "outputs": [
    {
     "name": "stderr",
     "output_type": "stream",
     "text": [
      "/Users/albarron/anaconda/lib/python2.7/site-packages/ipykernel/__main__.py:4: SettingWithCopyWarning: \n",
      "A value is trying to be set on a copy of a slice from a DataFrame.\n",
      "Try using .loc[row_indexer,col_indexer] = value instead\n",
      "\n",
      "See the caveats in the documentation: http://pandas.pydata.org/pandas-docs/stable/indexing.html#indexing-view-versus-copy\n",
      "/Users/albarron/anaconda/lib/python2.7/site-packages/ipykernel/__main__.py:5: SettingWithCopyWarning: \n",
      "A value is trying to be set on a copy of a slice from a DataFrame.\n",
      "Try using .loc[row_indexer,col_indexer] = value instead\n",
      "\n",
      "See the caveats in the documentation: http://pandas.pydata.org/pandas-docs/stable/indexing.html#indexing-view-versus-copy\n"
     ]
    }
   ],
   "source": [
    "# X['timestamp'] = X['timestamp'].apply(lambda x:int(x))\n",
    "# X['stop_pa'] = X['stop_pa'].apply(lambda x:int(x))\n",
    "# X['train_id'] = X['train_id'].apply(lambda x:int(x))\n",
    "X['t_northbound'] = X['t_northbound'].apply(lambda x:int(x))\n",
    "X['cloudcover'] = X['cloudcover'].fillna(X['cloudcover'].mean())"
   ]
  },
  {
   "cell_type": "markdown",
   "metadata": {},
   "source": [
    "### Train/Test split"
   ]
  },
  {
   "cell_type": "code",
   "execution_count": 289,
   "metadata": {
    "collapsed": false
   },
   "outputs": [],
   "source": [
    "from sklearn.cross_validation import train_test_split\n",
    "X_train, X_test, y_train, y_test = train_test_split(X, y,test_size=0.25)"
   ]
  },
  {
   "cell_type": "markdown",
   "metadata": {},
   "source": [
    "### Run Decision Trees, Prune, and consider False Positives"
   ]
  },
  {
   "cell_type": "code",
   "execution_count": 76,
   "metadata": {
    "collapsed": false
   },
   "outputs": [
    {
     "data": {
      "text/plain": [
       "DecisionTreeClassifier(class_weight=None, criterion='gini', max_depth=2,\n",
       "            max_features=None, max_leaf_nodes=None, min_samples_leaf=5,\n",
       "            min_samples_split=2, min_weight_fraction_leaf=0.0,\n",
       "            random_state=None, splitter='best')"
      ]
     },
     "execution_count": 76,
     "metadata": {},
     "output_type": "execute_result"
    }
   ],
   "source": [
    "from sklearn.tree import DecisionTreeClassifier\n",
    "TreeClass = DecisionTreeClassifier(\n",
    "                max_depth = 2,\n",
    "                min_samples_leaf = 5)\n",
    "TreeClass.fit(X_train,y_train)"
   ]
  },
  {
   "cell_type": "code",
   "execution_count": 394,
   "metadata": {
    "collapsed": false
   },
   "outputs": [
    {
     "name": "stdout",
     "output_type": "stream",
     "text": [
      "0.992055614405\n"
     ]
    }
   ],
   "source": [
    "from sklearn import metrics\n",
    "from sklearn.cross_validation import cross_val_score\n",
    "scores = cross_val_score(TreeClass, X, y, cv=10)\n",
    "print(scores.mean()) # Score = More is better, error is 1-score"
   ]
  },
  {
   "cell_type": "code",
   "execution_count": 395,
   "metadata": {
    "collapsed": false
   },
   "outputs": [
    {
     "data": {
      "text/plain": [
       "<matplotlib.axes._subplots.AxesSubplot at 0x11cbd5650>"
      ]
     },
     "execution_count": 395,
     "metadata": {},
     "output_type": "execute_result"
    },
    {
     "data": {
      "image/png": "[encoded data removed]",
      "text/plain": [
       "<matplotlib.figure.Figure at 0x112da2850>"
      ]
     },
     "metadata": {},
     "output_type": "display_data"
    }
   ],
   "source": [
    "Depth = range(1,10)\n",
    "score = []\n",
    "for i in Depth:\n",
    "      TreeClass = DecisionTreeClassifier(\n",
    "                max_depth = i,\n",
    "                min_samples_leaf = 5)\n",
    "      scores = cross_val_score(TreeClass, X, y, cv=10)\n",
    "      score.append(np.mean(scores))\n",
    "\n",
    "Depth_Choice_df = pd.DataFrame({'cv_scores': score ,'Depth': Depth})\n",
    "Depth_Choice_df.plot(x ='Depth',y = 'cv_scores' )\n",
    "\n",
    "#It seems like at depth = 4 we achieved the best result"
   ]
  },
  {
   "cell_type": "code",
   "execution_count": 80,
   "metadata": {
    "collapsed": false
   },
   "outputs": [
    {
     "data": {
      "text/html": [
       "<div>\n",
       "<table border=\"1\" class=\"dataframe\">\n",
       "  <thead>\n",
       "    <tr style=\"text-align: right;\">\n",
       "      <th></th>\n",
       "      <th>Depth</th>\n",
       "      <th>cv_scores</th>\n",
       "    </tr>\n",
       "  </thead>\n",
       "  <tbody>\n",
       "    <tr>\n",
       "      <th>0</th>\n",
       "      <td>1</td>\n",
       "      <td>0.989345</td>\n",
       "    </tr>\n",
       "    <tr>\n",
       "      <th>1</th>\n",
       "      <td>2</td>\n",
       "      <td>0.992959</td>\n",
       "    </tr>\n",
       "    <tr>\n",
       "      <th>2</th>\n",
       "      <td>3</td>\n",
       "      <td>0.992389</td>\n",
       "    </tr>\n",
       "    <tr>\n",
       "      <th>3</th>\n",
       "      <td>4</td>\n",
       "      <td>0.992389</td>\n",
       "    </tr>\n",
       "    <tr>\n",
       "      <th>4</th>\n",
       "      <td>5</td>\n",
       "      <td>0.992769</td>\n",
       "    </tr>\n",
       "  </tbody>\n",
       "</table>\n",
       "</div>"
      ],
      "text/plain": [
       "   Depth  cv_scores\n",
       "0      1   0.989345\n",
       "1      2   0.992959\n",
       "2      3   0.992389\n",
       "3      4   0.992389\n",
       "4      5   0.992769"
      ]
     },
     "execution_count": 80,
     "metadata": {},
     "output_type": "execute_result"
    }
   ],
   "source": [
    "Depth_Choice_df.head()"
   ]
  },
  {
   "cell_type": "code",
   "execution_count": null,
   "metadata": {
    "collapsed": true
   },
   "outputs": [],
   "source": [
    "TreeClass = DecisionTreeClassifier(\n",
    "                max_depth = 2,\n",
    "                min_samples_leaf = 5)"
   ]
  },
  {
   "cell_type": "code",
   "execution_count": 405,
   "metadata": {
    "collapsed": false
   },
   "outputs": [
    {
     "data": {
      "text/html": [
       "<div>\n",
       "<table border=\"1\" class=\"dataframe\">\n",
       "  <thead>\n",
       "    <tr style=\"text-align: right;\">\n",
       "      <th></th>\n",
       "      <th>Gini_Import</th>\n",
       "      <th>feature</th>\n",
       "    </tr>\n",
       "  </thead>\n",
       "  <tbody>\n",
       "    <tr>\n",
       "      <th>7</th>\n",
       "      <td>0.521470</td>\n",
       "      <td>is_limited</td>\n",
       "    </tr>\n",
       "    <tr>\n",
       "      <th>6</th>\n",
       "      <td>0.293549</td>\n",
       "      <td>is_bullet</td>\n",
       "    </tr>\n",
       "    <tr>\n",
       "      <th>0</th>\n",
       "      <td>0.051288</td>\n",
       "      <td>temp</td>\n",
       "    </tr>\n",
       "    <tr>\n",
       "      <th>5</th>\n",
       "      <td>0.033127</td>\n",
       "      <td>cloudcover</td>\n",
       "    </tr>\n",
       "    <tr>\n",
       "      <th>4</th>\n",
       "      <td>0.032764</td>\n",
       "      <td>humidity</td>\n",
       "    </tr>\n",
       "    <tr>\n",
       "      <th>3</th>\n",
       "      <td>0.016853</td>\n",
       "      <td>windspeed</td>\n",
       "    </tr>\n",
       "    <tr>\n",
       "      <th>10</th>\n",
       "      <td>0.010351</td>\n",
       "      <td>d_wednesday</td>\n",
       "    </tr>\n",
       "    <tr>\n",
       "      <th>2</th>\n",
       "      <td>0.008541</td>\n",
       "      <td>visability</td>\n",
       "    </tr>\n",
       "    <tr>\n",
       "      <th>17</th>\n",
       "      <td>0.006534</td>\n",
       "      <td>tid_135.0</td>\n",
       "    </tr>\n",
       "    <tr>\n",
       "      <th>12</th>\n",
       "      <td>0.005773</td>\n",
       "      <td>d_friday</td>\n",
       "    </tr>\n",
       "  </tbody>\n",
       "</table>\n",
       "</div>"
      ],
      "text/plain": [
       "    Gini_Import      feature\n",
       "7      0.521470   is_limited\n",
       "6      0.293549    is_bullet\n",
       "0      0.051288         temp\n",
       "5      0.033127   cloudcover\n",
       "4      0.032764     humidity\n",
       "3      0.016853    windspeed\n",
       "10     0.010351  d_wednesday\n",
       "2      0.008541   visability\n",
       "17     0.006534    tid_135.0\n",
       "12     0.005773     d_friday"
      ]
     },
     "execution_count": 405,
     "metadata": {},
     "output_type": "execute_result"
    }
   ],
   "source": [
    "TreeClass.fit(X_train,y_train)\n",
    "ImportanceDataFrame = pd.DataFrame({'feature':X.columns.values, 'Gini_Import':TreeClass.feature_importances_})\n",
    "ImportanceDataFrame.sort_values(by = ['Gini_Import'],ascending = 0).head(10)"
   ]
  },
  {
   "cell_type": "code",
   "execution_count": 94,
   "metadata": {
    "collapsed": false
   },
   "outputs": [
    {
     "data": {
      "text/html": [
       "<div>\n",
       "<table border=\"1\" class=\"dataframe\">\n",
       "  <thead>\n",
       "    <tr style=\"text-align: right;\">\n",
       "      <th></th>\n",
       "      <th>temp</th>\n",
       "      <th>precipiation</th>\n",
       "      <th>visability</th>\n",
       "      <th>windspeed</th>\n",
       "      <th>humidity</th>\n",
       "      <th>cloudcover</th>\n",
       "    </tr>\n",
       "  </thead>\n",
       "  <tbody>\n",
       "    <tr>\n",
       "      <th>temp</th>\n",
       "      <td>1.000000</td>\n",
       "      <td>-0.209248</td>\n",
       "      <td>0.119720</td>\n",
       "      <td>0.333041</td>\n",
       "      <td>-0.345526</td>\n",
       "      <td>-0.158742</td>\n",
       "    </tr>\n",
       "    <tr>\n",
       "      <th>precipiation</th>\n",
       "      <td>-0.209248</td>\n",
       "      <td>1.000000</td>\n",
       "      <td>-0.459115</td>\n",
       "      <td>0.200260</td>\n",
       "      <td>0.303568</td>\n",
       "      <td>0.365534</td>\n",
       "    </tr>\n",
       "    <tr>\n",
       "      <th>visability</th>\n",
       "      <td>0.119720</td>\n",
       "      <td>-0.459115</td>\n",
       "      <td>1.000000</td>\n",
       "      <td>-0.119827</td>\n",
       "      <td>-0.427823</td>\n",
       "      <td>-0.343510</td>\n",
       "    </tr>\n",
       "    <tr>\n",
       "      <th>windspeed</th>\n",
       "      <td>0.333041</td>\n",
       "      <td>0.200260</td>\n",
       "      <td>-0.119827</td>\n",
       "      <td>1.000000</td>\n",
       "      <td>-0.004015</td>\n",
       "      <td>0.252678</td>\n",
       "    </tr>\n",
       "    <tr>\n",
       "      <th>humidity</th>\n",
       "      <td>-0.345526</td>\n",
       "      <td>0.303568</td>\n",
       "      <td>-0.427823</td>\n",
       "      <td>-0.004015</td>\n",
       "      <td>1.000000</td>\n",
       "      <td>0.487529</td>\n",
       "    </tr>\n",
       "    <tr>\n",
       "      <th>cloudcover</th>\n",
       "      <td>-0.158742</td>\n",
       "      <td>0.365534</td>\n",
       "      <td>-0.343510</td>\n",
       "      <td>0.252678</td>\n",
       "      <td>0.487529</td>\n",
       "      <td>1.000000</td>\n",
       "    </tr>\n",
       "  </tbody>\n",
       "</table>\n",
       "</div>"
      ],
      "text/plain": [
       "                  temp  precipiation  visability  windspeed  humidity  \\\n",
       "temp          1.000000     -0.209248    0.119720   0.333041 -0.345526   \n",
       "precipiation -0.209248      1.000000   -0.459115   0.200260  0.303568   \n",
       "visability    0.119720     -0.459115    1.000000  -0.119827 -0.427823   \n",
       "windspeed     0.333041      0.200260   -0.119827   1.000000 -0.004015   \n",
       "humidity     -0.345526      0.303568   -0.427823  -0.004015  1.000000   \n",
       "cloudcover   -0.158742      0.365534   -0.343510   0.252678  0.487529   \n",
       "\n",
       "              cloudcover  \n",
       "temp           -0.158742  \n",
       "precipiation    0.365534  \n",
       "visability     -0.343510  \n",
       "windspeed       0.252678  \n",
       "humidity        0.487529  \n",
       "cloudcover      1.000000  "
      ]
     },
     "execution_count": 94,
     "metadata": {},
     "output_type": "execute_result"
    }
   ],
   "source": [
    "df[['temp','precipiation','visability','windspeed','humidity','cloudcover']].corr()"
   ]
  },
  {
   "cell_type": "code",
   "execution_count": 83,
   "metadata": {
    "collapsed": true
   },
   "outputs": [],
   "source": [
    "# http://scikit-learn.org/stable/auto_examples/model_selection/plot_confusion_matrix.html#example-model-selection-plot-confusion-matrix-py\n",
    "def plot_confusion_matrix(cm, title='Confusion matrix', cmap=plt.cm.Blues):\n",
    "    plt.imshow(cm, interpolation='nearest', cmap=cmap)\n",
    "    plt.title(title)\n",
    "    plt.colorbar()\n",
    "    tick_marks = np.arange(2)\n",
    "    plt.xticks(tick_marks, ['No Delay','Delay'], rotation=45)\n",
    "    plt.yticks(tick_marks, ['No Delay','Delay'])\n",
    "    plt.tight_layout()\n",
    "    plt.ylabel('True label')\n",
    "    plt.xlabel('Predicted label')"
   ]
  },
  {
   "cell_type": "code",
   "execution_count": 400,
   "metadata": {
    "collapsed": false
   },
   "outputs": [
    {
     "name": "stdout",
     "output_type": "stream",
     "text": [
      "Confusion matrix:\n",
      "[[5164   12]\n",
      " [  41   39]]\n",
      "Normalized\n",
      "[[ 0.9977  0.0023]\n",
      " [ 0.5125  0.4875]]\n",
      "Accuracy\n",
      "0.9899 %\n",
      "Misclass\n",
      "0.0101 %\n",
      "Sensitivity\n",
      "0.4875 %\n",
      "Specificity\n",
      "0.9977 %\n"
     ]
    },
    {
     "data": {
      "image/png": "[encoded data removed]",
      "text/plain": [
       "<matplotlib.figure.Figure at 0x127393e50>"
      ]
     },
     "metadata": {},
     "output_type": "display_data"
    }
   ],
   "source": [
    "from sklearn.metrics import confusion_matrix\n",
    "TreeClass.fit(X_train,y_train)\n",
    "y_hat = TreeClass.predict(X_test)\n",
    "cmat = confusion_matrix(y_test, y_hat)\n",
    "c_norm = cmat.astype('float') / cmat.sum(axis=1)[:, np.newaxis]\n",
    "print \"Confusion matrix:\"\n",
    "print cmat\n",
    "print \"Normalized\"\n",
    "print np.round(c_norm,4)\n",
    "plot_confusion_matrix(c_norm) # Normalized\n",
    "print \"Accuracy\"\n",
    "print np.round((cmat[1][1] + cmat[0][0]) / float(len(X_test)),4),'%'\n",
    "print \"Misclass\"\n",
    "print np.round((cmat[1][0] + cmat[0][1]) / float(len(X_test)),4),'%'\n",
    "print \"Sensitivity\"\n",
    "print np.round((cmat[1][1]) / float(cmat[1][1]+cmat[1][0]),4),'%'\n",
    "print \"Specificity\"\n",
    "print np.round((cmat[0][0]) / float(cmat[0][0]+cmat[0][1]),4),'%'"
   ]
  },
  {
   "cell_type": "code",
   "execution_count": 401,
   "metadata": {
    "collapsed": false
   },
   "outputs": [
    {
     "name": "stdout",
     "output_type": "stream",
     "text": [
      "[ 0.00188127  0.00188127  0.00188127 ...,  0.00188127  0.00188127\n",
      "  0.00188127]\n",
      "0.837881568779\n"
     ]
    },
    {
     "data": {
      "text/plain": [
       "<matplotlib.axes._subplots.AxesSubplot at 0x126ed9b90>"
      ]
     },
     "execution_count": 401,
     "metadata": {},
     "output_type": "execute_result"
    },
    {
     "data": {
      "image/png": "[encoded data removed]",
      "text/plain": [
       "<matplotlib.figure.Figure at 0x127387c90>"
      ]
     },
     "metadata": {},
     "output_type": "display_data"
    }
   ],
   "source": [
    "y_hat_probability = TreeClass.predict_proba(X_test).T[1] \n",
    "print(y_hat_probability)\n",
    "print(roc_auc_score(y_test, y_hat_probability))\n",
    "vals = roc_curve(y_test, y_hat_probability)  \n",
    "Roc_DataFrame = pd.DataFrame({'False_Positive_Rate':vals[0],'True_Positive_Rate':vals[1]})\n",
    "Roc_DataFrame.plot(x = 'False_Positive_Rate' , y = 'True_Positive_Rate' ) "
   ]
  },
  {
   "cell_type": "code",
   "execution_count": 390,
   "metadata": {
    "collapsed": false
   },
   "outputs": [
    {
     "name": "stdout",
     "output_type": "stream",
     "text": [
      "[ 0.00577886  0.00577886  0.00577886 ...,  0.00577886  0.00577886\n",
      "  0.00577886]\n",
      "0.805011108964\n"
     ]
    },
    {
     "data": {
      "text/plain": [
       "<matplotlib.axes._subplots.AxesSubplot at 0x11a77ab50>"
      ]
     },
     "execution_count": 390,
     "metadata": {},
     "output_type": "execute_result"
    },
    {
     "data": {
      "image/png": "[encoded data removed]",
      "text/plain": [
       "<matplotlib.figure.Figure at 0x11a77a690>"
      ]
     },
     "metadata": {},
     "output_type": "display_data"
    }
   ],
   "source": [
    "from sklearn.metrics import roc_curve, auc,roc_auc_score\n",
    "TreeClass.fit(X_train,y_train)\n",
    "y_hat_probability = TreeClass.predict_proba(X_test).T[1] \n",
    "print(y_hat_probability)\n",
    "print(roc_auc_score(y_test, y_hat_probability))\n",
    "vals = roc_curve(y_test, y_hat_probability)  \n",
    "Roc_DataFrame = pd.DataFrame({'False_Positive_Rate':vals[0],'True_Positive_Rate':vals[1]})\n",
    "Roc_DataFrame.plot(x = 'False_Positive_Rate' , y = 'True_Positive_Rate' ) "
   ]
  },
  {
   "cell_type": "markdown",
   "metadata": {},
   "source": [
    "### As a check, consider Feature selection"
   ]
  },
  {
   "cell_type": "code",
   "execution_count": 404,
   "metadata": {
    "collapsed": false
   },
   "outputs": [
    {
     "data": {
      "text/html": [
       "<div>\n",
       "<table border=\"1\" class=\"dataframe\">\n",
       "  <thead>\n",
       "    <tr style=\"text-align: right;\">\n",
       "      <th></th>\n",
       "      <th>Feature</th>\n",
       "      <th>Value</th>\n",
       "    </tr>\n",
       "  </thead>\n",
       "  <tbody>\n",
       "    <tr>\n",
       "      <th>0</th>\n",
       "      <td>tid_139.0</td>\n",
       "      <td>0.8279</td>\n",
       "    </tr>\n",
       "    <tr>\n",
       "      <th>1</th>\n",
       "      <td>tid_221.0</td>\n",
       "      <td>0.8279</td>\n",
       "    </tr>\n",
       "    <tr>\n",
       "      <th>2</th>\n",
       "      <td>tid_231.0</td>\n",
       "      <td>0.8279</td>\n",
       "    </tr>\n",
       "    <tr>\n",
       "      <th>3</th>\n",
       "      <td>tid_257.0</td>\n",
       "      <td>0.8279</td>\n",
       "    </tr>\n",
       "    <tr>\n",
       "      <th>4</th>\n",
       "      <td>tid_274.0</td>\n",
       "      <td>0.8279</td>\n",
       "    </tr>\n",
       "  </tbody>\n",
       "</table>\n",
       "</div>"
      ],
      "text/plain": [
       "     Feature   Value\n",
       "0  tid_139.0  0.8279\n",
       "1  tid_221.0  0.8279\n",
       "2  tid_231.0  0.8279\n",
       "3  tid_257.0  0.8279\n",
       "4  tid_274.0  0.8279"
      ]
     },
     "execution_count": 404,
     "metadata": {},
     "output_type": "execute_result"
    }
   ],
   "source": [
    "from sklearn import feature_selection\n",
    "pvals = feature_selection.f_regression(X,y)[1] \n",
    "pd.DataFrame(sorted(zip(X.columns.values,np.round(pvals,4)),key=lambda x:x[1],reverse=True),columns=['Feature','Value']).head(5)"
   ]
  },
  {
   "cell_type": "code",
   "execution_count": 60,
   "metadata": {
    "collapsed": false
   },
   "outputs": [
    {
     "data": {
      "text/plain": [
       "<matplotlib.axes._subplots.AxesSubplot at 0x10e80f150>"
      ]
     },
     "execution_count": 60,
     "metadata": {},
     "output_type": "execute_result"
    },
    {
     "data": {
      "image/png": "[encoded data removed]",
      "text/plain": [
       "<matplotlib.figure.Figure at 0x1166afb10>"
      ]
     },
     "metadata": {},
     "output_type": "display_data"
    }
   ],
   "source": [
    "from sklearn.linear_model import LogisticRegression\n",
    "lm = LogisticRegression()\n",
    "lm.fit(X,y)\n",
    "X_lr=df[['windspeed','t_northbound','precipiation','d_friday']]\n",
    "# localize your search around the maximum value you found\n",
    "c_list = np.logspace(-1,1,21) \n",
    "c_index = np.linspace(-1,1,21)\n",
    "#C is just the inverse of Lambda - the smaller the C - the stronger the\n",
    "#regulatization. The smaller C's choose less variables\n",
    "cv_scores = []\n",
    "for c_score in c_list:\n",
    "    lm = LogisticRegression(C = c_score, penalty = \"l1\")\n",
    "    cv_scores.append(cross_val_score(lm,X,y,cv=10).mean())\n",
    "\n",
    "\n",
    "C_Choice_df = pd.DataFrame({'cv_scores': cv_scores ,'Log_C': c_index })\n",
    "C_Choice_df.plot(x ='Log_C',y = 'cv_scores' )\n",
    "# it sounds like our best choice is C = -0.1  (we chose the most restrictive option)"
   ]
  },
  {
   "cell_type": "code",
   "execution_count": 100,
   "metadata": {
    "collapsed": false
   },
   "outputs": [
    {
     "data": {
      "text/html": [
       "<div>\n",
       "<table border=\"1\" class=\"dataframe\">\n",
       "  <thead>\n",
       "    <tr style=\"text-align: right;\">\n",
       "      <th></th>\n",
       "      <th>temp</th>\n",
       "      <th>precipiation</th>\n",
       "      <th>visability</th>\n",
       "      <th>windspeed</th>\n",
       "      <th>humidity</th>\n",
       "      <th>cloudcover</th>\n",
       "      <th>is_bullet</th>\n",
       "      <th>is_limited</th>\n",
       "      <th>t_northbound</th>\n",
       "      <th>d_tuesday</th>\n",
       "      <th>...</th>\n",
       "      <th>tid_365.0</th>\n",
       "      <th>tid_366.0</th>\n",
       "      <th>tid_370.0</th>\n",
       "      <th>tid_371.0</th>\n",
       "      <th>tid_375.0</th>\n",
       "      <th>tid_376.0</th>\n",
       "      <th>tid_380.0</th>\n",
       "      <th>tid_381.0</th>\n",
       "      <th>tid_385.0</th>\n",
       "      <th>tid_386.0</th>\n",
       "    </tr>\n",
       "  </thead>\n",
       "  <tbody>\n",
       "    <tr>\n",
       "      <th>0</th>\n",
       "      <td>72.97875</td>\n",
       "      <td>0</td>\n",
       "      <td>10</td>\n",
       "      <td>6.68125</td>\n",
       "      <td>0.62875</td>\n",
       "      <td>0.09875</td>\n",
       "      <td>0</td>\n",
       "      <td>0</td>\n",
       "      <td>0</td>\n",
       "      <td>0</td>\n",
       "      <td>...</td>\n",
       "      <td>0</td>\n",
       "      <td>0</td>\n",
       "      <td>0</td>\n",
       "      <td>0</td>\n",
       "      <td>0</td>\n",
       "      <td>0</td>\n",
       "      <td>0</td>\n",
       "      <td>0</td>\n",
       "      <td>0</td>\n",
       "      <td>0</td>\n",
       "    </tr>\n",
       "    <tr>\n",
       "      <th>1</th>\n",
       "      <td>72.97875</td>\n",
       "      <td>0</td>\n",
       "      <td>10</td>\n",
       "      <td>6.68125</td>\n",
       "      <td>0.62875</td>\n",
       "      <td>0.09875</td>\n",
       "      <td>0</td>\n",
       "      <td>0</td>\n",
       "      <td>0</td>\n",
       "      <td>0</td>\n",
       "      <td>...</td>\n",
       "      <td>0</td>\n",
       "      <td>0</td>\n",
       "      <td>0</td>\n",
       "      <td>0</td>\n",
       "      <td>0</td>\n",
       "      <td>0</td>\n",
       "      <td>0</td>\n",
       "      <td>0</td>\n",
       "      <td>0</td>\n",
       "      <td>0</td>\n",
       "    </tr>\n",
       "    <tr>\n",
       "      <th>2</th>\n",
       "      <td>72.97875</td>\n",
       "      <td>0</td>\n",
       "      <td>10</td>\n",
       "      <td>6.68125</td>\n",
       "      <td>0.62875</td>\n",
       "      <td>0.09875</td>\n",
       "      <td>0</td>\n",
       "      <td>0</td>\n",
       "      <td>0</td>\n",
       "      <td>0</td>\n",
       "      <td>...</td>\n",
       "      <td>0</td>\n",
       "      <td>0</td>\n",
       "      <td>0</td>\n",
       "      <td>0</td>\n",
       "      <td>0</td>\n",
       "      <td>0</td>\n",
       "      <td>0</td>\n",
       "      <td>0</td>\n",
       "      <td>0</td>\n",
       "      <td>0</td>\n",
       "    </tr>\n",
       "    <tr>\n",
       "      <th>3</th>\n",
       "      <td>72.97875</td>\n",
       "      <td>0</td>\n",
       "      <td>10</td>\n",
       "      <td>6.68125</td>\n",
       "      <td>0.62875</td>\n",
       "      <td>0.09875</td>\n",
       "      <td>0</td>\n",
       "      <td>0</td>\n",
       "      <td>0</td>\n",
       "      <td>0</td>\n",
       "      <td>...</td>\n",
       "      <td>0</td>\n",
       "      <td>0</td>\n",
       "      <td>0</td>\n",
       "      <td>0</td>\n",
       "      <td>0</td>\n",
       "      <td>0</td>\n",
       "      <td>0</td>\n",
       "      <td>0</td>\n",
       "      <td>0</td>\n",
       "      <td>0</td>\n",
       "    </tr>\n",
       "    <tr>\n",
       "      <th>4</th>\n",
       "      <td>72.97875</td>\n",
       "      <td>0</td>\n",
       "      <td>10</td>\n",
       "      <td>6.68125</td>\n",
       "      <td>0.62875</td>\n",
       "      <td>0.09875</td>\n",
       "      <td>0</td>\n",
       "      <td>0</td>\n",
       "      <td>0</td>\n",
       "      <td>0</td>\n",
       "      <td>...</td>\n",
       "      <td>0</td>\n",
       "      <td>0</td>\n",
       "      <td>0</td>\n",
       "      <td>0</td>\n",
       "      <td>0</td>\n",
       "      <td>0</td>\n",
       "      <td>0</td>\n",
       "      <td>0</td>\n",
       "      <td>0</td>\n",
       "      <td>0</td>\n",
       "    </tr>\n",
       "  </tbody>\n",
       "</table>\n",
       "<p>5 rows × 103 columns</p>\n",
       "</div>"
      ],
      "text/plain": [
       "       temp  precipiation  visability  windspeed  humidity  cloudcover  \\\n",
       "0  72.97875             0          10    6.68125   0.62875     0.09875   \n",
       "1  72.97875             0          10    6.68125   0.62875     0.09875   \n",
       "2  72.97875             0          10    6.68125   0.62875     0.09875   \n",
       "3  72.97875             0          10    6.68125   0.62875     0.09875   \n",
       "4  72.97875             0          10    6.68125   0.62875     0.09875   \n",
       "\n",
       "   is_bullet  is_limited  t_northbound  d_tuesday    ...      tid_365.0  \\\n",
       "0          0           0             0          0    ...              0   \n",
       "1          0           0             0          0    ...              0   \n",
       "2          0           0             0          0    ...              0   \n",
       "3          0           0             0          0    ...              0   \n",
       "4          0           0             0          0    ...              0   \n",
       "\n",
       "   tid_366.0  tid_370.0  tid_371.0  tid_375.0  tid_376.0  tid_380.0  \\\n",
       "0          0          0          0          0          0          0   \n",
       "1          0          0          0          0          0          0   \n",
       "2          0          0          0          0          0          0   \n",
       "3          0          0          0          0          0          0   \n",
       "4          0          0          0          0          0          0   \n",
       "\n",
       "   tid_381.0  tid_385.0  tid_386.0  \n",
       "0          0          0          0  \n",
       "1          0          0          0  \n",
       "2          0          0          0  \n",
       "3          0          0          0  \n",
       "4          0          0          0  \n",
       "\n",
       "[5 rows x 103 columns]"
      ]
     },
     "execution_count": 100,
     "metadata": {},
     "output_type": "execute_result"
    }
   ],
   "source": [
    "X.head()"
   ]
  },
  {
   "cell_type": "markdown",
   "metadata": {},
   "source": [
    "### Run for Boosting"
   ]
  },
  {
   "cell_type": "code",
   "execution_count": 195,
   "metadata": {
    "collapsed": false
   },
   "outputs": [
    {
     "name": "stdout",
     "output_type": "stream",
     "text": [
      "0.991484888834\n"
     ]
    }
   ],
   "source": [
    "from sklearn.ensemble import GradientBoostingClassifier\n",
    "GBC_Tree = GradientBoostingClassifier(learning_rate = 0.01,\n",
    "                                      n_estimators = 10000,\n",
    "                                      max_depth = 2,\n",
    "                                      min_samples_leaf = 5)\n",
    " \n",
    "\n",
    "from sklearn import cross_validation\n",
    "kf = cross_validation.KFold(len(df), n_folds = 10, shuffle = True) #10 fold CV\n",
    "scores = []\n",
    "for train_index, test_index in kf:        \n",
    "        GBC_Tree.fit(X.iloc[train_index], y.iloc[train_index])\n",
    "        y_hat_test = GBC_Tree.predict(X.iloc[test_index]) \n",
    "        scores.append(float(sum(y_hat_test == y.iloc[test_index]))/len(y_hat_test))\n",
    "\n",
    "Score_GBC_CV = np.mean(scores)    \n",
    "\n",
    "print(Score_GBC_CV)"
   ]
  },
  {
   "cell_type": "markdown",
   "metadata": {},
   "source": [
    "Training the Boosting classifier"
   ]
  },
  {
   "cell_type": "code",
   "execution_count": 361,
   "metadata": {
    "collapsed": false
   },
   "outputs": [
    {
     "data": {
      "text/plain": [
       "<matplotlib.axes._subplots.AxesSubplot at 0x12ebc33d0>"
      ]
     },
     "execution_count": 361,
     "metadata": {},
     "output_type": "execute_result"
    },
    {
     "data": {
      "image/png": "[encoded data removed]",
      "text/plain": [
       "<matplotlib.figure.Figure at 0x12ebc3dd0>"
      ]
     },
     "metadata": {},
     "output_type": "display_data"
    }
   ],
   "source": [
    "Score = []\n",
    "NumberOfTrees = [100,1000,5000,10000,20000]\n",
    "for i in NumberOfTrees:\n",
    "    GBR_Tree = GradientBoostingClassifier(learning_rate = 0.01,\n",
    "                                 n_estimators = i,\n",
    "                                 max_depth = 2,\n",
    "                                 min_samples_leaf = 5  )  \n",
    "    scores = cross_val_score(GBR_Tree, X, y, cv=10, scoring='mean_squared_error')\n",
    "    Score.append(np.mean(np.sqrt(-scores)))\n",
    "\n",
    "Depth_Choice_df = pd.DataFrame({'CV_Error': Score ,'Number Of Trees': NumberOfTrees})\n",
    "Depth_Choice_df.plot(x ='Number Of Trees',y = 'CV_Error' )"
   ]
  },
  {
   "cell_type": "code",
   "execution_count": 360,
   "metadata": {
    "collapsed": false
   },
   "outputs": [
    {
     "data": {
      "text/plain": [
       "<matplotlib.axes._subplots.AxesSubplot at 0x11a7e12d0>"
      ]
     },
     "execution_count": 360,
     "metadata": {},
     "output_type": "execute_result"
    },
    {
     "data": {
      "image/png": "[encoded data removed]",
      "text/plain": [
       "<matplotlib.figure.Figure at 0x11a7e0d90>"
      ]
     },
     "metadata": {},
     "output_type": "display_data"
    }
   ],
   "source": [
    "Depth = range(1,5)\n",
    "Score = []\n",
    "for i in Depth:\n",
    "    GBR_Tree = GradientBoostingClassifier(learning_rate = 0.01,\n",
    "                                 n_estimators = 1000,\n",
    "                                 max_depth = i,\n",
    "                                 min_samples_leaf = 5  )  \n",
    "    scores = cross_val_score(GBR_Tree, X, y, cv=10, scoring='mean_squared_error')\n",
    "    Score.append(np.mean(np.sqrt(-scores)))\n",
    "\n",
    "Depth_Choice_df = pd.DataFrame({'CV_Error': Score ,'Max_Depth': Depth})\n",
    "Depth_Choice_df.plot(x ='Max_Depth',y = 'CV_Error' )"
   ]
  },
  {
   "cell_type": "code",
   "execution_count": 362,
   "metadata": {
    "collapsed": false
   },
   "outputs": [
    {
     "data": {
      "text/plain": [
       "<matplotlib.axes._subplots.AxesSubplot at 0x11a7465d0>"
      ]
     },
     "execution_count": 362,
     "metadata": {},
     "output_type": "execute_result"
    },
    {
     "data": {
      "image/png": "[encoded data removed]",
      "text/plain": [
       "<matplotlib.figure.Figure at 0x132772310>"
      ]
     },
     "metadata": {},
     "output_type": "display_data"
    }
   ],
   "source": [
    "Depth = range(1,5)\n",
    "Score = []\n",
    "for i in Depth:\n",
    "    GBR_Tree = GradientBoostingClassifier(learning_rate = 0.01,\n",
    "                                 n_estimators = 10000,\n",
    "                                 max_depth = i,\n",
    "                                 min_samples_leaf = 5  )  \n",
    "    scores = cross_val_score(GBR_Tree, X, y, cv=10, scoring='mean_squared_error')\n",
    "    Score.append(np.mean(np.sqrt(-scores)))\n",
    "\n",
    "Depth_Choice_df = pd.DataFrame({'CV_Error': Score ,'Max_Depth': Depth})\n",
    "Depth_Choice_df.plot(x ='Max_Depth',y = 'CV_Error' )"
   ]
  },
  {
   "cell_type": "markdown",
   "metadata": {},
   "source": [
    "### Tuned Tree and running model"
   ]
  },
  {
   "cell_type": "code",
   "execution_count": 363,
   "metadata": {
    "collapsed": true
   },
   "outputs": [],
   "source": [
    "# TUNED TREE\n",
    "GBR_Tree = GradientBoostingClassifier(learning_rate = 0.01,\n",
    "                                     n_estimators = 1000,\n",
    "                                     max_depth = 1,\n",
    "                                     min_samples_leaf = 5  ) "
   ]
  },
  {
   "cell_type": "code",
   "execution_count": 365,
   "metadata": {
    "collapsed": false
   },
   "outputs": [
    {
     "data": {
      "text/html": [
       "<div>\n",
       "<table border=\"1\" class=\"dataframe\">\n",
       "  <thead>\n",
       "    <tr style=\"text-align: right;\">\n",
       "      <th></th>\n",
       "      <th>Importance</th>\n",
       "      <th>feature</th>\n",
       "    </tr>\n",
       "  </thead>\n",
       "  <tbody>\n",
       "    <tr>\n",
       "      <th>0</th>\n",
       "      <td>0.169679</td>\n",
       "      <td>temp</td>\n",
       "    </tr>\n",
       "    <tr>\n",
       "      <th>4</th>\n",
       "      <td>0.167738</td>\n",
       "      <td>humidity</td>\n",
       "    </tr>\n",
       "    <tr>\n",
       "      <th>5</th>\n",
       "      <td>0.152647</td>\n",
       "      <td>cloudcover</td>\n",
       "    </tr>\n",
       "    <tr>\n",
       "      <th>3</th>\n",
       "      <td>0.149600</td>\n",
       "      <td>windspeed</td>\n",
       "    </tr>\n",
       "    <tr>\n",
       "      <th>2</th>\n",
       "      <td>0.083236</td>\n",
       "      <td>visability</td>\n",
       "    </tr>\n",
       "    <tr>\n",
       "      <th>12</th>\n",
       "      <td>0.037309</td>\n",
       "      <td>d_friday</td>\n",
       "    </tr>\n",
       "    <tr>\n",
       "      <th>7</th>\n",
       "      <td>0.028038</td>\n",
       "      <td>is_limited</td>\n",
       "    </tr>\n",
       "    <tr>\n",
       "      <th>9</th>\n",
       "      <td>0.025530</td>\n",
       "      <td>d_tuesday</td>\n",
       "    </tr>\n",
       "    <tr>\n",
       "      <th>1</th>\n",
       "      <td>0.021733</td>\n",
       "      <td>precipiation</td>\n",
       "    </tr>\n",
       "    <tr>\n",
       "      <th>11</th>\n",
       "      <td>0.019582</td>\n",
       "      <td>d_thursday</td>\n",
       "    </tr>\n",
       "  </tbody>\n",
       "</table>\n",
       "</div>"
      ],
      "text/plain": [
       "    Importance       feature\n",
       "0     0.169679          temp\n",
       "4     0.167738      humidity\n",
       "5     0.152647    cloudcover\n",
       "3     0.149600     windspeed\n",
       "2     0.083236    visability\n",
       "12    0.037309      d_friday\n",
       "7     0.028038    is_limited\n",
       "9     0.025530     d_tuesday\n",
       "1     0.021733  precipiation\n",
       "11    0.019582    d_thursday"
      ]
     },
     "execution_count": 365,
     "metadata": {},
     "output_type": "execute_result"
    }
   ],
   "source": [
    "GBC_Tree.fit(X_train,y_train)\n",
    "ImportanceDataFrame = pd.DataFrame({'feature':X.columns.values, 'Importance':GBC_Tree.feature_importances_})\n",
    "ImportanceDataFrame.sort_values(by = ['Importance'],ascending = 0).head(10)"
   ]
  },
  {
   "cell_type": "code",
   "execution_count": 397,
   "metadata": {
    "collapsed": false
   },
   "outputs": [
    {
     "name": "stdout",
     "output_type": "stream",
     "text": [
      "Confusion matrix:\n",
      "[[5166   10]\n",
      " [  38   42]]\n",
      "Normalized\n",
      "[[ 0.9981  0.0019]\n",
      " [ 0.475   0.525 ]]\n",
      "Accuracy\n",
      "0.9909 %\n",
      "Misclass\n",
      "0.0091 %\n",
      "Sensitivity\n",
      "0.525 %\n",
      "Specificity\n",
      "0.9981 %\n"
     ]
    },
    {
     "data": {
      "image/png": "[encoded data removed]",
      "text/plain": [
       "<matplotlib.figure.Figure at 0x11caecdd0>"
      ]
     },
     "metadata": {},
     "output_type": "display_data"
    }
   ],
   "source": [
    "from sklearn.metrics import confusion_matrix\n",
    "y_hat = GBC_Tree.predict(X_test)\n",
    "cmat = confusion_matrix(y_test, y_hat)\n",
    "c_norm = cmat.astype('float') / cmat.sum(axis=1)[:, np.newaxis]\n",
    "print \"Confusion matrix:\"\n",
    "print cmat\n",
    "print \"Normalized\"\n",
    "print np.round(c_norm,4)\n",
    "plot_confusion_matrix(c_norm) # Normalized\n",
    "print \"Accuracy\"\n",
    "print np.round((cmat[1][1] + cmat[0][0]) / float(len(X_test)),4),'%'\n",
    "print \"Misclass\"\n",
    "print np.round((cmat[1][0] + cmat[0][1]) / float(len(X_test)),4),'%'\n",
    "print \"Sensitivity\"\n",
    "print np.round((cmat[1][1]) / float(cmat[1][1]+cmat[1][0]),4),'%'\n",
    "print \"Specificity\"\n",
    "print np.round((cmat[0][0]) / float(cmat[0][0]+cmat[0][1]),4),'%'"
   ]
  },
  {
   "cell_type": "code",
   "execution_count": 392,
   "metadata": {
    "collapsed": false
   },
   "outputs": [
    {
     "name": "stdout",
     "output_type": "stream",
     "text": [
      "Accuracy\n",
      "0.248 %\n",
      "Misclass\n",
      "0.002 %\n",
      "Sensitivity\n",
      "0.6125 %\n",
      "Specificity\n",
      "0.9977 %\n"
     ]
    }
   ],
   "source": []
  },
  {
   "cell_type": "markdown",
   "metadata": {},
   "source": [
    "### Prediction Prototype"
   ]
  },
  {
   "cell_type": "code",
   "execution_count": 202,
   "metadata": {
    "collapsed": false
   },
   "outputs": [],
   "source": [
    "import forecastio\n",
    "keys = pd.read_csv('keys.csv') # hidden from github\n",
    "forecaseiokey=keys.iloc[5].string\n",
    "api_key = forecaseiokey\n",
    "lat = 37.441879\n",
    "lng = -122.143021"
   ]
  },
  {
   "cell_type": "code",
   "execution_count": 204,
   "metadata": {
    "collapsed": false
   },
   "outputs": [
    {
     "name": "stdout",
     "output_type": "stream",
     "text": [
      "{u'ozone': 364.43, u'temperature': 64.79, u'icon': u'clear-day', u'dewPoint': 49.88, u'humidity': 0.58, u'visibility': 9.92, u'summary': u'Clear', u'apparentTemperature': 64.79, u'pressure': 1015.48, u'windSpeed': 6.9, u'cloudCover': 0.12, u'time': 1459377043, u'windBearing': 321, u'precipIntensity': 0, u'precipProbability': 0}\n"
     ]
    }
   ],
   "source": [
    "print current.d"
   ]
  },
  {
   "cell_type": "code",
   "execution_count": 324,
   "metadata": {
    "collapsed": false
   },
   "outputs": [],
   "source": [
    "def get_train_prediction(trainid,threshold=0.2):\n",
    "    The_train = str(trainid)\n",
    "\n",
    "    time = datetime.datetime.now()\n",
    "    forecast = forecastio.load_forecast(api_key, lat, lng,time=time)\n",
    "    current = forecast.currently()\n",
    "\n",
    "    Predict_me = pd.DataFrame({\n",
    "            'temp': [current.d['apparentTemperature']],\n",
    "            'precipiation': [current.d['precipIntensity']],\n",
    "            'visability': [current.d['visibility']],\n",
    "            'windspeed': [current.d['windSpeed']],\n",
    "            'humidity': [current.d['humidity']],\n",
    "            'cloudcover': [current.d['cloudCover']],\n",
    "            'is_bullet': 1 if str(The_train)[0] == '2' else 0,\n",
    "            'is_limited':1 if str(The_train)[0] == '3' else 0,\n",
    "            't_northbound': int(The_train)%2,\n",
    "            'd_tuesday': 1 if time.weekday == 1 else 0,\n",
    "            'd_wednesday':1 if time.weekday == 2 else 0,\n",
    "            'd_thursday':1 if time.weekday == 3 else 0,\n",
    "            'd_friday':1 if time.weekday == 4 else 0\n",
    "            })\n",
    "\n",
    "\n",
    "    t = pd.DataFrame(columns=tid_col)\n",
    "    t = t.append([0]).fillna(0)\n",
    "    t['tid_'+The_train+'.0'] = 1\n",
    "    t['tid_'+The_train+'.0']\n",
    "    Predict_me = pd.concat([Predict_me, t],axis=1)\n",
    "    del Predict_me[0]\n",
    "    pprob = GBC_Tree.predict_proba(Predict_me).T\n",
    "    pred = 1 if pprob[1] >= threshold else 0 # GBC_Tree.predict(Predict_me)\n",
    "    print \"Will be delayed:\",pred\n",
    "    print \"Probability:\",np.round(pprob.T,4)\n",
    "    return [pred,pprob]"
   ]
  },
  {
   "cell_type": "code",
   "execution_count": 383,
   "metadata": {
    "collapsed": false
   },
   "outputs": [
    {
     "name": "stdout",
     "output_type": "stream",
     "text": [
      "Will be delayed: 0\n",
      "Probability: [[ 0.  1.]]\n",
      "\n"
     ]
    },
    {
     "data": {
      "text/plain": [
       "[0, array([[  3.91950517e-05],\n",
       "        [  9.99960805e-01]])]"
      ]
     },
     "execution_count": 383,
     "metadata": {},
     "output_type": "execute_result"
    }
   ],
   "source": [
    "get_train_prediction(381)"
   ]
  },
  {
   "cell_type": "markdown",
   "metadata": {},
   "source": [
    "### Hamed Feedback\n",
    "- Set threshold to 70% for predibility\n",
    "- Tolerance is only 5% delay mispredict\n",
    "- Look at lecture 9"
   ]
  },
  {
   "cell_type": "code",
   "execution_count": 412,
   "metadata": {
    "collapsed": false
   },
   "outputs": [
    {
     "name": "stdout",
     "output_type": "stream",
     "text": [
      "Confusion matrix:\n",
      "[[5130   46]\n",
      " [  29   51]]\n",
      "Normalized\n",
      "[[ 0.9911  0.0089]\n",
      " [ 0.3625  0.6375]]\n",
      "Accuracy\n",
      "0.9857 %\n",
      "Misclass\n",
      "0.0143 %\n",
      "Sensitivity\n",
      "0.6375 %\n",
      "Specificity\n",
      "0.9911 %\n"
     ]
    },
    {
     "data": {
      "image/png": "[encoded data removed]",
      "text/plain": [
       "<matplotlib.figure.Figure at 0x12df36dd0>"
      ]
     },
     "metadata": {},
     "output_type": "display_data"
    }
   ],
   "source": [
    "def PredictThreshold(Predictprob,Threshhold):\n",
    "    y_predict = 0\n",
    "    if (Predictprob >= Threshhold):\n",
    "        y_predict = 1\n",
    "    return y_predict\n",
    "\n",
    "\n",
    "y_hat_probability = GBC_Tree.predict_proba(X_test).T[1]\n",
    "y_hat_predict_threshold = []\n",
    "threshold = 0.1# Changing down increases false positive, changing up increases false negative\n",
    "for i in range(0,len(y_hat_probability)):\n",
    "    y_hat_predict_threshold.append(PredictThreshold(y_hat_probability[i],threshold))\n",
    "\n",
    "cmat = confusion_matrix(y_test, y_hat_predict_threshold)\n",
    "c_norm = cmat.astype('float') / cmat.sum(axis=1)[:, np.newaxis]\n",
    "print \"Confusion matrix:\"\n",
    "print cmat\n",
    "print \"Normalized\"\n",
    "print np.round(c_norm,4)\n",
    "plot_confusion_matrix(c_norm) # Normalized\n",
    "print \"Accuracy\"\n",
    "print np.round((cmat[1][1] + cmat[0][0]) / float(len(X_test)),4),'%'\n",
    "print \"Misclass\"\n",
    "print np.round((cmat[1][0] + cmat[0][1]) / float(len(X_test)),4),'%'\n",
    "print \"Sensitivity\"\n",
    "print np.round((cmat[1][1]) / float(cmat[1][1]+cmat[1][0]),4),'%'\n",
    "print \"Specificity\"\n",
    "print np.round((cmat[0][0]) / float(cmat[0][0]+cmat[0][1]),4),'%'"
   ]
  },
  {
   "cell_type": "code",
   "execution_count": 370,
   "metadata": {
    "collapsed": false
   },
   "outputs": [],
   "source": [
    "# GBC_Tree = GradientBoostingClassifier(learning_rate = 0.01,\n",
    "#                                       n_estimators = 10000,\n",
    "#                                       max_depth = 3,\n",
    "#                                       min_samples_leaf = 5)\n",
    "# GBC_Tree.fit(X_train,y_train)\n",
    "cmatrix = []\n",
    "y_hat_probability = GBC_Tree.predict_proba(X_test).T[1]\n",
    "for t in range(0,100,1):\n",
    "    y_hat_predict_threshold = []\n",
    "    cm = []\n",
    "    thresh = t/100.0\n",
    "    for i in range(0,len(y_hat_probability)):\n",
    "        y_hat_predict_threshold.append(PredictThreshold(y_hat_probability[i],thresh))\n",
    "    cm = confusion_matrix(y_test, y_hat_predict_threshold)\n",
    "    cmatrix.append([thresh,cm[0][0],cm[0][1],cm[1][0],cm[1][1]])\n",
    "thmatrix = pd.DataFrame(cmatrix, columns=['Thresh','T_ND','F_ND','F_D','T_D'])"
   ]
  },
  {
   "cell_type": "code",
   "execution_count": 371,
   "metadata": {
    "collapsed": false
   },
   "outputs": [
    {
     "data": {
      "text/plain": [
       "<matplotlib.axes._subplots.AxesSubplot at 0x12dd6d490>"
      ]
     },
     "execution_count": 371,
     "metadata": {},
     "output_type": "execute_result"
    },
    {
     "data": {
      "image/png": "[encoded data removed]",
      "text/plain": [
       "<matplotlib.figure.Figure at 0x11a726d50>"
      ]
     },
     "metadata": {},
     "output_type": "display_data"
    }
   ],
   "source": [
    "thmatrix.set_index('Thresh')\n",
    "thmatrix.plot(x='Thresh',y=['T_ND','F_ND','F_D','T_D'],kind='line', ylim=(0,100),xlim=(0.,1.))"
   ]
  },
  {
   "cell_type": "code",
   "execution_count": 372,
   "metadata": {
    "collapsed": false
   },
   "outputs": [],
   "source": [
    "thmatrix['acc'] = thmatrix.apply(lambda x:(x.T_D + x.T_ND) / float(len(thmatrix)),axis=1)\n",
    "thmatrix['miss'] = thmatrix.apply(lambda x:(x.F_D + x.F_ND) / float(len(thmatrix)),axis=1)\n",
    "thmatrix['sens'] = thmatrix.apply(lambda x:(x.T_D) / float(x.T_D+x.F_D),axis=1)\n",
    "thmatrix['spec'] = thmatrix.apply(lambda x:(x.T_ND / float(x.T_ND+x.F_ND)),axis=1)"
   ]
  },
  {
   "cell_type": "code",
   "execution_count": 373,
   "metadata": {
    "collapsed": false
   },
   "outputs": [
    {
     "data": {
      "text/plain": [
       "<matplotlib.axes._subplots.AxesSubplot at 0x12dba1210>"
      ]
     },
     "execution_count": 373,
     "metadata": {},
     "output_type": "execute_result"
    },
    {
     "data": {
      "image/png": "[encoded data removed]",
      "text/plain": [
       "<matplotlib.figure.Figure at 0x1182496d0>"
      ]
     },
     "metadata": {},
     "output_type": "display_data"
    }
   ],
   "source": [
    "thmatrix.plot(x='Thresh',y=['acc','sens','miss','spec'],kind='line', ylim=(0.,1.0),xlim=(0.,1.))"
   ]
  },
  {
   "cell_type": "code",
   "execution_count": 391,
   "metadata": {
    "collapsed": false
   },
   "outputs": [
    {
     "name": "stdout",
     "output_type": "stream",
     "text": [
      "[  1.00857726e-05   2.10989167e-05   4.64425388e-04 ...,   3.22592500e-04\n",
      "   4.09920987e-04   1.23469160e-04]\n",
      "0.928948512365\n"
     ]
    },
    {
     "data": {
      "text/plain": [
       "<matplotlib.axes._subplots.AxesSubplot at 0x11a947ad0>"
      ]
     },
     "execution_count": 391,
     "metadata": {},
     "output_type": "execute_result"
    },
    {
     "data": {
      "image/png": "[encoded data removed]",
      "text/plain": [
       "<matplotlib.figure.Figure at 0x11a92c110>"
      ]
     },
     "metadata": {},
     "output_type": "display_data"
    }
   ],
   "source": [
    "y_hat_probability = GBC_Tree.predict_proba(X_test).T[1] \n",
    "print(y_hat_probability)\n",
    "print(roc_auc_score(y_test, y_hat_probability))\n",
    "vals = roc_curve(y_test, y_hat_probability)  \n",
    "Roc_DataFrame = pd.DataFrame({'False_Positive_Rate':vals[0],'True_Positive_Rate':vals[1]})\n",
    "Roc_DataFrame.plot(x = 'False_Positive_Rate' , y = 'True_Positive_Rate' ) "
   ]
  },
  {
   "cell_type": "code",
   "execution_count": null,
   "metadata": {
    "collapsed": true
   },
   "outputs": [],
   "source": [
    "from sklearn.ensemble import GradientBoostingClassifier\n",
    "GBC_Tree = GradientBoostingClassifier(learning_rate = 0.01,\n",
    "                                      n_estimators = 10000,\n",
    "                                      max_depth = 2,\n",
    "                                      min_samples_leaf = 5)\n",
    " \n",
    "\n",
    "from sklearn import cross_validation\n",
    "kf = cross_validation.KFold(len(df), n_folds = 10, shuffle = True) #10 fold CV\n",
    "scores = []\n",
    "for train_index, test_index in kf:        \n",
    "        GBC_Tree.fit(X.iloc[train_index], y.iloc[train_index])\n",
    "        y_hat_test = GBC_Tree.predict_probadi(X.iloc[test_index])\n",
    "        y_hat_predict_threshold.append(PredictThreshold(y_hat_probability[i],0.05))\n",
    "        scores.append(float(sum(y_hat_test == y.iloc[test_index]))/len(y_hat_test))\n",
    "\n",
    "Score_GBC_CV = np.mean(scores)    \n",
    "\n",
    "print(Score_GBC_CV)"
   ]
  },
  {
   "cell_type": "code",
   "execution_count": 428,
   "metadata": {
    "collapsed": true
   },
   "outputs": [],
   "source": [
    "drames = pd.read_csv(\"data/all_stops_in_pa.csv\",sep=',',error_bad_lines=False)"
   ]
  },
  {
   "cell_type": "code",
   "execution_count": 429,
   "metadata": {
    "collapsed": false
   },
   "outputs": [
    {
     "name": "stdout",
     "output_type": "stream",
     "text": [
      "[102 '05:53' 1]\n",
      "Will be delayed: 1\n",
      "Probability: [[ 0.9902  0.0098]]\n",
      "\n",
      "[104 '06:23' 1]\n",
      "Will be delayed: 0\n",
      "Probability: [[ 0.4003  0.5997]]\n",
      "\n",
      "[206 '06:59' 1]\n",
      "Will be delayed: 0\n",
      "Probability: [[  7.00000000e-04   9.99300000e-01]]\n",
      "\n",
      "[208 '07:20' 1]\n",
      "Will be delayed: 0\n",
      "Probability: [[  7.00000000e-04   9.99300000e-01]]\n",
      "\n",
      "[210 '07:28' 1]\n",
      "Will be delayed: 0\n",
      "Probability: [[  7.00000000e-04   9.99300000e-01]]\n",
      "\n",
      "[312 '07:38' 1]\n",
      "Will be delayed: 0\n",
      "Probability: [[  3.00000000e-04   9.99700000e-01]]\n",
      "\n",
      "[314 '07:53' 1]\n",
      "Will be delayed: 0\n",
      "Probability: [[  3.00000000e-04   9.99700000e-01]]\n",
      "\n",
      "[216 '08:05' 1]\n",
      "Will be delayed: 0\n",
      "Probability: [[  7.00000000e-04   9.99300000e-01]]\n",
      "\n",
      "[218 '08:20' 1]\n",
      "Will be delayed: 0\n",
      "Probability: [[  7.00000000e-04   9.99300000e-01]]\n",
      "\n",
      "[220 '08:28' 1]\n",
      "Will be delayed: 0\n",
      "Probability: [[  7.00000000e-04   9.99300000e-01]]\n",
      "\n",
      "[322 '08:38' 1]\n",
      "Will be delayed: 0\n",
      "Probability: [[  3.00000000e-04   9.99700000e-01]]\n",
      "\n",
      "[324 '08:53' 1]\n",
      "Will be delayed: 0\n",
      "Probability: [[  3.00000000e-04   9.99700000e-01]]\n",
      "\n",
      "[226 '09:05' 1]\n",
      "Will be delayed: 0\n",
      "Probability: [[ 0.0038  0.9962]]\n",
      "\n",
      "[228 '09:20' 1]\n",
      "Will be delayed: 0\n",
      "Probability: [[  7.00000000e-04   9.99300000e-01]]\n",
      "\n",
      "[230 '09:28' 1]\n",
      "Will be delayed: 0\n",
      "Probability: [[  7.00000000e-04   9.99300000e-01]]\n",
      "\n",
      "[332 '09:38' 1]\n",
      "Will be delayed: 0\n",
      "Probability: [[  3.00000000e-04   9.99700000e-01]]\n",
      "\n",
      "[134 '10:05' 1]\n",
      "Will be delayed: 0\n",
      "Probability: [[ 0.431  0.569]]\n",
      "\n",
      "[236 '10:27' 1]\n",
      "Will be delayed: 0\n",
      "Probability: [[  7.00000000e-04   9.99300000e-01]]\n",
      "\n",
      "[138 '11:05' 1]\n",
      "Will be delayed: 0\n",
      "Probability: [[ 0.0266  0.9734]]\n",
      "\n",
      "[142 '12:05' 1]\n",
      "Will be delayed: 0\n",
      "Probability: [[ 0.0058  0.9942]]\n",
      "\n",
      "[146 '13:05' 1]\n",
      "Will be delayed: 0\n",
      "Probability: [[ 0.4201  0.5799]]\n",
      "\n",
      "[150 '14:05' 1]\n",
      "Will be delayed: 0\n",
      "Probability: [[ 0.495  0.505]]\n",
      "\n",
      "[152 '15:05' 1]\n",
      "Will be delayed: 0\n",
      "Probability: [[ 0.7832  0.2168]]\n",
      "\n",
      "[254 '15:27' 1]\n",
      "Will be delayed: 0\n",
      "Probability: [[  7.00000000e-04   9.99300000e-01]]\n",
      "\n",
      "[156 '16:05' 1]\n",
      "Will be delayed: 0\n",
      "Probability: [[ 0.9425  0.0575]]\n",
      "\n",
      "[258 '16:27' 1]\n",
      "Will be delayed: 0\n",
      "Probability: [[  7.00000000e-04   9.99300000e-01]]\n",
      "\n",
      "[360 '16:46' 1]\n",
      "Will be delayed: 0\n",
      "Probability: [[  3.00000000e-04   9.99700000e-01]]\n",
      "\n",
      "[262 '17:03' 1]\n",
      "Will be delayed: 0\n",
      "Probability: [[  7.00000000e-04   9.99300000e-01]]\n",
      "\n",
      "[264 '17:10' 0]\n",
      "Will be delayed: 0\n",
      "Probability: [[  6.00000000e-04   9.99400000e-01]]\n",
      "\n",
      "[366 '17:14' 1]\n",
      "Will be delayed: 0\n",
      "Probability: [[  3.00000000e-04   9.99700000e-01]]\n",
      "\n",
      "[268 '17:40' 1]\n",
      "Will be delayed: 0\n",
      "Probability: [[  7.00000000e-04   9.99300000e-01]]\n",
      "\n",
      "[370 '17:51' 1]\n",
      "Will be delayed: 0\n",
      "Probability: [[  3.00000000e-04   9.99700000e-01]]\n",
      "\n",
      "[272 '18:04' 1]\n",
      "Will be delayed: 0\n",
      "Probability: [[  7.00000000e-04   9.99300000e-01]]\n",
      "\n",
      "[274 '18:10' 0]\n",
      "Will be delayed: 0\n",
      "Probability: [[  7.00000000e-04   9.99300000e-01]]\n",
      "\n",
      "[376 '18:14' 1]\n",
      "Will be delayed: 0\n",
      "Probability: [[  3.00000000e-04   9.99700000e-01]]\n",
      "\n",
      "[278 '18:40' 1]\n",
      "Will be delayed: 0\n",
      "Probability: [[  7.00000000e-04   9.99300000e-01]]\n",
      "\n",
      "[380 '18:51' 1]\n",
      "Will be delayed: 0\n",
      "Probability: [[  3.00000000e-04   9.99700000e-01]]\n",
      "\n",
      "[282 '19:04' 1]\n",
      "Will be delayed: 0\n",
      "Probability: [[  7.00000000e-04   9.99300000e-01]]\n",
      "\n",
      "[284 '19:10' 0]\n",
      "Will be delayed: 0\n",
      "Probability: [[  7.00000000e-04   9.99300000e-01]]\n",
      "\n",
      "[386 '19:14' 1]\n",
      "Will be delayed: 0\n",
      "Probability: [[  3.00000000e-04   9.99700000e-01]]\n",
      "\n",
      "[288 '19:40' 1]\n",
      "Will be delayed: 0\n",
      "Probability: [[  7.00000000e-04   9.99300000e-01]]\n",
      "\n",
      "[190 '20:28' 1]\n",
      "Will be delayed: 1\n",
      "Probability: [[ 0.9902  0.0098]]\n",
      "\n",
      "[192 '21:38' 1]\n",
      "Will be delayed: 0\n",
      "Probability: [[ 0.6558  0.3442]]\n",
      "\n",
      "[194 '22:38' 1]\n",
      "Will be delayed: 0\n",
      "Probability: [[ 0.9223  0.0777]]\n",
      "\n",
      "[196 '23:38' 1]\n",
      "Will be delayed: 0\n",
      "Probability: [[ 0.9715  0.0285]]\n",
      "\n",
      "[103 '05:36' 1]\n",
      "Will be delayed: 1\n",
      "Probability: [[ 0.9837  0.0163]]\n",
      "\n",
      "[305 '06:05' 1]\n",
      "Will be delayed: 0\n",
      "Probability: [[ 0.  1.]]\n",
      "\n",
      "[207 '06:36' 1]\n",
      "Will be delayed: 0\n",
      "Probability: [[  4.00000000e-04   9.99600000e-01]]\n",
      "\n",
      "[309 '06:23' 1]\n",
      "Will be delayed: 0\n",
      "Probability: [[ 0.  1.]]\n",
      "\n",
      "[211 '06:40' 0]\n",
      "Will be delayed: 0\n",
      "Probability: [[  4.00000000e-04   9.99600000e-01]]\n",
      "\n",
      "[313 '07:05' 1]\n",
      "Will be delayed: 0\n",
      "Probability: [[ 0.  1.]]\n",
      "\n",
      "[215 '07:16' 1]\n",
      "Will be delayed: 0\n",
      "Probability: [[  4.00000000e-04   9.99600000e-01]]\n",
      "\n",
      "[217 '07:36' 1]\n",
      "Will be delayed: 0\n",
      "Probability: [[  4.00000000e-04   9.99600000e-01]]\n",
      "\n",
      "[319 '07:23' 1]\n",
      "Will be delayed: 0\n",
      "Probability: [[ 0.  1.]]\n",
      "\n",
      "[221 '07:40' 0]\n",
      "Will be delayed: 0\n",
      "Probability: [[  4.00000000e-04   9.99600000e-01]]\n",
      "\n",
      "[323 '08:05' 1]\n",
      "Will be delayed: 0\n",
      "Probability: [[ 0.  1.]]\n",
      "\n",
      "[225 '08:16' 1]\n",
      "Will be delayed: 0\n",
      "Probability: [[  4.00000000e-04   9.99600000e-01]]\n",
      "\n",
      "[227 '08:36' 1]\n",
      "Will be delayed: 0\n",
      "Probability: [[  4.00000000e-04   9.99600000e-01]]\n",
      "\n",
      "[329 '08:25' 1]\n",
      "Will be delayed: 0\n",
      "Probability: [[ 0.  1.]]\n",
      "\n",
      "[231 '08:50' 0]\n",
      "Will be delayed: 0\n",
      "Probability: [[  4.00000000e-04   9.99600000e-01]]\n",
      "\n",
      "[233 '09:14' 1]\n",
      "Will be delayed: 0\n",
      "Probability: [[  8.00000000e-04   9.99200000e-01]]\n",
      "\n",
      "[135 '09:46' 1]\n",
      "Will be delayed: 0\n",
      "Probability: [[ 0.0014  0.9986]]\n",
      "\n",
      "[237 '10:21' 1]\n",
      "Will be delayed: 0\n",
      "Probability: [[  4.00000000e-04   9.99600000e-01]]\n",
      "\n",
      "[139 '10:46' 1]\n",
      "Will be delayed: 0\n",
      "Probability: [[ 0.2204  0.7796]]\n",
      "\n",
      "[143 '11:41' 1]\n",
      "Will be delayed: 0\n",
      "Probability: [[ 0.7085  0.2915]]\n",
      "\n",
      "[147 '12:41' 1]\n",
      "Will be delayed: 0\n",
      "Probability: [[ 0.3988  0.6012]]\n",
      "\n",
      "[151 '13:41' 1]\n",
      "Will be delayed: 0\n",
      "Probability: [[ 0.0423  0.9577]]\n",
      "\n",
      "[155 '14:46' 1]\n",
      "Will be delayed: 0\n",
      "Probability: [[ 0.5565  0.4435]]\n",
      "\n",
      "[257 '15:11' 1]\n",
      "Will be delayed: 0\n",
      "Probability: [[  4.00000000e-04   9.99600000e-01]]\n",
      "\n",
      "[159 '15:38' 1]\n",
      "Will be delayed: 0\n",
      "Probability: [[ 0.9267  0.0733]]\n",
      "\n",
      "[261 '16:16' 1]\n",
      "Will be delayed: 0\n",
      "Probability: [[ 0.002  0.998]]\n",
      "\n",
      "[263 '16:24' 1]\n",
      "Will be delayed: 0\n",
      "Probability: [[  4.00000000e-04   9.99600000e-01]]\n",
      "\n",
      "[365 '16:43' 1]\n",
      "Will be delayed: 0\n",
      "Probability: [[ 0.  1.]]\n",
      "\n",
      "[267 '16:54' 1]\n",
      "Will be delayed: 0\n",
      "Probability: [[  4.00000000e-04   9.99600000e-01]]\n",
      "\n",
      "[269 '17:16' 1]\n",
      "Will be delayed: 0\n",
      "Probability: [[  4.00000000e-04   9.99600000e-01]]\n",
      "\n",
      "[371 '17:06' 1]\n",
      "Will be delayed: 0\n",
      "Probability: [[ 0.  1.]]\n",
      "\n",
      "[273 '17:26' 1]\n",
      "Will be delayed: 0\n",
      "Probability: [[  4.00000000e-04   9.99600000e-01]]\n",
      "\n",
      "[375 '17:44' 1]\n",
      "Will be delayed: 0\n",
      "Probability: [[ 0.  1.]]\n",
      "\n",
      "[277 '17:54' 1]\n",
      "Will be delayed: 0\n",
      "Probability: [[  4.00000000e-04   9.99600000e-01]]\n",
      "\n",
      "[279 '18:16' 1]\n",
      "Will be delayed: 0\n",
      "Probability: [[  4.00000000e-04   9.99600000e-01]]\n",
      "\n",
      "[381 '18:06' 1]\n",
      "Will be delayed: 0\n",
      "Probability: [[ 0.  1.]]\n",
      "\n",
      "[283 '18:24' 1]\n",
      "Will be delayed: 0\n",
      "Probability: [[  5.00000000e-04   9.99500000e-01]]\n",
      "\n",
      "[385 '18:43' 1]\n",
      "Will be delayed: 0\n",
      "Probability: [[ 0.  1.]]\n",
      "\n",
      "[287 '18:54' 1]\n",
      "Will be delayed: 0\n",
      "Probability: [[ 0.003  0.997]]\n",
      "\n",
      "[289 '19:10' 1]\n",
      "Will be delayed: 0\n",
      "Probability: [[  4.00000000e-04   9.99600000e-01]]\n",
      "\n",
      "[191 '19:21' 1]\n",
      "Will be delayed: 0\n",
      "Probability: [[ 0.685  0.315]]\n",
      "\n",
      "[193 '20:01' 1]\n",
      "Will be delayed: 0\n",
      "Probability: [[ 0.6495  0.3505]]\n",
      "\n",
      "[195 '21:01' 1]\n",
      "Will be delayed: 1\n",
      "Probability: [[ 0.9837  0.0163]]\n",
      "\n",
      "[197 '22:01' 1]\n",
      "Will be delayed: 0\n",
      "Probability: [[ 0.9301  0.0699]]\n",
      "\n",
      "[199 '23:01' 1]\n",
      "Will be delayed: 0\n",
      "Probability: [[ 0.9417  0.0583]]\n",
      "\n"
     ]
    }
   ],
   "source": [
    "dat = []\n",
    "for i in drames.values:\n",
    "    if i[0] == 101: pass\n",
    "    else:\n",
    "        pred = get_train_prediction(i[0])\n",
    "        s=pd.Series({'id':i[0],'time':i[1],'dir':i[2],'pred':pred})\n",
    "        dat.append(s)\n",
    "d = pd.DataFrame(dat)"
   ]
  },
  {
   "cell_type": "code",
   "execution_count": 424,
   "metadata": {
    "collapsed": false
   },
   "outputs": [
    {
     "data": {
      "text/plain": [
       "dir                                              1\n",
       "id                                             196\n",
       "pred    [0, [[0.971472829122], [0.0285271708779]]]\n",
       "time                                         23:38\n",
       "dtype: object"
      ]
     },
     "execution_count": 424,
     "metadata": {},
     "output_type": "execute_result"
    }
   ],
   "source": []
  },
  {
   "cell_type": "code",
   "execution_count": 431,
   "metadata": {
    "collapsed": false
   },
   "outputs": [],
   "source": [
    "prob = pd.DataFrame(dat)"
   ]
  },
  {
   "cell_type": "code",
   "execution_count": 438,
   "metadata": {
    "collapsed": false
   },
   "outputs": [
    {
     "data": {
      "text/plain": [
       "list"
      ]
     },
     "execution_count": 438,
     "metadata": {},
     "output_type": "execute_result"
    }
   ],
   "source": [
    "prob['pred'][0]"
   ]
  },
  {
   "cell_type": "code",
   "execution_count": 450,
   "metadata": {
    "collapsed": false
   },
   "outputs": [],
   "source": [
    "def ref(t):\n",
    "    l = list(t)\n",
    "    return pd.Series([l[0],l[1][0][0],l[1][1][0]])"
   ]
  },
  {
   "cell_type": "code",
   "execution_count": 454,
   "metadata": {
    "collapsed": false
   },
   "outputs": [],
   "source": [
    "prob[['is_delay','prob_delay','prob_nodelay']] = prob['pred'].apply(lambda x:ref(x))"
   ]
  },
  {
   "cell_type": "code",
   "execution_count": 456,
   "metadata": {
    "collapsed": false
   },
   "outputs": [],
   "source": [
    "del prob['pred']"
   ]
  },
  {
   "cell_type": "code",
   "execution_count": 474,
   "metadata": {
    "collapsed": false
   },
   "outputs": [
    {
     "name": "stderr",
     "output_type": "stream",
     "text": [
      "/Users/albarron/anaconda/lib/python2.7/site-packages/ipykernel/__main__.py:4: FutureWarning: sort(columns=....) is deprecated, use sort_values(by=.....)\n"
     ]
    },
    {
     "data": {
      "text/plain": [
       "<matplotlib.axes._subplots.AxesSubplot at 0x127314dd0>"
      ]
     },
     "execution_count": 474,
     "metadata": {},
     "output_type": "execute_result"
    },
    {
     "data": {
      "image/png": "[encoded data removed]",
      "text/plain": [
       "<matplotlib.figure.Figure at 0x11cbf7d90>"
      ]
     },
     "metadata": {},
     "output_type": "display_data"
    }
   ],
   "source": [
    "prob.set_index('time')\n",
    "\n",
    "prob.sort_index(inplace=True)\n",
    "prob.sort('time').plot.area(x='time',y=['is_delay','prob_delay',],figsize=(15,5),stacked=False)"
   ]
  },
  {
   "cell_type": "code",
   "execution_count": 466,
   "metadata": {
    "collapsed": false
   },
   "outputs": [
    {
     "name": "stderr",
     "output_type": "stream",
     "text": [
      "/Users/albarron/anaconda/lib/python2.7/site-packages/ipykernel/__main__.py:1: FutureWarning: sort(columns=....) is deprecated, use sort_values(by=.....)\n",
      "  if __name__ == '__main__':\n"
     ]
    },
    {
     "data": {
      "text/html": [
       "<div>\n",
       "<table border=\"1\" class=\"dataframe\">\n",
       "  <thead>\n",
       "    <tr style=\"text-align: right;\">\n",
       "      <th></th>\n",
       "      <th>dir</th>\n",
       "      <th>id</th>\n",
       "      <th>time</th>\n",
       "      <th>is_delay</th>\n",
       "      <th>prob_delay</th>\n",
       "      <th>prob_nodelay</th>\n",
       "    </tr>\n",
       "  </thead>\n",
       "  <tbody>\n",
       "    <tr>\n",
       "      <th>45</th>\n",
       "      <td>1</td>\n",
       "      <td>103</td>\n",
       "      <td>05:36</td>\n",
       "      <td>1</td>\n",
       "      <td>0.983692</td>\n",
       "      <td>0.016308</td>\n",
       "    </tr>\n",
       "    <tr>\n",
       "      <th>0</th>\n",
       "      <td>1</td>\n",
       "      <td>102</td>\n",
       "      <td>05:53</td>\n",
       "      <td>1</td>\n",
       "      <td>0.990210</td>\n",
       "      <td>0.009790</td>\n",
       "    </tr>\n",
       "    <tr>\n",
       "      <th>46</th>\n",
       "      <td>1</td>\n",
       "      <td>305</td>\n",
       "      <td>06:05</td>\n",
       "      <td>0</td>\n",
       "      <td>0.000039</td>\n",
       "      <td>0.999961</td>\n",
       "    </tr>\n",
       "    <tr>\n",
       "      <th>1</th>\n",
       "      <td>1</td>\n",
       "      <td>104</td>\n",
       "      <td>06:23</td>\n",
       "      <td>0</td>\n",
       "      <td>0.400328</td>\n",
       "      <td>0.599672</td>\n",
       "    </tr>\n",
       "    <tr>\n",
       "      <th>48</th>\n",
       "      <td>1</td>\n",
       "      <td>309</td>\n",
       "      <td>06:23</td>\n",
       "      <td>0</td>\n",
       "      <td>0.000039</td>\n",
       "      <td>0.999961</td>\n",
       "    </tr>\n",
       "    <tr>\n",
       "      <th>47</th>\n",
       "      <td>1</td>\n",
       "      <td>207</td>\n",
       "      <td>06:36</td>\n",
       "      <td>0</td>\n",
       "      <td>0.000396</td>\n",
       "      <td>0.999604</td>\n",
       "    </tr>\n",
       "    <tr>\n",
       "      <th>49</th>\n",
       "      <td>0</td>\n",
       "      <td>211</td>\n",
       "      <td>06:40</td>\n",
       "      <td>0</td>\n",
       "      <td>0.000396</td>\n",
       "      <td>0.999604</td>\n",
       "    </tr>\n",
       "    <tr>\n",
       "      <th>2</th>\n",
       "      <td>1</td>\n",
       "      <td>206</td>\n",
       "      <td>06:59</td>\n",
       "      <td>0</td>\n",
       "      <td>0.000680</td>\n",
       "      <td>0.999320</td>\n",
       "    </tr>\n",
       "    <tr>\n",
       "      <th>50</th>\n",
       "      <td>1</td>\n",
       "      <td>313</td>\n",
       "      <td>07:05</td>\n",
       "      <td>0</td>\n",
       "      <td>0.000039</td>\n",
       "      <td>0.999961</td>\n",
       "    </tr>\n",
       "    <tr>\n",
       "      <th>51</th>\n",
       "      <td>1</td>\n",
       "      <td>215</td>\n",
       "      <td>07:16</td>\n",
       "      <td>0</td>\n",
       "      <td>0.000396</td>\n",
       "      <td>0.999604</td>\n",
       "    </tr>\n",
       "    <tr>\n",
       "      <th>3</th>\n",
       "      <td>1</td>\n",
       "      <td>208</td>\n",
       "      <td>07:20</td>\n",
       "      <td>0</td>\n",
       "      <td>0.000680</td>\n",
       "      <td>0.999320</td>\n",
       "    </tr>\n",
       "    <tr>\n",
       "      <th>53</th>\n",
       "      <td>1</td>\n",
       "      <td>319</td>\n",
       "      <td>07:23</td>\n",
       "      <td>0</td>\n",
       "      <td>0.000039</td>\n",
       "      <td>0.999961</td>\n",
       "    </tr>\n",
       "    <tr>\n",
       "      <th>4</th>\n",
       "      <td>1</td>\n",
       "      <td>210</td>\n",
       "      <td>07:28</td>\n",
       "      <td>0</td>\n",
       "      <td>0.000680</td>\n",
       "      <td>0.999320</td>\n",
       "    </tr>\n",
       "    <tr>\n",
       "      <th>52</th>\n",
       "      <td>1</td>\n",
       "      <td>217</td>\n",
       "      <td>07:36</td>\n",
       "      <td>0</td>\n",
       "      <td>0.000396</td>\n",
       "      <td>0.999604</td>\n",
       "    </tr>\n",
       "    <tr>\n",
       "      <th>5</th>\n",
       "      <td>1</td>\n",
       "      <td>312</td>\n",
       "      <td>07:38</td>\n",
       "      <td>0</td>\n",
       "      <td>0.000349</td>\n",
       "      <td>0.999651</td>\n",
       "    </tr>\n",
       "    <tr>\n",
       "      <th>54</th>\n",
       "      <td>0</td>\n",
       "      <td>221</td>\n",
       "      <td>07:40</td>\n",
       "      <td>0</td>\n",
       "      <td>0.000396</td>\n",
       "      <td>0.999604</td>\n",
       "    </tr>\n",
       "    <tr>\n",
       "      <th>6</th>\n",
       "      <td>1</td>\n",
       "      <td>314</td>\n",
       "      <td>07:53</td>\n",
       "      <td>0</td>\n",
       "      <td>0.000349</td>\n",
       "      <td>0.999651</td>\n",
       "    </tr>\n",
       "    <tr>\n",
       "      <th>7</th>\n",
       "      <td>1</td>\n",
       "      <td>216</td>\n",
       "      <td>08:05</td>\n",
       "      <td>0</td>\n",
       "      <td>0.000680</td>\n",
       "      <td>0.999320</td>\n",
       "    </tr>\n",
       "    <tr>\n",
       "      <th>55</th>\n",
       "      <td>1</td>\n",
       "      <td>323</td>\n",
       "      <td>08:05</td>\n",
       "      <td>0</td>\n",
       "      <td>0.000039</td>\n",
       "      <td>0.999961</td>\n",
       "    </tr>\n",
       "    <tr>\n",
       "      <th>56</th>\n",
       "      <td>1</td>\n",
       "      <td>225</td>\n",
       "      <td>08:16</td>\n",
       "      <td>0</td>\n",
       "      <td>0.000396</td>\n",
       "      <td>0.999604</td>\n",
       "    </tr>\n",
       "    <tr>\n",
       "      <th>8</th>\n",
       "      <td>1</td>\n",
       "      <td>218</td>\n",
       "      <td>08:20</td>\n",
       "      <td>0</td>\n",
       "      <td>0.000680</td>\n",
       "      <td>0.999320</td>\n",
       "    </tr>\n",
       "    <tr>\n",
       "      <th>58</th>\n",
       "      <td>1</td>\n",
       "      <td>329</td>\n",
       "      <td>08:25</td>\n",
       "      <td>0</td>\n",
       "      <td>0.000039</td>\n",
       "      <td>0.999961</td>\n",
       "    </tr>\n",
       "    <tr>\n",
       "      <th>9</th>\n",
       "      <td>1</td>\n",
       "      <td>220</td>\n",
       "      <td>08:28</td>\n",
       "      <td>0</td>\n",
       "      <td>0.000680</td>\n",
       "      <td>0.999320</td>\n",
       "    </tr>\n",
       "    <tr>\n",
       "      <th>57</th>\n",
       "      <td>1</td>\n",
       "      <td>227</td>\n",
       "      <td>08:36</td>\n",
       "      <td>0</td>\n",
       "      <td>0.000396</td>\n",
       "      <td>0.999604</td>\n",
       "    </tr>\n",
       "    <tr>\n",
       "      <th>10</th>\n",
       "      <td>1</td>\n",
       "      <td>322</td>\n",
       "      <td>08:38</td>\n",
       "      <td>0</td>\n",
       "      <td>0.000349</td>\n",
       "      <td>0.999651</td>\n",
       "    </tr>\n",
       "    <tr>\n",
       "      <th>59</th>\n",
       "      <td>0</td>\n",
       "      <td>231</td>\n",
       "      <td>08:50</td>\n",
       "      <td>0</td>\n",
       "      <td>0.000396</td>\n",
       "      <td>0.999604</td>\n",
       "    </tr>\n",
       "    <tr>\n",
       "      <th>11</th>\n",
       "      <td>1</td>\n",
       "      <td>324</td>\n",
       "      <td>08:53</td>\n",
       "      <td>0</td>\n",
       "      <td>0.000349</td>\n",
       "      <td>0.999651</td>\n",
       "    </tr>\n",
       "    <tr>\n",
       "      <th>12</th>\n",
       "      <td>1</td>\n",
       "      <td>226</td>\n",
       "      <td>09:05</td>\n",
       "      <td>0</td>\n",
       "      <td>0.003807</td>\n",
       "      <td>0.996193</td>\n",
       "    </tr>\n",
       "    <tr>\n",
       "      <th>60</th>\n",
       "      <td>1</td>\n",
       "      <td>233</td>\n",
       "      <td>09:14</td>\n",
       "      <td>0</td>\n",
       "      <td>0.000752</td>\n",
       "      <td>0.999248</td>\n",
       "    </tr>\n",
       "    <tr>\n",
       "      <th>13</th>\n",
       "      <td>1</td>\n",
       "      <td>228</td>\n",
       "      <td>09:20</td>\n",
       "      <td>0</td>\n",
       "      <td>0.000680</td>\n",
       "      <td>0.999320</td>\n",
       "    </tr>\n",
       "    <tr>\n",
       "      <th>...</th>\n",
       "      <td>...</td>\n",
       "      <td>...</td>\n",
       "      <td>...</td>\n",
       "      <td>...</td>\n",
       "      <td>...</td>\n",
       "      <td>...</td>\n",
       "    </tr>\n",
       "    <tr>\n",
       "      <th>74</th>\n",
       "      <td>1</td>\n",
       "      <td>269</td>\n",
       "      <td>17:16</td>\n",
       "      <td>0</td>\n",
       "      <td>0.000396</td>\n",
       "      <td>0.999604</td>\n",
       "    </tr>\n",
       "    <tr>\n",
       "      <th>76</th>\n",
       "      <td>1</td>\n",
       "      <td>273</td>\n",
       "      <td>17:26</td>\n",
       "      <td>0</td>\n",
       "      <td>0.000396</td>\n",
       "      <td>0.999604</td>\n",
       "    </tr>\n",
       "    <tr>\n",
       "      <th>30</th>\n",
       "      <td>1</td>\n",
       "      <td>268</td>\n",
       "      <td>17:40</td>\n",
       "      <td>0</td>\n",
       "      <td>0.000680</td>\n",
       "      <td>0.999320</td>\n",
       "    </tr>\n",
       "    <tr>\n",
       "      <th>77</th>\n",
       "      <td>1</td>\n",
       "      <td>375</td>\n",
       "      <td>17:44</td>\n",
       "      <td>0</td>\n",
       "      <td>0.000039</td>\n",
       "      <td>0.999961</td>\n",
       "    </tr>\n",
       "    <tr>\n",
       "      <th>31</th>\n",
       "      <td>1</td>\n",
       "      <td>370</td>\n",
       "      <td>17:51</td>\n",
       "      <td>0</td>\n",
       "      <td>0.000349</td>\n",
       "      <td>0.999651</td>\n",
       "    </tr>\n",
       "    <tr>\n",
       "      <th>78</th>\n",
       "      <td>1</td>\n",
       "      <td>277</td>\n",
       "      <td>17:54</td>\n",
       "      <td>0</td>\n",
       "      <td>0.000396</td>\n",
       "      <td>0.999604</td>\n",
       "    </tr>\n",
       "    <tr>\n",
       "      <th>32</th>\n",
       "      <td>1</td>\n",
       "      <td>272</td>\n",
       "      <td>18:04</td>\n",
       "      <td>0</td>\n",
       "      <td>0.000680</td>\n",
       "      <td>0.999320</td>\n",
       "    </tr>\n",
       "    <tr>\n",
       "      <th>80</th>\n",
       "      <td>1</td>\n",
       "      <td>381</td>\n",
       "      <td>18:06</td>\n",
       "      <td>0</td>\n",
       "      <td>0.000039</td>\n",
       "      <td>0.999961</td>\n",
       "    </tr>\n",
       "    <tr>\n",
       "      <th>33</th>\n",
       "      <td>0</td>\n",
       "      <td>274</td>\n",
       "      <td>18:10</td>\n",
       "      <td>0</td>\n",
       "      <td>0.000680</td>\n",
       "      <td>0.999320</td>\n",
       "    </tr>\n",
       "    <tr>\n",
       "      <th>34</th>\n",
       "      <td>1</td>\n",
       "      <td>376</td>\n",
       "      <td>18:14</td>\n",
       "      <td>0</td>\n",
       "      <td>0.000349</td>\n",
       "      <td>0.999651</td>\n",
       "    </tr>\n",
       "    <tr>\n",
       "      <th>79</th>\n",
       "      <td>1</td>\n",
       "      <td>279</td>\n",
       "      <td>18:16</td>\n",
       "      <td>0</td>\n",
       "      <td>0.000396</td>\n",
       "      <td>0.999604</td>\n",
       "    </tr>\n",
       "    <tr>\n",
       "      <th>81</th>\n",
       "      <td>1</td>\n",
       "      <td>283</td>\n",
       "      <td>18:24</td>\n",
       "      <td>0</td>\n",
       "      <td>0.000548</td>\n",
       "      <td>0.999452</td>\n",
       "    </tr>\n",
       "    <tr>\n",
       "      <th>35</th>\n",
       "      <td>1</td>\n",
       "      <td>278</td>\n",
       "      <td>18:40</td>\n",
       "      <td>0</td>\n",
       "      <td>0.000680</td>\n",
       "      <td>0.999320</td>\n",
       "    </tr>\n",
       "    <tr>\n",
       "      <th>82</th>\n",
       "      <td>1</td>\n",
       "      <td>385</td>\n",
       "      <td>18:43</td>\n",
       "      <td>0</td>\n",
       "      <td>0.000039</td>\n",
       "      <td>0.999961</td>\n",
       "    </tr>\n",
       "    <tr>\n",
       "      <th>36</th>\n",
       "      <td>1</td>\n",
       "      <td>380</td>\n",
       "      <td>18:51</td>\n",
       "      <td>0</td>\n",
       "      <td>0.000349</td>\n",
       "      <td>0.999651</td>\n",
       "    </tr>\n",
       "    <tr>\n",
       "      <th>83</th>\n",
       "      <td>1</td>\n",
       "      <td>287</td>\n",
       "      <td>18:54</td>\n",
       "      <td>0</td>\n",
       "      <td>0.002979</td>\n",
       "      <td>0.997021</td>\n",
       "    </tr>\n",
       "    <tr>\n",
       "      <th>37</th>\n",
       "      <td>1</td>\n",
       "      <td>282</td>\n",
       "      <td>19:04</td>\n",
       "      <td>0</td>\n",
       "      <td>0.000680</td>\n",
       "      <td>0.999320</td>\n",
       "    </tr>\n",
       "    <tr>\n",
       "      <th>38</th>\n",
       "      <td>0</td>\n",
       "      <td>284</td>\n",
       "      <td>19:10</td>\n",
       "      <td>0</td>\n",
       "      <td>0.000680</td>\n",
       "      <td>0.999320</td>\n",
       "    </tr>\n",
       "    <tr>\n",
       "      <th>84</th>\n",
       "      <td>1</td>\n",
       "      <td>289</td>\n",
       "      <td>19:10</td>\n",
       "      <td>0</td>\n",
       "      <td>0.000396</td>\n",
       "      <td>0.999604</td>\n",
       "    </tr>\n",
       "    <tr>\n",
       "      <th>39</th>\n",
       "      <td>1</td>\n",
       "      <td>386</td>\n",
       "      <td>19:14</td>\n",
       "      <td>0</td>\n",
       "      <td>0.000349</td>\n",
       "      <td>0.999651</td>\n",
       "    </tr>\n",
       "    <tr>\n",
       "      <th>85</th>\n",
       "      <td>1</td>\n",
       "      <td>191</td>\n",
       "      <td>19:21</td>\n",
       "      <td>0</td>\n",
       "      <td>0.684970</td>\n",
       "      <td>0.315030</td>\n",
       "    </tr>\n",
       "    <tr>\n",
       "      <th>40</th>\n",
       "      <td>1</td>\n",
       "      <td>288</td>\n",
       "      <td>19:40</td>\n",
       "      <td>0</td>\n",
       "      <td>0.000740</td>\n",
       "      <td>0.999260</td>\n",
       "    </tr>\n",
       "    <tr>\n",
       "      <th>86</th>\n",
       "      <td>1</td>\n",
       "      <td>193</td>\n",
       "      <td>20:01</td>\n",
       "      <td>0</td>\n",
       "      <td>0.649527</td>\n",
       "      <td>0.350473</td>\n",
       "    </tr>\n",
       "    <tr>\n",
       "      <th>41</th>\n",
       "      <td>1</td>\n",
       "      <td>190</td>\n",
       "      <td>20:28</td>\n",
       "      <td>1</td>\n",
       "      <td>0.990210</td>\n",
       "      <td>0.009790</td>\n",
       "    </tr>\n",
       "    <tr>\n",
       "      <th>87</th>\n",
       "      <td>1</td>\n",
       "      <td>195</td>\n",
       "      <td>21:01</td>\n",
       "      <td>1</td>\n",
       "      <td>0.983692</td>\n",
       "      <td>0.016308</td>\n",
       "    </tr>\n",
       "    <tr>\n",
       "      <th>42</th>\n",
       "      <td>1</td>\n",
       "      <td>192</td>\n",
       "      <td>21:38</td>\n",
       "      <td>0</td>\n",
       "      <td>0.655791</td>\n",
       "      <td>0.344209</td>\n",
       "    </tr>\n",
       "    <tr>\n",
       "      <th>88</th>\n",
       "      <td>1</td>\n",
       "      <td>197</td>\n",
       "      <td>22:01</td>\n",
       "      <td>0</td>\n",
       "      <td>0.930077</td>\n",
       "      <td>0.069923</td>\n",
       "    </tr>\n",
       "    <tr>\n",
       "      <th>43</th>\n",
       "      <td>1</td>\n",
       "      <td>194</td>\n",
       "      <td>22:38</td>\n",
       "      <td>0</td>\n",
       "      <td>0.922313</td>\n",
       "      <td>0.077687</td>\n",
       "    </tr>\n",
       "    <tr>\n",
       "      <th>89</th>\n",
       "      <td>1</td>\n",
       "      <td>199</td>\n",
       "      <td>23:01</td>\n",
       "      <td>0</td>\n",
       "      <td>0.941684</td>\n",
       "      <td>0.058316</td>\n",
       "    </tr>\n",
       "    <tr>\n",
       "      <th>44</th>\n",
       "      <td>1</td>\n",
       "      <td>196</td>\n",
       "      <td>23:38</td>\n",
       "      <td>0</td>\n",
       "      <td>0.971473</td>\n",
       "      <td>0.028527</td>\n",
       "    </tr>\n",
       "  </tbody>\n",
       "</table>\n",
       "<p>90 rows × 6 columns</p>\n",
       "</div>"
      ],
      "text/plain": [
       "    dir   id   time  is_delay  prob_delay  prob_nodelay\n",
       "45    1  103  05:36         1    0.983692      0.016308\n",
       "0     1  102  05:53         1    0.990210      0.009790\n",
       "46    1  305  06:05         0    0.000039      0.999961\n",
       "1     1  104  06:23         0    0.400328      0.599672\n",
       "48    1  309  06:23         0    0.000039      0.999961\n",
       "47    1  207  06:36         0    0.000396      0.999604\n",
       "49    0  211  06:40         0    0.000396      0.999604\n",
       "2     1  206  06:59         0    0.000680      0.999320\n",
       "50    1  313  07:05         0    0.000039      0.999961\n",
       "51    1  215  07:16         0    0.000396      0.999604\n",
       "3     1  208  07:20         0    0.000680      0.999320\n",
       "53    1  319  07:23         0    0.000039      0.999961\n",
       "4     1  210  07:28         0    0.000680      0.999320\n",
       "52    1  217  07:36         0    0.000396      0.999604\n",
       "5     1  312  07:38         0    0.000349      0.999651\n",
       "54    0  221  07:40         0    0.000396      0.999604\n",
       "6     1  314  07:53         0    0.000349      0.999651\n",
       "7     1  216  08:05         0    0.000680      0.999320\n",
       "55    1  323  08:05         0    0.000039      0.999961\n",
       "56    1  225  08:16         0    0.000396      0.999604\n",
       "8     1  218  08:20         0    0.000680      0.999320\n",
       "58    1  329  08:25         0    0.000039      0.999961\n",
       "9     1  220  08:28         0    0.000680      0.999320\n",
       "57    1  227  08:36         0    0.000396      0.999604\n",
       "10    1  322  08:38         0    0.000349      0.999651\n",
       "59    0  231  08:50         0    0.000396      0.999604\n",
       "11    1  324  08:53         0    0.000349      0.999651\n",
       "12    1  226  09:05         0    0.003807      0.996193\n",
       "60    1  233  09:14         0    0.000752      0.999248\n",
       "13    1  228  09:20         0    0.000680      0.999320\n",
       "..  ...  ...    ...       ...         ...           ...\n",
       "74    1  269  17:16         0    0.000396      0.999604\n",
       "76    1  273  17:26         0    0.000396      0.999604\n",
       "30    1  268  17:40         0    0.000680      0.999320\n",
       "77    1  375  17:44         0    0.000039      0.999961\n",
       "31    1  370  17:51         0    0.000349      0.999651\n",
       "78    1  277  17:54         0    0.000396      0.999604\n",
       "32    1  272  18:04         0    0.000680      0.999320\n",
       "80    1  381  18:06         0    0.000039      0.999961\n",
       "33    0  274  18:10         0    0.000680      0.999320\n",
       "34    1  376  18:14         0    0.000349      0.999651\n",
       "79    1  279  18:16         0    0.000396      0.999604\n",
       "81    1  283  18:24         0    0.000548      0.999452\n",
       "35    1  278  18:40         0    0.000680      0.999320\n",
       "82    1  385  18:43         0    0.000039      0.999961\n",
       "36    1  380  18:51         0    0.000349      0.999651\n",
       "83    1  287  18:54         0    0.002979      0.997021\n",
       "37    1  282  19:04         0    0.000680      0.999320\n",
       "38    0  284  19:10         0    0.000680      0.999320\n",
       "84    1  289  19:10         0    0.000396      0.999604\n",
       "39    1  386  19:14         0    0.000349      0.999651\n",
       "85    1  191  19:21         0    0.684970      0.315030\n",
       "40    1  288  19:40         0    0.000740      0.999260\n",
       "86    1  193  20:01         0    0.649527      0.350473\n",
       "41    1  190  20:28         1    0.990210      0.009790\n",
       "87    1  195  21:01         1    0.983692      0.016308\n",
       "42    1  192  21:38         0    0.655791      0.344209\n",
       "88    1  197  22:01         0    0.930077      0.069923\n",
       "43    1  194  22:38         0    0.922313      0.077687\n",
       "89    1  199  23:01         0    0.941684      0.058316\n",
       "44    1  196  23:38         0    0.971473      0.028527\n",
       "\n",
       "[90 rows x 6 columns]"
      ]
     },
     "execution_count": 466,
     "metadata": {},
     "output_type": "execute_result"
    }
   ],
   "source": [
    "prob.sort('time')"
   ]
  },
  {
   "cell_type": "code",
   "execution_count": null,
   "metadata": {
    "collapsed": true
   },
   "outputs": [],
   "source": []
  }
 ],
 "metadata": {
  "kernelspec": {
   "display_name": "Python 2",
   "language": "python",
   "name": "python2"
  },
  "language_info": {
   "codemirror_mode": {
    "name": "ipython",
    "version": 2
   },
   "file_extension": ".py",
   "mimetype": "text/x-python",
   "name": "python",
   "nbconvert_exporter": "python",
   "pygments_lexer": "ipython2",
   "version": "2.7.11"
  }
 },
 "nbformat": 4,
 "nbformat_minor": 0
}
