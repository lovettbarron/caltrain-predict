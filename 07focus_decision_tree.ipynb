{
 "cells": [
  {
   "cell_type": "code",
   "execution_count": 1,
   "metadata": {
    "collapsed": false
   },
   "outputs": [
    {
     "name": "stderr",
     "output_type": "stream",
     "text": [
      "/Users/albarron/anaconda/lib/python2.7/site-packages/matplotlib/font_manager.py:273: UserWarning: Matplotlib is building the font cache using fc-list. This may take a moment.\n",
      "  warnings.warn('Matplotlib is building the font cache using fc-list. This may take a moment.')\n"
     ]
    }
   ],
   "source": [
    "import sys\n",
    "import re\n",
    "import time\n",
    "import datetime\n",
    "import pandas as pd\n",
    "import numpy as np\n",
    "import func\n",
    "# inline plot\n",
    "import matplotlib.pyplot as plt\n",
    "%matplotlib inline"
   ]
  },
  {
   "cell_type": "code",
   "execution_count": 2,
   "metadata": {
    "collapsed": false
   },
   "outputs": [
    {
     "name": "stdout",
     "output_type": "stream",
     "text": [
      "(21021, 33)\n"
     ]
    }
   ],
   "source": [
    "df = pd.read_csv(\"data/merged_concat_final.csv\",sep='\\t',error_bad_lines=False)\n",
    "del df['Unnamed: 0']\n",
    "print df.shape"
   ]
  },
  {
   "cell_type": "code",
   "execution_count": 5,
   "metadata": {
    "collapsed": false
   },
   "outputs": [],
   "source": [
    "df.set_index('timestamp')\n",
    "df['timestamp'] = pd.to_datetime(df['timestamp'],format=\"%Y-%m-%d %H:%M:%S\")"
   ]
  },
  {
   "cell_type": "code",
   "execution_count": 6,
   "metadata": {
    "collapsed": false
   },
   "outputs": [],
   "source": [
    "only_delay = df[(df['is_delay']==1)]"
   ]
  },
  {
   "cell_type": "code",
   "execution_count": 326,
   "metadata": {
    "collapsed": false
   },
   "outputs": [
    {
     "data": {
      "text/plain": [
       "327"
      ]
     },
     "execution_count": 326,
     "metadata": {},
     "output_type": "execute_result"
    }
   ],
   "source": [
    "len(only_delay)"
   ]
  },
  {
   "cell_type": "code",
   "execution_count": 7,
   "metadata": {
    "collapsed": false
   },
   "outputs": [
    {
     "name": "stdout",
     "output_type": "stream",
     "text": [
      "relative to delay\n",
      "is_delay    100.000000\n",
      "del_min      27.828746\n",
      "del_med      43.425076\n",
      "del_maj       8.562691\n",
      "del_cat       4.892966\n",
      "dtype: float64 %\n",
      "Relative to total\n",
      "is_delay    1.555587\n",
      "del_min     0.432900\n",
      "del_med     0.675515\n",
      "del_maj     0.133200\n",
      "del_cat     0.076114\n",
      "dtype: float64 %\n"
     ]
    }
   ],
   "source": [
    "print \"relative to delay\"\n",
    "print (df[['is_delay','del_min','del_med','del_maj','del_cat']].sum()/float(df['is_delay'].sum()))*100 , '%'\n",
    "print \"Relative to total\"\n",
    "print (df[['is_delay','del_min','del_med','del_maj','del_cat']].sum()/float(len(df)))*100 , '%'"
   ]
  },
  {
   "cell_type": "code",
   "execution_count": 8,
   "metadata": {
    "collapsed": false
   },
   "outputs": [],
   "source": [
    "# Train IDs swapped into cat variables and concat into main dataset\n",
    "train_id_dummies = pd.get_dummies(df['train_id'],prefix='tid')\n",
    "train_id_dummies.shape\n",
    "train_id_dummies.columns.values\n",
    "del train_id_dummies['tid_101.0'] # Delete as base var\n",
    "tid_col = train_id_dummies.columns.values\n",
    "df = pd.concat([df, train_id_dummies], axis=1)"
   ]
  },
  {
   "cell_type": "markdown",
   "metadata": {},
   "source": [
    "### Pick one of these to explore re: below models"
   ]
  },
  {
   "cell_type": "code",
   "execution_count": 73,
   "metadata": {
    "collapsed": true
   },
   "outputs": [],
   "source": [
    "# Including train IDs\n",
    "features = df.columns.values\n",
    "target_cols = ['temp','precipiation',\n",
    "        'visability','windspeed','humidity','cloudcover',\n",
    "        'is_bullet','is_limited','t_northbound',\n",
    "       'd_tuesday','d_wednesday','d_thursday','d_friday',] + list(tid_col)\n",
    "X = df[target_cols]\n",
    "# del X['is_delay']\n",
    "# del X['tweet_id']\n",
    "# X['timestamp'] = X['timestamp'].apply(lambda x: (np.datetime64(x).astype('uint64') / 1e6).astype('uint32'))\n",
    "# y = df['ord_del']\n",
    "y = df['is_delay']"
   ]
  },
  {
   "cell_type": "code",
   "execution_count": null,
   "metadata": {
    "collapsed": true
   },
   "outputs": [],
   "source": [
    "# Including train IDs\n",
    "features = df.columns.values\n",
    "target_cols = ['temp','precipiation',\n",
    "        'visability','windspeed','humidity','cloudcover',\n",
    "        'is_bullet','is_limited','t_northbound',\n",
    "       'd_tuesday','d_wednesday','d_thursday','d_friday',] + list(tid_col)\n",
    "X = df[target_cols]\n",
    "# del X['is_delay']\n",
    "# del X['tweet_id']\n",
    "# X['timestamp'] = X['timestamp'].apply(lambda x: (np.datetime64(x).astype('uint64') / 1e6).astype('uint32'))\n",
    "# y = df['ord_del']\n",
    "y = df['is_delay']"
   ]
  },
  {
   "cell_type": "code",
   "execution_count": 74,
   "metadata": {
    "collapsed": false
   },
   "outputs": [
    {
     "name": "stderr",
     "output_type": "stream",
     "text": [
      "/Users/albarron/anaconda/lib/python2.7/site-packages/ipykernel/__main__.py:4: SettingWithCopyWarning: \n",
      "A value is trying to be set on a copy of a slice from a DataFrame.\n",
      "Try using .loc[row_indexer,col_indexer] = value instead\n",
      "\n",
      "See the caveats in the documentation: http://pandas.pydata.org/pandas-docs/stable/indexing.html#indexing-view-versus-copy\n",
      "/Users/albarron/anaconda/lib/python2.7/site-packages/ipykernel/__main__.py:5: SettingWithCopyWarning: \n",
      "A value is trying to be set on a copy of a slice from a DataFrame.\n",
      "Try using .loc[row_indexer,col_indexer] = value instead\n",
      "\n",
      "See the caveats in the documentation: http://pandas.pydata.org/pandas-docs/stable/indexing.html#indexing-view-versus-copy\n"
     ]
    }
   ],
   "source": [
    "# X['timestamp'] = X['timestamp'].apply(lambda x:int(x))\n",
    "# X['stop_pa'] = X['stop_pa'].apply(lambda x:int(x))\n",
    "# X['train_id'] = X['train_id'].apply(lambda x:int(x))\n",
    "X['t_northbound'] = X['t_northbound'].apply(lambda x:int(x))\n",
    "X['cloudcover'] = X['cloudcover'].fillna(X['cloudcover'].mean())"
   ]
  },
  {
   "cell_type": "markdown",
   "metadata": {},
   "source": [
    "### Train/Test split"
   ]
  },
  {
   "cell_type": "code",
   "execution_count": 289,
   "metadata": {
    "collapsed": false
   },
   "outputs": [],
   "source": [
    "from sklearn.cross_validation import train_test_split\n",
    "X_train, X_test, y_train, y_test = train_test_split(X, y,test_size=0.25)"
   ]
  },
  {
   "cell_type": "markdown",
   "metadata": {},
   "source": [
    "### Run Decision Trees, Prune, and consider False Positives"
   ]
  },
  {
   "cell_type": "code",
   "execution_count": 76,
   "metadata": {
    "collapsed": false
   },
   "outputs": [
    {
     "data": {
      "text/plain": [
       "DecisionTreeClassifier(class_weight=None, criterion='gini', max_depth=2,\n",
       "            max_features=None, max_leaf_nodes=None, min_samples_leaf=5,\n",
       "            min_samples_split=2, min_weight_fraction_leaf=0.0,\n",
       "            random_state=None, splitter='best')"
      ]
     },
     "execution_count": 76,
     "metadata": {},
     "output_type": "execute_result"
    }
   ],
   "source": [
    "from sklearn.tree import DecisionTreeClassifier\n",
    "TreeClass = DecisionTreeClassifier(\n",
    "                max_depth = 2,\n",
    "                min_samples_leaf = 5)\n",
    "TreeClass.fit(X_train,y_train)"
   ]
  },
  {
   "cell_type": "code",
   "execution_count": 77,
   "metadata": {
    "collapsed": false
   },
   "outputs": [
    {
     "name": "stdout",
     "output_type": "stream",
     "text": [
      "0.99295925436\n"
     ]
    }
   ],
   "source": [
    "from sklearn import metrics\n",
    "from sklearn.cross_validation import cross_val_score\n",
    "scores = cross_val_score(TreeClass, X_test, y_test, cv=10)\n",
    "print(scores.mean()) # Score = More is better, error is 1-score"
   ]
  },
  {
   "cell_type": "code",
   "execution_count": 78,
   "metadata": {
    "collapsed": false
   },
   "outputs": [
    {
     "data": {
      "text/plain": [
       "<matplotlib.axes._subplots.AxesSubplot at 0x10e61dbd0>"
      ]
     },
     "execution_count": 78,
     "metadata": {},
     "output_type": "execute_result"
    },
    {
     "data": {
      "image/png": "[encoded data removed]",
      "text/plain": [
       "<matplotlib.figure.Figure at 0x10ed8db90>"
      ]
     },
     "metadata": {},
     "output_type": "display_data"
    }
   ],
   "source": [
    "Depth = range(1,10)\n",
    "score = []\n",
    "for i in Depth:\n",
    "      TreeClass = DecisionTreeClassifier(\n",
    "                max_depth = i,\n",
    "                min_samples_leaf = 5)\n",
    "      scores = cross_val_score(TreeClass, X_test, y_test, cv=10)\n",
    "      score.append(np.mean(scores))\n",
    "\n",
    "Depth_Choice_df = pd.DataFrame({'cv_scores': score ,'Depth': Depth})\n",
    "Depth_Choice_df.plot(x ='Depth',y = 'cv_scores' )\n",
    "\n",
    "#It seems like at depth = 4 we achieved the best result"
   ]
  },
  {
   "cell_type": "code",
   "execution_count": 80,
   "metadata": {
    "collapsed": false
   },
   "outputs": [
    {
     "data": {
      "text/html": [
       "<div>\n",
       "<table border=\"1\" class=\"dataframe\">\n",
       "  <thead>\n",
       "    <tr style=\"text-align: right;\">\n",
       "      <th></th>\n",
       "      <th>Depth</th>\n",
       "      <th>cv_scores</th>\n",
       "    </tr>\n",
       "  </thead>\n",
       "  <tbody>\n",
       "    <tr>\n",
       "      <th>0</th>\n",
       "      <td>1</td>\n",
       "      <td>0.989345</td>\n",
       "    </tr>\n",
       "    <tr>\n",
       "      <th>1</th>\n",
       "      <td>2</td>\n",
       "      <td>0.992959</td>\n",
       "    </tr>\n",
       "    <tr>\n",
       "      <th>2</th>\n",
       "      <td>3</td>\n",
       "      <td>0.992389</td>\n",
       "    </tr>\n",
       "    <tr>\n",
       "      <th>3</th>\n",
       "      <td>4</td>\n",
       "      <td>0.992389</td>\n",
       "    </tr>\n",
       "    <tr>\n",
       "      <th>4</th>\n",
       "      <td>5</td>\n",
       "      <td>0.992769</td>\n",
       "    </tr>\n",
       "  </tbody>\n",
       "</table>\n",
       "</div>"
      ],
      "text/plain": [
       "   Depth  cv_scores\n",
       "0      1   0.989345\n",
       "1      2   0.992959\n",
       "2      3   0.992389\n",
       "3      4   0.992389\n",
       "4      5   0.992769"
      ]
     },
     "execution_count": 80,
     "metadata": {},
     "output_type": "execute_result"
    }
   ],
   "source": [
    "Depth_Choice_df.head()"
   ]
  },
  {
   "cell_type": "code",
   "execution_count": 230,
   "metadata": {
    "collapsed": false
   },
   "outputs": [
    {
     "data": {
      "text/html": [
       "<div>\n",
       "<table border=\"1\" class=\"dataframe\">\n",
       "  <thead>\n",
       "    <tr style=\"text-align: right;\">\n",
       "      <th></th>\n",
       "      <th>Gini_Import</th>\n",
       "      <th>feature</th>\n",
       "    </tr>\n",
       "  </thead>\n",
       "  <tbody>\n",
       "    <tr>\n",
       "      <th>7</th>\n",
       "      <td>0.686761</td>\n",
       "      <td>is_limited</td>\n",
       "    </tr>\n",
       "    <tr>\n",
       "      <th>6</th>\n",
       "      <td>0.305660</td>\n",
       "      <td>is_bullet</td>\n",
       "    </tr>\n",
       "    <tr>\n",
       "      <th>5</th>\n",
       "      <td>0.007579</td>\n",
       "      <td>cloudcover</td>\n",
       "    </tr>\n",
       "    <tr>\n",
       "      <th>0</th>\n",
       "      <td>0.000000</td>\n",
       "      <td>temp</td>\n",
       "    </tr>\n",
       "    <tr>\n",
       "      <th>66</th>\n",
       "      <td>0.000000</td>\n",
       "      <td>tid_267.0</td>\n",
       "    </tr>\n",
       "    <tr>\n",
       "      <th>76</th>\n",
       "      <td>0.000000</td>\n",
       "      <td>tid_283.0</td>\n",
       "    </tr>\n",
       "    <tr>\n",
       "      <th>75</th>\n",
       "      <td>0.000000</td>\n",
       "      <td>tid_282.0</td>\n",
       "    </tr>\n",
       "    <tr>\n",
       "      <th>74</th>\n",
       "      <td>0.000000</td>\n",
       "      <td>tid_279.0</td>\n",
       "    </tr>\n",
       "    <tr>\n",
       "      <th>73</th>\n",
       "      <td>0.000000</td>\n",
       "      <td>tid_278.0</td>\n",
       "    </tr>\n",
       "    <tr>\n",
       "      <th>72</th>\n",
       "      <td>0.000000</td>\n",
       "      <td>tid_277.0</td>\n",
       "    </tr>\n",
       "  </tbody>\n",
       "</table>\n",
       "</div>"
      ],
      "text/plain": [
       "    Gini_Import     feature\n",
       "7      0.686761  is_limited\n",
       "6      0.305660   is_bullet\n",
       "5      0.007579  cloudcover\n",
       "0      0.000000        temp\n",
       "66     0.000000   tid_267.0\n",
       "76     0.000000   tid_283.0\n",
       "75     0.000000   tid_282.0\n",
       "74     0.000000   tid_279.0\n",
       "73     0.000000   tid_278.0\n",
       "72     0.000000   tid_277.0"
      ]
     },
     "execution_count": 230,
     "metadata": {},
     "output_type": "execute_result"
    }
   ],
   "source": [
    "TreeClass = DecisionTreeClassifier(\n",
    "                max_depth = 2,\n",
    "                min_samples_leaf = 5)\n",
    "TreeClass.fit(X_train,y_train)\n",
    "ImportanceDataFrame = pd.DataFrame({'feature':X.columns.values, 'Gini_Import':TreeClass.feature_importances_})\n",
    "ImportanceDataFrame.sort_values(by = ['Gini_Import'],ascending = 0).head(10)"
   ]
  },
  {
   "cell_type": "code",
   "execution_count": 94,
   "metadata": {
    "collapsed": false
   },
   "outputs": [
    {
     "data": {
      "text/html": [
       "<div>\n",
       "<table border=\"1\" class=\"dataframe\">\n",
       "  <thead>\n",
       "    <tr style=\"text-align: right;\">\n",
       "      <th></th>\n",
       "      <th>temp</th>\n",
       "      <th>precipiation</th>\n",
       "      <th>visability</th>\n",
       "      <th>windspeed</th>\n",
       "      <th>humidity</th>\n",
       "      <th>cloudcover</th>\n",
       "    </tr>\n",
       "  </thead>\n",
       "  <tbody>\n",
       "    <tr>\n",
       "      <th>temp</th>\n",
       "      <td>1.000000</td>\n",
       "      <td>-0.209248</td>\n",
       "      <td>0.119720</td>\n",
       "      <td>0.333041</td>\n",
       "      <td>-0.345526</td>\n",
       "      <td>-0.158742</td>\n",
       "    </tr>\n",
       "    <tr>\n",
       "      <th>precipiation</th>\n",
       "      <td>-0.209248</td>\n",
       "      <td>1.000000</td>\n",
       "      <td>-0.459115</td>\n",
       "      <td>0.200260</td>\n",
       "      <td>0.303568</td>\n",
       "      <td>0.365534</td>\n",
       "    </tr>\n",
       "    <tr>\n",
       "      <th>visability</th>\n",
       "      <td>0.119720</td>\n",
       "      <td>-0.459115</td>\n",
       "      <td>1.000000</td>\n",
       "      <td>-0.119827</td>\n",
       "      <td>-0.427823</td>\n",
       "      <td>-0.343510</td>\n",
       "    </tr>\n",
       "    <tr>\n",
       "      <th>windspeed</th>\n",
       "      <td>0.333041</td>\n",
       "      <td>0.200260</td>\n",
       "      <td>-0.119827</td>\n",
       "      <td>1.000000</td>\n",
       "      <td>-0.004015</td>\n",
       "      <td>0.252678</td>\n",
       "    </tr>\n",
       "    <tr>\n",
       "      <th>humidity</th>\n",
       "      <td>-0.345526</td>\n",
       "      <td>0.303568</td>\n",
       "      <td>-0.427823</td>\n",
       "      <td>-0.004015</td>\n",
       "      <td>1.000000</td>\n",
       "      <td>0.487529</td>\n",
       "    </tr>\n",
       "    <tr>\n",
       "      <th>cloudcover</th>\n",
       "      <td>-0.158742</td>\n",
       "      <td>0.365534</td>\n",
       "      <td>-0.343510</td>\n",
       "      <td>0.252678</td>\n",
       "      <td>0.487529</td>\n",
       "      <td>1.000000</td>\n",
       "    </tr>\n",
       "  </tbody>\n",
       "</table>\n",
       "</div>"
      ],
      "text/plain": [
       "                  temp  precipiation  visability  windspeed  humidity  \\\n",
       "temp          1.000000     -0.209248    0.119720   0.333041 -0.345526   \n",
       "precipiation -0.209248      1.000000   -0.459115   0.200260  0.303568   \n",
       "visability    0.119720     -0.459115    1.000000  -0.119827 -0.427823   \n",
       "windspeed     0.333041      0.200260   -0.119827   1.000000 -0.004015   \n",
       "humidity     -0.345526      0.303568   -0.427823  -0.004015  1.000000   \n",
       "cloudcover   -0.158742      0.365534   -0.343510   0.252678  0.487529   \n",
       "\n",
       "              cloudcover  \n",
       "temp           -0.158742  \n",
       "precipiation    0.365534  \n",
       "visability     -0.343510  \n",
       "windspeed       0.252678  \n",
       "humidity        0.487529  \n",
       "cloudcover      1.000000  "
      ]
     },
     "execution_count": 94,
     "metadata": {},
     "output_type": "execute_result"
    }
   ],
   "source": [
    "df[['temp','precipiation','visability','windspeed','humidity','cloudcover']].corr()"
   ]
  },
  {
   "cell_type": "code",
   "execution_count": 83,
   "metadata": {
    "collapsed": true
   },
   "outputs": [],
   "source": [
    "# http://scikit-learn.org/stable/auto_examples/model_selection/plot_confusion_matrix.html#example-model-selection-plot-confusion-matrix-py\n",
    "def plot_confusion_matrix(cm, title='Confusion matrix', cmap=plt.cm.Blues):\n",
    "    plt.imshow(cm, interpolation='nearest', cmap=cmap)\n",
    "    plt.title(title)\n",
    "    plt.colorbar()\n",
    "    tick_marks = np.arange(2)\n",
    "    plt.xticks(tick_marks, ['No Delay','Delay'], rotation=45)\n",
    "    plt.yticks(tick_marks, ['No Delay','Delay'])\n",
    "    plt.tight_layout()\n",
    "    plt.ylabel('True label')\n",
    "    plt.xlabel('Predicted label')"
   ]
  },
  {
   "cell_type": "code",
   "execution_count": 85,
   "metadata": {
    "collapsed": false
   },
   "outputs": [
    {
     "name": "stdout",
     "output_type": "stream",
     "text": [
      "Confusion matrix:\n",
      "[[20648    46]\n",
      " [  121   206]]\n",
      "Normalized\n",
      "[[ 0.9978  0.0022]\n",
      " [ 0.37    0.63  ]]\n"
     ]
    },
    {
     "data": {
      "image/png": "[encoded data removed]",
      "text/plain": [
       "<matplotlib.figure.Figure at 0x10e61d6d0>"
      ]
     },
     "metadata": {},
     "output_type": "display_data"
    }
   ],
   "source": [
    "from sklearn.metrics import confusion_matrix\n",
    "y_hat = TreeClass.predict(X)\n",
    "cmat = confusion_matrix(y, y_hat)\n",
    "c_norm = cmat.astype('float') / cmat.sum(axis=1)[:, np.newaxis]\n",
    "print \"Confusion matrix:\"\n",
    "print cmat\n",
    "print \"Normalized\"\n",
    "print np.round(c_norm,4)\n",
    "plot_confusion_matrix(c_norm) # Normalized"
   ]
  },
  {
   "cell_type": "code",
   "execution_count": 86,
   "metadata": {
    "collapsed": false
   },
   "outputs": [
    {
     "name": "stdout",
     "output_type": "stream",
     "text": [
      "Accuracy\n",
      "0.9921 %\n",
      "Misclass\n",
      "0.0079 %\n",
      "Sensitivity\n",
      "0.63 %\n",
      "Specificity\n",
      "0.9978 %\n"
     ]
    }
   ],
   "source": [
    "print \"Accuracy\"\n",
    "print np.round((cmat[1][1] + cmat[0][0]) / float(len(df)),4),'%'\n",
    "print \"Misclass\"\n",
    "print np.round((cmat[1][0] + cmat[0][1]) / float(len(df)),4),'%'\n",
    "print \"Sensitivity\"\n",
    "print np.round((cmat[1][1]) / float(cmat[1][1]+cmat[1][0]),4),'%'\n",
    "print \"Specificity\"\n",
    "print np.round((cmat[0][0]) / float(cmat[0][0]+cmat[0][1]),4),'%'"
   ]
  },
  {
   "cell_type": "code",
   "execution_count": 92,
   "metadata": {
    "collapsed": false
   },
   "outputs": [
    {
     "name": "stdout",
     "output_type": "stream",
     "text": [
      "[ 0.00582599  0.00582599  0.00582599 ...,  0.00582599  0.00582599\n",
      "  0.00582599]\n",
      "0.813990833077\n"
     ]
    },
    {
     "data": {
      "text/plain": [
       "<matplotlib.axes._subplots.AxesSubplot at 0x1175137d0>"
      ]
     },
     "execution_count": 92,
     "metadata": {},
     "output_type": "execute_result"
    },
    {
     "data": {
      "image/png": "[encoded data removed]",
      "text/plain": [
       "<matplotlib.figure.Figure at 0x115325850>"
      ]
     },
     "metadata": {},
     "output_type": "display_data"
    }
   ],
   "source": [
    "from sklearn.metrics import roc_curve, auc,roc_auc_score\n",
    "TreeClass.fit(X,y)\n",
    "y_hat_probability = TreeClass.predict_proba(X).T[1] \n",
    "print(y_hat_probability)\n",
    "print(roc_auc_score(y, y_hat_probability))\n",
    "vals = roc_curve(y, y_hat_probability)  \n",
    "Roc_DataFrame = pd.DataFrame({'False_Positive_Rate':vals[0],'True_Positive_Rate':vals[1]})\n",
    "Roc_DataFrame.plot(x = 'False_Positive_Rate' , y = 'True_Positive_Rate' ) "
   ]
  },
  {
   "cell_type": "markdown",
   "metadata": {},
   "source": [
    "### As a check, consider Feature selection"
   ]
  },
  {
   "cell_type": "code",
   "execution_count": 356,
   "metadata": {
    "collapsed": false
   },
   "outputs": [
    {
     "data": {
      "text/html": [
       "<div>\n",
       "<table border=\"1\" class=\"dataframe\">\n",
       "  <thead>\n",
       "    <tr style=\"text-align: right;\">\n",
       "      <th></th>\n",
       "      <th>Feature</th>\n",
       "      <th>Value</th>\n",
       "    </tr>\n",
       "  </thead>\n",
       "  <tbody>\n",
       "    <tr>\n",
       "      <th>0</th>\n",
       "      <td>tid_139.0</td>\n",
       "      <td>0.8279</td>\n",
       "    </tr>\n",
       "    <tr>\n",
       "      <th>1</th>\n",
       "      <td>tid_221.0</td>\n",
       "      <td>0.8279</td>\n",
       "    </tr>\n",
       "    <tr>\n",
       "      <th>2</th>\n",
       "      <td>tid_231.0</td>\n",
       "      <td>0.8279</td>\n",
       "    </tr>\n",
       "    <tr>\n",
       "      <th>3</th>\n",
       "      <td>tid_257.0</td>\n",
       "      <td>0.8279</td>\n",
       "    </tr>\n",
       "    <tr>\n",
       "      <th>4</th>\n",
       "      <td>tid_274.0</td>\n",
       "      <td>0.8279</td>\n",
       "    </tr>\n",
       "  </tbody>\n",
       "</table>\n",
       "</div>"
      ],
      "text/plain": [
       "     Feature   Value\n",
       "0  tid_139.0  0.8279\n",
       "1  tid_221.0  0.8279\n",
       "2  tid_231.0  0.8279\n",
       "3  tid_257.0  0.8279\n",
       "4  tid_274.0  0.8279"
      ]
     },
     "execution_count": 356,
     "metadata": {},
     "output_type": "execute_result"
    }
   ],
   "source": [
    "from sklearn import feature_selection\n",
    "pvals = feature_selection.f_regression(X,y)[1] \n",
    "pd.DataFrame(sorted(zip(X.columns.values,np.round(pvals,4)),key=lambda x:x[1],reverse=True),columns=['Feature','Value']).head(5)"
   ]
  },
  {
   "cell_type": "code",
   "execution_count": 60,
   "metadata": {
    "collapsed": false
   },
   "outputs": [
    {
     "data": {
      "text/plain": [
       "<matplotlib.axes._subplots.AxesSubplot at 0x10e80f150>"
      ]
     },
     "execution_count": 60,
     "metadata": {},
     "output_type": "execute_result"
    },
    {
     "data": {
      "image/png": "[encoded data removed]",
      "text/plain": [
       "<matplotlib.figure.Figure at 0x1166afb10>"
      ]
     },
     "metadata": {},
     "output_type": "display_data"
    }
   ],
   "source": [
    "from sklearn.linear_model import LogisticRegression\n",
    "lm = LogisticRegression()\n",
    "lm.fit(X,y)\n",
    "X_lr=df[['windspeed','t_northbound','precipiation','d_friday']]\n",
    "# localize your search around the maximum value you found\n",
    "c_list = np.logspace(-1,1,21) \n",
    "c_index = np.linspace(-1,1,21)\n",
    "#C is just the inverse of Lambda - the smaller the C - the stronger the\n",
    "#regulatization. The smaller C's choose less variables\n",
    "cv_scores = []\n",
    "for c_score in c_list:\n",
    "    lm = LogisticRegression(C = c_score, penalty = \"l1\")\n",
    "    cv_scores.append(cross_val_score(lm,X,y,cv=10).mean())\n",
    "\n",
    "\n",
    "C_Choice_df = pd.DataFrame({'cv_scores': cv_scores ,'Log_C': c_index })\n",
    "C_Choice_df.plot(x ='Log_C',y = 'cv_scores' )\n",
    "# it sounds like our best choice is C = -0.1  (we chose the most restrictive option)"
   ]
  },
  {
   "cell_type": "code",
   "execution_count": 100,
   "metadata": {
    "collapsed": false
   },
   "outputs": [
    {
     "data": {
      "text/html": [
       "<div>\n",
       "<table border=\"1\" class=\"dataframe\">\n",
       "  <thead>\n",
       "    <tr style=\"text-align: right;\">\n",
       "      <th></th>\n",
       "      <th>temp</th>\n",
       "      <th>precipiation</th>\n",
       "      <th>visability</th>\n",
       "      <th>windspeed</th>\n",
       "      <th>humidity</th>\n",
       "      <th>cloudcover</th>\n",
       "      <th>is_bullet</th>\n",
       "      <th>is_limited</th>\n",
       "      <th>t_northbound</th>\n",
       "      <th>d_tuesday</th>\n",
       "      <th>...</th>\n",
       "      <th>tid_365.0</th>\n",
       "      <th>tid_366.0</th>\n",
       "      <th>tid_370.0</th>\n",
       "      <th>tid_371.0</th>\n",
       "      <th>tid_375.0</th>\n",
       "      <th>tid_376.0</th>\n",
       "      <th>tid_380.0</th>\n",
       "      <th>tid_381.0</th>\n",
       "      <th>tid_385.0</th>\n",
       "      <th>tid_386.0</th>\n",
       "    </tr>\n",
       "  </thead>\n",
       "  <tbody>\n",
       "    <tr>\n",
       "      <th>0</th>\n",
       "      <td>72.97875</td>\n",
       "      <td>0</td>\n",
       "      <td>10</td>\n",
       "      <td>6.68125</td>\n",
       "      <td>0.62875</td>\n",
       "      <td>0.09875</td>\n",
       "      <td>0</td>\n",
       "      <td>0</td>\n",
       "      <td>0</td>\n",
       "      <td>0</td>\n",
       "      <td>...</td>\n",
       "      <td>0</td>\n",
       "      <td>0</td>\n",
       "      <td>0</td>\n",
       "      <td>0</td>\n",
       "      <td>0</td>\n",
       "      <td>0</td>\n",
       "      <td>0</td>\n",
       "      <td>0</td>\n",
       "      <td>0</td>\n",
       "      <td>0</td>\n",
       "    </tr>\n",
       "    <tr>\n",
       "      <th>1</th>\n",
       "      <td>72.97875</td>\n",
       "      <td>0</td>\n",
       "      <td>10</td>\n",
       "      <td>6.68125</td>\n",
       "      <td>0.62875</td>\n",
       "      <td>0.09875</td>\n",
       "      <td>0</td>\n",
       "      <td>0</td>\n",
       "      <td>0</td>\n",
       "      <td>0</td>\n",
       "      <td>...</td>\n",
       "      <td>0</td>\n",
       "      <td>0</td>\n",
       "      <td>0</td>\n",
       "      <td>0</td>\n",
       "      <td>0</td>\n",
       "      <td>0</td>\n",
       "      <td>0</td>\n",
       "      <td>0</td>\n",
       "      <td>0</td>\n",
       "      <td>0</td>\n",
       "    </tr>\n",
       "    <tr>\n",
       "      <th>2</th>\n",
       "      <td>72.97875</td>\n",
       "      <td>0</td>\n",
       "      <td>10</td>\n",
       "      <td>6.68125</td>\n",
       "      <td>0.62875</td>\n",
       "      <td>0.09875</td>\n",
       "      <td>0</td>\n",
       "      <td>0</td>\n",
       "      <td>0</td>\n",
       "      <td>0</td>\n",
       "      <td>...</td>\n",
       "      <td>0</td>\n",
       "      <td>0</td>\n",
       "      <td>0</td>\n",
       "      <td>0</td>\n",
       "      <td>0</td>\n",
       "      <td>0</td>\n",
       "      <td>0</td>\n",
       "      <td>0</td>\n",
       "      <td>0</td>\n",
       "      <td>0</td>\n",
       "    </tr>\n",
       "    <tr>\n",
       "      <th>3</th>\n",
       "      <td>72.97875</td>\n",
       "      <td>0</td>\n",
       "      <td>10</td>\n",
       "      <td>6.68125</td>\n",
       "      <td>0.62875</td>\n",
       "      <td>0.09875</td>\n",
       "      <td>0</td>\n",
       "      <td>0</td>\n",
       "      <td>0</td>\n",
       "      <td>0</td>\n",
       "      <td>...</td>\n",
       "      <td>0</td>\n",
       "      <td>0</td>\n",
       "      <td>0</td>\n",
       "      <td>0</td>\n",
       "      <td>0</td>\n",
       "      <td>0</td>\n",
       "      <td>0</td>\n",
       "      <td>0</td>\n",
       "      <td>0</td>\n",
       "      <td>0</td>\n",
       "    </tr>\n",
       "    <tr>\n",
       "      <th>4</th>\n",
       "      <td>72.97875</td>\n",
       "      <td>0</td>\n",
       "      <td>10</td>\n",
       "      <td>6.68125</td>\n",
       "      <td>0.62875</td>\n",
       "      <td>0.09875</td>\n",
       "      <td>0</td>\n",
       "      <td>0</td>\n",
       "      <td>0</td>\n",
       "      <td>0</td>\n",
       "      <td>...</td>\n",
       "      <td>0</td>\n",
       "      <td>0</td>\n",
       "      <td>0</td>\n",
       "      <td>0</td>\n",
       "      <td>0</td>\n",
       "      <td>0</td>\n",
       "      <td>0</td>\n",
       "      <td>0</td>\n",
       "      <td>0</td>\n",
       "      <td>0</td>\n",
       "    </tr>\n",
       "  </tbody>\n",
       "</table>\n",
       "<p>5 rows × 103 columns</p>\n",
       "</div>"
      ],
      "text/plain": [
       "       temp  precipiation  visability  windspeed  humidity  cloudcover  \\\n",
       "0  72.97875             0          10    6.68125   0.62875     0.09875   \n",
       "1  72.97875             0          10    6.68125   0.62875     0.09875   \n",
       "2  72.97875             0          10    6.68125   0.62875     0.09875   \n",
       "3  72.97875             0          10    6.68125   0.62875     0.09875   \n",
       "4  72.97875             0          10    6.68125   0.62875     0.09875   \n",
       "\n",
       "   is_bullet  is_limited  t_northbound  d_tuesday    ...      tid_365.0  \\\n",
       "0          0           0             0          0    ...              0   \n",
       "1          0           0             0          0    ...              0   \n",
       "2          0           0             0          0    ...              0   \n",
       "3          0           0             0          0    ...              0   \n",
       "4          0           0             0          0    ...              0   \n",
       "\n",
       "   tid_366.0  tid_370.0  tid_371.0  tid_375.0  tid_376.0  tid_380.0  \\\n",
       "0          0          0          0          0          0          0   \n",
       "1          0          0          0          0          0          0   \n",
       "2          0          0          0          0          0          0   \n",
       "3          0          0          0          0          0          0   \n",
       "4          0          0          0          0          0          0   \n",
       "\n",
       "   tid_381.0  tid_385.0  tid_386.0  \n",
       "0          0          0          0  \n",
       "1          0          0          0  \n",
       "2          0          0          0  \n",
       "3          0          0          0  \n",
       "4          0          0          0  \n",
       "\n",
       "[5 rows x 103 columns]"
      ]
     },
     "execution_count": 100,
     "metadata": {},
     "output_type": "execute_result"
    }
   ],
   "source": [
    "X.head()"
   ]
  },
  {
   "cell_type": "markdown",
   "metadata": {},
   "source": [
    "### Run for Boosting"
   ]
  },
  {
   "cell_type": "code",
   "execution_count": 195,
   "metadata": {
    "collapsed": false
   },
   "outputs": [
    {
     "name": "stdout",
     "output_type": "stream",
     "text": [
      "0.991484888834\n"
     ]
    }
   ],
   "source": [
    "from sklearn.ensemble import GradientBoostingClassifier\n",
    "GBC_Tree = GradientBoostingClassifier(learning_rate = 0.01,\n",
    "                                      n_estimators = 10000,\n",
    "                                      max_depth = 2,\n",
    "                                      min_samples_leaf = 5)\n",
    " \n",
    "\n",
    "from sklearn import cross_validation\n",
    "kf = cross_validation.KFold(len(df), n_folds = 10, shuffle = True) #10 fold CV\n",
    "scores = []\n",
    "for train_index, test_index in kf:        \n",
    "        GBC_Tree.fit(X.iloc[train_index], y.iloc[train_index])\n",
    "        y_hat_test = GBC_Tree.predict(X.iloc[test_index]) \n",
    "        scores.append(float(sum(y_hat_test == y.iloc[test_index]))/len(y_hat_test))\n",
    "\n",
    "Score_GBC_CV = np.mean(scores)    \n",
    "\n",
    "print(Score_GBC_CV)"
   ]
  },
  {
   "cell_type": "markdown",
   "metadata": {},
   "source": [
    "Training the Boosting classifier"
   ]
  },
  {
   "cell_type": "code",
   "execution_count": 361,
   "metadata": {
    "collapsed": false
   },
   "outputs": [
    {
     "data": {
      "text/plain": [
       "<matplotlib.axes._subplots.AxesSubplot at 0x12ebc33d0>"
      ]
     },
     "execution_count": 361,
     "metadata": {},
     "output_type": "execute_result"
    },
    {
     "data": {
      "image/png": "[encoded data removed]",
      "text/plain": [
       "<matplotlib.figure.Figure at 0x12ebc3dd0>"
      ]
     },
     "metadata": {},
     "output_type": "display_data"
    }
   ],
   "source": [
    "Score = []\n",
    "NumberOfTrees = [100,1000,5000,10000,20000]\n",
    "for i in NumberOfTrees:\n",
    "    GBR_Tree = GradientBoostingClassifier(learning_rate = 0.01,\n",
    "                                 n_estimators = i,\n",
    "                                 max_depth = 2,\n",
    "                                 min_samples_leaf = 5  )  \n",
    "    scores = cross_val_score(GBR_Tree, X, y, cv=10, scoring='mean_squared_error')\n",
    "    Score.append(np.mean(np.sqrt(-scores)))\n",
    "\n",
    "Depth_Choice_df = pd.DataFrame({'CV_Error': Score ,'Number Of Trees': NumberOfTrees})\n",
    "Depth_Choice_df.plot(x ='Number Of Trees',y = 'CV_Error' )"
   ]
  },
  {
   "cell_type": "code",
   "execution_count": 360,
   "metadata": {
    "collapsed": false
   },
   "outputs": [
    {
     "data": {
      "text/plain": [
       "<matplotlib.axes._subplots.AxesSubplot at 0x11a7e12d0>"
      ]
     },
     "execution_count": 360,
     "metadata": {},
     "output_type": "execute_result"
    },
    {
     "data": {
      "image/png": "[encoded data removed]",
      "text/plain": [
       "<matplotlib.figure.Figure at 0x11a7e0d90>"
      ]
     },
     "metadata": {},
     "output_type": "display_data"
    }
   ],
   "source": [
    "Depth = range(1,5)\n",
    "Score = []\n",
    "for i in Depth:\n",
    "    GBR_Tree = GradientBoostingClassifier(learning_rate = 0.01,\n",
    "                                 n_estimators = 1000,\n",
    "                                 max_depth = i,\n",
    "                                 min_samples_leaf = 5  )  \n",
    "    scores = cross_val_score(GBR_Tree, X, y, cv=10, scoring='mean_squared_error')\n",
    "    Score.append(np.mean(np.sqrt(-scores)))\n",
    "\n",
    "Depth_Choice_df = pd.DataFrame({'CV_Error': Score ,'Max_Depth': Depth})\n",
    "Depth_Choice_df.plot(x ='Max_Depth',y = 'CV_Error' )"
   ]
  },
  {
   "cell_type": "code",
   "execution_count": 362,
   "metadata": {
    "collapsed": false
   },
   "outputs": [
    {
     "data": {
      "text/plain": [
       "<matplotlib.axes._subplots.AxesSubplot at 0x11a7465d0>"
      ]
     },
     "execution_count": 362,
     "metadata": {},
     "output_type": "execute_result"
    },
    {
     "data": {
      "image/png": "[encoded data removed]",
      "text/plain": [
       "<matplotlib.figure.Figure at 0x132772310>"
      ]
     },
     "metadata": {},
     "output_type": "display_data"
    }
   ],
   "source": [
    "Depth = range(1,5)\n",
    "Score = []\n",
    "for i in Depth:\n",
    "    GBR_Tree = GradientBoostingClassifier(learning_rate = 0.01,\n",
    "                                 n_estimators = 10000,\n",
    "                                 max_depth = i,\n",
    "                                 min_samples_leaf = 5  )  \n",
    "    scores = cross_val_score(GBR_Tree, X, y, cv=10, scoring='mean_squared_error')\n",
    "    Score.append(np.mean(np.sqrt(-scores)))\n",
    "\n",
    "Depth_Choice_df = pd.DataFrame({'CV_Error': Score ,'Max_Depth': Depth})\n",
    "Depth_Choice_df.plot(x ='Max_Depth',y = 'CV_Error' )"
   ]
  },
  {
   "cell_type": "markdown",
   "metadata": {},
   "source": [
    "### Tuned Tree and running model"
   ]
  },
  {
   "cell_type": "code",
   "execution_count": 363,
   "metadata": {
    "collapsed": true
   },
   "outputs": [],
   "source": [
    "# TUNED TREE\n",
    "GBR_Tree = GradientBoostingClassifier(learning_rate = 0.01,\n",
    "                                     n_estimators = 1000,\n",
    "                                     max_depth = 1,\n",
    "                                     min_samples_leaf = 5  ) "
   ]
  },
  {
   "cell_type": "code",
   "execution_count": 365,
   "metadata": {
    "collapsed": false
   },
   "outputs": [
    {
     "data": {
      "text/html": [
       "<div>\n",
       "<table border=\"1\" class=\"dataframe\">\n",
       "  <thead>\n",
       "    <tr style=\"text-align: right;\">\n",
       "      <th></th>\n",
       "      <th>Importance</th>\n",
       "      <th>feature</th>\n",
       "    </tr>\n",
       "  </thead>\n",
       "  <tbody>\n",
       "    <tr>\n",
       "      <th>0</th>\n",
       "      <td>0.169679</td>\n",
       "      <td>temp</td>\n",
       "    </tr>\n",
       "    <tr>\n",
       "      <th>4</th>\n",
       "      <td>0.167738</td>\n",
       "      <td>humidity</td>\n",
       "    </tr>\n",
       "    <tr>\n",
       "      <th>5</th>\n",
       "      <td>0.152647</td>\n",
       "      <td>cloudcover</td>\n",
       "    </tr>\n",
       "    <tr>\n",
       "      <th>3</th>\n",
       "      <td>0.149600</td>\n",
       "      <td>windspeed</td>\n",
       "    </tr>\n",
       "    <tr>\n",
       "      <th>2</th>\n",
       "      <td>0.083236</td>\n",
       "      <td>visability</td>\n",
       "    </tr>\n",
       "    <tr>\n",
       "      <th>12</th>\n",
       "      <td>0.037309</td>\n",
       "      <td>d_friday</td>\n",
       "    </tr>\n",
       "    <tr>\n",
       "      <th>7</th>\n",
       "      <td>0.028038</td>\n",
       "      <td>is_limited</td>\n",
       "    </tr>\n",
       "    <tr>\n",
       "      <th>9</th>\n",
       "      <td>0.025530</td>\n",
       "      <td>d_tuesday</td>\n",
       "    </tr>\n",
       "    <tr>\n",
       "      <th>1</th>\n",
       "      <td>0.021733</td>\n",
       "      <td>precipiation</td>\n",
       "    </tr>\n",
       "    <tr>\n",
       "      <th>11</th>\n",
       "      <td>0.019582</td>\n",
       "      <td>d_thursday</td>\n",
       "    </tr>\n",
       "  </tbody>\n",
       "</table>\n",
       "</div>"
      ],
      "text/plain": [
       "    Importance       feature\n",
       "0     0.169679          temp\n",
       "4     0.167738      humidity\n",
       "5     0.152647    cloudcover\n",
       "3     0.149600     windspeed\n",
       "2     0.083236    visability\n",
       "12    0.037309      d_friday\n",
       "7     0.028038    is_limited\n",
       "9     0.025530     d_tuesday\n",
       "1     0.021733  precipiation\n",
       "11    0.019582    d_thursday"
      ]
     },
     "execution_count": 365,
     "metadata": {},
     "output_type": "execute_result"
    }
   ],
   "source": [
    "GBC_Tree.fit(X_train,y_train)\n",
    "ImportanceDataFrame = pd.DataFrame({'feature':X.columns.values, 'Importance':GBC_Tree.feature_importances_})\n",
    "ImportanceDataFrame.sort_values(by = ['Importance'],ascending = 0).head(10)"
   ]
  },
  {
   "cell_type": "code",
   "execution_count": 366,
   "metadata": {
    "collapsed": false
   },
   "outputs": [
    {
     "name": "stdout",
     "output_type": "stream",
     "text": [
      "Confusion matrix:\n",
      "[[5166   10]\n",
      " [  38   42]]\n",
      "Normalized\n",
      "[[ 0.9981  0.0019]\n",
      " [ 0.475   0.525 ]]\n"
     ]
    },
    {
     "data": {
      "image/png": "[encoded data removed]",
      "text/plain": [
       "<matplotlib.figure.Figure at 0x11a801b50>"
      ]
     },
     "metadata": {},
     "output_type": "display_data"
    }
   ],
   "source": [
    "from sklearn.metrics import confusion_matrix\n",
    "y_hat = GBC_Tree.predict(X_test)\n",
    "cmat = confusion_matrix(y_test, y_hat)\n",
    "c_norm = cmat.astype('float') / cmat.sum(axis=1)[:, np.newaxis]\n",
    "print \"Confusion matrix:\"\n",
    "print cmat\n",
    "print \"Normalized\"\n",
    "print np.round(c_norm,4)\n",
    "plot_confusion_matrix(c_norm) # Normalized"
   ]
  },
  {
   "cell_type": "code",
   "execution_count": 367,
   "metadata": {
    "collapsed": false
   },
   "outputs": [
    {
     "name": "stdout",
     "output_type": "stream",
     "text": [
      "Accuracy\n",
      "0.2478 %\n",
      "Misclass\n",
      "0.0023 %\n",
      "Sensitivity\n",
      "0.525 %\n",
      "Specificity\n",
      "0.9981 %\n"
     ]
    }
   ],
   "source": [
    "print \"Accuracy\"\n",
    "print np.round((cmat[1][1] + cmat[0][0]) / float(len(df)),4),'%'\n",
    "print \"Misclass\"\n",
    "print np.round((cmat[1][0] + cmat[0][1]) / float(len(df)),4),'%'\n",
    "print \"Sensitivity\"\n",
    "print np.round((cmat[1][1]) / float(cmat[1][1]+cmat[1][0]),4),'%'\n",
    "print \"Specificity\"\n",
    "print np.round((cmat[0][0]) / float(cmat[0][0]+cmat[0][1]),4),'%'"
   ]
  },
  {
   "cell_type": "markdown",
   "metadata": {},
   "source": [
    "### Prediction Prototype"
   ]
  },
  {
   "cell_type": "code",
   "execution_count": 202,
   "metadata": {
    "collapsed": false
   },
   "outputs": [],
   "source": [
    "import forecastio\n",
    "keys = pd.read_csv('keys.csv') # hidden from github\n",
    "forecaseiokey=keys.iloc[5].string\n",
    "api_key = forecaseiokey\n",
    "lat = 37.441879\n",
    "lng = -122.143021"
   ]
  },
  {
   "cell_type": "code",
   "execution_count": 204,
   "metadata": {
    "collapsed": false
   },
   "outputs": [
    {
     "name": "stdout",
     "output_type": "stream",
     "text": [
      "{u'ozone': 364.43, u'temperature': 64.79, u'icon': u'clear-day', u'dewPoint': 49.88, u'humidity': 0.58, u'visibility': 9.92, u'summary': u'Clear', u'apparentTemperature': 64.79, u'pressure': 1015.48, u'windSpeed': 6.9, u'cloudCover': 0.12, u'time': 1459377043, u'windBearing': 321, u'precipIntensity': 0, u'precipProbability': 0}\n"
     ]
    }
   ],
   "source": [
    "print current.d"
   ]
  },
  {
   "cell_type": "code",
   "execution_count": 324,
   "metadata": {
    "collapsed": false
   },
   "outputs": [],
   "source": [
    "def get_train_prediction(trainid,threshold=0.2):\n",
    "    The_train = str(trainid)\n",
    "\n",
    "    time = datetime.datetime.now()\n",
    "    forecast = forecastio.load_forecast(api_key, lat, lng,time=time)\n",
    "    current = forecast.currently()\n",
    "\n",
    "    Predict_me = pd.DataFrame({\n",
    "            'temp': [current.d['apparentTemperature']],\n",
    "            'precipiation': [current.d['precipIntensity']],\n",
    "            'visability': [current.d['visibility']],\n",
    "            'windspeed': [current.d['windSpeed']],\n",
    "            'humidity': [current.d['humidity']],\n",
    "            'cloudcover': [current.d['cloudCover']],\n",
    "            'is_bullet': 1 if str(The_train)[0] == '2' else 0,\n",
    "            'is_limited':1 if str(The_train)[0] == '3' else 0,\n",
    "            't_northbound': int(The_train)%2,\n",
    "            'd_tuesday': 1 if time.weekday == 1 else 0,\n",
    "            'd_wednesday':1 if time.weekday == 2 else 0,\n",
    "            'd_thursday':1 if time.weekday == 3 else 0,\n",
    "            'd_friday':1 if time.weekday == 4 else 0\n",
    "            })\n",
    "\n",
    "\n",
    "    t = pd.DataFrame(columns=tid_col)\n",
    "    t = t.append([0]).fillna(0)\n",
    "    t['tid_'+The_train+'.0'] = 1\n",
    "    t['tid_'+The_train+'.0']\n",
    "    Predict_me = pd.concat([Predict_me, t],axis=1)\n",
    "    del Predict_me[0]\n",
    "    pprob = GBC_Tree.predict_proba(Predict_me).T\n",
    "    pred = 1 if pprob[1] >= threshold else 0 # GBC_Tree.predict(Predict_me)\n",
    "    print \"Will be delayed:\",pred\n",
    "    print \"Probability:\",np.round(pprob.T,4)\n",
    "    return [pred,pprob]"
   ]
  },
  {
   "cell_type": "code",
   "execution_count": 383,
   "metadata": {
    "collapsed": false
   },
   "outputs": [
    {
     "name": "stdout",
     "output_type": "stream",
     "text": [
      "Will be delayed: 0\n",
      "Probability: [[ 0.  1.]]\n",
      "\n"
     ]
    },
    {
     "data": {
      "text/plain": [
       "[0, array([[  3.91950517e-05],\n",
       "        [  9.99960805e-01]])]"
      ]
     },
     "execution_count": 383,
     "metadata": {},
     "output_type": "execute_result"
    }
   ],
   "source": [
    "get_train_prediction(381)"
   ]
  },
  {
   "cell_type": "markdown",
   "metadata": {},
   "source": [
    "### Hamed Feedback\n",
    "- Set threshold to 70% for predibility\n",
    "- Tolerance is only 5% delay mispredict\n",
    "- Look at lecture 9"
   ]
  },
  {
   "cell_type": "code",
   "execution_count": null,
   "metadata": {
    "collapsed": true
   },
   "outputs": [],
   "source": [
    "def PredictThreshold(Predictprob,Threshhold):\n",
    "    y_predict = 0\n",
    "    if (Predictprob >= Threshhold):\n",
    "        y_predict = 1\n",
    "    return y_predict\n",
    "\n",
    "\n",
    "y_hat_probability = GBC_Tree.predict_proba(X_test).T[1]\n",
    "y_hat_predict_threshold = []\n",
    "threshold = 0.02 # Changing down increases false positive, changing up increases false negative\n",
    "for i in range(0,len(y_hat_probability)):\n",
    "    y_hat_predict_threshold.append(PredictThreshold(y_hat_probability[i],threshold))\n",
    "\n",
    "cmat = confusion_matrix(y_test, y_hat_predict_threshold)    \n",
    "print cmat\n",
    "print \"Accuracy\"\n",
    "print np.round((cmat[1][1] + cmat[0][0]) / float(len(df)),4),'%'\n",
    "print \"Misclass\"\n",
    "print np.round((cmat[1][0] + cmat[0][1]) / float(len(df)),4),'%'\n",
    "print \"Sensitivity\"\n",
    "print np.round((cmat[1][1]) / float(cmat[1][1]+cmat[1][0]),4),'%'\n",
    "print \"Specificity\"\n",
    "print np.round((cmat[0][0]) / float(cmat[0][0]+cmat[0][1]),4),'%'"
   ]
  },
  {
   "cell_type": "code",
   "execution_count": 370,
   "metadata": {
    "collapsed": false
   },
   "outputs": [],
   "source": [
    "# GBC_Tree = GradientBoostingClassifier(learning_rate = 0.01,\n",
    "#                                       n_estimators = 10000,\n",
    "#                                       max_depth = 3,\n",
    "#                                       min_samples_leaf = 5)\n",
    "# GBC_Tree.fit(X_train,y_train)\n",
    "cmatrix = []\n",
    "y_hat_probability = GBC_Tree.predict_proba(X_test).T[1]\n",
    "for t in range(0,100,1):\n",
    "    y_hat_predict_threshold = []\n",
    "    cm = []\n",
    "    thresh = t/100.0\n",
    "    for i in range(0,len(y_hat_probability)):\n",
    "        y_hat_predict_threshold.append(PredictThreshold(y_hat_probability[i],thresh))\n",
    "    cm = confusion_matrix(y_test, y_hat_predict_threshold)\n",
    "    cmatrix.append([thresh,cm[0][0],cm[0][1],cm[1][0],cm[1][1]])\n",
    "thmatrix = pd.DataFrame(cmatrix, columns=['Thresh','T_ND','F_ND','F_D','T_D'])"
   ]
  },
  {
   "cell_type": "code",
   "execution_count": 371,
   "metadata": {
    "collapsed": false
   },
   "outputs": [
    {
     "data": {
      "text/plain": [
       "<matplotlib.axes._subplots.AxesSubplot at 0x12dd6d490>"
      ]
     },
     "execution_count": 371,
     "metadata": {},
     "output_type": "execute_result"
    },
    {
     "data": {
      "image/png": "[encoded data removed]",
      "text/plain": [
       "<matplotlib.figure.Figure at 0x11a726d50>"
      ]
     },
     "metadata": {},
     "output_type": "display_data"
    }
   ],
   "source": [
    "thmatrix.set_index('Thresh')\n",
    "thmatrix.plot(x='Thresh',y=['T_ND','F_ND','F_D','T_D'],kind='line', ylim=(0,100),xlim=(0.,1.))"
   ]
  },
  {
   "cell_type": "code",
   "execution_count": 372,
   "metadata": {
    "collapsed": false
   },
   "outputs": [],
   "source": [
    "thmatrix['acc'] = thmatrix.apply(lambda x:(x.T_D + x.T_ND) / float(len(thmatrix)),axis=1)\n",
    "thmatrix['miss'] = thmatrix.apply(lambda x:(x.F_D + x.F_ND) / float(len(thmatrix)),axis=1)\n",
    "thmatrix['sens'] = thmatrix.apply(lambda x:(x.T_D) / float(x.T_D+x.F_D),axis=1)\n",
    "thmatrix['spec'] = thmatrix.apply(lambda x:(x.T_ND / float(x.T_ND+x.F_ND)),axis=1)"
   ]
  },
  {
   "cell_type": "code",
   "execution_count": 373,
   "metadata": {
    "collapsed": false
   },
   "outputs": [
    {
     "data": {
      "text/plain": [
       "<matplotlib.axes._subplots.AxesSubplot at 0x12dba1210>"
      ]
     },
     "execution_count": 373,
     "metadata": {},
     "output_type": "execute_result"
    },
    {
     "data": {
      "image/png": "[encoded data removed]",
      "text/plain": [
       "<matplotlib.figure.Figure at 0x1182496d0>"
      ]
     },
     "metadata": {},
     "output_type": "display_data"
    }
   ],
   "source": [
    "thmatrix.plot(x='Thresh',y=['acc','sens','miss','spec'],kind='line', ylim=(0.,1.0),xlim=(0.,1.))"
   ]
  },
  {
   "cell_type": "code",
   "execution_count": null,
   "metadata": {
    "collapsed": true
   },
   "outputs": [],
   "source": []
  }
 ],
 "metadata": {
  "kernelspec": {
   "display_name": "Python 2",
   "language": "python",
   "name": "python2"
  },
  "language_info": {
   "codemirror_mode": {
    "name": "ipython",
    "version": 2
   },
   "file_extension": ".py",
   "mimetype": "text/x-python",
   "name": "python",
   "nbconvert_exporter": "python",
   "pygments_lexer": "ipython2",
   "version": "2.7.11"
  }
 },
 "nbformat": 4,
 "nbformat_minor": 0
}
