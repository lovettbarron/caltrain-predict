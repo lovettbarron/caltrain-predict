{
 "cells": [
  {
   "cell_type": "code",
   "execution_count": 1,
   "metadata": {
    "collapsed": false
   },
   "outputs": [
    {
     "name": "stderr",
     "output_type": "stream",
     "text": [
      "/Users/albarron/anaconda/lib/python2.7/site-packages/matplotlib/font_manager.py:273: UserWarning: Matplotlib is building the font cache using fc-list. This may take a moment.\n",
      "  warnings.warn('Matplotlib is building the font cache using fc-list. This may take a moment.')\n"
     ]
    }
   ],
   "source": [
    "import sys\n",
    "import re\n",
    "import time\n",
    "import datetime\n",
    "# Requires for ipython to pick up on twitter?\n",
    "sys.path.append('/Library/Python/2.7/site-packages/')\n",
    "import twitter\n",
    "import pandas as pd\n",
    "import func\n",
    "# import pyowm # Historical API is paid\n",
    "\n",
    "# inline plot\n",
    "%matplotlib inline"
   ]
  },
  {
   "cell_type": "code",
   "execution_count": 2,
   "metadata": {
    "collapsed": false
   },
   "outputs": [],
   "source": [
    "#%load 'data/raw-twt2016-01-26-14/21/09.csv'\n",
    "df = pd.read_csv(\"data/formated_twts.csv\",sep=',',error_bad_lines=False)\n"
   ]
  },
  {
   "cell_type": "code",
   "execution_count": 3,
   "metadata": {
    "collapsed": false
   },
   "outputs": [
    {
     "data": {
      "text/html": [
       "<div>\n",
       "<table border=\"1\" class=\"dataframe\">\n",
       "  <thead>\n",
       "    <tr style=\"text-align: right;\">\n",
       "      <th></th>\n",
       "      <th>Unnamed: 0</th>\n",
       "      <th>created_at</th>\n",
       "      <th>favorite_count</th>\n",
       "      <th>hashtags</th>\n",
       "      <th>id</th>\n",
       "      <th>in_reply_to_screen_name</th>\n",
       "      <th>retweet_count</th>\n",
       "      <th>text</th>\n",
       "      <th>day_of_week</th>\n",
       "      <th>day_of_month</th>\n",
       "      <th>month</th>\n",
       "      <th>time_of_day</th>\n",
       "      <th>topic_train</th>\n",
       "      <th>t_bullet</th>\n",
       "      <th>t_limited</th>\n",
       "      <th>t_northbound</th>\n",
       "      <th>timestamp</th>\n",
       "      <th>train_id</th>\n",
       "      <th>tweet_id</th>\n",
       "    </tr>\n",
       "  </thead>\n",
       "  <tbody>\n",
       "    <tr>\n",
       "      <th>0</th>\n",
       "      <td>0</td>\n",
       "      <td>2016-01-25 23:42:14</td>\n",
       "      <td>1</td>\n",
       "      <td>NB155, Caltrain</td>\n",
       "      <td>691768068385718275</td>\n",
       "      <td>NaN</td>\n",
       "      <td>2</td>\n",
       "      <td>#NB155 is 22 mins late. #Caltrain</td>\n",
       "      <td>0</td>\n",
       "      <td>25</td>\n",
       "      <td>1</td>\n",
       "      <td>error</td>\n",
       "      <td>'155'</td>\n",
       "      <td>0</td>\n",
       "      <td>0</td>\n",
       "      <td>1</td>\n",
       "      <td>2016-01-25 23:42:14</td>\n",
       "      <td>155</td>\n",
       "      <td>691768068385718275</td>\n",
       "    </tr>\n",
       "    <tr>\n",
       "      <th>1</th>\n",
       "      <td>1</td>\n",
       "      <td>2016-01-22 22:48:57</td>\n",
       "      <td>NaN</td>\n",
       "      <td>NB, Caltrain</td>\n",
       "      <td>690667494906814464</td>\n",
       "      <td>NaN</td>\n",
       "      <td>2</td>\n",
       "      <td>#NB 151 is running 10 mins behind #Caltrain</td>\n",
       "      <td>4</td>\n",
       "      <td>22</td>\n",
       "      <td>1</td>\n",
       "      <td>error</td>\n",
       "      <td>'151'</td>\n",
       "      <td>0</td>\n",
       "      <td>0</td>\n",
       "      <td>1</td>\n",
       "      <td>2016-01-22 22:48:57</td>\n",
       "      <td>151</td>\n",
       "      <td>690667494906814464</td>\n",
       "    </tr>\n",
       "    <tr>\n",
       "      <th>2</th>\n",
       "      <td>2</td>\n",
       "      <td>2016-01-20 22:22:55</td>\n",
       "      <td>1</td>\n",
       "      <td>NB151, Caltrain</td>\n",
       "      <td>689936168893329408</td>\n",
       "      <td>NaN</td>\n",
       "      <td>2</td>\n",
       "      <td>#NB151 is 10 mins down at San Mateo. #Caltrain</td>\n",
       "      <td>2</td>\n",
       "      <td>20</td>\n",
       "      <td>1</td>\n",
       "      <td>error</td>\n",
       "      <td>'151'</td>\n",
       "      <td>0</td>\n",
       "      <td>0</td>\n",
       "      <td>1</td>\n",
       "      <td>2016-01-20 22:22:55</td>\n",
       "      <td>151</td>\n",
       "      <td>689936168893329408</td>\n",
       "    </tr>\n",
       "    <tr>\n",
       "      <th>3</th>\n",
       "      <td>3</td>\n",
       "      <td>2016-01-19 18:08:25</td>\n",
       "      <td>1</td>\n",
       "      <td>SB138, Caltrain</td>\n",
       "      <td>689509733640732672</td>\n",
       "      <td>NaN</td>\n",
       "      <td>2</td>\n",
       "      <td>#SB138 will board on the northbound platform a...</td>\n",
       "      <td>1</td>\n",
       "      <td>19</td>\n",
       "      <td>1</td>\n",
       "      <td>rush_evening</td>\n",
       "      <td>'138'</td>\n",
       "      <td>0</td>\n",
       "      <td>0</td>\n",
       "      <td>0</td>\n",
       "      <td>2016-01-19 18:08:25</td>\n",
       "      <td>138</td>\n",
       "      <td>689509733640732672</td>\n",
       "    </tr>\n",
       "    <tr>\n",
       "      <th>4</th>\n",
       "      <td>4</td>\n",
       "      <td>2016-01-19 16:32:04</td>\n",
       "      <td>2</td>\n",
       "      <td>SB216, NB225, NB329, Caltrain</td>\n",
       "      <td>689485484838416388</td>\n",
       "      <td>NaN</td>\n",
       "      <td>4</td>\n",
       "      <td>#SB216 delayed 13 minutes at SAT\\n#NB225 delay...</td>\n",
       "      <td>1</td>\n",
       "      <td>19</td>\n",
       "      <td>1</td>\n",
       "      <td>rush_evening</td>\n",
       "      <td>'216', '225', '329'</td>\n",
       "      <td>0</td>\n",
       "      <td>1</td>\n",
       "      <td>0</td>\n",
       "      <td>2016-01-19 16:32:04</td>\n",
       "      <td>216</td>\n",
       "      <td>689485484838416388</td>\n",
       "    </tr>\n",
       "  </tbody>\n",
       "</table>\n",
       "</div>"
      ],
      "text/plain": [
       "   Unnamed: 0           created_at  favorite_count  \\\n",
       "0           0  2016-01-25 23:42:14               1   \n",
       "1           1  2016-01-22 22:48:57             NaN   \n",
       "2           2  2016-01-20 22:22:55               1   \n",
       "3           3  2016-01-19 18:08:25               1   \n",
       "4           4  2016-01-19 16:32:04               2   \n",
       "\n",
       "                        hashtags                  id  in_reply_to_screen_name  \\\n",
       "0                NB155, Caltrain  691768068385718275                      NaN   \n",
       "1                   NB, Caltrain  690667494906814464                      NaN   \n",
       "2                NB151, Caltrain  689936168893329408                      NaN   \n",
       "3                SB138, Caltrain  689509733640732672                      NaN   \n",
       "4  SB216, NB225, NB329, Caltrain  689485484838416388                      NaN   \n",
       "\n",
       "   retweet_count                                               text  \\\n",
       "0              2                  #NB155 is 22 mins late. #Caltrain   \n",
       "1              2        #NB 151 is running 10 mins behind #Caltrain   \n",
       "2              2     #NB151 is 10 mins down at San Mateo. #Caltrain   \n",
       "3              2  #SB138 will board on the northbound platform a...   \n",
       "4              4  #SB216 delayed 13 minutes at SAT\\n#NB225 delay...   \n",
       "\n",
       "   day_of_week  day_of_month  month   time_of_day          topic_train  \\\n",
       "0            0            25      1         error                '155'   \n",
       "1            4            22      1         error                '151'   \n",
       "2            2            20      1         error                '151'   \n",
       "3            1            19      1  rush_evening                '138'   \n",
       "4            1            19      1  rush_evening  '216', '225', '329'   \n",
       "\n",
       "   t_bullet  t_limited  t_northbound            timestamp  train_id  \\\n",
       "0         0          0             1  2016-01-25 23:42:14       155   \n",
       "1         0          0             1  2016-01-22 22:48:57       151   \n",
       "2         0          0             1  2016-01-20 22:22:55       151   \n",
       "3         0          0             0  2016-01-19 18:08:25       138   \n",
       "4         0          1             0  2016-01-19 16:32:04       216   \n",
       "\n",
       "             tweet_id  \n",
       "0  691768068385718275  \n",
       "1  690667494906814464  \n",
       "2  689936168893329408  \n",
       "3  689509733640732672  \n",
       "4  689485484838416388  "
      ]
     },
     "execution_count": 3,
     "metadata": {},
     "output_type": "execute_result"
    }
   ],
   "source": [
    "df.head()"
   ]
  },
  {
   "cell_type": "code",
   "execution_count": 4,
   "metadata": {
    "collapsed": true
   },
   "outputs": [],
   "source": [
    "# keys = pd.read_csv('keys.csv') # hidden from github\n",
    "# openweather=keys.iloc[4].string\n",
    "# owm = pyowm.OWM(openweather)"
   ]
  },
  {
   "cell_type": "code",
   "execution_count": 5,
   "metadata": {
    "collapsed": false
   },
   "outputs": [],
   "source": [
    "# owm.weather_history_at_place('5380748','2015-10-14 01:17:00+00','2015-10-14 01:19:00+00')"
   ]
  },
  {
   "cell_type": "code",
   "execution_count": 6,
   "metadata": {
    "collapsed": false
   },
   "outputs": [],
   "source": [
    "### Unfortunately pydap only goes up to 2014 :/\n",
    "### http://nomads.ncdc.noaa.gov/dods/NCEP_NARR_DAILY\n",
    "# from pydap.client import open_url\n",
    "# url = 'http://nomads.ncdc.noaa.gov/dods/NCEP_NARR_DAILY/197901/197901/narr-a_221_197901dd_hh00_000'\n",
    "# modelconn = open_url(url)\n",
    "# tmp2m = modelconn['tmp2m']\n",
    "# # Set location to Palo Alto lat/lon\n",
    "# tmp2m.lat = 37.441879\n",
    "# tmp2m.lon = -122.143021"
   ]
  },
  {
   "cell_type": "code",
   "execution_count": 4,
   "metadata": {
    "collapsed": false
   },
   "outputs": [],
   "source": [
    "keys = pd.read_csv('keys.csv') # hidden from github\n",
    "forecaseiokey=keys.iloc[5].string"
   ]
  },
  {
   "cell_type": "code",
   "execution_count": 5,
   "metadata": {
    "collapsed": false
   },
   "outputs": [],
   "source": [
    "import forecastio\n",
    "api_key = forecaseiokey\n",
    "lat = 37.441879\n",
    "lng = -122.143021\n",
    "#forecast = forecastio.load_forecast(api_key, lat, lng)"
   ]
  },
  {
   "cell_type": "code",
   "execution_count": 9,
   "metadata": {
    "collapsed": false
   },
   "outputs": [
    {
     "data": {
      "text/plain": [
       "[(0, 0), (1, 0), (2, 0), (3, 0), (4, 0)]"
      ]
     },
     "execution_count": 9,
     "metadata": {},
     "output_type": "execute_result"
    }
   ],
   "source": [
    "zip(range(5),[0]*5)"
   ]
  },
  {
   "cell_type": "code",
   "execution_count": 6,
   "metadata": {
    "collapsed": false
   },
   "outputs": [],
   "source": [
    "def get_avg_temp(lat,lon,timestamp):\n",
    "    time = datetime.datetime.strptime(timestamp, \"%Y-%m-%d %H:%M:%S\")\n",
    "    forecast = forecastio.load_forecast(api_key, lat, lng,time=time)\n",
    "\n",
    "    iter = [0]*6\n",
    "    temp = precip = vis = windspeed = humidity = cloudcover = 0\n",
    "    for t in forecast.hourly().data:\n",
    "        try:\n",
    "            temp += t.d['apparentTemperature']\n",
    "            iter[0]+=1\n",
    "        except:\n",
    "            print \"No temp\"\n",
    "        try:\n",
    "            precip += t.d['precipIntensity']\n",
    "            iter[1]+=1\n",
    "        except:\n",
    "            print \"no precip\"\n",
    "        try:\n",
    "            vis += t.d['visibility']\n",
    "            iter[2]+=1\n",
    "        except:\n",
    "            print \"no Vis\"\n",
    "        try:\n",
    "            windspeed += t.d['windSpeed']\n",
    "            iter[3]+=1\n",
    "        except:\n",
    "             print \"no Wind\"\n",
    "        try:\n",
    "            humidity += t.d['humidity']\n",
    "            iter[4]+=1\n",
    "        except:\n",
    "             print \"no Humid\"\n",
    "        try:\n",
    "            cloudcover += t.d['cloudCover']\n",
    "            iter[5]+=1\n",
    "        except:\n",
    "            print \"no Cloud\"\n",
    "\n",
    "#     return pd.Series(\n",
    "#         'temp': temp/float(iter),\n",
    "#         'precipiation': precip/float(iter),\n",
    "#         'visability': vis/float(iter),\n",
    "#         'windspeed': windspeed/float(iter),\n",
    "#         'humidity': humidity/float(iter),\n",
    "#         'cloudcover': cloudcover/float(iter)\n",
    "#     )\n",
    "\n",
    "    print iter\n",
    "\n",
    "    return pd.Series([\n",
    "        temp/float(iter[0]),\n",
    "        precip/float(iter[1]),\n",
    "        vis/float(iter[2]),\n",
    "        windspeed/float(iter[3]),\n",
    "        humidity/float(iter[4]),\n",
    "        cloudcover/float(iter[5])\n",
    "    ])"
   ]
  },
  {
   "cell_type": "code",
   "execution_count": 11,
   "metadata": {
    "collapsed": false
   },
   "outputs": [
    {
     "name": "stdout",
     "output_type": "stream",
     "text": [
      "[24, 24, 24, 24, 24, 24]\n"
     ]
    },
    {
     "data": {
      "text/plain": [
       "0    66.583750\n",
       "1     0.000000\n",
       "2    10.000000\n",
       "3     4.980417\n",
       "4     0.772500\n",
       "5     0.037500\n",
       "dtype: float64"
      ]
     },
     "execution_count": 11,
     "metadata": {},
     "output_type": "execute_result"
    }
   ],
   "source": [
    "get_avg_temp(lat,lng,\"2015-10-15 01:18:39\")"
   ]
  },
  {
   "cell_type": "code",
   "execution_count": 13,
   "metadata": {
    "collapsed": false
   },
   "outputs": [
    {
     "ename": "ValueError",
     "evalue": "time data 'Tue Jan 26 20:32:15 +0000 2016' does not match format '%Y-%m-%d %H:%M:%S'",
     "output_type": "error",
     "traceback": [
      "\u001b[0;31m---------------------------------------------------------------------------\u001b[0m",
      "\u001b[0;31mValueError\u001b[0m                                Traceback (most recent call last)",
      "\u001b[0;32m<ipython-input-13-5cc6fc1d850d>\u001b[0m in \u001b[0;36m<module>\u001b[0;34m()\u001b[0m\n\u001b[0;32m----> 1\u001b[0;31m \u001b[0mtest\u001b[0m \u001b[0;34m=\u001b[0m \u001b[0mdf\u001b[0m\u001b[0;34m[\u001b[0m\u001b[0;34m'created_at'\u001b[0m\u001b[0;34m]\u001b[0m\u001b[0;34m.\u001b[0m\u001b[0mapply\u001b[0m\u001b[0;34m(\u001b[0m\u001b[0;32mlambda\u001b[0m \u001b[0mx\u001b[0m\u001b[0;34m:\u001b[0m\u001b[0mget_avg_temp\u001b[0m\u001b[0;34m(\u001b[0m\u001b[0mlat\u001b[0m\u001b[0;34m,\u001b[0m\u001b[0mlng\u001b[0m\u001b[0;34m,\u001b[0m\u001b[0mx\u001b[0m\u001b[0;34m)\u001b[0m\u001b[0;34m)\u001b[0m\u001b[0;34m\u001b[0m\u001b[0m\n\u001b[0m",
      "\u001b[0;32m/Users/albarron/anaconda/lib/python2.7/site-packages/pandas/core/series.pyc\u001b[0m in \u001b[0;36mapply\u001b[0;34m(self, func, convert_dtype, args, **kwds)\u001b[0m\n\u001b[1;32m   2167\u001b[0m             \u001b[0mvalues\u001b[0m \u001b[0;34m=\u001b[0m \u001b[0mlib\u001b[0m\u001b[0;34m.\u001b[0m\u001b[0mmap_infer\u001b[0m\u001b[0;34m(\u001b[0m\u001b[0mvalues\u001b[0m\u001b[0;34m,\u001b[0m \u001b[0mlib\u001b[0m\u001b[0;34m.\u001b[0m\u001b[0mTimestamp\u001b[0m\u001b[0;34m)\u001b[0m\u001b[0;34m\u001b[0m\u001b[0m\n\u001b[1;32m   2168\u001b[0m \u001b[0;34m\u001b[0m\u001b[0m\n\u001b[0;32m-> 2169\u001b[0;31m         \u001b[0mmapped\u001b[0m \u001b[0;34m=\u001b[0m \u001b[0mlib\u001b[0m\u001b[0;34m.\u001b[0m\u001b[0mmap_infer\u001b[0m\u001b[0;34m(\u001b[0m\u001b[0mvalues\u001b[0m\u001b[0;34m,\u001b[0m \u001b[0mf\u001b[0m\u001b[0;34m,\u001b[0m \u001b[0mconvert\u001b[0m\u001b[0;34m=\u001b[0m\u001b[0mconvert_dtype\u001b[0m\u001b[0;34m)\u001b[0m\u001b[0;34m\u001b[0m\u001b[0m\n\u001b[0m\u001b[1;32m   2170\u001b[0m         \u001b[0;32mif\u001b[0m \u001b[0mlen\u001b[0m\u001b[0;34m(\u001b[0m\u001b[0mmapped\u001b[0m\u001b[0;34m)\u001b[0m \u001b[0;32mand\u001b[0m \u001b[0misinstance\u001b[0m\u001b[0;34m(\u001b[0m\u001b[0mmapped\u001b[0m\u001b[0;34m[\u001b[0m\u001b[0;36m0\u001b[0m\u001b[0;34m]\u001b[0m\u001b[0;34m,\u001b[0m \u001b[0mSeries\u001b[0m\u001b[0;34m)\u001b[0m\u001b[0;34m:\u001b[0m\u001b[0;34m\u001b[0m\u001b[0m\n\u001b[1;32m   2171\u001b[0m             \u001b[0;32mfrom\u001b[0m \u001b[0mpandas\u001b[0m\u001b[0;34m.\u001b[0m\u001b[0mcore\u001b[0m\u001b[0;34m.\u001b[0m\u001b[0mframe\u001b[0m \u001b[0;32mimport\u001b[0m \u001b[0mDataFrame\u001b[0m\u001b[0;34m\u001b[0m\u001b[0m\n",
      "\u001b[0;32mpandas/src/inference.pyx\u001b[0m in \u001b[0;36mpandas.lib.map_infer (pandas/lib.c:62578)\u001b[0;34m()\u001b[0m\n",
      "\u001b[0;32m<ipython-input-13-5cc6fc1d850d>\u001b[0m in \u001b[0;36m<lambda>\u001b[0;34m(x)\u001b[0m\n\u001b[0;32m----> 1\u001b[0;31m \u001b[0mtest\u001b[0m \u001b[0;34m=\u001b[0m \u001b[0mdf\u001b[0m\u001b[0;34m[\u001b[0m\u001b[0;34m'created_at'\u001b[0m\u001b[0;34m]\u001b[0m\u001b[0;34m.\u001b[0m\u001b[0mapply\u001b[0m\u001b[0;34m(\u001b[0m\u001b[0;32mlambda\u001b[0m \u001b[0mx\u001b[0m\u001b[0;34m:\u001b[0m\u001b[0mget_avg_temp\u001b[0m\u001b[0;34m(\u001b[0m\u001b[0mlat\u001b[0m\u001b[0;34m,\u001b[0m\u001b[0mlng\u001b[0m\u001b[0;34m,\u001b[0m\u001b[0mx\u001b[0m\u001b[0;34m)\u001b[0m\u001b[0;34m)\u001b[0m\u001b[0;34m\u001b[0m\u001b[0m\n\u001b[0m",
      "\u001b[0;32m<ipython-input-10-d39366524f82>\u001b[0m in \u001b[0;36mget_avg_temp\u001b[0;34m(lat, lon, timestamp)\u001b[0m\n\u001b[1;32m      1\u001b[0m \u001b[0;32mdef\u001b[0m \u001b[0mget_avg_temp\u001b[0m\u001b[0;34m(\u001b[0m\u001b[0mlat\u001b[0m\u001b[0;34m,\u001b[0m\u001b[0mlon\u001b[0m\u001b[0;34m,\u001b[0m\u001b[0mtimestamp\u001b[0m\u001b[0;34m)\u001b[0m\u001b[0;34m:\u001b[0m\u001b[0;34m\u001b[0m\u001b[0m\n\u001b[0;32m----> 2\u001b[0;31m     \u001b[0mtime\u001b[0m \u001b[0;34m=\u001b[0m \u001b[0mdatetime\u001b[0m\u001b[0;34m.\u001b[0m\u001b[0mdatetime\u001b[0m\u001b[0;34m.\u001b[0m\u001b[0mstrptime\u001b[0m\u001b[0;34m(\u001b[0m\u001b[0mtimestamp\u001b[0m\u001b[0;34m,\u001b[0m \u001b[0;34m\"%Y-%m-%d %H:%M:%S\"\u001b[0m\u001b[0;34m)\u001b[0m\u001b[0;34m\u001b[0m\u001b[0m\n\u001b[0m\u001b[1;32m      3\u001b[0m     \u001b[0mforecast\u001b[0m \u001b[0;34m=\u001b[0m \u001b[0mforecastio\u001b[0m\u001b[0;34m.\u001b[0m\u001b[0mload_forecast\u001b[0m\u001b[0;34m(\u001b[0m\u001b[0mapi_key\u001b[0m\u001b[0;34m,\u001b[0m \u001b[0mlat\u001b[0m\u001b[0;34m,\u001b[0m \u001b[0mlng\u001b[0m\u001b[0;34m,\u001b[0m\u001b[0mtime\u001b[0m\u001b[0;34m=\u001b[0m\u001b[0mtime\u001b[0m\u001b[0;34m)\u001b[0m\u001b[0;34m\u001b[0m\u001b[0m\n\u001b[1;32m      4\u001b[0m \u001b[0;34m\u001b[0m\u001b[0m\n\u001b[1;32m      5\u001b[0m     \u001b[0miter\u001b[0m \u001b[0;34m=\u001b[0m \u001b[0;34m[\u001b[0m\u001b[0;36m0\u001b[0m\u001b[0;34m]\u001b[0m\u001b[0;34m*\u001b[0m\u001b[0;36m6\u001b[0m\u001b[0;34m\u001b[0m\u001b[0m\n",
      "\u001b[0;32m/Users/albarron/anaconda/lib/python2.7/_strptime.pyc\u001b[0m in \u001b[0;36m_strptime\u001b[0;34m(data_string, format)\u001b[0m\n\u001b[1;32m    323\u001b[0m     \u001b[0;32mif\u001b[0m \u001b[0;32mnot\u001b[0m \u001b[0mfound\u001b[0m\u001b[0;34m:\u001b[0m\u001b[0;34m\u001b[0m\u001b[0m\n\u001b[1;32m    324\u001b[0m         raise ValueError(\"time data %r does not match format %r\" %\n\u001b[0;32m--> 325\u001b[0;31m                          (data_string, format))\n\u001b[0m\u001b[1;32m    326\u001b[0m     \u001b[0;32mif\u001b[0m \u001b[0mlen\u001b[0m\u001b[0;34m(\u001b[0m\u001b[0mdata_string\u001b[0m\u001b[0;34m)\u001b[0m \u001b[0;34m!=\u001b[0m \u001b[0mfound\u001b[0m\u001b[0;34m.\u001b[0m\u001b[0mend\u001b[0m\u001b[0;34m(\u001b[0m\u001b[0;34m)\u001b[0m\u001b[0;34m:\u001b[0m\u001b[0;34m\u001b[0m\u001b[0m\n\u001b[1;32m    327\u001b[0m         raise ValueError(\"unconverted data remains: %s\" %\n",
      "\u001b[0;31mValueError\u001b[0m: time data 'Tue Jan 26 20:32:15 +0000 2016' does not match format '%Y-%m-%d %H:%M:%S'"
     ]
    }
   ],
   "source": [
    "test = df['created_at'].apply(lambda x:get_avg_temp(lat,lng,x))"
   ]
  },
  {
   "cell_type": "code",
   "execution_count": null,
   "metadata": {
    "collapsed": false
   },
   "outputs": [],
   "source": [
    "test"
   ]
  },
  {
   "cell_type": "code",
   "execution_count": null,
   "metadata": {
    "collapsed": false
   },
   "outputs": [],
   "source": [
    "test.plot()"
   ]
  },
  {
   "cell_type": "code",
   "execution_count": null,
   "metadata": {
    "collapsed": false
   },
   "outputs": [],
   "source": [
    "merged = pd.concat([df['id','created_at'],test],axis=1)"
   ]
  },
  {
   "cell_type": "code",
   "execution_count": null,
   "metadata": {
    "collapsed": false
   },
   "outputs": [],
   "source": []
  },
  {
   "cell_type": "code",
   "execution_count": null,
   "metadata": {
    "collapsed": false
   },
   "outputs": [],
   "source": [
    "merged = merged.rename(columns={0:'temp',\n",
    " 1:'precipiation',\n",
    " 2:'visability',\n",
    " 3:'windspeed',\n",
    " 4:'humidity',\n",
    " 5:'cloudcover'})"
   ]
  },
  {
   "cell_type": "code",
   "execution_count": null,
   "metadata": {
    "collapsed": false
   },
   "outputs": [],
   "source": [
    "del merged['Unnamed: 0']"
   ]
  },
  {
   "cell_type": "code",
   "execution_count": null,
   "metadata": {
    "collapsed": false
   },
   "outputs": [],
   "source": [
    "merged.head()"
   ]
  },
  {
   "cell_type": "code",
   "execution_count": null,
   "metadata": {
    "collapsed": true
   },
   "outputs": [],
   "source": [
    "filename = \"./data/weather-add-twt{date}.csv\".format(date=datetime.datetime.now().strftime(\"%Y-%m-%d-%H:%M:%S\"))\n",
    "merged.to_csv(filename, sep='\\t', encoding='utf-8')"
   ]
  },
  {
   "cell_type": "code",
   "execution_count": null,
   "metadata": {
    "collapsed": true
   },
   "outputs": [],
   "source": []
  }
 ],
 "metadata": {
  "kernelspec": {
   "display_name": "Python 2",
   "language": "python",
   "name": "python2"
  },
  "language_info": {
   "codemirror_mode": {
    "name": "ipython",
    "version": 2
   },
   "file_extension": ".py",
   "mimetype": "text/x-python",
   "name": "python",
   "nbconvert_exporter": "python",
   "pygments_lexer": "ipython2",
   "version": "2.7.11"
  }
 },
 "nbformat": 4,
 "nbformat_minor": 0
}
