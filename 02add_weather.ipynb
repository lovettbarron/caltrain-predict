{
 "cells": [
  {
   "cell_type": "code",
   "execution_count": 1,
   "metadata": {
    "collapsed": false
   },
   "outputs": [
    {
     "name": "stderr",
     "output_type": "stream",
     "text": [
      "/Users/albarron/anaconda/lib/python2.7/site-packages/matplotlib/font_manager.py:273: UserWarning: Matplotlib is building the font cache using fc-list. This may take a moment.\n",
      "  warnings.warn('Matplotlib is building the font cache using fc-list. This may take a moment.')\n"
     ]
    }
   ],
   "source": [
    "import sys\n",
    "import re\n",
    "import time\n",
    "import datetime\n",
    "# Requires for ipython to pick up on twitter?\n",
    "sys.path.append('/Library/Python/2.7/site-packages/')\n",
    "import twitter\n",
    "import pandas as pd\n",
    "import func\n",
    "# import pyowm # Historical API is paid\n",
    "\n",
    "# inline plot\n",
    "%matplotlib inline"
   ]
  },
  {
   "cell_type": "code",
   "execution_count": 2,
   "metadata": {
    "collapsed": false
   },
   "outputs": [],
   "source": [
    "#%load 'data/raw-twt2016-01-26-14/21/09.csv'\n",
    "df = pd.read_csv(\"data/formated_twts.csv\",sep=',',error_bad_lines=False)\n"
   ]
  },
  {
   "cell_type": "code",
   "execution_count": 3,
   "metadata": {
    "collapsed": false
   },
   "outputs": [
    {
     "data": {
      "text/html": [
       "<div>\n",
       "<table border=\"1\" class=\"dataframe\">\n",
       "  <thead>\n",
       "    <tr style=\"text-align: right;\">\n",
       "      <th></th>\n",
       "      <th>Unnamed: 0</th>\n",
       "      <th>created_at</th>\n",
       "      <th>favorite_count</th>\n",
       "      <th>favorited</th>\n",
       "      <th>hashtags</th>\n",
       "      <th>id</th>\n",
       "      <th>in_reply_to_screen_name</th>\n",
       "      <th>in_reply_to_status_id</th>\n",
       "      <th>in_reply_to_user_id</th>\n",
       "      <th>lang</th>\n",
       "      <th>...</th>\n",
       "      <th>place</th>\n",
       "      <th>retweet_count</th>\n",
       "      <th>retweeted</th>\n",
       "      <th>retweeted_status</th>\n",
       "      <th>source</th>\n",
       "      <th>text</th>\n",
       "      <th>truncated</th>\n",
       "      <th>urls</th>\n",
       "      <th>user</th>\n",
       "      <th>user_mentions</th>\n",
       "    </tr>\n",
       "  </thead>\n",
       "  <tbody>\n",
       "    <tr>\n",
       "      <th>0</th>\n",
       "      <td>0</td>\n",
       "      <td>Tue Jan 26 20:32:15 +0000 2016</td>\n",
       "      <td>6</td>\n",
       "      <td>False</td>\n",
       "      <td>[SanFrancisco]</td>\n",
       "      <td>692082643022680064</td>\n",
       "      <td>NaN</td>\n",
       "      <td>NaN</td>\n",
       "      <td>NaN</td>\n",
       "      <td>en</td>\n",
       "      <td>...</td>\n",
       "      <td>NaN</td>\n",
       "      <td>7</td>\n",
       "      <td>False</td>\n",
       "      <td>NaN</td>\n",
       "      <td>&lt;a href=\"https://about.twitter.com/products/tw...</td>\n",
       "      <td>NOTICE: Ped &amp;amp; Bike detours in place for Ma...</td>\n",
       "      <td>False</td>\n",
       "      <td>{u'https://t.co/hcYGYF5L5S': u'https://www.sfm...</td>\n",
       "      <td>{u'id': 456808166, u'verified': True, u'profil...</td>\n",
       "      <td>NaN</td>\n",
       "    </tr>\n",
       "    <tr>\n",
       "      <th>1</th>\n",
       "      <td>1</td>\n",
       "      <td>Tue Jan 26 19:41:32 +0000 2016</td>\n",
       "      <td>NaN</td>\n",
       "      <td>False</td>\n",
       "      <td>NaN</td>\n",
       "      <td>692069881559134208</td>\n",
       "      <td>therealwall</td>\n",
       "      <td>6.920673e+17</td>\n",
       "      <td>46136761</td>\n",
       "      <td>en</td>\n",
       "      <td>...</td>\n",
       "      <td>NaN</td>\n",
       "      <td>NaN</td>\n",
       "      <td>False</td>\n",
       "      <td>NaN</td>\n",
       "      <td>&lt;a href=\"https://about.twitter.com/products/tw...</td>\n",
       "      <td>@therealwall After the end of the concert we w...</td>\n",
       "      <td>False</td>\n",
       "      <td>{u'https://t.co/3f9VEAaGTY': u'http://www.calt...</td>\n",
       "      <td>{u'id': 456808166, u'verified': True, u'profil...</td>\n",
       "      <td>[{u'screen_name': u'therealwall', u'id': 46136...</td>\n",
       "    </tr>\n",
       "    <tr>\n",
       "      <th>2</th>\n",
       "      <td>2</td>\n",
       "      <td>Tue Jan 26 19:28:52 +0000 2016</td>\n",
       "      <td>NaN</td>\n",
       "      <td>False</td>\n",
       "      <td>[SB50]</td>\n",
       "      <td>692066695838498816</td>\n",
       "      <td>AemalTheAFGHAN</td>\n",
       "      <td>6.920578e+17</td>\n",
       "      <td>291505788</td>\n",
       "      <td>en</td>\n",
       "      <td>...</td>\n",
       "      <td>NaN</td>\n",
       "      <td>NaN</td>\n",
       "      <td>False</td>\n",
       "      <td>NaN</td>\n",
       "      <td>&lt;a href=\"https://about.twitter.com/products/tw...</td>\n",
       "      <td>@AemalTheAFGHAN @BKDenverSports We're glad to ...</td>\n",
       "      <td>False</td>\n",
       "      <td>{u'https://t.co/fgMOSXplzZ': u'http://www.calt...</td>\n",
       "      <td>{u'id': 456808166, u'verified': True, u'profil...</td>\n",
       "      <td>[{u'screen_name': u'AemalTheAFGHAN', u'id': 29...</td>\n",
       "    </tr>\n",
       "    <tr>\n",
       "      <th>3</th>\n",
       "      <td>3</td>\n",
       "      <td>Tue Jan 26 18:12:35 +0000 2016</td>\n",
       "      <td>1</td>\n",
       "      <td>False</td>\n",
       "      <td>[Sorry, Headphones]</td>\n",
       "      <td>692047497238175744</td>\n",
       "      <td>4c4d</td>\n",
       "      <td>6.920436e+17</td>\n",
       "      <td>256648931</td>\n",
       "      <td>en</td>\n",
       "      <td>...</td>\n",
       "      <td>NaN</td>\n",
       "      <td>NaN</td>\n",
       "      <td>False</td>\n",
       "      <td>NaN</td>\n",
       "      <td>&lt;a href=\"https://about.twitter.com/products/tw...</td>\n",
       "      <td>@4c4d Oh man. We love that, too. Our favorite ...</td>\n",
       "      <td>False</td>\n",
       "      <td>NaN</td>\n",
       "      <td>{u'id': 456808166, u'verified': True, u'profil...</td>\n",
       "      <td>[{u'screen_name': u'4c4d', u'id': 256648931, u...</td>\n",
       "    </tr>\n",
       "    <tr>\n",
       "      <th>4</th>\n",
       "      <td>4</td>\n",
       "      <td>Tue Jan 26 17:53:20 +0000 2016</td>\n",
       "      <td>7</td>\n",
       "      <td>False</td>\n",
       "      <td>NaN</td>\n",
       "      <td>692042650933862401</td>\n",
       "      <td>NaN</td>\n",
       "      <td>NaN</td>\n",
       "      <td>NaN</td>\n",
       "      <td>en</td>\n",
       "      <td>...</td>\n",
       "      <td>NaN</td>\n",
       "      <td>18</td>\n",
       "      <td>False</td>\n",
       "      <td>NaN</td>\n",
       "      <td>&lt;a href=\"https://about.twitter.com/products/tw...</td>\n",
       "      <td>Pssst, hey, regular Caltrain riders: expect a ...</td>\n",
       "      <td>False</td>\n",
       "      <td>NaN</td>\n",
       "      <td>{u'id': 456808166, u'verified': True, u'profil...</td>\n",
       "      <td>NaN</td>\n",
       "    </tr>\n",
       "  </tbody>\n",
       "</table>\n",
       "<p>5 rows × 21 columns</p>\n",
       "</div>"
      ],
      "text/plain": [
       "   Unnamed: 0                      created_at  favorite_count favorited  \\\n",
       "0           0  Tue Jan 26 20:32:15 +0000 2016               6     False   \n",
       "1           1  Tue Jan 26 19:41:32 +0000 2016             NaN     False   \n",
       "2           2  Tue Jan 26 19:28:52 +0000 2016             NaN     False   \n",
       "3           3  Tue Jan 26 18:12:35 +0000 2016               1     False   \n",
       "4           4  Tue Jan 26 17:53:20 +0000 2016               7     False   \n",
       "\n",
       "              hashtags                  id in_reply_to_screen_name  \\\n",
       "0       [SanFrancisco]  692082643022680064                     NaN   \n",
       "1                  NaN  692069881559134208             therealwall   \n",
       "2               [SB50]  692066695838498816          AemalTheAFGHAN   \n",
       "3  [Sorry, Headphones]  692047497238175744                    4c4d   \n",
       "4                  NaN  692042650933862401                     NaN   \n",
       "\n",
       "   in_reply_to_status_id  in_reply_to_user_id lang  \\\n",
       "0                    NaN                  NaN   en   \n",
       "1           6.920673e+17             46136761   en   \n",
       "2           6.920578e+17            291505788   en   \n",
       "3           6.920436e+17            256648931   en   \n",
       "4                    NaN                  NaN   en   \n",
       "\n",
       "                         ...                         place retweet_count  \\\n",
       "0                        ...                           NaN             7   \n",
       "1                        ...                           NaN           NaN   \n",
       "2                        ...                           NaN           NaN   \n",
       "3                        ...                           NaN           NaN   \n",
       "4                        ...                           NaN            18   \n",
       "\n",
       "   retweeted retweeted_status  \\\n",
       "0      False              NaN   \n",
       "1      False              NaN   \n",
       "2      False              NaN   \n",
       "3      False              NaN   \n",
       "4      False              NaN   \n",
       "\n",
       "                                              source  \\\n",
       "0  <a href=\"https://about.twitter.com/products/tw...   \n",
       "1  <a href=\"https://about.twitter.com/products/tw...   \n",
       "2  <a href=\"https://about.twitter.com/products/tw...   \n",
       "3  <a href=\"https://about.twitter.com/products/tw...   \n",
       "4  <a href=\"https://about.twitter.com/products/tw...   \n",
       "\n",
       "                                                text truncated  \\\n",
       "0  NOTICE: Ped &amp; Bike detours in place for Ma...     False   \n",
       "1  @therealwall After the end of the concert we w...     False   \n",
       "2  @AemalTheAFGHAN @BKDenverSports We're glad to ...     False   \n",
       "3  @4c4d Oh man. We love that, too. Our favorite ...     False   \n",
       "4  Pssst, hey, regular Caltrain riders: expect a ...     False   \n",
       "\n",
       "                                                urls  \\\n",
       "0  {u'https://t.co/hcYGYF5L5S': u'https://www.sfm...   \n",
       "1  {u'https://t.co/3f9VEAaGTY': u'http://www.calt...   \n",
       "2  {u'https://t.co/fgMOSXplzZ': u'http://www.calt...   \n",
       "3                                                NaN   \n",
       "4                                                NaN   \n",
       "\n",
       "                                                user  \\\n",
       "0  {u'id': 456808166, u'verified': True, u'profil...   \n",
       "1  {u'id': 456808166, u'verified': True, u'profil...   \n",
       "2  {u'id': 456808166, u'verified': True, u'profil...   \n",
       "3  {u'id': 456808166, u'verified': True, u'profil...   \n",
       "4  {u'id': 456808166, u'verified': True, u'profil...   \n",
       "\n",
       "                                       user_mentions  \n",
       "0                                                NaN  \n",
       "1  [{u'screen_name': u'therealwall', u'id': 46136...  \n",
       "2  [{u'screen_name': u'AemalTheAFGHAN', u'id': 29...  \n",
       "3  [{u'screen_name': u'4c4d', u'id': 256648931, u...  \n",
       "4                                                NaN  \n",
       "\n",
       "[5 rows x 21 columns]"
      ]
     },
     "execution_count": 3,
     "metadata": {},
     "output_type": "execute_result"
    }
   ],
   "source": [
    "df.head()"
   ]
  },
  {
   "cell_type": "code",
   "execution_count": 4,
   "metadata": {
    "collapsed": true
   },
   "outputs": [],
   "source": [
    "# keys = pd.read_csv('keys.csv') # hidden from github\n",
    "# openweather=keys.iloc[4].string\n",
    "# owm = pyowm.OWM(openweather)"
   ]
  },
  {
   "cell_type": "code",
   "execution_count": 5,
   "metadata": {
    "collapsed": false
   },
   "outputs": [],
   "source": [
    "# owm.weather_history_at_place('5380748','2015-10-14 01:17:00+00','2015-10-14 01:19:00+00')"
   ]
  },
  {
   "cell_type": "code",
   "execution_count": 6,
   "metadata": {
    "collapsed": false
   },
   "outputs": [],
   "source": [
    "### Unfortunately pydap only goes up to 2014 :/\n",
    "### http://nomads.ncdc.noaa.gov/dods/NCEP_NARR_DAILY\n",
    "# from pydap.client import open_url\n",
    "# url = 'http://nomads.ncdc.noaa.gov/dods/NCEP_NARR_DAILY/197901/197901/narr-a_221_197901dd_hh00_000'\n",
    "# modelconn = open_url(url)\n",
    "# tmp2m = modelconn['tmp2m']\n",
    "# # Set location to Palo Alto lat/lon\n",
    "# tmp2m.lat = 37.441879\n",
    "# tmp2m.lon = -122.143021"
   ]
  },
  {
   "cell_type": "code",
   "execution_count": 7,
   "metadata": {
    "collapsed": false
   },
   "outputs": [],
   "source": [
    "keys = pd.read_csv('keys.csv') # hidden from github\n",
    "forecaseiokey=keys.iloc[5].string"
   ]
  },
  {
   "cell_type": "code",
   "execution_count": 8,
   "metadata": {
    "collapsed": false
   },
   "outputs": [],
   "source": [
    "import forecastio\n",
    "api_key = forecaseiokey\n",
    "lat = 37.441879\n",
    "lng = -122.143021\n",
    "#forecast = forecastio.load_forecast(api_key, lat, lng)"
   ]
  },
  {
   "cell_type": "code",
   "execution_count": 9,
   "metadata": {
    "collapsed": false
   },
   "outputs": [
    {
     "data": {
      "text/plain": [
       "[(0, 0), (1, 0), (2, 0), (3, 0), (4, 0)]"
      ]
     },
     "execution_count": 9,
     "metadata": {},
     "output_type": "execute_result"
    }
   ],
   "source": [
    "zip(range(5),[0]*5)"
   ]
  },
  {
   "cell_type": "code",
   "execution_count": 10,
   "metadata": {
    "collapsed": false
   },
   "outputs": [],
   "source": [
    "def get_avg_temp(lat,lon,timestamp):\n",
    "    time = datetime.datetime.strptime(timestamp, \"%Y-%m-%d %H:%M:%S\")\n",
    "    forecast = forecastio.load_forecast(api_key, lat, lng,time=time)\n",
    "\n",
    "    iter = [0]*6\n",
    "    temp = precip = vis = windspeed = humidity = cloudcover = 0\n",
    "    for t in forecast.hourly().data:\n",
    "        try:\n",
    "            temp += t.d['apparentTemperature']\n",
    "            iter[0]+=1\n",
    "        except:\n",
    "            print \"No temp\"\n",
    "        try:\n",
    "            precip += t.d['precipIntensity']\n",
    "            iter[1]+=1\n",
    "        except:\n",
    "            print \"no precip\"\n",
    "        try:\n",
    "            vis += t.d['visibility']\n",
    "            iter[2]+=1\n",
    "        except:\n",
    "            print \"no Vis\"\n",
    "        try:\n",
    "            windspeed += t.d['windSpeed']\n",
    "            iter[3]+=1\n",
    "        except:\n",
    "             print \"no Wind\"\n",
    "        try:\n",
    "            humidity += t.d['humidity']\n",
    "            iter[4]+=1\n",
    "        except:\n",
    "             print \"no Humid\"\n",
    "        try:\n",
    "            cloudcover += t.d['cloudCover']\n",
    "            iter[5]+=1\n",
    "        except:\n",
    "            print \"no Cloud\"\n",
    "\n",
    "#     return pd.Series(\n",
    "#         'temp': temp/float(iter),\n",
    "#         'precipiation': precip/float(iter),\n",
    "#         'visability': vis/float(iter),\n",
    "#         'windspeed': windspeed/float(iter),\n",
    "#         'humidity': humidity/float(iter),\n",
    "#         'cloudcover': cloudcover/float(iter)\n",
    "#     )\n",
    "\n",
    "    print iter\n",
    "\n",
    "    return pd.Series([\n",
    "        temp/float(iter[0]),\n",
    "        precip/float(iter[1]),\n",
    "        vis/float(iter[2]),\n",
    "        windspeed/float(iter[3]),\n",
    "        humidity/float(iter[4]),\n",
    "        cloudcover/float(iter[5])\n",
    "    ])"
   ]
  },
  {
   "cell_type": "code",
   "execution_count": 11,
   "metadata": {
    "collapsed": false
   },
   "outputs": [
    {
     "name": "stdout",
     "output_type": "stream",
     "text": [
      "[24, 24, 24, 24, 24, 24]\n"
     ]
    },
    {
     "data": {
      "text/plain": [
       "0    66.583750\n",
       "1     0.000000\n",
       "2    10.000000\n",
       "3     4.980417\n",
       "4     0.772500\n",
       "5     0.037500\n",
       "dtype: float64"
      ]
     },
     "execution_count": 11,
     "metadata": {},
     "output_type": "execute_result"
    }
   ],
   "source": [
    "get_avg_temp(lat,lng,\"2015-10-15 01:18:39\")"
   ]
  },
  {
   "cell_type": "code",
   "execution_count": 13,
   "metadata": {
    "collapsed": false
   },
   "outputs": [
    {
     "ename": "ValueError",
     "evalue": "time data 'Tue Jan 26 20:32:15 +0000 2016' does not match format '%Y-%m-%d %H:%M:%S'",
     "output_type": "error",
     "traceback": [
      "\u001b[0;31m---------------------------------------------------------------------------\u001b[0m",
      "\u001b[0;31mValueError\u001b[0m                                Traceback (most recent call last)",
      "\u001b[0;32m<ipython-input-13-5cc6fc1d850d>\u001b[0m in \u001b[0;36m<module>\u001b[0;34m()\u001b[0m\n\u001b[0;32m----> 1\u001b[0;31m \u001b[0mtest\u001b[0m \u001b[0;34m=\u001b[0m \u001b[0mdf\u001b[0m\u001b[0;34m[\u001b[0m\u001b[0;34m'created_at'\u001b[0m\u001b[0;34m]\u001b[0m\u001b[0;34m.\u001b[0m\u001b[0mapply\u001b[0m\u001b[0;34m(\u001b[0m\u001b[0;32mlambda\u001b[0m \u001b[0mx\u001b[0m\u001b[0;34m:\u001b[0m\u001b[0mget_avg_temp\u001b[0m\u001b[0;34m(\u001b[0m\u001b[0mlat\u001b[0m\u001b[0;34m,\u001b[0m\u001b[0mlng\u001b[0m\u001b[0;34m,\u001b[0m\u001b[0mx\u001b[0m\u001b[0;34m)\u001b[0m\u001b[0;34m)\u001b[0m\u001b[0;34m\u001b[0m\u001b[0m\n\u001b[0m",
      "\u001b[0;32m/Users/albarron/anaconda/lib/python2.7/site-packages/pandas/core/series.pyc\u001b[0m in \u001b[0;36mapply\u001b[0;34m(self, func, convert_dtype, args, **kwds)\u001b[0m\n\u001b[1;32m   2167\u001b[0m             \u001b[0mvalues\u001b[0m \u001b[0;34m=\u001b[0m \u001b[0mlib\u001b[0m\u001b[0;34m.\u001b[0m\u001b[0mmap_infer\u001b[0m\u001b[0;34m(\u001b[0m\u001b[0mvalues\u001b[0m\u001b[0;34m,\u001b[0m \u001b[0mlib\u001b[0m\u001b[0;34m.\u001b[0m\u001b[0mTimestamp\u001b[0m\u001b[0;34m)\u001b[0m\u001b[0;34m\u001b[0m\u001b[0m\n\u001b[1;32m   2168\u001b[0m \u001b[0;34m\u001b[0m\u001b[0m\n\u001b[0;32m-> 2169\u001b[0;31m         \u001b[0mmapped\u001b[0m \u001b[0;34m=\u001b[0m \u001b[0mlib\u001b[0m\u001b[0;34m.\u001b[0m\u001b[0mmap_infer\u001b[0m\u001b[0;34m(\u001b[0m\u001b[0mvalues\u001b[0m\u001b[0;34m,\u001b[0m \u001b[0mf\u001b[0m\u001b[0;34m,\u001b[0m \u001b[0mconvert\u001b[0m\u001b[0;34m=\u001b[0m\u001b[0mconvert_dtype\u001b[0m\u001b[0;34m)\u001b[0m\u001b[0;34m\u001b[0m\u001b[0m\n\u001b[0m\u001b[1;32m   2170\u001b[0m         \u001b[0;32mif\u001b[0m \u001b[0mlen\u001b[0m\u001b[0;34m(\u001b[0m\u001b[0mmapped\u001b[0m\u001b[0;34m)\u001b[0m \u001b[0;32mand\u001b[0m \u001b[0misinstance\u001b[0m\u001b[0;34m(\u001b[0m\u001b[0mmapped\u001b[0m\u001b[0;34m[\u001b[0m\u001b[0;36m0\u001b[0m\u001b[0;34m]\u001b[0m\u001b[0;34m,\u001b[0m \u001b[0mSeries\u001b[0m\u001b[0;34m)\u001b[0m\u001b[0;34m:\u001b[0m\u001b[0;34m\u001b[0m\u001b[0m\n\u001b[1;32m   2171\u001b[0m             \u001b[0;32mfrom\u001b[0m \u001b[0mpandas\u001b[0m\u001b[0;34m.\u001b[0m\u001b[0mcore\u001b[0m\u001b[0;34m.\u001b[0m\u001b[0mframe\u001b[0m \u001b[0;32mimport\u001b[0m \u001b[0mDataFrame\u001b[0m\u001b[0;34m\u001b[0m\u001b[0m\n",
      "\u001b[0;32mpandas/src/inference.pyx\u001b[0m in \u001b[0;36mpandas.lib.map_infer (pandas/lib.c:62578)\u001b[0;34m()\u001b[0m\n",
      "\u001b[0;32m<ipython-input-13-5cc6fc1d850d>\u001b[0m in \u001b[0;36m<lambda>\u001b[0;34m(x)\u001b[0m\n\u001b[0;32m----> 1\u001b[0;31m \u001b[0mtest\u001b[0m \u001b[0;34m=\u001b[0m \u001b[0mdf\u001b[0m\u001b[0;34m[\u001b[0m\u001b[0;34m'created_at'\u001b[0m\u001b[0;34m]\u001b[0m\u001b[0;34m.\u001b[0m\u001b[0mapply\u001b[0m\u001b[0;34m(\u001b[0m\u001b[0;32mlambda\u001b[0m \u001b[0mx\u001b[0m\u001b[0;34m:\u001b[0m\u001b[0mget_avg_temp\u001b[0m\u001b[0;34m(\u001b[0m\u001b[0mlat\u001b[0m\u001b[0;34m,\u001b[0m\u001b[0mlng\u001b[0m\u001b[0;34m,\u001b[0m\u001b[0mx\u001b[0m\u001b[0;34m)\u001b[0m\u001b[0;34m)\u001b[0m\u001b[0;34m\u001b[0m\u001b[0m\n\u001b[0m",
      "\u001b[0;32m<ipython-input-10-d39366524f82>\u001b[0m in \u001b[0;36mget_avg_temp\u001b[0;34m(lat, lon, timestamp)\u001b[0m\n\u001b[1;32m      1\u001b[0m \u001b[0;32mdef\u001b[0m \u001b[0mget_avg_temp\u001b[0m\u001b[0;34m(\u001b[0m\u001b[0mlat\u001b[0m\u001b[0;34m,\u001b[0m\u001b[0mlon\u001b[0m\u001b[0;34m,\u001b[0m\u001b[0mtimestamp\u001b[0m\u001b[0;34m)\u001b[0m\u001b[0;34m:\u001b[0m\u001b[0;34m\u001b[0m\u001b[0m\n\u001b[0;32m----> 2\u001b[0;31m     \u001b[0mtime\u001b[0m \u001b[0;34m=\u001b[0m \u001b[0mdatetime\u001b[0m\u001b[0;34m.\u001b[0m\u001b[0mdatetime\u001b[0m\u001b[0;34m.\u001b[0m\u001b[0mstrptime\u001b[0m\u001b[0;34m(\u001b[0m\u001b[0mtimestamp\u001b[0m\u001b[0;34m,\u001b[0m \u001b[0;34m\"%Y-%m-%d %H:%M:%S\"\u001b[0m\u001b[0;34m)\u001b[0m\u001b[0;34m\u001b[0m\u001b[0m\n\u001b[0m\u001b[1;32m      3\u001b[0m     \u001b[0mforecast\u001b[0m \u001b[0;34m=\u001b[0m \u001b[0mforecastio\u001b[0m\u001b[0;34m.\u001b[0m\u001b[0mload_forecast\u001b[0m\u001b[0;34m(\u001b[0m\u001b[0mapi_key\u001b[0m\u001b[0;34m,\u001b[0m \u001b[0mlat\u001b[0m\u001b[0;34m,\u001b[0m \u001b[0mlng\u001b[0m\u001b[0;34m,\u001b[0m\u001b[0mtime\u001b[0m\u001b[0;34m=\u001b[0m\u001b[0mtime\u001b[0m\u001b[0;34m)\u001b[0m\u001b[0;34m\u001b[0m\u001b[0m\n\u001b[1;32m      4\u001b[0m \u001b[0;34m\u001b[0m\u001b[0m\n\u001b[1;32m      5\u001b[0m     \u001b[0miter\u001b[0m \u001b[0;34m=\u001b[0m \u001b[0;34m[\u001b[0m\u001b[0;36m0\u001b[0m\u001b[0;34m]\u001b[0m\u001b[0;34m*\u001b[0m\u001b[0;36m6\u001b[0m\u001b[0;34m\u001b[0m\u001b[0m\n",
      "\u001b[0;32m/Users/albarron/anaconda/lib/python2.7/_strptime.pyc\u001b[0m in \u001b[0;36m_strptime\u001b[0;34m(data_string, format)\u001b[0m\n\u001b[1;32m    323\u001b[0m     \u001b[0;32mif\u001b[0m \u001b[0;32mnot\u001b[0m \u001b[0mfound\u001b[0m\u001b[0;34m:\u001b[0m\u001b[0;34m\u001b[0m\u001b[0m\n\u001b[1;32m    324\u001b[0m         raise ValueError(\"time data %r does not match format %r\" %\n\u001b[0;32m--> 325\u001b[0;31m                          (data_string, format))\n\u001b[0m\u001b[1;32m    326\u001b[0m     \u001b[0;32mif\u001b[0m \u001b[0mlen\u001b[0m\u001b[0;34m(\u001b[0m\u001b[0mdata_string\u001b[0m\u001b[0;34m)\u001b[0m \u001b[0;34m!=\u001b[0m \u001b[0mfound\u001b[0m\u001b[0;34m.\u001b[0m\u001b[0mend\u001b[0m\u001b[0;34m(\u001b[0m\u001b[0;34m)\u001b[0m\u001b[0;34m:\u001b[0m\u001b[0;34m\u001b[0m\u001b[0m\n\u001b[1;32m    327\u001b[0m         raise ValueError(\"unconverted data remains: %s\" %\n",
      "\u001b[0;31mValueError\u001b[0m: time data 'Tue Jan 26 20:32:15 +0000 2016' does not match format '%Y-%m-%d %H:%M:%S'"
     ]
    }
   ],
   "source": [
    "test = df['created_at'].apply(lambda x:get_avg_temp(lat,lng,x))"
   ]
  },
  {
   "cell_type": "code",
   "execution_count": null,
   "metadata": {
    "collapsed": false
   },
   "outputs": [],
   "source": [
    "test"
   ]
  },
  {
   "cell_type": "code",
   "execution_count": null,
   "metadata": {
    "collapsed": false
   },
   "outputs": [],
   "source": [
    "test.plot()"
   ]
  },
  {
   "cell_type": "code",
   "execution_count": null,
   "metadata": {
    "collapsed": false
   },
   "outputs": [],
   "source": [
    "merged = pd.concat([df,test],axis=1)"
   ]
  },
  {
   "cell_type": "code",
   "execution_count": null,
   "metadata": {
    "collapsed": false
   },
   "outputs": [],
   "source": []
  },
  {
   "cell_type": "code",
   "execution_count": null,
   "metadata": {
    "collapsed": false
   },
   "outputs": [],
   "source": [
    "merged = merged.rename(columns={0:'temp',\n",
    " 1:'precipiation',\n",
    " 2:'visability',\n",
    " 3:'windspeed',\n",
    " 4:'humidity',\n",
    " 5:'cloudcover'})"
   ]
  },
  {
   "cell_type": "code",
   "execution_count": null,
   "metadata": {
    "collapsed": false
   },
   "outputs": [],
   "source": [
    "del merged['Unnamed: 0']"
   ]
  },
  {
   "cell_type": "code",
   "execution_count": null,
   "metadata": {
    "collapsed": false
   },
   "outputs": [],
   "source": [
    "merged.head()"
   ]
  },
  {
   "cell_type": "code",
   "execution_count": null,
   "metadata": {
    "collapsed": true
   },
   "outputs": [],
   "source": [
    "filename = \"./data/weather-add-twt{date}.csv\".format(date=datetime.datetime.now().strftime(\"%Y-%m-%d-%H:%M:%S\"))\n",
    "merged.to_csv(filename, sep='\\t', encoding='utf-8')"
   ]
  },
  {
   "cell_type": "code",
   "execution_count": null,
   "metadata": {
    "collapsed": true
   },
   "outputs": [],
   "source": []
  }
 ],
 "metadata": {
  "kernelspec": {
   "display_name": "Python 2",
   "language": "python",
   "name": "python2"
  },
  "language_info": {
   "codemirror_mode": {
    "name": "ipython",
    "version": 2
   },
   "file_extension": ".py",
   "mimetype": "text/x-python",
   "name": "python",
   "nbconvert_exporter": "python",
   "pygments_lexer": "ipython2",
   "version": "2.7.11"
  }
 },
 "nbformat": 4,
 "nbformat_minor": 0
}
