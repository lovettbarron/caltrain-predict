{
 "cells": [
  {
   "cell_type": "code",
   "execution_count": 50,
   "metadata": {
    "collapsed": false
   },
   "outputs": [],
   "source": [
    "# Import necessary libraries\n",
    "import matplotlib.pyplot as plt\n",
    "import numpy as np\n",
    "import pandas as pd\n",
    "import sys\n",
    "import re\n",
    "import random\n",
    "import operator\n",
    "from sklearn.linear_model import LinearRegression, LogisticRegression\n",
    "from sklearn.cross_validation import KFold\n",
    "from sklearn.ensemble import GradientBoostingClassifier\n",
    "from sklearn.feature_selection import SelectKBest, f_classif\n",
    "\n",
    "from func import *\n",
    "\n",
    "# inline plot\n",
    "%matplotlib inline"
   ]
  },
  {
   "cell_type": "code",
   "execution_count": 47,
   "metadata": {
    "collapsed": false,
    "scrolled": true
   },
   "outputs": [
    {
     "data": {
      "text/html": [
       "<div>\n",
       "<table border=\"1\" class=\"dataframe\">\n",
       "  <thead>\n",
       "    <tr style=\"text-align: right;\">\n",
       "      <th></th>\n",
       "      <th>Unnamed: 0</th>\n",
       "      <th>favorite_count</th>\n",
       "      <th>favorited</th>\n",
       "      <th>id</th>\n",
       "      <th>in_reply_to_status_id</th>\n",
       "      <th>in_reply_to_user_id</th>\n",
       "      <th>retweet_count</th>\n",
       "      <th>retweeted</th>\n",
       "      <th>truncated</th>\n",
       "    </tr>\n",
       "  </thead>\n",
       "  <tbody>\n",
       "    <tr>\n",
       "      <th>count</th>\n",
       "      <td>3199.000000</td>\n",
       "      <td>1509.000000</td>\n",
       "      <td>3199</td>\n",
       "      <td>3.199000e+03</td>\n",
       "      <td>1.270000e+03</td>\n",
       "      <td>1.300000e+03</td>\n",
       "      <td>1946.000000</td>\n",
       "      <td>3199</td>\n",
       "      <td>3199</td>\n",
       "    </tr>\n",
       "    <tr>\n",
       "      <th>mean</th>\n",
       "      <td>1599.000000</td>\n",
       "      <td>3.513585</td>\n",
       "      <td>0</td>\n",
       "      <td>6.484877e+17</td>\n",
       "      <td>6.474381e+17</td>\n",
       "      <td>6.174353e+08</td>\n",
       "      <td>18.703494</td>\n",
       "      <td>0</td>\n",
       "      <td>0</td>\n",
       "    </tr>\n",
       "    <tr>\n",
       "      <th>std</th>\n",
       "      <td>923.616082</td>\n",
       "      <td>6.693903</td>\n",
       "      <td>0</td>\n",
       "      <td>2.243800e+16</td>\n",
       "      <td>2.323574e+16</td>\n",
       "      <td>1.026750e+09</td>\n",
       "      <td>467.130516</td>\n",
       "      <td>0</td>\n",
       "      <td>0</td>\n",
       "    </tr>\n",
       "    <tr>\n",
       "      <th>min</th>\n",
       "      <td>0.000000</td>\n",
       "      <td>1.000000</td>\n",
       "      <td>False</td>\n",
       "      <td>6.069953e+17</td>\n",
       "      <td>6.069949e+17</td>\n",
       "      <td>3.632000e+03</td>\n",
       "      <td>1.000000</td>\n",
       "      <td>False</td>\n",
       "      <td>False</td>\n",
       "    </tr>\n",
       "    <tr>\n",
       "      <th>25%</th>\n",
       "      <td>799.500000</td>\n",
       "      <td>1.000000</td>\n",
       "      <td>0</td>\n",
       "      <td>6.308106e+17</td>\n",
       "      <td>6.265296e+17</td>\n",
       "      <td>2.001160e+07</td>\n",
       "      <td>1.000000</td>\n",
       "      <td>0</td>\n",
       "      <td>0</td>\n",
       "    </tr>\n",
       "    <tr>\n",
       "      <th>50%</th>\n",
       "      <td>1599.000000</td>\n",
       "      <td>2.000000</td>\n",
       "      <td>0</td>\n",
       "      <td>6.497296e+17</td>\n",
       "      <td>6.494642e+17</td>\n",
       "      <td>1.069600e+08</td>\n",
       "      <td>3.000000</td>\n",
       "      <td>0</td>\n",
       "      <td>0</td>\n",
       "    </tr>\n",
       "    <tr>\n",
       "      <th>75%</th>\n",
       "      <td>2398.500000</td>\n",
       "      <td>3.000000</td>\n",
       "      <td>0</td>\n",
       "      <td>6.664330e+17</td>\n",
       "      <td>6.626031e+17</td>\n",
       "      <td>5.472453e+08</td>\n",
       "      <td>4.000000</td>\n",
       "      <td>0</td>\n",
       "      <td>0</td>\n",
       "    </tr>\n",
       "    <tr>\n",
       "      <th>max</th>\n",
       "      <td>3198.000000</td>\n",
       "      <td>116.000000</td>\n",
       "      <td>False</td>\n",
       "      <td>6.920826e+17</td>\n",
       "      <td>6.920673e+17</td>\n",
       "      <td>4.265436e+09</td>\n",
       "      <td>18479.000000</td>\n",
       "      <td>False</td>\n",
       "      <td>False</td>\n",
       "    </tr>\n",
       "  </tbody>\n",
       "</table>\n",
       "</div>"
      ],
      "text/plain": [
       "        Unnamed: 0  favorite_count favorited            id  \\\n",
       "count  3199.000000     1509.000000      3199  3.199000e+03   \n",
       "mean   1599.000000        3.513585         0  6.484877e+17   \n",
       "std     923.616082        6.693903         0  2.243800e+16   \n",
       "min       0.000000        1.000000     False  6.069953e+17   \n",
       "25%     799.500000        1.000000         0  6.308106e+17   \n",
       "50%    1599.000000        2.000000         0  6.497296e+17   \n",
       "75%    2398.500000        3.000000         0  6.664330e+17   \n",
       "max    3198.000000      116.000000     False  6.920826e+17   \n",
       "\n",
       "       in_reply_to_status_id  in_reply_to_user_id  retweet_count retweeted  \\\n",
       "count           1.270000e+03         1.300000e+03    1946.000000      3199   \n",
       "mean            6.474381e+17         6.174353e+08      18.703494         0   \n",
       "std             2.323574e+16         1.026750e+09     467.130516         0   \n",
       "min             6.069949e+17         3.632000e+03       1.000000     False   \n",
       "25%             6.265296e+17         2.001160e+07       1.000000         0   \n",
       "50%             6.494642e+17         1.069600e+08       3.000000         0   \n",
       "75%             6.626031e+17         5.472453e+08       4.000000         0   \n",
       "max             6.920673e+17         4.265436e+09   18479.000000     False   \n",
       "\n",
       "      truncated  \n",
       "count      3199  \n",
       "mean          0  \n",
       "std           0  \n",
       "min       False  \n",
       "25%           0  \n",
       "50%           0  \n",
       "75%           0  \n",
       "max       False  "
      ]
     },
     "execution_count": 47,
     "metadata": {},
     "output_type": "execute_result"
    }
   ],
   "source": [
    "#%load 'data/raw-twt2016-01-26-14/21/09.csv'\n",
    "df = pd.read_csv(\"data/raw-twt2016-01-26-14-21-09.csv\",sep='\\t',error_bad_lines=False)\n",
    "df.describe()"
   ]
  },
  {
   "cell_type": "markdown",
   "metadata": {
    "collapsed": true
   },
   "source": [
    "Cleanin' the data"
   ]
  },
  {
   "cell_type": "code",
   "execution_count": 48,
   "metadata": {
    "collapsed": false,
    "scrolled": true
   },
   "outputs": [
    {
     "name": "stderr",
     "output_type": "stream",
     "text": [
      "/Users/albarron/anaconda/lib/python2.7/site-packages/ipykernel/__main__.py:5: FutureWarning: the coerce=True keyword is deprecated, use errors='coerce' instead\n"
     ]
    }
   ],
   "source": [
    "# Fill in blank hashtags\n",
    "df[\"hashtags\"].fillna('')\n",
    "\n",
    "# Add some date/time things\n",
    "df[\"created_at\"] = pd.to_datetime(df[\"created_at\"], coerce=True)\n",
    "df[\"day_of_week\"] = df[\"created_at\"].apply(lambda x: x.weekday())\n",
    "df[\"month\"] = df[\"created_at\"].apply(lambda x: x.month)\n",
    "df[\"time_of_day\"] = df[\"created_at\"].apply(lambda x: get_time_of_day(x))\n",
    "\n",
    "\n",
    "df[\"hashtags\"].fillna('')\n",
    "df[\"hashtags\"] = df[\"hashtags\"].apply(lambda x: str(x)[1:-1])"
   ]
  },
  {
   "cell_type": "code",
   "execution_count": 25,
   "metadata": {
    "collapsed": false
   },
   "outputs": [
    {
     "data": {
      "text/plain": [
       "<matplotlib.axes._subplots.AxesSubplot at 0x10b974b90>"
      ]
     },
     "execution_count": 25,
     "metadata": {},
     "output_type": "execute_result"
    },
    {
     "data": {
      "image/png": "[encoded data removed]",
      "text/plain": [
       "<matplotlib.figure.Figure at 0x10a531b10>"
      ]
     },
     "metadata": {},
     "output_type": "display_data"
    }
   ],
   "source": [
    "df.plot(x='created_at', y='day_of_week', kind='hist')\n",
    "# fdf = df[[\"created_at\",\"id\",\"text\",\"hashtags\"]]\n",
    "# str(fdf"
   ]
  },
  {
   "cell_type": "code",
   "execution_count": 49,
   "metadata": {
    "collapsed": false
   },
   "outputs": [
    {
     "data": {
      "text/plain": [
       "0         SanFrancisco\n",
       "1                    a\n",
       "2                 SB50\n",
       "3    Sorry, Headphones\n",
       "4                    a\n",
       "Name: hashtags, dtype: object"
      ]
     },
     "execution_count": 49,
     "metadata": {},
     "output_type": "execute_result"
    }
   ],
   "source": [
    "df[\"hashtags\"].head(5)\n",
    "df[\"hashtags\"]"
   ]
  },
  {
   "cell_type": "code",
   "execution_count": null,
   "metadata": {
    "collapsed": true
   },
   "outputs": [],
   "source": []
  }
 ],
 "metadata": {
  "kernelspec": {
   "display_name": "Python 2",
   "language": "python",
   "name": "python2"
  },
  "language_info": {
   "codemirror_mode": {
    "name": "ipython",
    "version": 2
   },
   "file_extension": ".py",
   "mimetype": "text/x-python",
   "name": "python",
   "nbconvert_exporter": "python",
   "pygments_lexer": "ipython2",
   "version": "2.7.10"
  }
 },
 "nbformat": 4,
 "nbformat_minor": 0
}
